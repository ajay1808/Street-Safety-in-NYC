{
  "cells": [
    {
      "cell_type": "markdown",
      "metadata": {
        "id": "view-in-github",
        "colab_type": "text"
      },
      "source": [
        "<a href=\"https://colab.research.google.com/github/ajay1808/Street-Safety-in-NYC/blob/main/Motor_Vehicle_Safety_in_Manhattan_Project.ipynb\" target=\"_parent\"><img src=\"https://colab.research.google.com/assets/colab-badge.svg\" alt=\"Open In Colab\"/></a>"
      ]
    },
    {
      "cell_type": "markdown",
      "source": [
        "# Motor Vehicle Safety in Manhattan Project"
      ],
      "metadata": {
        "id": "qJe-AdcL-e9T"
      },
      "id": "qJe-AdcL-e9T"
    },
    {
      "cell_type": "markdown",
      "source": [
        "New York is a busy city. It is well known that motor accidents happen everyday in New York. But are there some times of the day when it is less frequent? Some days of the week? or certain months?\n",
        "\n",
        "Is it possible to predict the likelihood of an accident in any street at any given time? \n",
        "\n",
        "In this project we will not depict the accidents that have happened in new york till now but predict and display the  street map of manhattan with the likelihood of each road having an accident. Thus displaying the street safety of different roads and the borough across different time periods in the present and the future. We will also assign a Safety Rating for each hour of that particular day."
      ],
      "metadata": {
        "id": "pdaCVZ_OiCIo"
      },
      "id": "pdaCVZ_OiCIo"
    },
    {
      "cell_type": "markdown",
      "source": [
        "#### Installing Libraries"
      ],
      "metadata": {
        "id": "bZIAN4l8-p8Z"
      },
      "id": "bZIAN4l8-p8Z"
    },
    {
      "cell_type": "code",
      "source": [
        "{\n",
        "    \"tags\": [\n",
        "        \"hide-output\"\n",
        "    ]\n",
        "}\n",
        "import warnings\n",
        "warnings.filterwarnings('ignore')"
      ],
      "metadata": {
        "id": "8VQ2dE7urlfv"
      },
      "id": "8VQ2dE7urlfv",
      "execution_count": 1,
      "outputs": []
    },
    {
      "cell_type": "code",
      "source": [
        "pip install osmnx;     "
      ],
      "metadata": {
        "id": "C1itfY6E-eKi"
      },
      "id": "C1itfY6E-eKi",
      "execution_count": null,
      "outputs": []
    },
    {
      "cell_type": "code",
      "source": [
        "pip install matplotlib==3.1.3"
      ],
      "metadata": {
        "id": "7MY5_88wvZ2w"
      },
      "id": "7MY5_88wvZ2w",
      "execution_count": null,
      "outputs": []
    },
    {
      "cell_type": "markdown",
      "source": [
        "#### Import required libraries"
      ],
      "metadata": {
        "id": "4bu7JZ9s-PKc"
      },
      "id": "4bu7JZ9s-PKc"
    },
    {
      "cell_type": "code",
      "execution_count": 4,
      "metadata": {
        "id": "f0f68b27-b04f-48ba-9887-ef744b0b1c3b"
      },
      "outputs": [],
      "source": [
        "import osmnx as ox\n",
        "import pandas as pd\n",
        "import geopandas as gpd\n",
        "import numpy as np\n",
        "from datetime import datetime as dt\n",
        "from itertools import product\n",
        "from matplotlib import pyplot as plt"
      ],
      "id": "f0f68b27-b04f-48ba-9887-ef744b0b1c3b"
    },
    {
      "cell_type": "markdown",
      "source": [
        "#### Fetch data from the data sources"
      ],
      "metadata": {
        "id": "IfiOAs4L_CI9"
      },
      "id": "IfiOAs4L_CI9"
    },
    {
      "cell_type": "markdown",
      "source": [
        "Let us import the boroughs dataset from a geojson file downloaded from [NYC OpenData](https://data.cityofnewyork.us/City-Government/Borough-Boundaries/tqmj-j8zm])"
      ],
      "metadata": {
        "id": "S0os_SRX_Lzu"
      },
      "id": "S0os_SRX_Lzu"
    },
    {
      "cell_type": "code",
      "execution_count": 5,
      "metadata": {
        "id": "c41a400e-5f41-46b2-8c21-8fb45abd2cf4",
        "colab": {
          "base_uri": "https://localhost:8080/",
          "height": 0
        },
        "outputId": "0479653f-6a6e-4e8a-b338-315352f28d4a"
      },
      "outputs": [
        {
          "output_type": "execute_result",
          "data": {
            "text/plain": [
              "  boro_code      boro_name     shape_area     shape_leng  \\\n",
              "0         4         Queens  3040205594.95  900269.280485   \n",
              "1         3       Brooklyn  1934167333.21  728477.954082   \n",
              "2         5  Staten Island  1623631283.36  325924.002076   \n",
              "3         1      Manhattan  636620785.519  359993.126318   \n",
              "4         2          Bronx  1187193588.79  463868.599917   \n",
              "\n",
              "                                            geometry  \n",
              "0  MULTIPOLYGON (((-73.82645 40.59053, -73.82642 ...  \n",
              "1  MULTIPOLYGON (((-73.86327 40.58388, -73.86381 ...  \n",
              "2  MULTIPOLYGON (((-74.05051 40.56642, -74.05047 ...  \n",
              "3  MULTIPOLYGON (((-74.01093 40.68449, -74.01193 ...  \n",
              "4  MULTIPOLYGON (((-73.89681 40.79581, -73.89694 ...  "
            ],
            "text/html": [
              "\n",
              "  <div id=\"df-2a8d567e-733e-4825-9198-b192d454a490\">\n",
              "    <div class=\"colab-df-container\">\n",
              "      <div>\n",
              "<style scoped>\n",
              "    .dataframe tbody tr th:only-of-type {\n",
              "        vertical-align: middle;\n",
              "    }\n",
              "\n",
              "    .dataframe tbody tr th {\n",
              "        vertical-align: top;\n",
              "    }\n",
              "\n",
              "    .dataframe thead th {\n",
              "        text-align: right;\n",
              "    }\n",
              "</style>\n",
              "<table border=\"1\" class=\"dataframe\">\n",
              "  <thead>\n",
              "    <tr style=\"text-align: right;\">\n",
              "      <th></th>\n",
              "      <th>boro_code</th>\n",
              "      <th>boro_name</th>\n",
              "      <th>shape_area</th>\n",
              "      <th>shape_leng</th>\n",
              "      <th>geometry</th>\n",
              "    </tr>\n",
              "  </thead>\n",
              "  <tbody>\n",
              "    <tr>\n",
              "      <th>0</th>\n",
              "      <td>4</td>\n",
              "      <td>Queens</td>\n",
              "      <td>3040205594.95</td>\n",
              "      <td>900269.280485</td>\n",
              "      <td>MULTIPOLYGON (((-73.82645 40.59053, -73.82642 ...</td>\n",
              "    </tr>\n",
              "    <tr>\n",
              "      <th>1</th>\n",
              "      <td>3</td>\n",
              "      <td>Brooklyn</td>\n",
              "      <td>1934167333.21</td>\n",
              "      <td>728477.954082</td>\n",
              "      <td>MULTIPOLYGON (((-73.86327 40.58388, -73.86381 ...</td>\n",
              "    </tr>\n",
              "    <tr>\n",
              "      <th>2</th>\n",
              "      <td>5</td>\n",
              "      <td>Staten Island</td>\n",
              "      <td>1623631283.36</td>\n",
              "      <td>325924.002076</td>\n",
              "      <td>MULTIPOLYGON (((-74.05051 40.56642, -74.05047 ...</td>\n",
              "    </tr>\n",
              "    <tr>\n",
              "      <th>3</th>\n",
              "      <td>1</td>\n",
              "      <td>Manhattan</td>\n",
              "      <td>636620785.519</td>\n",
              "      <td>359993.126318</td>\n",
              "      <td>MULTIPOLYGON (((-74.01093 40.68449, -74.01193 ...</td>\n",
              "    </tr>\n",
              "    <tr>\n",
              "      <th>4</th>\n",
              "      <td>2</td>\n",
              "      <td>Bronx</td>\n",
              "      <td>1187193588.79</td>\n",
              "      <td>463868.599917</td>\n",
              "      <td>MULTIPOLYGON (((-73.89681 40.79581, -73.89694 ...</td>\n",
              "    </tr>\n",
              "  </tbody>\n",
              "</table>\n",
              "</div>\n",
              "      <button class=\"colab-df-convert\" onclick=\"convertToInteractive('df-2a8d567e-733e-4825-9198-b192d454a490')\"\n",
              "              title=\"Convert this dataframe to an interactive table.\"\n",
              "              style=\"display:none;\">\n",
              "        \n",
              "  <svg xmlns=\"http://www.w3.org/2000/svg\" height=\"24px\"viewBox=\"0 0 24 24\"\n",
              "       width=\"24px\">\n",
              "    <path d=\"M0 0h24v24H0V0z\" fill=\"none\"/>\n",
              "    <path d=\"M18.56 5.44l.94 2.06.94-2.06 2.06-.94-2.06-.94-.94-2.06-.94 2.06-2.06.94zm-11 1L8.5 8.5l.94-2.06 2.06-.94-2.06-.94L8.5 2.5l-.94 2.06-2.06.94zm10 10l.94 2.06.94-2.06 2.06-.94-2.06-.94-.94-2.06-.94 2.06-2.06.94z\"/><path d=\"M17.41 7.96l-1.37-1.37c-.4-.4-.92-.59-1.43-.59-.52 0-1.04.2-1.43.59L10.3 9.45l-7.72 7.72c-.78.78-.78 2.05 0 2.83L4 21.41c.39.39.9.59 1.41.59.51 0 1.02-.2 1.41-.59l7.78-7.78 2.81-2.81c.8-.78.8-2.07 0-2.86zM5.41 20L4 18.59l7.72-7.72 1.47 1.35L5.41 20z\"/>\n",
              "  </svg>\n",
              "      </button>\n",
              "      \n",
              "  <style>\n",
              "    .colab-df-container {\n",
              "      display:flex;\n",
              "      flex-wrap:wrap;\n",
              "      gap: 12px;\n",
              "    }\n",
              "\n",
              "    .colab-df-convert {\n",
              "      background-color: #E8F0FE;\n",
              "      border: none;\n",
              "      border-radius: 50%;\n",
              "      cursor: pointer;\n",
              "      display: none;\n",
              "      fill: #1967D2;\n",
              "      height: 32px;\n",
              "      padding: 0 0 0 0;\n",
              "      width: 32px;\n",
              "    }\n",
              "\n",
              "    .colab-df-convert:hover {\n",
              "      background-color: #E2EBFA;\n",
              "      box-shadow: 0px 1px 2px rgba(60, 64, 67, 0.3), 0px 1px 3px 1px rgba(60, 64, 67, 0.15);\n",
              "      fill: #174EA6;\n",
              "    }\n",
              "\n",
              "    [theme=dark] .colab-df-convert {\n",
              "      background-color: #3B4455;\n",
              "      fill: #D2E3FC;\n",
              "    }\n",
              "\n",
              "    [theme=dark] .colab-df-convert:hover {\n",
              "      background-color: #434B5C;\n",
              "      box-shadow: 0px 1px 3px 1px rgba(0, 0, 0, 0.15);\n",
              "      filter: drop-shadow(0px 1px 2px rgba(0, 0, 0, 0.3));\n",
              "      fill: #FFFFFF;\n",
              "    }\n",
              "  </style>\n",
              "\n",
              "      <script>\n",
              "        const buttonEl =\n",
              "          document.querySelector('#df-2a8d567e-733e-4825-9198-b192d454a490 button.colab-df-convert');\n",
              "        buttonEl.style.display =\n",
              "          google.colab.kernel.accessAllowed ? 'block' : 'none';\n",
              "\n",
              "        async function convertToInteractive(key) {\n",
              "          const element = document.querySelector('#df-2a8d567e-733e-4825-9198-b192d454a490');\n",
              "          const dataTable =\n",
              "            await google.colab.kernel.invokeFunction('convertToInteractive',\n",
              "                                                     [key], {});\n",
              "          if (!dataTable) return;\n",
              "\n",
              "          const docLinkHtml = 'Like what you see? Visit the ' +\n",
              "            '<a target=\"_blank\" href=https://colab.research.google.com/notebooks/data_table.ipynb>data table notebook</a>'\n",
              "            + ' to learn more about interactive tables.';\n",
              "          element.innerHTML = '';\n",
              "          dataTable['output_type'] = 'display_data';\n",
              "          await google.colab.output.renderOutput(dataTable, element);\n",
              "          const docLink = document.createElement('div');\n",
              "          docLink.innerHTML = docLinkHtml;\n",
              "          element.appendChild(docLink);\n",
              "        }\n",
              "      </script>\n",
              "    </div>\n",
              "  </div>\n",
              "  "
            ]
          },
          "metadata": {},
          "execution_count": 5
        }
      ],
      "source": [
        "boroughs = gpd.read_file(\"/content/Borough Boundaries.geojson\")\n",
        "boroughs.head()"
      ],
      "id": "c41a400e-5f41-46b2-8c21-8fb45abd2cf4"
    },
    {
      "cell_type": "markdown",
      "source": [
        "Now let us import data on the last 30000 Motor accidents in New York from [NYC OpenData]('https://data.cityofnewyork.us/resource/h9gi-nx95')"
      ],
      "metadata": {
        "id": "ecyQy3lAASSU"
      },
      "id": "ecyQy3lAASSU"
    },
    {
      "cell_type": "code",
      "source": [
        "raw_data = pd.read_csv('https://data.cityofnewyork.us/resource/h9gi-nx95.csv?$limit=30000&$offset=0&$order=crash_date%20DESC')\n",
        "raw_data.head()"
      ],
      "metadata": {
        "colab": {
          "base_uri": "https://localhost:8080/",
          "height": 0
        },
        "id": "RjV6Zx-QARbN",
        "outputId": "a9688855-e037-482a-b6ba-b7917400a9ca"
      },
      "id": "RjV6Zx-QARbN",
      "execution_count": 6,
      "outputs": [
        {
          "output_type": "execute_result",
          "data": {
            "text/plain": [
              "                crash_date crash_time   borough  zip_code   latitude  \\\n",
              "0  2022-07-30T00:00:00.000      22:53  BROOKLYN   11207.0  40.658577   \n",
              "1  2022-07-30T00:00:00.000      18:15    QUEENS   11373.0  40.740074   \n",
              "2  2022-07-30T00:00:00.000       7:44    QUEENS   11419.0  40.691135   \n",
              "3  2022-07-30T00:00:00.000      12:55  BROOKLYN   11217.0  40.686270   \n",
              "4  2022-07-30T00:00:00.000       0:35       NaN       NaN  40.669735   \n",
              "\n",
              "   longitude                        location       on_street_name  \\\n",
              "0 -73.890630   \\n,  \\n(40.658577, -73.89063)  PENNSYLVANIA AVENUE   \n",
              "1 -73.871475  \\n,  \\n(40.740074, -73.871475)            92 STREET   \n",
              "2 -73.821840   \\n,  \\n(40.691135, -73.82184)           101 AVENUE   \n",
              "3 -73.978120    \\n,  \\n(40.68627, -73.97812)                  NaN   \n",
              "4 -73.931040   \\n,  \\n(40.669735, -73.93104)         UTICA AVENUE   \n",
              "\n",
              "    off_street_name        cross_street_name  ...  \\\n",
              "0  LINDEN BOULEVARD                      NaN  ...   \n",
              "1         51 AVENUE                      NaN  ...   \n",
              "2        124 STREET                      NaN  ...   \n",
              "3               NaN  300       ASHLAND PLACE  ...   \n",
              "4               NaN                      NaN  ...   \n",
              "\n",
              "   contributing_factor_vehicle_2  contributing_factor_vehicle_3  \\\n",
              "0                    Unspecified                            NaN   \n",
              "1                            NaN                            NaN   \n",
              "2                    Unspecified                            NaN   \n",
              "3                    Unspecified                    Unspecified   \n",
              "4                    Unspecified                            NaN   \n",
              "\n",
              "   contributing_factor_vehicle_4  contributing_factor_vehicle_5  collision_id  \\\n",
              "0                            NaN                            NaN       4550996   \n",
              "1                            NaN                            NaN       4550890   \n",
              "2                            NaN                            NaN       4551086   \n",
              "3                            NaN                            NaN       4551029   \n",
              "4                            NaN                            NaN       4550947   \n",
              "\n",
              "   vehicle_type_code1  vehicle_type_code2  vehicle_type_code_3  \\\n",
              "0                 Van               Sedan                  NaN   \n",
              "1               Sedan                 NaN                  NaN   \n",
              "2                Bike                 NaN                  NaN   \n",
              "3               Sedan               Sedan                Sedan   \n",
              "4               Sedan               Sedan                  NaN   \n",
              "\n",
              "  vehicle_type_code_4 vehicle_type_code_5  \n",
              "0                 NaN                 NaN  \n",
              "1                 NaN                 NaN  \n",
              "2                 NaN                 NaN  \n",
              "3                 NaN                 NaN  \n",
              "4                 NaN                 NaN  \n",
              "\n",
              "[5 rows x 29 columns]"
            ],
            "text/html": [
              "\n",
              "  <div id=\"df-36d00771-eaab-4df2-885c-da276021708c\">\n",
              "    <div class=\"colab-df-container\">\n",
              "      <div>\n",
              "<style scoped>\n",
              "    .dataframe tbody tr th:only-of-type {\n",
              "        vertical-align: middle;\n",
              "    }\n",
              "\n",
              "    .dataframe tbody tr th {\n",
              "        vertical-align: top;\n",
              "    }\n",
              "\n",
              "    .dataframe thead th {\n",
              "        text-align: right;\n",
              "    }\n",
              "</style>\n",
              "<table border=\"1\" class=\"dataframe\">\n",
              "  <thead>\n",
              "    <tr style=\"text-align: right;\">\n",
              "      <th></th>\n",
              "      <th>crash_date</th>\n",
              "      <th>crash_time</th>\n",
              "      <th>borough</th>\n",
              "      <th>zip_code</th>\n",
              "      <th>latitude</th>\n",
              "      <th>longitude</th>\n",
              "      <th>location</th>\n",
              "      <th>on_street_name</th>\n",
              "      <th>off_street_name</th>\n",
              "      <th>cross_street_name</th>\n",
              "      <th>...</th>\n",
              "      <th>contributing_factor_vehicle_2</th>\n",
              "      <th>contributing_factor_vehicle_3</th>\n",
              "      <th>contributing_factor_vehicle_4</th>\n",
              "      <th>contributing_factor_vehicle_5</th>\n",
              "      <th>collision_id</th>\n",
              "      <th>vehicle_type_code1</th>\n",
              "      <th>vehicle_type_code2</th>\n",
              "      <th>vehicle_type_code_3</th>\n",
              "      <th>vehicle_type_code_4</th>\n",
              "      <th>vehicle_type_code_5</th>\n",
              "    </tr>\n",
              "  </thead>\n",
              "  <tbody>\n",
              "    <tr>\n",
              "      <th>0</th>\n",
              "      <td>2022-07-30T00:00:00.000</td>\n",
              "      <td>22:53</td>\n",
              "      <td>BROOKLYN</td>\n",
              "      <td>11207.0</td>\n",
              "      <td>40.658577</td>\n",
              "      <td>-73.890630</td>\n",
              "      <td>\\n,  \\n(40.658577, -73.89063)</td>\n",
              "      <td>PENNSYLVANIA AVENUE</td>\n",
              "      <td>LINDEN BOULEVARD</td>\n",
              "      <td>NaN</td>\n",
              "      <td>...</td>\n",
              "      <td>Unspecified</td>\n",
              "      <td>NaN</td>\n",
              "      <td>NaN</td>\n",
              "      <td>NaN</td>\n",
              "      <td>4550996</td>\n",
              "      <td>Van</td>\n",
              "      <td>Sedan</td>\n",
              "      <td>NaN</td>\n",
              "      <td>NaN</td>\n",
              "      <td>NaN</td>\n",
              "    </tr>\n",
              "    <tr>\n",
              "      <th>1</th>\n",
              "      <td>2022-07-30T00:00:00.000</td>\n",
              "      <td>18:15</td>\n",
              "      <td>QUEENS</td>\n",
              "      <td>11373.0</td>\n",
              "      <td>40.740074</td>\n",
              "      <td>-73.871475</td>\n",
              "      <td>\\n,  \\n(40.740074, -73.871475)</td>\n",
              "      <td>92 STREET</td>\n",
              "      <td>51 AVENUE</td>\n",
              "      <td>NaN</td>\n",
              "      <td>...</td>\n",
              "      <td>NaN</td>\n",
              "      <td>NaN</td>\n",
              "      <td>NaN</td>\n",
              "      <td>NaN</td>\n",
              "      <td>4550890</td>\n",
              "      <td>Sedan</td>\n",
              "      <td>NaN</td>\n",
              "      <td>NaN</td>\n",
              "      <td>NaN</td>\n",
              "      <td>NaN</td>\n",
              "    </tr>\n",
              "    <tr>\n",
              "      <th>2</th>\n",
              "      <td>2022-07-30T00:00:00.000</td>\n",
              "      <td>7:44</td>\n",
              "      <td>QUEENS</td>\n",
              "      <td>11419.0</td>\n",
              "      <td>40.691135</td>\n",
              "      <td>-73.821840</td>\n",
              "      <td>\\n,  \\n(40.691135, -73.82184)</td>\n",
              "      <td>101 AVENUE</td>\n",
              "      <td>124 STREET</td>\n",
              "      <td>NaN</td>\n",
              "      <td>...</td>\n",
              "      <td>Unspecified</td>\n",
              "      <td>NaN</td>\n",
              "      <td>NaN</td>\n",
              "      <td>NaN</td>\n",
              "      <td>4551086</td>\n",
              "      <td>Bike</td>\n",
              "      <td>NaN</td>\n",
              "      <td>NaN</td>\n",
              "      <td>NaN</td>\n",
              "      <td>NaN</td>\n",
              "    </tr>\n",
              "    <tr>\n",
              "      <th>3</th>\n",
              "      <td>2022-07-30T00:00:00.000</td>\n",
              "      <td>12:55</td>\n",
              "      <td>BROOKLYN</td>\n",
              "      <td>11217.0</td>\n",
              "      <td>40.686270</td>\n",
              "      <td>-73.978120</td>\n",
              "      <td>\\n,  \\n(40.68627, -73.97812)</td>\n",
              "      <td>NaN</td>\n",
              "      <td>NaN</td>\n",
              "      <td>300       ASHLAND PLACE</td>\n",
              "      <td>...</td>\n",
              "      <td>Unspecified</td>\n",
              "      <td>Unspecified</td>\n",
              "      <td>NaN</td>\n",
              "      <td>NaN</td>\n",
              "      <td>4551029</td>\n",
              "      <td>Sedan</td>\n",
              "      <td>Sedan</td>\n",
              "      <td>Sedan</td>\n",
              "      <td>NaN</td>\n",
              "      <td>NaN</td>\n",
              "    </tr>\n",
              "    <tr>\n",
              "      <th>4</th>\n",
              "      <td>2022-07-30T00:00:00.000</td>\n",
              "      <td>0:35</td>\n",
              "      <td>NaN</td>\n",
              "      <td>NaN</td>\n",
              "      <td>40.669735</td>\n",
              "      <td>-73.931040</td>\n",
              "      <td>\\n,  \\n(40.669735, -73.93104)</td>\n",
              "      <td>UTICA AVENUE</td>\n",
              "      <td>NaN</td>\n",
              "      <td>NaN</td>\n",
              "      <td>...</td>\n",
              "      <td>Unspecified</td>\n",
              "      <td>NaN</td>\n",
              "      <td>NaN</td>\n",
              "      <td>NaN</td>\n",
              "      <td>4550947</td>\n",
              "      <td>Sedan</td>\n",
              "      <td>Sedan</td>\n",
              "      <td>NaN</td>\n",
              "      <td>NaN</td>\n",
              "      <td>NaN</td>\n",
              "    </tr>\n",
              "  </tbody>\n",
              "</table>\n",
              "<p>5 rows × 29 columns</p>\n",
              "</div>\n",
              "      <button class=\"colab-df-convert\" onclick=\"convertToInteractive('df-36d00771-eaab-4df2-885c-da276021708c')\"\n",
              "              title=\"Convert this dataframe to an interactive table.\"\n",
              "              style=\"display:none;\">\n",
              "        \n",
              "  <svg xmlns=\"http://www.w3.org/2000/svg\" height=\"24px\"viewBox=\"0 0 24 24\"\n",
              "       width=\"24px\">\n",
              "    <path d=\"M0 0h24v24H0V0z\" fill=\"none\"/>\n",
              "    <path d=\"M18.56 5.44l.94 2.06.94-2.06 2.06-.94-2.06-.94-.94-2.06-.94 2.06-2.06.94zm-11 1L8.5 8.5l.94-2.06 2.06-.94-2.06-.94L8.5 2.5l-.94 2.06-2.06.94zm10 10l.94 2.06.94-2.06 2.06-.94-2.06-.94-.94-2.06-.94 2.06-2.06.94z\"/><path d=\"M17.41 7.96l-1.37-1.37c-.4-.4-.92-.59-1.43-.59-.52 0-1.04.2-1.43.59L10.3 9.45l-7.72 7.72c-.78.78-.78 2.05 0 2.83L4 21.41c.39.39.9.59 1.41.59.51 0 1.02-.2 1.41-.59l7.78-7.78 2.81-2.81c.8-.78.8-2.07 0-2.86zM5.41 20L4 18.59l7.72-7.72 1.47 1.35L5.41 20z\"/>\n",
              "  </svg>\n",
              "      </button>\n",
              "      \n",
              "  <style>\n",
              "    .colab-df-container {\n",
              "      display:flex;\n",
              "      flex-wrap:wrap;\n",
              "      gap: 12px;\n",
              "    }\n",
              "\n",
              "    .colab-df-convert {\n",
              "      background-color: #E8F0FE;\n",
              "      border: none;\n",
              "      border-radius: 50%;\n",
              "      cursor: pointer;\n",
              "      display: none;\n",
              "      fill: #1967D2;\n",
              "      height: 32px;\n",
              "      padding: 0 0 0 0;\n",
              "      width: 32px;\n",
              "    }\n",
              "\n",
              "    .colab-df-convert:hover {\n",
              "      background-color: #E2EBFA;\n",
              "      box-shadow: 0px 1px 2px rgba(60, 64, 67, 0.3), 0px 1px 3px 1px rgba(60, 64, 67, 0.15);\n",
              "      fill: #174EA6;\n",
              "    }\n",
              "\n",
              "    [theme=dark] .colab-df-convert {\n",
              "      background-color: #3B4455;\n",
              "      fill: #D2E3FC;\n",
              "    }\n",
              "\n",
              "    [theme=dark] .colab-df-convert:hover {\n",
              "      background-color: #434B5C;\n",
              "      box-shadow: 0px 1px 3px 1px rgba(0, 0, 0, 0.15);\n",
              "      filter: drop-shadow(0px 1px 2px rgba(0, 0, 0, 0.3));\n",
              "      fill: #FFFFFF;\n",
              "    }\n",
              "  </style>\n",
              "\n",
              "      <script>\n",
              "        const buttonEl =\n",
              "          document.querySelector('#df-36d00771-eaab-4df2-885c-da276021708c button.colab-df-convert');\n",
              "        buttonEl.style.display =\n",
              "          google.colab.kernel.accessAllowed ? 'block' : 'none';\n",
              "\n",
              "        async function convertToInteractive(key) {\n",
              "          const element = document.querySelector('#df-36d00771-eaab-4df2-885c-da276021708c');\n",
              "          const dataTable =\n",
              "            await google.colab.kernel.invokeFunction('convertToInteractive',\n",
              "                                                     [key], {});\n",
              "          if (!dataTable) return;\n",
              "\n",
              "          const docLinkHtml = 'Like what you see? Visit the ' +\n",
              "            '<a target=\"_blank\" href=https://colab.research.google.com/notebooks/data_table.ipynb>data table notebook</a>'\n",
              "            + ' to learn more about interactive tables.';\n",
              "          element.innerHTML = '';\n",
              "          dataTable['output_type'] = 'display_data';\n",
              "          await google.colab.output.renderOutput(dataTable, element);\n",
              "          const docLink = document.createElement('div');\n",
              "          docLink.innerHTML = docLinkHtml;\n",
              "          element.appendChild(docLink);\n",
              "        }\n",
              "      </script>\n",
              "    </div>\n",
              "  </div>\n",
              "  "
            ]
          },
          "metadata": {},
          "execution_count": 6
        }
      ]
    },
    {
      "cell_type": "markdown",
      "source": [
        "#### Creating Street Network and Boundary Variables"
      ],
      "metadata": {
        "id": "TjEUUSrMVQ9u"
      },
      "id": "TjEUUSrMVQ9u"
    },
    {
      "cell_type": "markdown",
      "source": [
        "Let us choose only Manhattan for simplicity as we have limited computing capacity"
      ],
      "metadata": {
        "id": "N2Cju1Aa_5Et"
      },
      "id": "N2Cju1Aa_5Et"
    },
    {
      "cell_type": "code",
      "execution_count": 7,
      "metadata": {
        "colab": {
          "base_uri": "https://localhost:8080/",
          "height": 0
        },
        "id": "f9520d46-3441-4546-86a3-09c00746ac6d",
        "outputId": "d4ac8177-eb6d-41b8-c04c-3a65be198d48"
      },
      "outputs": [
        {
          "output_type": "execute_result",
          "data": {
            "text/plain": [
              "<shapely.geometry.multipolygon.MultiPolygon at 0x7f9016dc7450>"
            ],
            "image/svg+xml": "<svg xmlns=\"http://www.w3.org/2000/svg\" xmlns:xlink=\"http://www.w3.org/1999/xlink\" width=\"100.0\" height=\"100.0\" viewBox=\"-74.05557447102511 40.67507210139078 0.1567683196847014 0.211810789468295\" preserveAspectRatio=\"xMinYMin meet\"><g transform=\"matrix(1,0,0,-1,0,81.56195499224987)\"><g><path fill-rule=\"evenodd\" fill=\"#66cc99\" stroke=\"#555555\" stroke-width=\"0.0042362157893659005\" opacity=\"0.6\" d=\"M -74.01092841268031,40.68449147254299 L -74.0119325991106,40.683887749155005 L -74.01217596614636,40.684095185628514 L -74.01011625533805,40.6853415982392 L -74.0087859013092,40.686146602298905 L -74.00869559889547,40.68619331801266 L -74.00859803329713,40.68625256408502 L -74.00835446532174,40.68640020025073 L -74.0081641459391,40.686174717161514 L -74.00842516151928,40.68601553244517 L -74.00851294257347,40.68596254908627 L -74.00860072436832,40.685909564654835 L -74.00953293674748,40.68534164804176 L -74.01092841268031,40.68449147254299 z\" /><path fill-rule=\"evenodd\" fill=\"#66cc99\" stroke=\"#555555\" stroke-width=\"0.0042362157893659005\" opacity=\"0.6\" d=\"M -74.00500373315074,40.68760598540088 L -74.005629863304,40.68678420604366 L -74.00783293766683,40.68738505516276 L -74.00742012154097,40.68820629043594 L -74.00500373315074,40.68760598540088 z\" /><path fill-rule=\"evenodd\" fill=\"#66cc99\" stroke=\"#555555\" stroke-width=\"0.0042362157893659005\" opacity=\"0.6\" d=\"M -74.00382038919733,40.68892964469932 L -74.00459270521772,40.68821522298663 L -74.0067843843981,40.6888268799583 L -74.00636461225267,40.68966966863701 L -74.00382038919733,40.68892964469932 z\" /><path fill-rule=\"evenodd\" fill=\"#66cc99\" stroke=\"#555555\" stroke-width=\"0.0042362157893659005\" opacity=\"0.6\" d=\"M -74.00297565436566,40.69042657592073 L -74.0034092162452,40.68961326116014 L -74.00575900670344,40.690236400016225 L -74.00534209624915,40.691091602977885 L -74.00297565436566,40.69042657592073 z\" /><path fill-rule=\"evenodd\" fill=\"#66cc99\" stroke=\"#555555\" stroke-width=\"0.0042362157893659005\" opacity=\"0.6\" d=\"M -74.04387761573918,40.6901876758741 L -74.0435059601254,40.68968735963638 L -74.04273533892976,40.69005019091765 L -74.04278433313979,40.69012097669143 L -74.04270428426766,40.690155204644356 L -74.04255372037308,40.68996275928963 L -74.04263929305132,40.68992817591104 L -74.0426938081918,40.68999725910724 L -74.04346752310265,40.68963699010349 L -74.04351637245823,40.68919103323981 L -74.04364078627445,40.68876656007277 L -74.04397458556184,40.68858240705594 L -74.04438521711224,40.68851617790039 L -74.04478399106388,40.68859566011564 L -74.04627538937608,40.68932742539445 L -74.04680284898575,40.689953256266065 L -74.04747651462345,40.689611369998325 L -74.04772962697074,40.68991531896891 L -74.04758571924786,40.68998250682617 L -74.04743126057485,40.689803890471204 L -74.04689205500591,40.69005909832266 L -74.04720029366216,40.690424815121204 L -74.04711050632582,40.69047041285039 L -74.04711581976335,40.69065580611851 L -74.04718321412064,40.69074735504913 L -74.04719492447708,40.69076326384849 L -74.04721324509306,40.69079048729106 L -74.04722568374888,40.690819572374345 L -74.04723192785436,40.69084978819275 L -74.04723182048704,40.690880375424406 L -74.0472253643364,40.69091056541281 L -74.04721272163714,40.69093959948314 L -74.04719421009307,40.69096674800789 L -74.0471702948939,40.69099132874252 L -74.04714091053252,40.69101051634451 L -74.04710814053631,40.69102620847238 L -74.04707269656511,40.69103806434211 L -74.0470353483505,40.69104582648116 L -74.04699690697936,40.69104932631992 L -74.04617166999421,40.69109798148663 L -74.04614707208665,40.69112264603321 L -74.04609551063264,40.69112006338177 L -74.04604442453652,40.69111415232562 L -74.04599418395532,40.69110495569476 L -74.04592592769208,40.69108260354667 L -74.04586027427413,40.69105611658341 L -74.0446061648289,40.69057348444826 L -74.04387761573918,40.6901876758741 z\" /><path fill-rule=\"evenodd\" fill=\"#66cc99\" stroke=\"#555555\" stroke-width=\"0.0042362157893659005\" opacity=\"0.6\" d=\"M -74.00132562399813,40.691463100332086 L -74.00069905841879,40.69061185841908 L -74.00479415294552,40.691761620374436 L -74.00440941259976,40.69252880038935 L -74.00196938526082,40.691843208820124 L -74.00132562399813,40.691463100332086 z\" /><path fill-rule=\"evenodd\" fill=\"#66cc99\" stroke=\"#555555\" stroke-width=\"0.0042362157893659005\" opacity=\"0.6\" d=\"M -74.0167475609607,40.693343368217626 L -74.01540359141647,40.69306649730916 L -74.01535466389981,40.69322485341722 L -74.01540916665948,40.69323867317311 L -74.01538919768244,40.69329813466554 L -74.01517482202624,40.69325668033548 L -74.01518934209341,40.693198603543 L -74.01525474322263,40.693206891183934 L -74.01530915985035,40.693047042891585 L -74.01525951035647,40.693036814231895 L -74.01512637564146,40.693177431515984 L -74.01516538149541,40.69319728809483 L -74.01512878294328,40.69324379583443 L -74.01504789862969,40.69319974640056 L -74.01494315033483,40.693141021930856 L -74.01498417980058,40.693106517680526 L -74.01503973872529,40.693138299760875 L -74.01515612159503,40.693015515394244 L -74.01422123084896,40.6928229058415 L -74.01347809785598,40.69213847009177 L -74.01347183710853,40.69213185302366 L -74.01346424246012,40.69212610168622 L -74.01345551725191,40.69212137006715 L -74.01344589509476,40.69211778485179 L -74.01343563361452,40.6921154420315 L -74.01342500755426,40.692114404333495 L -74.0134143014184,40.692114699541236 L -74.01340380185523,40.69211631975083 L -74.01250258675178,40.69230358046298 L -74.01252289827046,40.692339032414736 L -74.01240888894324,40.69249352748015 L -74.01240098902977,40.692505357996836 L -74.01239161593848,40.69251654810907 L -74.0123726014913,40.69253377199184 L -74.01235012591742,40.69254838242886 L -74.01232480071779,40.69255998190741 L -74.01229731492555,40.692568254835116 L -74.0121181561438,40.69260636571754 L -74.01211726765075,40.692606554614464 L -74.01210359185659,40.692609464999364 L -74.0120436917983,40.69260181662157 L -74.0118492003855,40.69251819775048 L -74.01184889307429,40.692517873281545 L -74.01181185647236,40.692479335064384 L -74.0117988123054,40.692444594737 L -74.01178374501715,40.692404766472826 L -74.01175097032225,40.692318113592954 L -74.01175033086646,40.692316411914824 L -74.01175034252037,40.69231634875581 L -74.01175749051254,40.69226373956157 L -74.01183446726395,40.69215905602315 L -74.01183833471082,40.692153797275026 L -74.01183900825667,40.69215287764779 L -74.01186468706692,40.69211796262594 L -74.01190309722561,40.692090583507884 L -74.01191118868006,40.69208884407124 L -74.0119689325871,40.69207647455723 L -74.01213630770874,40.69204064385559 L -74.01213732516261,40.69204041808887 L -74.01214293316178,40.69203921967629 L -74.01214885984388,40.692037949360525 L -74.0122011411637,40.69204490509611 L -74.01232430689464,40.69209118750243 L -74.01235951844643,40.69210777028018 L -74.01239001029667,40.69212308503779 L -74.01240858613579,40.69213424052951 L -74.01242927059356,40.69215423889238 L -74.01246140165135,40.69221262491847 L -74.01253982481629,40.69219697386322 L -74.01255899015494,40.69219315382366 L -74.01282826026981,40.692139435944156 L -74.01322338051702,40.692059190656835 L -74.01324195439302,40.692055416138864 L -74.01324784563474,40.69205421763984 L -74.01328515792896,40.69204736900615 L -74.01330314021662,40.69204264868681 L -74.01331123156673,40.692039496225505 L -74.01331804474167,40.692035902476825 L -74.01332367657388,40.69203182253245 L -74.01332606546663,40.69202957923131 L -74.01332818317647,40.69202720143702 L -74.01333064247271,40.69202372579598 L -74.01333264149608,40.692019970102386 L -74.01333505303282,40.69201209955262 L -74.01333539494105,40.69200820902388 L -74.0133351582511,40.6920044629708 L -74.01333432977003,40.692000924552765 L -74.01333293283658,40.691997636989115 L -74.01332546520501,40.69198520246161 L -74.01331621036003,40.69197249741612 L -74.01327481959483,40.691935346795205 L -74.01326620460148,40.69192718049207 L -74.0132647611729,40.69192580274546 L -74.01325528699348,40.69191681699642 L -74.01318656537056,40.691957928915265 L -74.01291228751684,40.691690730833834 L -74.01292800393824,40.69167610442816 L -74.0128598710889,40.69160299036305 L -74.01289688430353,40.6915768955003 L -74.01289518355665,40.69157528340697 L -74.0128751983543,40.69155633025178 L -74.01286547266726,40.69154710124854 L -74.0128159518588,40.691500126723476 L -74.01275436836775,40.69147646763598 L -74.01265071760992,40.69139945918046 L -74.01262511694804,40.69140873714779 L -74.01260856859395,40.691364104127196 L -74.01258434696003,40.691370649729585 L -74.01258434935939,40.69138336238058 L -74.0125450515152,40.69139159327295 L -74.01255488211363,40.69142300175049 L -74.01253228594769,40.69142898661776 L -74.01251950752713,40.69139683145423 L -74.01203417616576,40.69150307668571 L -74.01201746659363,40.6914582075514 L -74.01259753152567,40.691334335544525 L -74.01252783209975,40.69114633733799 L -74.01218355071057,40.69113621594066 L -74.01218682075256,40.69107802427068 L -74.01182575354973,40.69106481621618 L -74.01182847957557,40.69101135776442 L -74.01219500090085,40.691028847568845 L -74.01219552958612,40.6910205736679 L -74.01221017410677,40.69079169680128 L -74.01208414396388,40.69078062230057 L -74.01208232424358,40.69075988192453 L -74.01205325498766,40.69073914390307 L -74.01199875966573,40.69075021160225 L -74.0119878628144,40.690772336076456 L -74.01197151318823,40.690770955509535 L -74.01198603276984,40.69069766811433 L -74.01199329167372,40.690650653797135 L -74.01198056761248,40.69060640727183 L -74.01204959850618,40.69061054854668 L -74.01205685428488,40.690553854489565 L -74.01209863431934,40.69054693658218 L -74.01210771369429,40.69052895959747 L -74.01212769712372,40.69052895749327 L -74.01214221600917,40.69045428780723 L -74.012231311469,40.69046133077514 L -74.01230688304491,40.6892801829376 L -74.0127032092405,40.68879053981701 L -74.01275451203065,40.68872055623792 L -74.01316926402752,40.688154770700606 L -74.0132648670562,40.68812243009669 L -74.01333019977949,40.68809316604801 L -74.01341858951305,40.688052197815274 L -74.01347243916628,40.68801205796616 L -74.01488097975022,40.68725457099114 L -74.01604730539535,40.68733800680033 L -74.01609789228397,40.687314592288196 L -74.01651927578648,40.68711955114748 L -74.01698146864119,40.686907384481536 L -74.01704986609217,40.68687598741646 L -74.0167158267198,40.68644559370963 L -74.01664664084757,40.686416347233354 L -74.0151516167432,40.68652480204178 L -74.01514831189695,40.68648716724984 L -74.01514714644111,40.68647389151663 L -74.01514391021995,40.68643703404303 L -74.01661971233223,40.68631980484097 L -74.01667351529993,40.68630516855354 L -74.01727291238652,40.685690697681174 L -74.01753032434097,40.68536298793249 L -74.0176225750659,40.68540978372073 L -74.01736132076934,40.68574627202702 L -74.01678113957146,40.68634903791921 L -74.0167734646322,40.68639877494718 L -74.0171209910106,40.686843337134 L -74.02015656652381,40.68544978729508 L -74.02054367293081,40.68527206792598 L -74.02020686710516,40.684833832574526 L -74.02016278941753,40.68483301741088 L -74.01945957389425,40.68515495792245 L -74.01939842391928,40.685087404047245 L -74.02095255010296,40.684384431647224 L -74.021008778993,40.684453539084345 L -74.02028899992264,40.684784447916016 L -74.02027819846491,40.68480913517451 L -74.02061267235811,40.68524039019807 L -74.02106226329637,40.68504102470043 L -74.02183909525702,40.684696540546916 L -74.02224078898519,40.684518407599334 L -74.02218236980758,40.684448189976365 L -74.02218869159167,40.68444512668851 L -74.02211854383413,40.68435195080149 L -74.022136931921,40.68434407196163 L -74.02220765451614,40.68443724772659 L -74.02225477659645,40.684418863528165 L -74.02218405410032,40.68432612470384 L -74.02219841909843,40.68431824662965 L -74.02227086489532,40.68440879753662 L -74.02227948499687,40.684406170710844 L -74.02229730952685,40.68442935508515 L -74.02232719130245,40.684417973833604 L -74.0223381152258,40.68443022166487 L -74.02230823373827,40.68444379049429 L -74.02233552903563,40.684476393604236 L -74.02239732580516,40.68444898932644 L -74.02259359581042,40.684359695949965 L -74.02213250186865,40.683767671882684 L -74.02305574749595,40.682916945445164 L -74.02319462834663,40.683000498062185 L -74.0223682355767,40.683779916794 L -74.0227589902996,40.68428444833228 L -74.02301704456366,40.68416704426914 L -74.02313509710314,40.68412415615017 L -74.0232567831563,40.68408541432084 L -74.02339776854572,40.68404096982167 L -74.02341479373861,40.68403560313053 L -74.02354160370125,40.68400298359257 L -74.02378267336752,40.683968915869066 L -74.0239473535509,40.683949215986665 L -74.02421537269676,40.683944243464346 L -74.02443173023707,40.683954030594506 L -74.02464809241233,40.683978566613085 L -74.02484185637276,40.68401294114244 L -74.02499306057507,40.68405211203305 L -74.02521646935898,40.684093980871346 L -74.02546836768583,40.68415292257831 L -74.02567183758212,40.68423645620509 L -74.02588501823529,40.684376526840076 L -74.02604653184775,40.68451415115496 L -74.02612578192957,40.68459351143979 L -74.02623238290333,40.68470026105382 L -74.02633404242411,40.68480169772419 L -74.0264406662461,40.68495162451996 L -74.02651822912097,40.6851089331485 L -74.02657640943113,40.685241663540715 L -74.02660875559283,40.68537685800992 L -74.02662819083865,40.68552680474968 L -74.0266217834019,40.685654634111444 L -74.02660890959801,40.685762798069526 L -74.02657021545328,40.68590538468137 L -74.02649600144055,40.686055352516426 L -74.02642577243203,40.68617533982964 L -74.02637621613823,40.68623131880008 L -74.02631270370256,40.686295116268084 L -74.02622025384288,40.686384567590956 L -74.02617488097594,40.68642907222906 L -74.02606584987552,40.6865305662279 L -74.0257838705966,40.686794706417295 L -74.02557971866322,40.686997456599954 L -74.02538699246998,40.68716690428228 L -74.02518794246524,40.68735622748176 L -74.0251542677043,40.687387494476944 L -74.02498452676967,40.68754509996104 L -74.02495996488949,40.68756820364943 L -74.02474903514573,40.68778702941224 L -74.02456390211564,40.68796465845383 L -74.02445685221294,40.68806055942194 L -74.02433922808888,40.68816580955553 L -74.0243230857736,40.68818025702198 L -74.02419511436455,40.68829476558994 L -74.02411997621054,40.68836824351025 L -74.02397192277753,40.68851302540434 L -74.023969248803,40.68851555009807 L -74.02381144169404,40.68866451630532 L -74.0236743648252,40.68879230925739 L -74.02353644452177,40.688915770961 L -74.02339034096943,40.689049247613426 L -74.02313394750364,40.689295454264645 L -74.02268465939613,40.68971747085387 L -74.02256537904927,40.68982575842605 L -74.02243973951957,40.68993981943944 L -74.02225114057582,40.69012221857816 L -74.02189942193758,40.69044347236062 L -74.02149639768453,40.69082705033481 L -74.02147636060462,40.69084662262124 L -74.02121292061632,40.691103965650925 L -74.02097996202463,40.69132439086219 L -74.02071969701758,40.6915809849955 L -74.02071619151157,40.69158423214057 L -74.02046388462902,40.691817991104074 L -74.02020527434277,40.69203392385425 L -74.01985623976942,40.6929062333015 L -74.01979706616885,40.693041562744504 L -74.01979424538122,40.69304594557882 L -74.01976764190428,40.69308055729032 L -74.01973308196347,40.693114107486906 L -74.0196927182827,40.69314366579484 L -74.01964733809632,40.693168655717514 L -74.01959782648228,40.6931885898582 L -74.01954514909961,40.69320307942636 L -74.01952625786063,40.69320679034935 L -74.0194356527756,40.69322117711822 L -74.01934366787751,40.69322898863297 L -74.01925112492039,40.69323015510881 L -74.01915885064417,40.69322466612496 L -74.01901238427882,40.693219829002835 L -74.01886580645925,40.69321771373428 L -74.0188507475579,40.693217650363614 L -74.01879710616208,40.69321765913745 L -74.01819162214248,40.69325480043081 L -74.01796039442266,40.69326898326406 L -74.01735898628607,40.693305870259486 L -74.0167475609607,40.693343368217626 z\" /><path fill-rule=\"evenodd\" fill=\"#66cc99\" stroke=\"#555555\" stroke-width=\"0.0042362157893659005\" opacity=\"0.6\" d=\"M -74.00154172920259,40.69278596325275 L -74.00174362045013,40.692406749705526 L -74.00400795971098,40.693208199632394 L -74.00374561906433,40.693616202981126 L -74.00345348490625,40.69405163067137 L -74.00127014902642,40.69329606217635 L -74.00154172920259,40.69278596325275 z\" /><path fill-rule=\"evenodd\" fill=\"#66cc99\" stroke=\"#555555\" stroke-width=\"0.0042362157893659005\" opacity=\"0.6\" d=\"M -74.00078295275675,40.69428651566463 L -74.00095868416989,40.69406908358225 L -74.00301393829082,40.69477784447917 L -74.00263556890172,40.69536203703759 L -74.00239802583795,40.69571165486452 L -74.00026872377788,40.69496580257794 L -74.00070104745139,40.69438785634227 L -74.00078295275675,40.69428651566463 z\" /><path fill-rule=\"evenodd\" fill=\"#66cc99\" stroke=\"#555555\" stroke-width=\"0.0042362157893659005\" opacity=\"0.6\" d=\"M -74.00043147340433,40.69705246617857 L -73.9995933351521,40.696782261474404 L -73.99953135202674,40.696876612619434 L -73.99958770006693,40.69689805716817 L -73.99955389083671,40.69694523239684 L -73.99940738376925,40.69688518944606 L -73.99950317795836,40.696726507193766 L -73.99947406820606,40.696704134462024 L -73.99952373903514,40.696574826543454 L -74.00048933405957,40.6969261950881 L -74.00043147340433,40.69705246617857 z\" /><path fill-rule=\"evenodd\" fill=\"#66cc99\" stroke=\"#555555\" stroke-width=\"0.0042362157893659005\" opacity=\"0.6\" d=\"M -73.99837760685772,40.69806329614612 L -73.99887117097656,40.697157577295854 L -74.00104903057523,40.69790823619485 L -74.00048768562517,40.69875777763456 L -73.99837760685772,40.69806329614612 z\" /><path fill-rule=\"evenodd\" fill=\"#66cc99\" stroke=\"#555555\" stroke-width=\"0.0042362157893659005\" opacity=\"0.6\" d=\"M -73.99799957540132,40.69879768554431 L -73.99802102725111,40.69876173657382 L -74.0000184043362,40.69946604807366 L -73.99947463838926,40.70032277801835 L -73.9974989831,40.69963886932127 L -73.99799957540132,40.69879768554431 z\" /><path fill-rule=\"evenodd\" fill=\"#66cc99\" stroke=\"#555555\" stroke-width=\"0.0042362157893659005\" opacity=\"0.6\" d=\"M -74.03995040788483,40.70089063014016 L -74.03945262913307,40.70053315982377 L -74.03938278118848,40.70057769456134 L -74.03771124796636,40.69934404034777 L -74.03809786214745,40.69903950474166 L -74.03822954445391,40.69836859169773 L -74.03900043878028,40.69836989039104 L -74.0393403767012,40.698115514333416 L -74.03993272132956,40.6985444222911 L -74.0402555501724,40.69880482330758 L -74.04124261832222,40.69953674143489 L -74.04174768868015,40.69914786356667 L -74.03991248872623,40.69770204039843 L -74.0416605191481,40.69645297113721 L -74.04367371230778,40.69802040433011 L -74.04363686211164,40.69804823219573 L -74.04365651062231,40.69806409108793 L -74.04270395810723,40.69880060058671 L -74.04296505227515,40.6989993618222 L -74.0410986123707,40.700492943389676 L -74.04080080646241,40.70026854992655 L -74.04031250907492,40.700625749192476 L -74.04039104383929,40.700687375706295 L -74.04041179161338,40.700678484118654 L -74.04053637732183,40.70078209427245 L -74.04048062485312,40.7008206141675 L -74.04034955330646,40.70071601865464 L -74.04036511101013,40.70070416684558 L -74.04028808737911,40.700643613467385 L -74.03995040788483,40.70089063014016 z\" /><path fill-rule=\"evenodd\" fill=\"#66cc99\" stroke=\"#555555\" stroke-width=\"0.0042362157893659005\" opacity=\"0.6\" d=\"M -73.99628992163414,40.701425176037134 L -73.99649829067575,40.70114490802807 L -73.99661736129626,40.70098500803134 L -73.99669768997464,40.70087697691708 L -73.99682189085863,40.700990782325306 L -73.99752763273973,40.701228816958725 L -73.9977601103362,40.701359414876734 L -73.99780162786313,40.70131939476627 L -73.99813879899456,40.701518787745826 L -73.99619227228733,40.70337714086416 L -73.99588611884144,40.703260077085005 L -73.99513826840686,40.702974114722885 L -73.9952601511738,40.70281020953877 L -73.99538448382651,40.70264301006588 L -73.99621639402842,40.70152407366708 L -73.99628992163414,40.701425176037134 z\" /><path fill-rule=\"evenodd\" fill=\"#66cc99\" stroke=\"#555555\" stroke-width=\"0.0042362157893659005\" opacity=\"0.6\" d=\"M -73.99502134649177,40.70314786924676 L -73.99504592748325,40.703131839799596 L -73.99544564312069,40.703275305471806 L -73.99529346700933,40.70355406589801 L -73.99498203312825,40.70338171553521 L -73.99480038274864,40.70329195864462 L -73.99502134649177,40.70314786924676 z\" /><path fill-rule=\"evenodd\" fill=\"#66cc99\" stroke=\"#555555\" stroke-width=\"0.0042362157893659005\" opacity=\"0.6\" d=\"M -73.99476934191567,40.7039528949536 L -73.99488239902435,40.70378802583744 L -73.99491043069519,40.70379731595878 L -73.99492964609252,40.7037713150838 L -73.99502925916447,40.70380820086804 L -73.99488204726408,40.7040086538952 L -73.99483637435264,40.70398633908102 L -73.99476934191567,40.7039528949536 z\" /><path fill-rule=\"evenodd\" fill=\"#66cc99\" stroke=\"#555555\" stroke-width=\"0.0042362157893659005\" opacity=\"0.6\" d=\"M -73.98237340505965,40.70554335043756 L -73.98245898641562,40.70554241446984 L -73.98242287179878,40.705822055451996 L -73.9810239061828,40.70589891389358 L -73.98101733900947,40.705797506467775 L -73.98230205183879,40.70573697939968 L -73.98232944150563,40.70555203366395 L -73.98237340505965,40.70554335043756 z\" /><path fill-rule=\"evenodd\" fill=\"#66cc99\" stroke=\"#555555\" stroke-width=\"0.0042362157893659005\" opacity=\"0.6\" d=\"M -73.96715101172583,40.718316126435056 L -73.96656241897496,40.71801586680628 L -73.96659690332669,40.71796798139027 L -73.96718343223795,40.71827592102758 L -73.96719282626957,40.71826514402205 L -73.9673074147439,40.7183130671842 L -73.9672301330496,40.71841466884305 L -73.96718243631241,40.718483056301615 L -73.96706867689159,40.718439035791306 L -73.96709096267308,40.71840576680832 L -73.96715101172583,40.718316126435056 z\" /><path fill-rule=\"evenodd\" fill=\"#66cc99\" stroke=\"#555555\" stroke-width=\"0.0042362157893659005\" opacity=\"0.6\" d=\"M -73.96636503305282,40.71905633078418 L -73.96585847175152,40.718773228849074 L -73.96587893532671,40.71875507768643 L -73.96634259840091,40.71901874243019 L -73.96637067848117,40.71898970835091 L -73.96662993360907,40.71913242786093 L -73.96654344630548,40.71922294246951 L -73.96631897740721,40.71910842000833 L -73.96636503305282,40.71905633078418 z\" /><path fill-rule=\"evenodd\" fill=\"#66cc99\" stroke=\"#555555\" stroke-width=\"0.0042362157893659005\" opacity=\"0.6\" d=\"M -73.96503278328099,40.72037706947498 L -73.96511736823715,40.720316338856335 L -73.96567655698857,40.7206789605404 L -73.96559823311401,40.72074445840254 L -73.96503278328099,40.72037706947498 z\" /><path fill-rule=\"evenodd\" fill=\"#66cc99\" stroke=\"#555555\" stroke-width=\"0.0042362157893659005\" opacity=\"0.6\" d=\"M -73.96483433609437,40.720795546938206 L -73.96436107956328,40.720477239877184 L -73.96439735661679,40.72044183392397 L -73.96486440927384,40.7207755418607 L -73.96492581691784,40.72072028444708 L -73.96503100130579,40.72079084137116 L -73.96493074300267,40.72088135006337 L -73.96485304211545,40.720952804859635 L -73.96475287190957,40.72087748384247 L -73.96483433609437,40.720795546938206 z\" /><path fill-rule=\"evenodd\" fill=\"#66cc99\" stroke=\"#555555\" stroke-width=\"0.0042362157893659005\" opacity=\"0.6\" d=\"M -73.96402617524582,40.72088089306878 L -73.9640659124426,40.72079991096243 L -73.9643750430115,40.720992550768635 L -73.96430846303332,40.7210556694884 L -73.96402617524582,40.72088089306878 z\" /><path fill-rule=\"evenodd\" fill=\"#66cc99\" stroke=\"#555555\" stroke-width=\"0.0042362157893659005\" opacity=\"0.6\" d=\"M -73.96424069640462,40.72061223049383 L -73.9642746249727,40.72057576759393 L -73.96495059736691,40.72142418160436 L -73.9648428486345,40.72146417609464 L -73.96420193098578,40.72065389425702 L -73.96424069640462,40.72061223049383 z\" /><path fill-rule=\"evenodd\" fill=\"#66cc99\" stroke=\"#555555\" stroke-width=\"0.0042362157893659005\" opacity=\"0.6\" d=\"M -73.96236596889439,40.72420906161428 L -73.96200744799044,40.72399190110524 L -73.96207271943857,40.723880300905556 L -73.96246790011057,40.72413157960129 L -73.96247195112905,40.72417498927354 L -73.96244340911427,40.72419978548138 L -73.96239043044633,40.72419356718681 L -73.96236596889439,40.72420906161428 z\" /><path fill-rule=\"evenodd\" fill=\"#66cc99\" stroke=\"#555555\" stroke-width=\"0.0042362157893659005\" opacity=\"0.6\" d=\"M -73.96128450722335,40.73015906170143 L -73.96128261942144,40.73006102501011 L -73.96134184244276,40.73006367758809 L -73.96140472395243,40.73006105226403 L -73.96140171917759,40.73011102611341 L -73.9616867065907,40.73008186880112 L -73.96191028747243,40.72996258061542 L -73.96188586360671,40.72995256566792 L -73.96195920452797,40.72985966844804 L -73.96202496266523,40.72988542223779 L -73.96197794944985,40.7299440187498 L -73.96221474459279,40.72991693577675 L -73.96241964278757,40.7298012081141 L -73.96248546579243,40.72971116761504 L -73.9625493395233,40.72974406784657 L -73.9624778771383,40.72983696605563 L -73.96245157418112,40.72982838012007 L -73.96226735368352,40.7299312482395 L -73.96225228876577,40.729985566981945 L -73.9621946350352,40.72997597375561 L -73.96220156915895,40.72995409923714 L -73.96194409928032,40.72998689437476 L -73.9617072421667,40.73012119479225 L -73.96135279077708,40.73015195705322 L -73.96128450722335,40.73015906170143 z\" /><path fill-rule=\"evenodd\" fill=\"#66cc99\" stroke=\"#555555\" stroke-width=\"0.0042362157893659005\" opacity=\"0.6\" d=\"M -73.96197039369788,40.73157711168546 L -73.96197040783946,40.73155233267005 L -73.9617128941469,40.73156611384492 L -73.96169848245741,40.731532341394825 L -73.9616744677247,40.73148125355278 L -73.96199050226615,40.731466565708466 L -73.96199800352301,40.73149325315422 L -73.962900068031,40.73144780167744 L -73.96290258567535,40.7314287411495 L -73.96320076537572,40.731417400624736 L -73.96319829673003,40.731350686907774 L -73.96328098663882,40.73134308883646 L -73.9632809740348,40.73136596207098 L -73.96355911991348,40.73133555339161 L -73.96355164152972,40.73126311974451 L -73.9636593923288,40.731249811482094 L -73.96369938139063,40.731436619557265 L -73.96358410965732,40.73145755028228 L -73.96356661657303,40.73137177115232 L -73.96328095722949,40.73139645960518 L -73.96329343161838,40.73149557932851 L -73.96290754784937,40.73151642296391 L -73.96291505478298,40.73153358010087 L -73.96197039369788,40.73157711168546 z\" /><path fill-rule=\"evenodd\" fill=\"#66cc99\" stroke=\"#555555\" stroke-width=\"0.0042362157893659005\" opacity=\"0.6\" d=\"M -73.96051732602348,40.744105341081216 L -73.96056856792384,40.744029666585206 L -73.96067204645489,40.74405121585621 L -73.96064863700752,40.74413031711149 L -73.96051732602348,40.744105341081216 z\" /><path fill-rule=\"evenodd\" fill=\"#66cc99\" stroke=\"#555555\" stroke-width=\"0.0042362157893659005\" opacity=\"0.6\" d=\"M -73.96421230395704,40.746604317974125 L -73.96427364752464,40.74654184455246 L -73.96433729322393,40.7465457265932 L -73.96437765404313,40.7464950880389 L -73.96444522752651,40.746410425260635 L -73.96458318426947,40.74645440067335 L -73.96458702399427,40.74651589854462 L -73.96454518192589,40.746564150472985 L -73.96447543657699,40.74664083319786 L -73.96437443772187,40.74670453064306 L -73.96433758671752,40.7467348481814 L -73.9642725620221,40.74675130808408 L -73.96421616682368,40.74683700083103 L -73.9641598028843,40.74686554735958 L -73.96412514486175,40.74684576060535 L -73.96413382933497,40.74681279616544 L -73.96421192462765,40.74666667680302 L -73.96421230395704,40.746604317974125 z\" /><path fill-rule=\"evenodd\" fill=\"#66cc99\" stroke=\"#555555\" stroke-width=\"0.0042362157893659005\" opacity=\"0.6\" d=\"M -73.95763576836282,40.74840634746497 L -73.95749344070785,40.748336464763156 L -73.95751889254925,40.748303619592036 L -73.9576668047197,40.74837347901891 L -73.9577265433446,40.74829406189575 L -73.9578395394205,40.74833800337527 L -73.9576883184342,40.74853502687168 L -73.95757650467837,40.74848852537835 L -73.95763576836282,40.74840634746497 z\" /><path fill-rule=\"evenodd\" fill=\"#66cc99\" stroke=\"#555555\" stroke-width=\"0.0042362157893659005\" opacity=\"0.6\" d=\"M -73.93556797049789,40.77191877753356 L -73.93565635283767,40.77175639643507 L -73.93552163065328,40.77171629355829 L -73.93556621751405,40.771629115889084 L -73.93585195294749,40.77171600199268 L -73.93580987642521,40.77179936862182 L -73.93569833888495,40.77176690312398 L -73.93560853449772,40.77193127768452 L -73.93556797049789,40.77191877753356 z\" /><path fill-rule=\"evenodd\" fill=\"#66cc99\" stroke=\"#555555\" stroke-width=\"0.0042362157893659005\" opacity=\"0.6\" d=\"M -73.94180032729426,40.76904692662473 L -73.94256806142144,40.76850590573156 L -73.94285528620705,40.76830349440936 L -73.94321923520107,40.767892643853216 L -73.94381427322762,40.7672209120499 L -73.94422343089225,40.76666497788985 L -73.9448402665221,40.76582362839085 L -73.94623787959827,40.76428501454976 L -73.94657165080055,40.76391755826093 L -73.94662141408685,40.76386277208098 L -73.9468246022838,40.763617633234475 L -73.94708876929523,40.763298921086786 L -73.94788268389203,40.762365697592024 L -73.94792979664216,40.762310316259814 L -73.94832459591146,40.76184623000152 L -73.9487778940647,40.76131457086516 L -73.94914738541928,40.760881215989144 L -73.94943175563205,40.76054861736149 L -73.94971226700021,40.760328917384804 L -73.95008262637685,40.760047470463334 L -73.95033358814476,40.7598567555536 L -73.95126005908772,40.758810116371784 L -73.95148626283064,40.75866645535196 L -73.95171190411023,40.758462494201396 L -73.95177822025997,40.75840254987701 L -73.9520923302263,40.75799314034487 L -73.95217663423699,40.75783133644 L -73.9522114634206,40.757583639832944 L -73.95254079336877,40.757095314537295 L -73.95312156546173,40.75652380482713 L -73.95322009963168,40.756426841817714 L -73.95326888610992,40.75638104410335 L -73.95330696035853,40.75634432712754 L -73.95334556462879,40.75631137566742 L -73.95340583051988,40.75625853187725 L -73.95409527736307,40.755654928945404 L -73.95507326928161,40.754798682554814 L -73.95519503183567,40.75477452347623 L -73.9557941523772,40.75416154740869 L -73.95692404304612,40.752961160393774 L -73.95721003531293,40.75271535683165 L -73.95791452493187,40.75210985452536 L -73.95860755756425,40.75161332398696 L -73.95868495443514,40.751573777421754 L -73.9590324860946,40.75138642277125 L -73.95902757442488,40.75129736985098 L -73.95955875930795,40.75081459776201 L -73.95990187081871,40.750558515353625 L -73.96039170572536,40.75025618611732 L -73.96081286928421,40.74990061693889 L -73.96083011462245,40.74988767839745 L -73.96084436008086,40.74987277731806 L -73.9608552255558,40.74985631130023 L -73.9608776210587,40.749827570801244 L -73.96090586319525,40.74980198197336 L -73.9609392003413,40.749780225821134 L -73.96095994787893,40.74976641305403 L -73.96098341649387,40.74975540364492 L -73.96100895824021,40.749747501552484 L -73.96103586793579,40.749742924945394 L -73.96106340263144,40.74974180017908 L -73.9610908021226,40.749744158307216 L -73.96111730993758,40.74974993422426 L -73.96114219422249,40.749758968463105 L -73.96116476794676,40.74977101159758 L -73.96132845481047,40.749600957624516 L -73.96153855464473,40.74972311984052 L -73.96138656171422,40.74988050283592 L -73.96140909889691,40.74989974573997 L -73.96142702682998,40.749921612624064 L -73.96143982789111,40.749945472144695 L -73.96144713248036,40.74997063542596 L -73.96144427028229,40.749988533294236 L -73.96143797780489,40.750005916378505 L -73.96142839190827,40.75002240659315 L -73.96141572108549,40.750037645272194 L -73.96140024092799,40.75005130097075 L -73.96138044746658,40.750063516289366 L -73.96136340132804,40.75007792979767 L -73.96134951969928,40.75009418874129 L -73.96111060141877,40.750600469900746 L -73.96068557958185,40.75120193696796 L -73.96001132395902,40.75183151733508 L -73.9598906175869,40.752097477622705 L -73.95957156605824,40.75280471590017 L -73.95950079995129,40.752956381693174 L -73.9590161662748,40.75359505995741 L -73.95892671120951,40.753562492361446 L -73.95845836805675,40.7539492365049 L -73.95768072860075,40.754821961165675 L -73.9568947695998,40.755703995826494 L -73.95646348773006,40.756187982545676 L -73.95598563410063,40.75672422530514 L -73.95565513164131,40.75709510572583 L -73.95559286273466,40.757222800173615 L -73.95556724766547,40.75725766668628 L -73.95553464377036,40.75729603446836 L -73.95550425524475,40.75733345607258 L -73.95546455380817,40.75737736821188 L -73.95544589014962,40.75739925144283 L -73.95534193818226,40.757521135568325 L -73.95499406068451,40.75792901965747 L -73.95390795119141,40.759200874850784 L -73.95384294876447,40.759238945387786 L -73.95378145676383,40.75932308222841 L -73.95374760585473,40.75936393792596 L -73.95366241810713,40.759479734113526 L -73.95361272256534,40.75950214901419 L -73.95332321617923,40.75974596468745 L -73.95339140733955,40.75979676235773 L -73.95312451504947,40.76005275842957 L -73.9529778821611,40.75996210737435 L -73.95248457912031,40.76046011051532 L -73.95208632266514,40.76086215490744 L -73.95187667298384,40.76124558279808 L -73.9516250497398,40.761678863605795 L -73.95097191594412,40.76249450750756 L -73.95093734928088,40.76257049523785 L -73.95073068782703,40.76275822543381 L -73.95037548074446,40.76317384507787 L -73.94997191750257,40.76364603031706 L -73.94920376022777,40.764269643832804 L -73.94908628791565,40.764264027274976 L -73.94881315316405,40.76461075446873 L -73.94770109012802,40.76602239732518 L -73.94655273893119,40.76736820506407 L -73.94591458905606,40.7682139390187 L -73.94585112333094,40.76824775023559 L -73.9458445142382,40.76832122825143 L -73.94575361333564,40.76830167142708 L -73.94570357268658,40.76832793431151 L -73.94559658535877,40.768470865005135 L -73.94548114289289,40.76862477943783 L -73.9456272109345,40.76869295317891 L -73.94556302048748,40.768801776027125 L -73.94540491850024,40.76873217303859 L -73.9453820817897,40.76876320304784 L -73.94524510341354,40.768773268310404 L -73.94515704221519,40.7691183177517 L -73.94509065794169,40.76921372081543 L -73.94472353220708,40.76973405838146 L -73.94472478497455,40.76978627153486 L -73.9446729328337,40.76981996805342 L -73.94456161517566,40.769886395927394 L -73.94427007063555,40.770140535254725 L -73.94400423956336,40.77029398215084 L -73.94320414114229,40.77099239974865 L -73.94281710960279,40.77141086070231 L -73.94257830301011,40.77170185671851 L -73.94212674646828,40.772034700509444 L -73.94136990742406,40.77230915082773 L -73.94088707211625,40.77237251627863 L -73.94056957420625,40.77261475896415 L -73.94027460921222,40.77294743739557 L -73.94017959804104,40.77295931559441 L -73.94007665751654,40.77292618635799 L -73.94001157258354,40.772842360552616 L -73.94018451224514,40.772564906804185 L -73.94028207924197,40.772301406991254 L -73.94027766722355,40.771713141739546 L -73.94020021779653,40.77112830566277 L -73.94022870389077,40.770852261664395 L -73.94027985829325,40.770670711009814 L -73.9403553347751,40.77049657437107 L -73.940826053003,40.769912156765606 L -73.94111778718026,40.769414408574676 L -73.94121934173002,40.76933434312234 L -73.94125975382602,40.76930887939268 L -73.94180032729426,40.76904692662473 z\" /><path fill-rule=\"evenodd\" fill=\"#66cc99\" stroke=\"#555555\" stroke-width=\"0.0042362157893659005\" opacity=\"0.6\" d=\"M -73.93804640603439,40.780829544275555 L -73.9379013362394,40.780749996172595 L -73.93779448726416,40.78078125875547 L -73.93779944179563,40.78103133979669 L -73.93764631821483,40.78100121589289 L -73.93765365963812,40.780790007552824 L -73.93759894622623,40.7804678408615 L -73.93779269036342,40.78035790421236 L -73.93823773509402,40.78025907946538 L -73.93839622591739,40.78026243339121 L -73.93861200821945,40.78033895586899 L -73.93923746178234,40.7797333940584 L -73.939318219876,40.7797180018269 L -73.93953015793254,40.77952762026051 L -73.93958378972476,40.779576474007186 L -73.93943238100775,40.779812200274634 L -73.93949329752056,40.77987369131545 L -73.93937515379676,40.77997877184925 L -73.9393052849678,40.77995122455214 L -73.9392178962528,40.78001352022149 L -73.93872802926595,40.780510743704625 L -73.93883951845037,40.780599249799884 L -73.9388286341011,40.78076345123023 L -73.93874423089275,40.781043876042276 L -73.93830097951646,40.78136208436504 L -73.93808213268714,40.78141843777723 L -73.93796757721645,40.7812893340603 L -73.93804948921756,40.78105580604251 L -73.93806723089932,40.78094470269813 L -73.93804640603439,40.780829544275555 z\" /><path fill-rule=\"evenodd\" fill=\"#66cc99\" stroke=\"#555555\" stroke-width=\"0.0042362157893659005\" opacity=\"0.6\" d=\"M -73.92133752419339,40.800852106999635 L -73.92113594709151,40.80047545959401 L -73.92103317645142,40.80026528185809 L -73.92083898713115,40.8000125980067 L -73.92057878116594,40.79966814896287 L -73.92035479893677,40.79942285286317 L -73.9203146552123,40.79937545929004 L -73.91923785764357,40.798881067682856 L -73.91914573748248,40.798838987346 L -73.91906560282138,40.79880279731939 L -73.91899496843489,40.798771842701925 L -73.91898724457856,40.79876971221989 L -73.91891076100632,40.79874013786575 L -73.9179799205819,40.798380201927515 L -73.91790279810945,40.79836265323152 L -73.91662985247802,40.79785813943711 L -73.91639852914038,40.79768484203903 L -73.91545470966419,40.797063466031005 L -73.91443827233314,40.79566551786388 L -73.91380428276814,40.79451184645592 L -73.91378385370594,40.793836285482115 L -73.9145920846777,40.79277660195913 L -73.91514134426174,40.79201248249232 L -73.91535698910364,40.79184304950774 L -73.91552117846285,40.79178325024939 L -73.91630574681676,40.7911174803343 L -73.9161708792398,40.791014293373784 L -73.91686540584952,40.79036206296163 L -73.91707923528358,40.79045667422247 L -73.9171062231295,40.7904686167368 L -73.91784071922048,40.790171319937464 L -73.91812330871126,40.79004023993426 L -73.91843338465667,40.78980396433674 L -73.91856299774986,40.78969533382593 L -73.91859001366792,40.78947410390867 L -73.91850876959093,40.78942508976942 L -73.92189248128902,40.785703269643186 L -73.92199539273082,40.78575607780998 L -73.92219098057298,40.785510671573846 L -73.92243512114932,40.784782837565025 L -73.92285203280153,40.783555693417696 L -73.92306473139385,40.78334288477433 L -73.92401145782648,40.78266068982504 L -73.92401364738764,40.782657643982596 L -73.92406208829178,40.78259027845207 L -73.92412113996792,40.78252307401085 L -73.92423621875882,40.782496915086725 L -73.92424754901673,40.78249433912654 L -73.92431077958697,40.78245595655428 L -73.92448052280425,40.782320490645844 L -73.92467329671817,40.782244860503624 L -73.92488394771706,40.78222258277362 L -73.92506087908825,40.782216293972866 L -73.92514021519158,40.782243767595695 L -73.92515351840345,40.78224837480785 L -73.92524195308096,40.78227404884862 L -73.92538939088001,40.782274144398905 L -73.92571808678534,40.7821765579446 L -73.92713754068568,40.781194269126175 L -73.92732422574863,40.781090629324304 L -73.92754410768573,40.7810506348991 L -73.92760395474535,40.78103974834902 L -73.92769650616518,40.78101478553298 L -73.92778746495141,40.78098985883521 L -73.92810118987339,40.78092032004216 L -73.92849269561364,40.7810083534809 L -73.92917352790664,40.7814105785422 L -73.93030988129446,40.782077335790675 L -73.9306381969117,40.78226141304899 L -73.93105352807835,40.78239659406919 L -73.93267080610443,40.78269363962481 L -73.93502345134512,40.78300638202884 L -73.93540566284273,40.783394499268105 L -73.93581299798664,40.783710081035 L -73.93598226006591,40.78394236810643 L -73.93607064617002,40.78421721562027 L -73.93605332741521,40.78451236815354 L -73.93600271240696,40.784675371310094 L -73.93591823840065,40.78480687996343 L -73.93579345348833,40.78525478130405 L -73.93576384812955,40.78544603929272 L -73.93571265997697,40.78568048949258 L -73.93312843469003,40.78871017948551 L -73.93269606086321,40.7891782236649 L -73.9324014551364,40.789720290672754 L -73.93224073284911,40.78969484923493 L -73.93210528957358,40.78983395210782 L -73.93147595329808,40.790479159257956 L -73.93084178739281,40.79099143000158 L -73.9307294050381,40.790955114430865 L -73.92978443008357,40.79134147522661 L -73.92972400781862,40.79136617884563 L -73.92966610542626,40.791355786452996 L -73.9287194892678,40.790943532512465 L -73.9285945984799,40.790966924303916 L -73.92807273575714,40.79082339078048 L -73.92737326898224,40.790810825334646 L -73.92692258257081,40.79078869350671 L -73.92680823694681,40.79076443986839 L -73.92666714346059,40.790734513787264 L -73.92641834043042,40.79069337588456 L -73.92625431448674,40.790694533017 L -73.92610410186698,40.790731607117365 L -73.9260623804895,40.79082784851472 L -73.92606557868457,40.790936517757295 L -73.92608587705843,40.79100380853587 L -73.92608911503012,40.7910917804053 L -73.92604469896472,40.79117711082646 L -73.92604793689097,40.791265082192076 L -73.9260866061662,40.79135367669379 L -73.92611233766614,40.79141262702348 L -73.92615293373655,40.791547209554345 L -73.92615960449811,40.79161966107124 L -73.92615942249776,40.79171538899471 L -73.92627168524825,40.79175690841837 L -73.92644182323612,40.79179590456449 L -73.92654729742374,40.791827065161655 L -73.92656766339974,40.79185813478181 L -73.92651312185698,40.79189688476328 L -73.92627826425219,40.79187851860365 L -73.9261455569655,40.79184732540363 L -73.92592763081379,40.79187554738947 L -73.92576426220221,40.79185725726342 L -73.92563556907437,40.791822158203 L -73.9255872987962,40.79182083090698 L -73.92558041174094,40.791854466508305 L -73.92560756026246,40.791895907466404 L -73.92616939779452,40.791899223204936 L -73.92642805950204,40.79195649054447 L -73.92662898423103,40.79194639775026 L -73.92666662369295,40.79194019060829 L -73.92673798846923,40.7919284232944 L -73.92670074590066,40.79183262165678 L -73.9266395461271,40.79179113499672 L -73.92657824809356,40.79179364418923 L -73.92650678778584,40.79177284965468 L -73.92636742573487,40.791661388837575 L -73.92633032267321,40.79150347605391 L -73.92634451567677,40.79124728911951 L -73.92642654337885,40.791110234421545 L -73.92648803030961,40.791022324300826 L -73.92656584815985,40.79097950171323 L -73.92670272262227,40.79096815927022 L -73.92673885588233,40.79097412067454 L -73.92682874565233,40.79098895215348 L -73.92694456117866,40.79099938202546 L -73.92701950679624,40.790999429505625 L -73.92711487726518,40.7910150244606 L -73.92716599667949,40.790996933404465 L -73.92724094273532,40.7909969807409 L -73.92731587858677,40.79100738442589 L -73.92738061590241,40.790997068829384 L -73.9274385682008,40.790960857245665 L -73.92751010805004,40.79096090226262 L -73.92756120566025,40.79096352382495 L -73.92765319078313,40.79095840272923 L -73.92778409928505,40.790941603654204 L -73.92786889241138,40.79095483813187 L -73.92789328730996,40.79097884617843 L -73.92790202719486,40.79100981883412 L -73.92791053566314,40.791039146582534 L -73.92789374498597,40.79109111142095 L -73.92765982806252,40.79134833402806 L -73.92757830229547,40.791460474739154 L -73.92732065708601,40.791743160459596 L -73.92727664424253,40.791767327009325 L -73.92723286052436,40.79179136837806 L -73.9271356372808,40.79192930660315 L -73.92780141472397,40.79199747926236 L -73.9280005357249,40.79213364090692 L -73.92826720296209,40.792328523445626 L -73.92833773179294,40.792856549274696 L -73.92834291137437,40.79291805807407 L -73.92834212709053,40.792979689826915 L -73.92833538316938,40.79304111098532 L -73.9283227160924,40.79310198914024 L -73.92829531042938,40.79316116875471 L -73.92826520921278,40.79321287506625 L -73.92735332146681,40.794461894609945 L -73.92726057303011,40.79472983329105 L -73.9272437665862,40.79477917622892 L -73.92709782821456,40.79510360496101 L -73.9270512285462,40.79517849252909 L -73.92701158641346,40.795255659259006 L -73.92697909335774,40.795334732347 L -73.92695390638403,40.79541532977802 L -73.92693614720181,40.795497062171364 L -73.9269259016367,40.795579534661584 L -73.92692321921518,40.795662348806346 L -73.92690492728316,40.795983851536036 L -73.92689066961916,40.796234524222214 L -73.9268896782797,40.7962520113602 L -73.92695192356013,40.796708432284355 L -73.92703845671605,40.79698879591757 L -73.92711806944811,40.79720386123557 L -73.9271851477837,40.79734989678027 L -73.9273548544178,40.79731658078633 L -73.92734692252733,40.79729390212044 L -73.92767122620867,40.79721701426628 L -73.92770694127123,40.797298663379586 L -73.9273826362456,40.797377063077896 L -73.92736675660669,40.797346820344835 L -73.92720299704214,40.797386747799436 L -73.92721689257203,40.79741543349773 L -73.92727720268904,40.79740745314862 L -73.92743922185319,40.79771053821602 L -73.92747588603496,40.798122899664946 L -73.92726293291275,40.79891864512205 L -73.92691995615881,40.79983759047742 L -73.92690105444348,40.79988823684959 L -73.92688261754358,40.79994076850326 L -73.92685410172666,40.79998755904612 L -73.92680607643523,40.80003590053772 L -73.92669572629504,40.80014697765506 L -73.92724770789282,40.800392957369 L -73.92711464230642,40.80056375622958 L -73.9270669662849,40.80054301212584 L -73.92716933022487,40.80040585369618 L -73.92666565480394,40.800182714035806 L -73.9265535165366,40.80031517292145 L -73.92674263892997,40.8004034989728 L -73.92673683953092,40.80041147148191 L -73.92672526216835,40.80040733882286 L -73.92672091168971,40.800414210943586 L -73.92653846390036,40.800333898307954 L -73.92650250275526,40.80037491730696 L -73.92668470621146,40.80045475725587 L -73.92655241808427,40.80060482559488 L -73.92684528429615,40.80073964671282 L -73.92683162740748,40.80076552901469 L -73.9268690867946,40.800783676799284 L -73.92699531303133,40.80063617610431 L -73.92704640297909,40.80065174303132 L -73.92688606022001,40.800840648368926 L -73.92650954867304,40.800657031524565 L -73.92588046337772,40.80155174192615 L -73.92582494638731,40.80164248977826 L -73.92577551811746,40.801730600996315 L -73.925698261787,40.80181087135061 L -73.9254929349305,40.80195616865071 L -73.92527521020125,40.801998522743375 L -73.92436044107566,40.80198555341897 L -73.92263378594897,40.80186873814108 L -73.9221553889881,40.80162646997484 L -73.92191092229572,40.80150266625357 L -73.92133752419339,40.800852106999635 z\" /><path fill-rule=\"evenodd\" fill=\"#66cc99\" stroke=\"#555555\" stroke-width=\"0.0042362157893659005\" opacity=\"0.6\" d=\"M -73.92640556921116,40.87762147653737 L -73.92635080268255,40.87759232046266 L -73.92629680992586,40.877565027875704 L -73.92631001739271,40.87755063388213 L -73.92630253571107,40.877537430897256 L -73.92629743588184,40.87752358952966 L -73.92629456201423,40.87750608951734 L -73.92629548797387,40.87748846809046 L -73.92630018894774,40.87747119739447 L -73.926308538976,40.87745474017699 L -73.92632031432721,40.87743953738915 L -73.92633519949314,40.87742599637092 L -73.92635279564266,40.877414479936924 L -73.92637263130797,40.8774052966554 L -73.92639417501698,40.87739869258068 L -73.92642113927508,40.87736696562591 L -73.92644105068861,40.8773323669498 L -73.92645339377985,40.87729579228173 L -73.92645784901016,40.87725818850621 L -73.92644013585625,40.877218404407124 L -73.92641433040971,40.87718125761641 L -73.92638108651842,40.87714768932584 L -73.92634124649513,40.87711855005706 L -73.92629581977518,40.87709457811223 L -73.92624595734011,40.877076380868345 L -73.92619292255573,40.877064419388326 L -73.92613805916282,40.877058996739585 L -73.92608275723198,40.877060250315466 L -73.9259756560598,40.87705486755516 L -73.92586834053455,40.87705644696082 L -73.9257615947666,40.87706497699235 L -73.92565619870388,40.87708039532428 L -73.92555292243381,40.877102589301074 L -73.92545252055729,40.87713139676013 L -73.92535572667573,40.87716660721652 L -73.92526324803141,40.87720796340074 L -73.9251757603404,40.87725516313826 L -73.9251688213816,40.8772833622691 L -73.9251575024618,40.87731073231326 L -73.92513804760816,40.87734237261556 L -73.92511275427465,40.877371537510484 L -73.92508215701338,40.877397610615596 L -73.92507323779525,40.87739347740125 L -73.92502681080506,40.87737196229737 L -73.9249623961505,40.877393637249696 L -73.92489567890983,40.877410837546016 L -73.92482719737032,40.87742342441075 L -73.92474202521237,40.87743239080527 L -73.92465607179548,40.87743422756947 L -73.9245703699118,40.87742891263332 L -73.92448594933086,40.87741650985958 L -73.92440382442518,40.87739716827638 L -73.92400505010013,40.877317442656725 L -73.92386147764297,40.87727006407544 L -73.92381973555429,40.87726181171088 L -73.923776812069,40.877258575107454 L -73.92373374677702,40.87726043265443 L -73.9236915827027,40.877267339362746 L -73.9236513410439,40.877279127954615 L -73.9236139964395,40.87729551291479 L -73.92354823367552,40.87730137973707 L -73.92329476733984,40.87726443495724 L -73.92318658338247,40.877216745345756 L -73.92315177551701,40.87720140121702 L -73.92312291445764,40.877188677911356 L -73.9230988966351,40.87716676803309 L -73.92307297768332,40.87714216663546 L -73.9229989883947,40.87710057903381 L -73.92299761359368,40.87709621197235 L -73.92296914988849,40.8770594793718 L -73.92292375203768,40.877034386156986 L -73.92290511691814,40.877026377851074 L -73.92285992854842,40.87701252217394 L -73.92283147429002,40.87700596909549 L -73.92281051453209,40.877004957648346 L -73.92280311153733,40.877013372890346 L -73.92279447112548,40.87700479765393 L -73.92280735015169,40.87699041640378 L -73.92281246559956,40.87697908255865 L -73.92279410684537,40.876976005617934 L -73.92277552540169,40.87697159722232 L -73.92275159485156,40.8769537621515 L -73.92271506279386,40.87693181751403 L -73.92267110341204,40.876919866146174 L -73.92264377370434,40.87691635280428 L -73.92262222332904,40.87693206371377 L -73.92261955902838,40.87691702659685 L -73.92260901773896,40.87691449496121 L -73.92259596880969,40.87692123368957 L -73.92258515626511,40.87691378005266 L -73.92258024072251,40.87690617725509 L -73.92258384725571,40.876896342238425 L -73.92257719528656,40.8768956774015 L -73.92258179872685,40.87687808976769 L -73.92259148720407,40.87686583243162 L -73.92256855100506,40.87685691874122 L -73.92253786207058,40.8768713104603 L -73.92249234636206,40.87684892885325 L -73.9224768908113,40.87683204457966 L -73.92242340024154,40.876801465224766 L -73.92241708393776,40.87678589141789 L -73.92239768169317,40.87678022314125 L -73.92238754641686,40.8767632317003 L -73.9223766931572,40.87675893498177 L -73.92237632196814,40.876747937871095 L -73.92237521203197,40.87655685564884 L -73.9223811545329,40.87636582480652 L -73.9223941447462,40.87617499527627 L -73.92241417241584,40.87598451683101 L -73.92244122176282,40.87579453896681 L -73.92243956678487,40.87574312154872 L -73.92244468218188,40.87569183555909 L -73.9224565168357,40.87564119334244 L -73.92247495250382,40.87559170081085 L -73.92249980500121,40.87554385239009 L -73.92255082170831,40.87543488876443 L -73.92259328606464,40.87532383160462 L -73.92262705037838,40.875211067282265 L -73.9226519972274,40.875096988106336 L -73.9226680398672,40.874981990958126 L -73.922675122532,40.874866475910615 L -73.92267322062818,40.87475084483637 L -73.92266234081919,40.874635500009624 L -73.92264252100162,40.87452084270665 L -73.92261383017286,40.87440727180988 L -73.92257636819033,40.87429518242019 L -73.92253026542353,40.87418496448254 L -73.92247568229985,40.874077001429406 L -73.92241280874603,40.873971668847034 L -73.92234186352681,40.873869333168926 L -73.92226309348351,40.873770350401266 L -73.92217677267492,40.87367506488452 L -73.92208320142349,40.87358380809583 L -73.92198270527034,40.873496897495855 L -73.92187563384257,40.87341463542479 L -73.92176235963682,40.873337308050665 L -73.92164327672332,40.87326518437403 L -73.92151879937511,40.87319851529239 L -73.92138936062688,40.87313753272754 L -73.9212554107687,40.87308244881902 L -73.92111741577973,40.87303345518625 L -73.92108868294082,40.87303639315218 L -73.92105969060053,40.87303637332334 L -73.9210309647829,40.87303339605954 L -73.92097343965249,40.873018049890256 L -73.92091406868407,40.873007505808324 L -73.92085354538605,40.87300188697841 L -73.92079257672636,40.873001259033586 L -73.92073187487483,40.873005629308864 L -73.92072984132467,40.87300831437181 L -73.92072725215468,40.87301070803392 L -73.92072417829837,40.873012744717805 L -73.92072070396793,40.87301436862585 L -73.92071692434709,40.873015535269076 L -73.92071294298336,40.87301621268575 L -73.92070886895128,40.87301638231723 L -73.92070481386425,40.87301603951623 L -73.92068931274764,40.87301184045803 L -73.9206835897847,40.87300439566312 L -73.92065921317116,40.873005648561616 L -73.920637876355,40.87299879024729 L -73.92060389439649,40.87299108561558 L -73.92056972286971,40.872995205442365 L -73.92055602106612,40.87299877396313 L -73.92052553083963,40.87301698983925 L -73.92049019600584,40.87303219583724 L -73.92045784203485,40.873044471391935 L -73.92042553462319,40.87305452980499 L -73.92038723144306,40.87307266621163 L -73.92035690847123,40.873079785781286 L -73.9203284953404,40.87308988035927 L -73.92030192340005,40.873105905839836 L -73.92029230572714,40.87309841662261 L -73.92027634052245,40.873105978296124 L -73.92025767981508,40.87312122589491 L -73.92022383019784,40.873149805514586 L -73.92019427081462,40.87316590077226 L -73.92016846718042,40.8731683959346 L -73.92015078813229,40.8731821269408 L -73.9201340570572,40.87319283447832 L -73.92012536070219,40.87320874832102 L -73.92010368749709,40.87322176073025 L -73.92008500471883,40.873234746057356 L -73.92006343503769,40.87325378750957 L -73.9200499671979,40.873283329205776 L -73.92001877553854,40.87332357723034 L -73.91999041526302,40.87335399345223 L -73.919981386561,40.87338084897373 L -73.9199717090996,40.87339827820559 L -73.9199579782898,40.87340971350665 L -73.91995560487796,40.87345046513646 L -73.91996685684583,40.873471491190806 L -73.91996014690889,40.873487387635365 L -73.91996152695476,40.873513021258674 L -73.9199657961229,40.87353260110331 L -73.91995200889662,40.87354101173985 L -73.91994924637882,40.873555376077604 L -73.9199446246653,40.87357803854082 L -73.91992890927837,40.87359024423892 L -73.91992699169874,40.87359479249297 L -73.91991209834835,40.8735956758922 L -73.91990536325103,40.87361081913319 L -73.91987352155995,40.87360808148409 L -73.91982885231022,40.87361073199785 L -73.91979301672416,40.87360651215787 L -73.91979277649074,40.87364631105562 L -73.9198322991474,40.87365245042059 L -73.91987188079383,40.87364883629982 L -73.91989957882096,40.87364893292402 L -73.91992525757078,40.87365427378228 L -73.9199419807086,40.87366934602075 L -73.91995774794785,40.873679163240816 L -73.9199536640454,40.87370092413407 L -73.91994859388633,40.87372192311929 L -73.91995447494236,40.87373020517083 L -73.91995934351047,40.87374448584663 L -73.91996224003292,40.87375575929273 L -73.91996707895035,40.87377304095115 L -73.91997384763374,40.87379784119851 L -73.91998163535054,40.87381964449881 L -73.91997464567017,40.87382938110319 L -73.91998543966982,40.87384443330848 L -73.91999878749601,40.87384560517081 L -73.92012987176412,40.87392339120359 L -73.92014481681734,40.87390542651691 L -73.92017044204992,40.87391978034511 L -73.92015549479686,40.87393774218565 L -73.92019591546112,40.87396115934361 L -73.920213821777,40.87394395590924 L -73.92024139479355,40.8739628184367 L -73.92022250884898,40.87397851650827 L -73.92029151637325,40.87401629602325 L -73.92035164809863,40.87405104374181 L -73.9204058454069,40.87408426991438 L -73.92044131562454,40.87410690961583 L -73.92047377562703,40.87413705928911 L -73.92049985349438,40.874160050328136 L -73.92054444499277,40.874145182398706 L -73.92057687274607,40.87418058319007 L -73.92060639037797,40.87420696304537 L -73.92062699165687,40.87423481112878 L -73.92076966714161,40.87417738586548 L -73.92078761461624,40.874178911084435 L -73.92080255630357,40.87419405886671 L -73.92080751306924,40.87421526010002 L -73.92066084429266,40.87427874296893 L -73.92066980301335,40.874296911781215 L -73.92068572694207,40.87432341511575 L -73.92069665918821,40.874348401449424 L -73.92071107412377,40.874387393739724 L -73.92070010598985,40.874391933609445 L -73.92071604571971,40.87440632505265 L -73.92072498444598,40.8744305548209 L -73.9207429085349,40.874451755581894 L -73.92075785117476,40.87446614700445 L -73.92075483429629,40.8744896115246 L -73.92076677770561,40.87451081688585 L -73.92078070500611,40.87453125853108 L -73.9207816924167,40.87453958877674 L -73.92079265694505,40.8745471695053 L -73.92078865109998,40.874563060144766 L -73.92080359467644,40.87457669452627 L -73.92079957959797,40.87459107343411 L -73.92080954431938,40.87460092273841 L -73.92081650482747,40.874613794604365 L -73.92081649581844,40.87462135959191 L -73.92082945415417,40.87462894101479 L -73.92084240240092,40.87464333105764 L -73.9208394026656,40.87465241443046 L -73.92084337428219,40.874664528381615 L -73.92085235584503,40.87466377867907 L -73.9208687955981,40.87467627994878 L -73.92088273221378,40.87468839201985 L -73.92088671102694,40.874704296847284 L -73.92089167392987,40.874720950673385 L -73.92090561548851,40.87473912304896 L -73.92091956358946,40.874751244337055 L -73.92092254079134,40.874761844705624 L -73.92091453517749,40.87478001075023 L -73.9209155100289,40.87479817524274 L -73.92092349157289,40.874799693107754 L -73.92092746229663,40.87481332045578 L -73.92093841813042,40.87482770845206 L -73.9209473691218,40.874842851606786 L -73.92097230770965,40.87484135578918 L -73.9209872399264,40.87486407674111 L -73.92098721924155,40.8748814835157 L -73.92100015808848,40.87489512470689 L -73.92101610565855,40.87490270061615 L -73.92103202290927,40.874934507666126 L -73.92105493692368,40.87496025919656 L -73.9210813353079,40.87497806180441 L -73.92111420160492,40.87501366259353 L -73.92114009384979,40.87504849286101 L -73.92115600330547,40.87507727476155 L -73.92116695696895,40.87509468853009 L -73.92117492688541,40.875106049337276 L -73.92117491342361,40.8751174046912 L -73.92118186508976,40.87513784085068 L -73.92116988845746,40.8751438929738 L -73.92116987769627,40.875152969684855 L -73.92117284868077,40.87516811861998 L -73.92116885342674,40.875175679711205 L -73.92116984179306,40.87518325291782 L -73.92115787665247,40.87518853980351 L -73.92115986015381,40.8751961148627 L -73.92114389543804,40.875203667272686 L -73.92114588498215,40.875206704312134 L -73.92113391038936,40.87520972125545 L -73.92113190442407,40.87522183111017 L -73.92112690618701,40.875234695955164 L -73.92111094462025,40.87523846720646 L -73.92110394084422,40.8752528429074 L -73.92111290364166,40.87526723019341 L -73.92110691408513,40.875276311528346 L -73.92110491037761,40.87528539676058 L -73.92107996422345,40.875292943523746 L -73.92106199576546,40.87530883400249 L -73.92105700109654,40.87531942020213 L -73.92103602209788,40.875343628802675 L -73.9210240353177,40.875367844223504 L -73.9210110576887,40.87537692077087 L -73.92099010857673,40.8753852354942 L -73.92097812109442,40.87540036481033 L -73.9209691304401,40.87541852197356 L -73.92095515364721,40.875429110728305 L -73.92093020805643,40.87543742320585 L -73.92092920057638,40.875446499233504 L -73.92091823046646,40.87545330838508 L -73.92091322183161,40.8754646603152 L -73.92090325515426,40.875466166382594 L -73.92089428451293,40.875457831169996 L -73.92087559199669,40.87546395002325 L -73.92080609644063,40.875477492470154 L -73.92076162738198,40.87545799596892 L -73.9207209780556,40.875434217177514 L -73.92065217843222,40.87540091796674 L -73.92060838741519,40.875386637358346 L -73.9205677100342,40.87538660936736 L -73.92048327708252,40.87534379874337 L -73.92038631582773,40.87531048113843 L -73.92029561592366,40.87527479129848 L -73.92026124477532,40.87523439088345 L -73.92021746382635,40.87521298438484 L -73.92012676655709,40.875174919778004 L -73.92005171240442,40.87513924107552 L -73.9199766486526,40.875110688233214 L -73.91995161400291,40.87511304550615 L -73.91987964506362,40.87511299556325 L -73.91981708805666,40.87509395118042 L -73.91974204739263,40.875046396596055 L -73.91969828107636,40.875013114723075 L -73.91966388172962,40.874996465151774 L -73.91962633653779,40.8749940637038 L -73.91959507734407,40.87496791574742 L -73.91956066367962,40.87496314182455 L -73.91951686588486,40.87495598604185 L -73.91940428333555,40.87490365510755 L -73.91925729092823,40.87484417424393 L -73.91917909122323,40.87482274376552 L -73.91913216427164,40.87481558514246 L -73.91909777317629,40.874791810161085 L -73.91900082276354,40.8747513654788 L -73.91894454965697,40.8747109487898 L -73.91887525897245,40.87467899639264 L -73.91884880921111,40.87461797638491 L -73.91888377880737,40.87455689921214 L -73.91894166292751,40.87451143717742 L -73.9189980756303,40.874437849349576 L -73.91903564984878,40.87441649897155 L -73.91906385401656,40.874380892018834 L -73.91908892442923,40.87435003297071 L -73.91908582428287,40.874326280420725 L -73.91910463835889,40.87429304217896 L -73.91911409750853,40.874233670019706 L -73.91914856074187,40.87419806810215 L -73.91917676964809,40.8741577106799 L -73.91918930667285,40.874141094329694 L -73.9191956364688,40.87408171997083 L -73.91919573460413,40.87400096684586 L -73.91921148010395,40.87391784936912 L -73.91925225908312,40.87383474823529 L -73.9192586234016,40.873746873573324 L -73.91924621050319,40.87366136057485 L -73.91927438318044,40.87365188040206 L -73.91924001060653,40.873613854974934 L -73.91922123918964,40.87361146602822 L -73.919183710112,40.873597189256635 L -73.91915247396933,40.87355204024895 L -73.91909936258196,40.873485499652425 L -73.91905250107655,40.87342608916538 L -73.91899937186732,40.873373799507625 L -73.91892851230503,40.873316510215766 L -73.91891581319177,40.87332441373165 L -73.91889712993498,40.87332690205343 L -73.9188824798226,40.873326891756484 L -73.9188714911105,40.87332771796037 L -73.91886415724905,40.87333438624347 L -73.91886012067621,40.87334077741649 L -73.9188483962036,40.8733441050542 L -73.91883850430476,40.87334604404273 L -73.91882934850314,40.87334520384197 L -73.91882129028238,40.873345754181926 L -73.91881139726203,40.873348249343124 L -73.91879967618041,40.873348797104555 L -73.91878759190432,40.87334712040867 L -73.91877587467614,40.8733443329585 L -73.91876599252413,40.87333793081879 L -73.91875831278342,40.873328194346755 L -73.91874770183591,40.87332040242559 L -73.91873744949812,40.87331678090164 L -73.91872536896742,40.873312046072705 L -73.91871988112793,40.87330703813331 L -73.9187132918374,40.87330453086859 L -73.91871329727574,40.87330008230383 L -73.91871355980643,40.87329293914797 L -73.91871367576151,40.87328979599888 L -73.91870489267862,40.873283395130606 L -73.91869757440794,40.873278385900626 L -73.91869941400373,40.87327143650711 L -73.91870894542372,40.87326504870791 L -73.91871701111317,40.8732583814526 L -73.9187225109606,40.87325338175456 L -73.91872288218981,40.87324921120023 L -73.91872032178873,40.87324642902055 L -73.9187133628724,40.87324642411897 L -73.9187075009716,40.873248088182066 L -73.91869577494424,40.87325197248157 L -73.91867159931012,40.87325390139146 L -73.91865986974125,40.873261399822276 L -73.91865289939686,40.87327001328829 L -73.9186488600856,40.87327862932271 L -73.91864116504259,40.873281959779874 L -73.91863200450743,40.873284455944685 L -73.9186174577788,40.873286355949745 L -73.9186034886986,40.87328601674776 L -73.91858681154709,40.8732778730905 L -73.91857034760125,40.87326269211487 L -73.91856521191372,40.87325127164274 L -73.9185657132393,40.873244678633114 L -73.91856625786384,40.873237509878074 L -73.91855082542601,40.8732221731611 L -73.91853126321536,40.87321308866147 L -73.91852666929822,40.87321323099557 L -73.91851642893576,40.87321354758698 L -73.91850799095097,40.87320650483226 L -73.91850388053983,40.873198212397455 L -73.91849995662199,40.87319171560386 L -73.9184811580041,40.87319561130368 L -73.91844037849654,40.87319735119581 L -73.9184089214903,40.87319732895912 L -73.91839143131342,40.87320881418603 L -73.91839722808336,40.87323181163092 L -73.91841698758448,40.873269853283375 L -73.91844725919262,40.87328667889477 L -73.91849499715504,40.87331147467238 L -73.91853226318013,40.873324766616506 L -73.91859397285,40.873356647541954 L -73.91861259668218,40.873370810660866 L -73.91862886553999,40.87340531307228 L -73.91862765894746,40.87343980316007 L -73.91861247219546,40.87347251468286 L -73.91859729866316,40.87349549732513 L -73.91857283049315,40.87349636441582 L -73.91856116377713,40.87350962181262 L -73.91852735311106,40.873528169694474 L -73.91849587276113,40.87354760406774 L -73.91846904628137,40.87357146281509 L -73.91845390521418,40.87356791470511 L -73.91843877628347,40.87355375403123 L -73.91841198255459,40.873551082702484 L -73.91840148169192,40.873562571698784 L -73.91842475554508,40.873585582669975 L -73.91842473601628,40.87360150067417 L -73.91841772076695,40.873621836670296 L -73.91841071224552,40.87363686605047 L -73.91838740472856,40.87364127133423 L -73.91837340807159,40.873654527063934 L -73.91835241610417,40.873671315254605 L -73.9183279207093,40.873694291767585 L -73.91829527254023,40.873714609612065 L -73.91824631256566,40.87373668459849 L -73.91819852325564,40.87375345377378 L -73.91817869735272,40.87376935840623 L -73.91816235897646,40.873791456313974 L -73.91814717650598,40.873821514215415 L -73.91812269078608,40.873836531179904 L -73.91810403620777,40.87384713068045 L -73.9180589342757,40.87384986798405 L -73.91805165797437,40.87386254546656 L -73.91803715672663,40.87389725829063 L -73.91794108366356,40.87398314781033 L -73.9179290291799,40.87397889320505 L -73.91775468095322,40.874248534566206 L -73.91776990325627,40.87425430384254 L -73.9175772988473,40.87454867854723 L -73.91749921000545,40.8745200785402 L -73.9176906605858,40.874225222183206 L -73.91770931109484,40.87423249407934 L -73.91789032098323,40.87396247825427 L -73.91788506630638,40.87396025014757 L -73.91787144917505,40.87390499528868 L -73.91773016270129,40.87402315972218 L -73.91768683114137,40.87403599474184 L -73.9176208626149,40.874078833506964 L -73.91756808351953,40.87411739290484 L -73.91750587170966,40.87416881145445 L -73.91740413198764,40.87420304735121 L -73.9173005073949,40.874238711782006 L -73.91724588303671,40.87424581981679 L -73.91715920917862,40.87428006629997 L -73.91708950038674,40.8743014593244 L -73.91705554600382,40.874345750232855 L -73.91696700543345,40.874367129813876 L -73.91689732686227,40.874364220211845 L -73.91678994492818,40.874392733782656 L -73.916693855044,40.8744255431514 L -73.91660905444874,40.8744683677399 L -73.91648661730233,40.87448686350915 L -73.91643573932143,40.874509698733384 L -73.91634348667569,40.874523849889684 L -73.91621216322862,40.874503583365296 L -73.91609852720299,40.87450015889183 L -73.91601675124213,40.8745148499584 L -73.91589033125022,40.87451963732436 L -73.91576604987809,40.87452767756278 L -73.91568463084471,40.87452761810513 L -73.91557751037355,40.87451940890477 L -73.91540183736201,40.87450301630733 L -73.91522402146056,40.87448662186818 L -73.91506980141536,40.87444910214069 L -73.91498198606973,40.87442464213993 L -73.91463283278524,40.874326621096785 L -73.91422167905834,40.87419960364561 L -73.91419784904609,40.87418935531254 L -73.91399706226329,40.874126285457734 L -73.91390273849174,40.87409570017488 L -73.91358513705576,40.874025379785934 L -73.91349743189797,40.8739883205172 L -73.91334510510175,40.8739442154148 L -73.91329373384129,40.87393558642626 L -73.91324890693507,40.87392050248735 L -73.91319419253641,40.87388538089334 L -73.91314256425338,40.87386085272353 L -73.91309558920298,40.8738457490155 L -73.9130399794851,40.87383382154804 L -73.91298019756998,40.873835355219256 L -73.91288986719734,40.87382589523732 L -73.91273154133037,40.873795081750984 L -73.91261073308553,40.87375731612309 L -73.91250279259326,40.8737194123703 L -73.91228918621314,40.87362890431887 L -73.91207818471493,40.87352463417906 L -73.9116381573252,40.87330236484525 L -73.91157791409435,40.873271587474335 L -73.9115151612332,40.87323662962531 L -73.91142596184433,40.87318176665243 L -73.91135878271294,40.873127757135364 L -73.9113050346001,40.87309198489037 L -73.911274316958,40.87306352176129 L -73.91122441407799,40.873027751932035 L -73.911190844095,40.872984707407646 L -73.91118411250179,40.87298835104212 L -73.91117450708145,40.872984695839016 L -73.91118028522128,40.872974487926065 L -73.91116685503187,40.87295625059997 L -73.91115342819134,40.87294311015751 L -73.9111035404607,40.872884734920774 L -73.91109971709048,40.87286796411065 L -73.91110454354371,40.87285119879122 L -73.91108439239629,40.872826382848295 L -73.9110556063183,40.87280083939585 L -73.9110364351832,40.87277165671131 L -73.91103934599356,40.87274832469677 L -73.91101247147321,40.872722053647266 L -73.91099234251048,40.87268995213571 L -73.91098084741257,40.87266004479442 L -73.91096742522559,40.872643995466206 L -73.91096169269252,40.87261701014663 L -73.91094440549769,40.87260824457526 L -73.91091466885949,40.87257394694844 L -73.91083211635896,40.87251773773559 L -73.91076303115126,40.87245206311462 L -73.91069663181793,40.87236327354688 L -73.9106688625046,40.872318082527656 L -73.91064877277744,40.87229624896322 L -73.91064402620886,40.87226205286493 L -73.91060004692929,40.87218492862947 L -73.91056469338133,40.8721165358204 L -73.91054082062277,40.87205832757496 L -73.91053797212396,40.87203359781727 L -73.91055333016209,40.87201833833693 L -73.910544749547,40.87198632794732 L -73.91051802379026,40.871906298801406 L -73.91049514192565,40.87182555244867 L -73.91048468158365,40.87176153752588 L -73.9104792010068,40.87172972503377 L -73.91047284244465,40.87169568481076 L -73.91046075952977,40.87164240583758 L -73.9104532583538,40.871576831892476 L -73.91044754306458,40.871501871013976 L -73.910442654861,40.871490371296865 L -73.91042644048507,40.87148543806209 L -73.91042903752812,40.87146595331219 L -73.91044420430079,40.87146367102507 L -73.91044955631057,40.871436228227175 L -73.9104510707769,40.87140665306747 L -73.91044615186593,40.87139370693375 L -73.91043363570449,40.871380816384274 L -73.91044770536611,40.87136628313322 L -73.91046468617837,40.87135678218173 L -73.91047292046964,40.871332202072054 L -73.91049367311835,40.871320512675396 L -73.91051165045894,40.871315333575545 L -73.91052094065151,40.8712986744288 L -73.91054357762047,40.871286247540695 L -73.91055942169079,40.87126161251264 L -73.91055064917796,40.871244362915775 L -73.9105580894439,40.87123204837851 L -73.91057828495444,40.87117709272944 L -73.91058957073513,40.87116834806754 L -73.91060159516293,40.87114301669637 L -73.91061845542372,40.871124140711686 L -73.91065000065666,40.871065493426066 L -73.91065177797206,40.871055381779335 L -73.91066110163463,40.871042338460946 L -73.91068192829887,40.87103640802222 L -73.91069406395991,40.871019736153606 L -73.91070326135413,40.87099586338307 L -73.91071625722165,40.87097197210777 L -73.91072355879896,40.870948836142055 L -73.91071412003852,40.870922542819386 L -73.91069983355028,40.87090424328831 L -73.91067793650103,40.87087279033146 L -73.91067907069404,40.87084726054986 L -73.91069072329385,40.870829069544406 L -73.91069182369068,40.870808652535686 L -73.91071594812257,40.87079341790727 L -73.91071898793236,40.87076935911034 L -73.91072680697492,40.87074968959309 L -73.91073765208677,40.870709610586175 L -73.91074561095417,40.870668789396866 L -73.91072557297346,40.870647557956346 L -73.91074991771993,40.8705995017302 L -73.91075287037893,40.87058856644231 L -73.91075680633539,40.87057472689978 L -73.91075212343644,40.87055792625724 L -73.91076090304617,40.87053680656384 L -73.91076400877421,40.87050471860941 L -73.91074892704977,40.8704594276769 L -73.91075573481265,40.87044851564055 L -73.91077222692824,40.87042523198585 L -73.91075887769867,40.87040912941064 L -73.9107630768279,40.870355891693784 L -73.91076811226276,40.87032162642722 L -73.91076453224827,40.87028221422459 L -73.9107483141362,40.87026464661895 L -73.91076966625725,40.87023336096932 L -73.91077272650081,40.8702063752237 L -73.9107796756165,40.870174302300356 L -73.91078077308441,40.870152421303224 L -73.91080419957592,40.87009925758236 L -73.91080160534324,40.87005474657555 L -73.91080176628994,40.870030676166635 L -73.91080953728985,40.87001975884007 L -73.91080487714844,40.86999785697454 L -73.91081280366797,40.8699621376616 L -73.91081583350989,40.86993953294999 L -73.9108091403541,40.869935135827966 L -73.91082662573861,40.869907483262736 L -73.91083344968999,40.86989218196468 L -73.9108335617768,40.8698754103244 L -73.91085003458663,40.86985504254572 L -73.91085019100315,40.869831704040145 L -73.91084158440086,40.86982510452517 L -73.91084068977307,40.8698148854369 L -73.91085426331354,40.869797424788274 L -73.91086020406853,40.86977192233386 L -73.91087677451424,40.869736969408635 L -73.91086238292331,40.86973253384401 L -73.91087307742401,40.86971507046635 L -73.91088289148198,40.86968519379486 L -73.91088400870697,40.869660395230426 L -73.9108533419753,40.86964860774661 L -73.91087643987264,40.86964285241252 L -73.91089674542107,40.869623963128646 L -73.9109094229351,40.869596293267506 L -73.9109239562781,40.869579566766525 L -73.91091538027257,40.86956859677408 L -73.91091647993143,40.86954816937166 L -73.91092519658253,40.8695379970709 L -73.91091855656165,40.86952410714023 L -73.91094089748808,40.86948917507609 L -73.91094691671447,40.86945199565636 L -73.91092491224234,40.869436591354166 L -73.9109558266559,40.869411177355296 L -73.91098662221378,40.86940546027058 L -73.9110086359316,40.86941940058512 L -73.91103936514624,40.86942170460184 L -73.9110577159244,40.86940865178949 L -73.91113245415124,40.86944176265586 L -73.91118903577511,40.869458762387886 L -73.91125611683213,40.86948747131046 L -73.91130402042972,40.86951027266754 L -73.91134621371631,40.86952428990728 L -73.91138177390292,40.869522973352574 L -73.91143962214097,40.8694947447472 L -73.9114637661276,40.869476601608376 L -73.91147448899112,40.86945475763836 L -73.9114718867,40.8694131635453 L -73.91146347606924,40.86937738223019 L -73.91142415779098,40.86936409797492 L -73.91141653489743,40.869354585028034 L -73.91140021862081,40.86935160432967 L -73.91139354527341,40.869344281300286 L -73.91135803466575,40.869336123635776 L -73.91135530830272,40.86931349656078 L -73.91112244509756,40.86921411419698 L -73.91111690871274,40.86917907552043 L -73.911096730675,40.869178997992755 L -73.91106125751293,40.8691671909452 L -73.91103057950258,40.869155402996014 L -73.91105489313914,40.86911171851606 L -73.91107529676344,40.869078242882566 L -73.91107925214632,40.86906147587652 L -73.91107553160974,40.86904322624036 L -73.91109290713959,40.869031622916395 L -73.91109202710106,40.869019219005324 L -73.91111871768759,40.86900617042999 L -73.9111336600876,40.868972692254175 L -73.91112035244564,40.868952209860396 L -73.91113932222595,40.86893376695671 L -73.91112890881764,40.86892004366402 L -73.91114259196213,40.868895013202774 L -73.91114869895938,40.86888021524042 L -73.9111652354321,40.86887685523218 L -73.91119985851088,40.86886445234705 L -73.91125094701938,40.86886122595798 L -73.91128256771995,40.868847673374 L -73.91130374286968,40.868824947570964 L -73.91132817758825,40.868802439535806 L -73.91133483134591,40.8687853490966 L -73.91133742099743,40.868774273964746 L -73.9113297074864,40.86875863646893 L -73.91133402644391,40.8687403958655 L -73.911325479081,40.86871823739931 L -73.91133149891803,40.8687052112504 L -73.91132553554417,40.868675895507614 L -73.91133500160292,40.86865765936168 L -73.91135046077648,40.8686465952899 L -73.91134705123683,40.86862379245799 L -73.91135909150225,40.86860621531272 L -73.91136427055318,40.86858340919448 L -73.91139004972898,40.86856324012876 L -73.9114098549045,40.86851308940593 L -73.91141932680453,40.868491593092294 L -73.91144165907032,40.86847662530264 L -73.91148208144206,40.86840825517568 L -73.91149242138637,40.86837503525783 L -73.91149244825749,40.868354846413176 L -73.91150538755132,40.86830338506659 L -73.91151485871009,40.86828123925714 L -73.91152432337296,40.86826496612778 L -73.91153547484777,40.86826431698232 L -73.91154065941298,40.86824542871923 L -73.91158019244973,40.86820376706924 L -73.91160166210442,40.86818619712242 L -73.9116248556219,40.86817448074004 L -73.91165319817485,40.868154304866245 L -73.91166781354119,40.868135424319775 L -73.91171163038062,40.868100284557975 L -73.91172833168766,40.86807448891025 L -73.911731920643,40.86806062376705 L -73.91173006189783,40.86804016393437 L -73.91173383481922,40.868030179937016 L -73.9117256975957,40.86803017371231 L -73.91172571085211,40.86802018750912 L -73.91172510380613,40.86800353710156 L -73.9117364014255,40.867991172662684 L -73.91173516231122,40.867977385074695 L -73.91175522501952,40.8679659830569 L -73.9117527627056,40.8679350577684 L -73.91176907763847,40.8679131878876 L -73.91178038282345,40.86789560192562 L -73.91179668040857,40.867895614384445 L -73.91180859604,40.86788230457583 L -73.91179420262444,40.86786802111714 L -73.91179676558265,40.8678314000352 L -73.91180556034557,40.86781047961647 L -73.91182376049063,40.86778908927899 L -73.91184571092018,40.867776255863376 L -73.91187101089486,40.86775948971889 L -73.91188960227124,40.867747752847784 L -73.91189225260952,40.86772591741019 L -73.91191159865878,40.867700205672485 L -73.91184774646815,40.867672520472524 L -73.911992967857,40.8675058345256 L -73.91209755267185,40.86737319112117 L -73.91222962953464,40.867215462194096 L -73.91245215298926,40.866940558770565 L -73.91261754676016,40.86673955984178 L -73.9127317391952,40.866605212711335 L -73.91255219352705,40.86652862429221 L -73.91254775130282,40.86651494300435 L -73.91282859693645,40.86615711135715 L -73.9131201510073,40.86578124232256 L -73.91351997708153,40.865267471169574 L -73.91384485056732,40.86484833859211 L -73.9139186313324,40.86474558440363 L -73.91393526952015,40.864739284545 L -73.91403866833014,40.86471050057715 L -73.91416821692972,40.86466640141026 L -73.91425257819598,40.86464572510953 L -73.91431200712508,40.86462502269584 L -73.91438922696749,40.86462417974637 L -73.91492387927869,40.86458037891917 L -73.91492863719179,40.864569566633676 L -73.9145403762602,40.86441235162341 L -73.91447397606235,40.86431128599497 L -73.91441113392682,40.86417362687301 L -73.9150440759955,40.86443672160775 L -73.91507404941315,40.86444650490865 L -73.91508583854333,40.864448143417334 L -73.91516833371693,40.864439253673766 L -73.91525511928828,40.86443362601676 L -73.9154318971828,40.864418303553684 L -73.91542869731134,40.864407729160725 L -73.91543408398833,40.86438740099785 L -73.91545872397433,40.86438416826823 L -73.91545342726539,40.86433373658386 L -73.91563236347669,40.864309472676915 L -73.9156387430054,40.864348514076696 L -73.91566444392173,40.86435015331551 L -73.91571159105568,40.86434286767676 L -73.91575872905163,40.86434209078704 L -73.91581658566602,40.864334812253695 L -73.91586052063037,40.86432590208429 L -73.9158991164586,40.864308037582525 L -73.915922708197,40.86428040140227 L -73.91593561439072,40.86424218421195 L -73.91593138049883,40.864203964584384 L -73.91592605810223,40.86417305587669 L -73.91589824230898,40.86414619254087 L -73.9158714806572,40.864129090533055 L -73.91585434906497,40.8641225769717 L -73.9158326451179,40.86411430895354 L -73.91579009737801,40.8641030076246 L -73.9157418999245,40.86409647019711 L -73.91572596025574,40.864095625296315 L -73.9156672828416,40.86408664891997 L -73.91561569079903,40.86407535683063 L -73.91558377690818,40.86407065104812 L -73.91553872985283,40.86406681852446 L -73.91549340827925,40.864066193949924 L -73.91543982630459,40.864078356575014 L -73.9154055421182,40.8640815822304 L -73.91538444080844,40.86408030145591 L -73.91537454216409,40.864079700829585 L -73.91535981968605,40.86407728972314 L -73.915345791037,40.86407312910843 L -73.9153328144197,40.86406732522119 L -73.91532122117442,40.86406002625593 L -73.9153113073186,40.8640514185819 L -73.91530571218352,40.86404293928336 L -73.91529828258449,40.864035315146836 L -73.91528923914939,40.86402877257655 L -73.91527885042993,40.864023505858846 L -73.91526742492674,40.86401967139259 L -73.91524067177396,40.8639960681748 L -73.91521584698324,40.863975952188575 L -73.91519574800158,40.86394522423333 L -73.915188031063,40.86389774351621 L -73.91518505954295,40.86387946053971 L -73.91518192994813,40.863860203634964 L -73.91518119486989,40.86384311506678 L -73.91517880018044,40.863787451908266 L -73.91517693846853,40.86374418702442 L -73.91517656557136,40.863735519439196 L -73.91517539779132,40.86370838569872 L -73.91517556429707,40.86368043375096 L -73.91520071079606,40.86365218622611 L -73.9152181857278,40.86364108139578 L -73.91525443919681,40.86361804378021 L -73.91529676393401,40.863598644019255 L -73.91530810246223,40.86359047369597 L -73.91534455813901,40.86356420568443 L -73.91536190015128,40.86354723256717 L -73.91537404288232,40.86352873067106 L -73.9154165736364,40.8634479063176 L -73.91542702548197,40.863429170989 L -73.9154686342927,40.86336249762313 L -73.91547682444254,40.863346107296785 L -73.91548516464098,40.86330071782068 L -73.91547306854314,40.863280330608646 L -73.91545987478219,40.863257073924906 L -73.91545061536708,40.86323298451724 L -73.9154549655414,40.863208457292416 L -73.91542295700886,40.86319418063088 L -73.91541083335669,40.86319548646498 L -73.91534506689425,40.86316454227487 L -73.91541096127453,40.86309491906989 L -73.91538673051143,40.863084384200725 L -73.91544970533428,40.86300651049483 L -73.91549965939653,40.862938127790976 L -73.91552015328243,40.86291007496552 L -73.91556578044948,40.86293107187452 L -73.91557595266745,40.8629161042567 L -73.91556299694946,40.86290925112096 L -73.91557991520052,40.86289599834804 L -73.91558892372522,40.86290113868554 L -73.91559964505785,40.862892159246975 L -73.91559401542851,40.86288915679962 L -73.91560361016748,40.86287975337305 L -73.9156182725241,40.862878908221205 L -73.91567199779993,40.862902427878055 L -73.91568204906041,40.86289390578286 L -73.91569323361941,40.862879818893475 L -73.91571907457876,40.86285286453554 L -73.91578014796727,40.86278915736015 L -73.91581868929798,40.86275125154469 L -73.9158388384917,40.86273143418332 L -73.91585768842077,40.86271494020021 L -73.91586450572585,40.86270897498162 L -73.91586962339933,40.86270449596135 L -73.91593363168728,40.86264848769429 L -73.91595185469623,40.86263145532202 L -73.91595260030212,40.86263075695855 L -73.91610517927772,40.86248814480868 L -73.91616935439097,40.86244126034392 L -73.91620484946901,40.86242128604055 L -73.91622522141259,40.86240541779584 L -73.91627635012748,40.86236559143215 L -73.91639175003208,40.862275702276285 L -73.91640019183053,40.86226912657571 L -73.91642605482267,40.862248980549154 L -73.91649196679447,40.86219763869991 L -73.91652512043842,40.86218050396301 L -73.91653438522638,40.862175715649975 L -73.91656892746097,40.862157863900656 L -73.91659639029278,40.86214637960493 L -73.91660191778598,40.862141955293055 L -73.91661720458559,40.862129720063166 L -73.91663823024993,40.862112890466776 L -73.91664696334848,40.86210590050614 L -73.91666173979021,40.86209363474742 L -73.91672483714159,40.86204125761559 L -73.91673206785221,40.86203473043573 L -73.91674689045284,40.86202134865994 L -73.91675431445417,40.862014645383766 L -73.91676153411382,40.862008128077925 L -73.9167811300425,40.861990437862374 L -73.91678584948336,40.861986175958826 L -73.91679534822488,40.86197760126726 L -73.91685100780673,40.86196360881363 L -73.91687889367472,40.86195358002897 L -73.91692039865941,40.86193172704062 L -73.91695815503745,40.86193325556354 L -73.9169843735389,40.86192504083438 L -73.91700967075883,40.861912786955536 L -73.91701546163455,40.86190998158955 L -73.91705129801854,40.861892622976534 L -73.91706909419595,40.861878268982046 L -73.9170913596197,40.86186030823949 L -73.91715278759457,40.86181076114896 L -73.91723056919928,40.861736543731176 L -73.91727034392633,40.86169469967217 L -73.91729467741682,40.861679418230665 L -73.91734277917358,40.86161732807045 L -73.91737841920235,40.861570977988194 L -73.91740810708946,40.86153273761928 L -73.91740994469343,40.86148637270632 L -73.91746019820951,40.86142946988307 L -73.91748061393727,40.861398634589385 L -73.91750401182637,40.86136332486965 L -73.91751560442475,40.86134992476953 L -73.91753292728922,40.86133573604435 L -73.91754749618079,40.8613231312905 L -73.91756413342257,40.86130683529901 L -73.91757176600538,40.86129211697166 L -73.91759256564345,40.86127636471443 L -73.91761405307712,40.86126112556548 L -73.9176563633175,40.86122119177236 L -73.9176882562444,40.86119282169399 L -73.91772917654824,40.86114499922026 L -73.91778534143998,40.86109350426293 L -73.91780823442265,40.86106355285191 L -73.91782702380148,40.86104278280529 L -73.91782221945574,40.86102443659891 L -73.91783553765003,40.86099693592743 L -73.91782468139057,40.86098042213541 L -73.91782136420322,40.86094890179113 L -73.91784103780017,40.86093144631548 L -73.91786115746805,40.86090065580491 L -73.91786536368916,40.86088446784968 L -73.91787707054966,40.8608838360767 L -73.91788211332283,40.860873673855636 L -73.91790472454431,40.86084987200053 L -73.91790211673528,40.860839613202 L -73.9179219058387,40.86082542617212 L -73.91792234646307,40.86081399922547 L -73.91788387387612,40.86080222127065 L -73.91792828566334,40.86074989768187 L -73.91795061771649,40.860731985231965 L -73.9180522105659,40.860621098438905 L -73.91826264968338,40.86040482431122 L -73.91843439251785,40.86022153339531 L -73.91836074527978,40.860195809044114 L -73.91837648027335,40.8601701380299 L -73.91838738720121,40.86013529689529 L -73.91839903543254,40.86009619700584 L -73.91839311217645,40.860080469421945 L -73.91841071714774,40.86004867742149 L -73.91842828384398,40.86005689261707 L -73.91843100240952,40.86004561218511 L -73.91843508111562,40.86001791560627 L -73.91845133777636,40.85999124584132 L -73.91846755096886,40.85999228321193 L -73.91849190290448,40.8599707606168 L -73.9185000296487,40.85995024476261 L -73.91852845077696,40.85991845921069 L -73.9185595395527,40.85990719830255 L -73.91858793825692,40.85989387310943 L -73.91861094928423,40.85986311080419 L -73.918604223591,40.85983540709898 L -73.91860966058996,40.85981180808427 L -73.91862051432193,40.85978206428487 L -73.91864215241512,40.8597677166058 L -73.9186665028499,40.859739008230555 L -73.91867866057473,40.85974824666031 L -73.91869488994594,40.859734921573754 L -73.91869354554879,40.85972877034597 L -73.91870302556352,40.85971645820538 L -73.91868681416331,40.85970516392412 L -73.91873839393091,40.85964830753153 L -73.91872079932342,40.859642224933616 L -73.91880140046707,40.85955809573271 L -73.91877796600097,40.85954675081398 L -73.91888577964981,40.859439163497285 L -73.91890338201657,40.85941804164177 L -73.91900350576377,40.859313465901096 L -73.91913611131909,40.859172992340035 L -73.9192321799137,40.85907661750326 L -73.9193377208542,40.85896383310174 L -73.91940131157715,40.858899249081404 L -73.91943853541449,40.858855421344025 L -73.91948096295053,40.858813937358455 L -73.91950213660927,40.858791133790525 L -73.9195234232406,40.858783633714545 L -73.91954564190209,40.85879161544391 L -73.91954627335295,40.8587985779833 L -73.91980771609529,40.85891081244993 L -73.92008353369317,40.85902456583115 L -73.92027570855234,40.85910140282121 L -73.92026652422767,40.85911033099183 L -73.92034495747804,40.8591432567476 L -73.92039805137149,40.85916150182793 L -73.92041299163446,40.85914655130386 L -73.92043467150586,40.85912094659172 L -73.92044466588725,40.85912449257974 L -73.92046134307469,40.85910326112523 L -73.92032551794722,40.859043492109905 L -73.92026958923756,40.859018671592 L -73.92024228428149,40.85901106140354 L -73.92020833439089,40.858995864678455 L -73.9201983463336,40.858987258634464 L -73.92009647993564,40.85894521618598 L -73.9200691729343,40.85893861494755 L -73.9199566565892,40.858886443576495 L -73.9199353497549,40.85888086367005 L -73.9199087158952,40.85886719354684 L -73.91984679689206,40.858843882069564 L -73.91977223409496,40.85880185829855 L -73.91977424610863,40.85879477229118 L -73.9198414912715,40.85882719172707 L -73.91991539174754,40.85885859854213 L -73.91996200375146,40.85887836026848 L -73.92007317233627,40.8589263439596 L -73.92047868273164,40.85910409209888 L -73.92043089498738,40.85915500079307 L -73.92044055434958,40.85916101282759 L -73.92043350742901,40.85917235515503 L -73.92050906689413,40.859205103755095 L -73.92050818037748,40.859212450713784 L -73.92061976769563,40.85925924508328 L -73.92065316209782,40.859263265996475 L -73.92067070680031,40.859289977915275 L -73.92069792257469,40.85932403533708 L -73.92069348890543,40.85935139804835 L -73.92074793277065,40.85939815249681 L -73.92081547121326,40.859522998821745 L -73.92082481039876,40.85953762397844 L -73.9209663898829,40.859759363327626 L -73.92107166676902,40.85993630055113 L -73.92120245201025,40.860098568838794 L -73.92127091296314,40.86018804281673 L -73.92132187073454,40.860214110516864 L -73.92134032213029,40.860216789397185 L -73.92134560571338,40.860212785676445 L -73.92136406183823,40.860211465442106 L -73.92139397626869,40.86019080173546 L -73.92143091729884,40.86017480665242 L -73.9214590637499,40.860162813899045 L -73.92151623522292,40.86013081281597 L -73.92151624388411,40.860123473462295 L -73.92154265042426,40.86009880067786 L -73.92155671740977,40.860099476650014 L -73.92159014848228,40.86007280002692 L -73.92163335462689,40.85996404097667 L -73.92166068449616,40.85989065086137 L -73.92168799950892,40.85983994521577 L -73.92170654327624,40.85976520810072 L -73.92171803927076,40.859711825914104 L -73.92170136023321,40.859693795630506 L -73.921710175143,40.859672442400786 L -73.92173654090283,40.859672460288536 L -73.92173832622473,40.85964710317347 L -73.92172252011011,40.85963373783409 L -73.9217040673148,40.8596310601862 L -73.92168648450196,40.8596357219835 L -73.92169705737565,40.85961169543944 L -73.92168123846965,40.859609019072835 L -73.92166455789798,40.85959232159733 L -73.92167072779482,40.859580979772915 L -73.92166897017356,40.85957230640457 L -73.92164788416537,40.85957094989084 L -73.9216487848248,40.85955093348663 L -73.92169009920312,40.859547620619736 L -73.92173052181315,40.85955566202526 L -73.92171996443375,40.85956766728362 L -73.92175425140597,40.859569023356244 L -73.92174017250262,40.85957969408342 L -73.92175862854255,40.859579040193275 L -73.9217692081425,40.859559019797494 L -73.92180348498401,40.859559043033805 L -73.92180349832373,40.85954769753201 L -73.92181669341474,40.85954236583365 L -73.92181579426122,40.85956039357193 L -73.92183337804897,40.85955506534811 L -73.92183602852774,40.859540380214554 L -73.9218395729169,40.85952169724197 L -73.92182640001633,40.859508343081636 L -73.92180092710002,40.859494971705054 L -73.92178421372903,40.859496968979485 L -73.92178423413667,40.85947961643428 L -73.92178951542857,40.85947561218862 L -73.92179128111253,40.85946693300164 L -73.92178337916783,40.859460255362094 L -73.92177813999356,40.85943689270543 L -73.92175531523212,40.85941085366667 L -73.92174475909623,40.859411511742096 L -73.92172807855678,40.859394815447864 L -73.92173862702762,40.8593914811851 L -73.92174216515193,40.85937813885152 L -73.92178084462995,40.859376165858485 L -73.92180105814842,40.85938351774833 L -73.92181422123245,40.85939487385557 L -73.92184589125206,40.859382881718936 L -73.92182743857516,40.85937152320413 L -73.92179318314092,40.85935281461507 L -73.92180638758404,40.859328799224905 L -73.9218362834467,40.85932347934409 L -73.92184158900832,40.859300124503136 L -73.92185654400586,40.85929078717138 L -73.92185568980084,40.859270760194725 L -73.92186363617589,40.85924073418791 L -73.92187159464825,40.85920002858196 L -73.92186633783712,40.85918133964723 L -73.92184878326538,40.85916264238282 L -73.92181013137603,40.859141256311354 L -73.92182860052966,40.85912859049983 L -73.92181807326544,40.85911523813005 L -73.92179523134098,40.859103875462445 L -73.92175392059856,40.85909383425407 L -73.92171348569525,40.85909647245444 L -73.92170031211967,40.85908378468562 L -73.92168362346402,40.859074434775344 L -73.92167133304652,40.85906707886244 L -73.9216563779765,40.85907574909292 L -73.92164144199631,40.85906840076168 L -73.92162299102333,40.85905570001836 L -73.92157640358266,40.8590550019536 L -73.92156323476758,40.85903830684868 L -73.92153688128283,40.85902828444121 L -73.92151667805082,40.859011584044225 L -73.9214964754598,40.859005564926385 L -73.92148241816888,40.858996873803385 L -73.92145693841954,40.85898017097749 L -73.92143674687571,40.858964812603055 L -73.92141478438384,40.858952109434966 L -73.92140688831232,40.85893942522683 L -73.92139545451538,40.858940083845084 L -73.92138491884857,40.85893207207077 L -73.9213620792983,40.858919377006146 L -73.92134098678923,40.85891269034433 L -73.92132253891837,40.85890733762702 L -73.92130672674394,40.85889931286587 L -73.92129619437267,40.85887995389817 L -73.92131378782533,40.85887529166453 L -73.92134542016285,40.85888532760607 L -73.92137001739772,40.85889669038688 L -73.92138847158147,40.85889670296222 L -73.92137003870111,40.858878671432926 L -73.92133313153417,40.85886663385188 L -73.92130940178662,40.858863943160905 L -73.92127775129012,40.858869261708314 L -73.92125580136796,40.85884655352705 L -73.92123913926534,40.85881451204283 L -73.92123916377065,40.858793819252135 L -73.92124971927124,40.858784488376116 L -73.92125502240951,40.858763131608 L -73.92126384154847,40.85873710468042 L -73.9212568347568,40.85871508298699 L -73.92123928232209,40.85869371179084 L -73.92121027761029,40.85868901775314 L -73.92118832732737,40.85866631123327 L -73.92117253002353,40.85864561584181 L -73.92113298285734,40.85863890715001 L -73.92110400043433,40.85861619463396 L -73.92110930043289,40.85859751288118 L -73.92112073232227,40.858588183285995 L -73.92110317429258,40.85857215153369 L -73.9210891142833,40.85856680177913 L -73.92108561693331,40.85855611977913 L -73.92107155243096,40.85855344452821 L -73.92110236769079,40.85851275393423 L -73.92111383643032,40.85847271718301 L -73.92112177944222,40.85844535685081 L -73.92109189655196,40.8584413290928 L -73.92108224017778,40.85843265148387 L -73.92106819230465,40.85841728803171 L -73.92106558355208,40.85839726855678 L -73.92105857633933,40.85837457173086 L -73.92107355499476,40.85834521632242 L -73.92107885124759,40.85832986610285 L -73.92105864446825,40.858317173447624 L -73.9210788726283,40.8583118483198 L -73.9210876764655,40.85829984124805 L -73.921063950884,40.85829381914129 L -73.9209971288288,40.85830377722351 L -73.9209874801556,40.85828975896986 L -73.92094165735575,40.85828441491408 L -73.92092950082893,40.858255014122946 L -73.92091459857728,40.85821896714031 L -73.92093869016952,40.85812067446152 L -73.92114396589061,40.85755122405766 L -73.92122323658648,40.85752233035383 L -73.9213047520937,40.857420651433195 L -73.92136378026868,40.85739996486135 L -73.92140169782748,40.85738959755393 L -73.92145963506647,40.85736725288178 L -73.92151967268634,40.85734890638007 L -73.9215555046349,40.85732175059627 L -73.92158397060004,40.857289791927705 L -73.92159242598987,40.85726341560266 L -73.92158614447962,40.85723223373977 L -73.921579852046,40.85721144384186 L -73.92155849622625,40.857152702522896 L -73.92155857155751,40.857088830629145 L -73.92159160704566,40.857065154233446 L -73.92161794209794,40.85705477965238 L -73.92164638409345,40.85704360657241 L -73.92166323981638,40.85703562380643 L -73.921703268055,40.85702126106149 L -73.92174434054147,40.857013294715735 L -73.92180121504491,40.85699894336225 L -73.92183702160173,40.85699257192151 L -73.92186334597855,40.85699179049926 L -73.92188651896566,40.85698461123257 L -73.92190021806371,40.85697502728468 L -73.92191814231161,40.85695425312494 L -73.92194132896716,40.85693428361941 L -73.9219697849263,40.85691111831296 L -73.92204492215852,40.8568541600868 L -73.92207464948137,40.85677949124107 L -73.92215747202285,40.85676624747644 L -73.92216865147306,40.8567384468189 L -73.92214637159925,40.856726340288645 L -73.9221097526092,40.8567202706607 L -73.92216714728863,40.85666348247122 L -73.92221972249551,40.856641754136454 L -73.92224682582777,40.85661396420517 L -73.92229299127169,40.856627294984804 L -73.92233282523728,40.85660797655008 L -73.92237695742354,40.85658356962487 L -73.92237142624975,40.85628034165378 L -73.92234465187754,40.85625312253749 L -73.92237468647139,40.85621505347316 L -73.92237580865435,40.855978349455526 L -73.92234459374129,40.85568233581489 L -73.92234217898556,40.855685461012705 L -73.9223363626243,40.855692987439305 L -73.92232971276334,40.85570159315992 L -73.92232888081071,40.85570267128262 L -73.92232785330076,40.855704001731354 L -73.92219572192126,40.85587499055048 L -73.9221787422939,40.85589696519636 L -73.92218117594757,40.855899953108946 L -73.9221829564415,40.855903194713854 L -73.92218404128785,40.85590660873359 L -73.92218440300834,40.85591010854011 L -73.92218403221781,40.85591360667989 L -73.92218293740302,40.8559170153764 L -73.92218114624356,40.85592024904392 L -73.92217870362477,40.85592322545867 L -73.92217567339671,40.855925870953456 L -73.92217212888963,40.85592811806578 L -73.92216815974797,40.85592991040071 L -73.92216386729518,40.85593120413546 L -73.92215935791673,40.85593196633965 L -73.92215474438098,40.85593217732161 L -73.92215014297047,40.85593183112892 L -73.92206335132524,40.85605391178445 L -73.92207704565459,40.85605913536596 L -73.92195201468982,40.856236990447286 L -73.92187322153121,40.85634966205611 L -73.9218876011372,40.856355133723305 L -73.9218175009566,40.85645422436567 L -73.92183549330603,40.856462141312505 L -73.92176508454413,40.85656586859017 L -73.92177019744699,40.8565678943987 L -73.92169841904696,40.856672301854985 L -73.92151894059089,40.85660117062322 L -73.92159078705228,40.856496661134216 L -73.92159696512884,40.85649911033572 L -73.92167181691566,40.856394016002604 L -73.92168970374028,40.85640064347365 L -73.92175965629761,40.85630468180851 L -73.92182325044611,40.85632912586354 L -73.92202956731796,40.85604005504778 L -73.92204171700529,40.85604505428095 L -73.922129095313,40.855922629274446 L -73.92212701759897,40.85591940891109 L -73.9221256357995,40.85591597710042 L -73.92212498555787,40.85591241896838 L -73.92212508375181,40.8559088295121 L -73.9221259252049,40.85590529550517 L -73.92212749215768,40.85590190957598 L -73.92212974214688,40.85589875797039 L -73.92213261947896,40.85589592022433 L -73.92213604839013,40.855893469326816 L -73.92213994408353,40.85589146720418 L -73.92214420566864,40.85588996488294 L -73.9221487254294,40.8558890013233 L -73.92215338838699,40.85588859990089 L -73.9221580751638,40.855888772094275 L -73.92218505751363,40.855847415549746 L -73.92221895084695,40.85579546579653 L -73.92223557106612,40.85577118645102 L -73.92225931710539,40.855725615667446 L -73.92227219913906,40.85570089187078 L -73.92228113774074,40.85568693163897 L -73.92228832283226,40.855675713420034 L -73.92228837057604,40.85567563940687 L -73.9222961101451,40.85566383522922 L -73.92227873064483,40.85565498884379 L -73.92240035875284,40.855510055974406 L -73.92266929695293,40.85517977496078 L -73.92281985673772,40.85498867651126 L -73.92290114139594,40.854885505308744 L -73.92313298516514,40.854589470317784 L -73.92341584183623,40.854225806362194 L -73.92360595220678,40.85397719803468 L -73.92400939220512,40.85343695391796 L -73.9244406513995,40.852840472704415 L -73.92467021184014,40.85250663957788 L -73.92497396914042,40.8520709093696 L -73.92502191229718,40.85202171042404 L -73.92503326859803,40.85199378494464 L -73.92507294866866,40.8519422207045 L -73.92510980271015,40.851892817511036 L -73.9251466652887,40.851836955946816 L -73.92515518101455,40.85181547591901 L -73.92517217729039,40.85180259232934 L -73.92521754031061,40.85173813710851 L -73.9252770793833,40.85164791120239 L -73.92529694152806,40.85160708670485 L -73.9253479660684,40.85153834833887 L -73.92542451604866,40.85142233424442 L -73.92548973032311,40.851326734389225 L -73.92553224547362,40.85127303036421 L -73.92554359303259,40.85124295131129 L -73.92563999034626,40.85109901651002 L -73.92566267418448,40.851068937045056 L -73.92573638681272,40.8509550715729 L -73.92575544274995,40.85092631720952 L -73.92585363309088,40.8507781470425 L -73.92587970419682,40.850752742945474 L -73.9258946157337,40.850716021158775 L -73.92602877508632,40.850514127209365 L -73.92623817249398,40.85020717547988 L -73.92625607778913,40.85018092828893 L -73.92649455759538,40.84983926268615 L -73.92671439092585,40.8495328924865 L -73.92692303519834,40.84925053211068 L -73.92711679645468,40.848968160769935 L -73.92725466369208,40.8487634400509 L -73.92740369127668,40.8485573121181 L -73.92752293332548,40.84837941376701 L -73.92765334858244,40.84818740307528 L -73.92797377830446,40.84772713626879 L -73.92813798976536,40.8474916337005 L -73.92821693262147,40.84738013694401 L -73.92839151036594,40.84713222929978 L -73.92842200947668,40.847082681015294 L -73.92845501929,40.84703147328317 L -73.92848994827723,40.84698195788156 L -73.92928544019534,40.84585422120131 L -73.92932522842061,40.84579501208149 L -73.92938078797043,40.845713088024226 L -73.9294284591942,40.845644161459624 L -73.92961778841178,40.84537197685639 L -73.92967631216543,40.84528959996821 L -73.92971850477589,40.84523177776122 L -73.92976558965162,40.845155498584774 L -73.9298142904901,40.84507738364222 L -73.92986949219903,40.844983883071116 L -73.92992306713158,40.84489407370509 L -73.92998963816937,40.84476919693727 L -73.93004648072028,40.84466092972761 L -73.9300984461563,40.844555117607264 L -73.93015203635434,40.844449305942945 L -73.9302235221325,40.84428444159575 L -73.9302738909538,40.84416349148805 L -73.93031939529575,40.844044140613846 L -73.93039902075694,40.84382880869297 L -73.93045266598449,40.84368115988073 L -73.93049978822178,40.84355565022298 L -73.93054530049933,40.84342854608869 L -73.9305696689228,40.84337194730113 L -73.93057942780864,40.84333749991765 L -73.93062818153543,40.84320584088484 L -73.9306752990735,40.84308525801466 L -73.93069805828596,40.84302311939357 L -73.9307273630006,40.84293970550291 L -73.93077282921939,40.84281025121568 L -73.93078580763273,40.842793033211564 L -73.93080204561862,40.84276596475724 L -73.93081019415838,40.84271797293053 L -73.93089465201425,40.84253834014193 L -73.93097488039668,40.84240043256802 L -73.93122229886856,40.8419311978196 L -73.93135888954994,40.84168834011949 L -73.93152929686684,40.84138537503999 L -73.93183461490949,40.840836973049406 L -73.93216201657155,40.84025506805087 L -73.9327955579716,40.839123749538146 L -73.93295973246775,40.8387857813553 L -73.93309918150739,40.83854347529116 L -73.93316806379079,40.83842168134447 L -73.93326669730261,40.83825027144849 L -73.93335684361476,40.83808787017985 L -73.93341807218596,40.83797188003893 L -73.93346654180988,40.83789132502083 L -73.93353117016969,40.837766305566824 L -73.93363830694624,40.83757942170141 L -73.9337751779351,40.83737128497363 L -73.93390952876399,40.83713285480006 L -73.93401498008339,40.83693436287628 L -73.93410258068505,40.8367661687363 L -73.93419823237814,40.83657279307641 L -73.93428447793899,40.836383843146386 L -73.93431245358867,40.83631850365972 L -73.93436132705641,40.836200775593475 L -73.93445239397371,40.835980960149904 L -73.93446697910224,40.83595775699718 L -73.93445377234241,40.83593526309482 L -73.93444877564322,40.83591143450383 L -73.93446637225969,40.83588190099418 L -73.93450277341222,40.83586953210677 L -73.93452562635785,40.83586446508773 L -73.9345466975778,40.83586383978682 L -73.93457054558492,40.835856228468046 L -73.93456429187859,40.83583525813151 L -73.93455619135769,40.83581584505395 L -73.93454550794789,40.83579712724188 L -73.93455055397678,40.83576949251491 L -73.93456312323937,40.835748532187935 L -73.93460881644617,40.83573213104488 L -73.93463341124856,40.83572855930518 L -73.93465224388608,40.83571713328788 L -73.93465100586263,40.83570093168482 L -73.93464163907133,40.83567991938229 L -73.93467363613824,40.8356561512936 L -73.93467510914489,40.83562667730202 L -73.93470757260678,40.83559803703509 L -73.9347339324972,40.83558756763868 L -73.93475278250986,40.83555994071259 L -73.93475657295757,40.83553230526523 L -73.93478046231708,40.83548371439513 L -73.93477424314929,40.835427482650466 L -73.93477300861923,40.835407468038206 L -73.93478684030045,40.83537793234796 L -73.93482072984604,40.835367468361284 L -73.93484813571963,40.83535143220736 L -73.93486985067806,40.83533271513109 L -73.93489460041994,40.835254043122355 L -73.9349153357865,40.83523082193883 L -73.93493620828455,40.83508021765156 L -73.93494225855345,40.8350268754173 L -73.93495859566923,40.83488277904475 L -73.93497941208626,40.834789121453596 L -73.93498833140688,40.834748657893655 L -73.93495087178461,40.834706673367705 L -73.93495775984087,40.834682760363386 L -73.93496523015561,40.83465684795371 L -73.93496624164194,40.8346291231457 L -73.93497316061179,40.83462163504164 L -73.93497219073525,40.83460814479758 L -73.9349938973666,40.83459766618309 L -73.9350306032399,40.834392365341294 L -73.93503612427713,40.83429832034336 L -73.93503124118601,40.83424886284952 L -73.93504212490856,40.83421139923449 L -73.93507644502898,40.83392404328709 L -73.93506958098195,40.8338873180048 L -73.93508341363373,40.83386559692965 L -73.93509687471908,40.833715356792254 L -73.93509690469142,40.83368463190988 L -73.9351038425559,40.83365765691787 L -73.93511245100076,40.833425739073505 L -73.93511743048042,40.83337703478399 L -73.93512041704227,40.83335380357007 L -73.93513225848744,40.83334482290504 L -73.93512636041868,40.83332608035629 L -73.93512935500891,40.83329460947997 L -73.93512443552862,40.833281118185226 L -73.93513826819031,40.83326014425826 L -73.93513729127854,40.83324141318863 L -73.9351304030063,40.833228667273524 L -73.93512154973673,40.83320169277665 L -73.93512352949813,40.8331896995089 L -73.93511565892307,40.83317620538075 L -73.9351324360264,40.83316272562037 L -73.93513935847737,40.83315149100035 L -73.93512752379407,40.83314248880914 L -73.93512465984577,40.833051069029345 L -73.93512171853354,40.83302859034761 L -73.9351158094604,40.833021842172926 L -73.93511187882302,40.83300310072926 L -73.93511979365522,40.832983628174226 L -73.9351178302057,40.832967139024525 L -73.93512376770083,40.83294541299674 L -73.93512085547314,40.832904196271095 L -73.93513170518375,40.83290269767373 L -73.93514455114399,40.832884722036546 L -73.93516725294636,40.83287499227595 L -73.9351648084094,40.83285288326429 L -73.93515659173383,40.83268240623729 L -73.93512878131628,40.832363534476926 L -73.93511398341515,40.832365776837186 L -73.93507789246172,40.831941623611385 L -73.93509565184881,40.83194238126706 L -73.93508783728589,40.831859198350045 L -73.93506824974105,40.831704067625786 L -73.93502275465517,40.8313199995499 L -73.93498505621454,40.83102735335797 L -73.93493515654998,40.83060244521585 L -73.93489353332376,40.83028656383779 L -73.9348308720848,40.82980843705179 L -73.93479881905735,40.8297923091497 L -73.93480080676933,40.82977283325502 L -73.93478996278795,40.82976832407677 L -73.93479293827903,40.829756340752176 L -73.93478111085822,40.8297405931673 L -73.93477028229691,40.82972036169426 L -73.93475944294428,40.8297001210002 L -73.93476343288322,40.82965740394861 L -73.93474372591281,40.829637168120186 L -73.93473930830946,40.8296090614466 L -73.93474919492779,40.82959708136343 L -73.9347373734992,40.82957458942524 L -73.93472260127821,40.82955060049562 L -73.93472557699927,40.829527369270885 L -73.93471476025762,40.82949514407971 L -73.93470100252416,40.82944043080002 L -73.93469412707366,40.82941645571861 L -73.93471288560674,40.829400725944666 L -73.93470504902284,40.82934077469054 L -73.93469321669619,40.82932877360132 L -73.93467597101817,40.82931340221052 L -73.93466228987832,40.82918075994604 L -73.93468302702456,40.82916578783614 L -73.9347076940248,40.829158309792234 L -73.93470080780723,40.82913207413393 L -73.93468107924811,40.829133558281384 L -73.93467714880202,40.82911632854793 L -73.93467025222027,40.82911257042642 L -73.93465447618152,40.82909757696108 L -73.93464959243248,40.82904811940704 L -73.93466193198351,40.829038760294495 L -73.93466295225556,40.8290140338141 L -73.93466495971363,40.82897356682651 L -73.9346561102258,40.82894283638614 L -73.93465515536506,40.82891285858111 L -73.93463641852125,40.82890686014906 L -73.93461640343897,40.828693655793316 L -73.93461171264785,40.82868983525945 L -73.9346026032382,40.82868240123775 L -73.93460883576688,40.828661188682126 L -73.93461052506869,40.82865543619224 L -73.93460804993306,40.828653363018205 L -73.93460065845316,40.82864718221308 L -73.93459873640631,40.82860072400898 L -73.93460192118351,40.828592549298634 L -73.93461159553205,40.82856775518621 L -73.93460917445479,40.82852167496815 L -73.93461017716513,40.8285029362902 L -73.93461219001,40.82845722914908 L -73.93460433489888,40.8284280027947 L -73.93460731363092,40.82840102556373 L -73.93460043185588,40.82838228241438 L -73.93460834555331,40.828363557539014 L -73.93459750565475,40.82834482035358 L -73.93460048488119,40.828328333985105 L -73.93459360040842,40.82830135116014 L -73.93458674147797,40.82825938499248 L -73.93459562914447,40.82825114985737 L -73.93458676210544,40.8282384027765 L -73.9345917047489,40.82822716755986 L -73.9345976397154,40.82820843167852 L -73.93458877267246,40.82819569397907 L -73.93458684240751,40.828156719571396 L -73.93456513010248,40.82816270444941 L -73.93455810179866,40.828117402777785 L -73.93454586266019,40.8280481614642 L -73.93454230638145,40.82802687031307 L -73.93453258880567,40.82796855836177 L -73.93452175638055,40.82790780009139 L -73.93453898134064,40.82790347267075 L -73.93453183092765,40.82784940204345 L -73.93452076528119,40.827765689651045 L -73.93451590672417,40.82772893075849 L -73.93442396339051,40.82704289397216 L -73.93448291058759,40.827037092778795 L -73.93446426549492,40.82684220519351 L -73.93442844400516,40.82646785059145 L -73.93436717955377,40.82582759815853 L -73.93435643452149,40.82582093714438 L -73.93432574289122,40.82523259029446 L -73.93429530732777,40.82464923122281 L -73.93429371670564,40.824496386917254 L -73.93427285440853,40.82443895275135 L -73.93424642895086,40.824166883037236 L -73.93421834803297,40.823799045790146 L -73.93416594530659,40.82307858087099 L -73.9341465766699,40.82302903205045 L -73.93414604382139,40.8230206191804 L -73.9341337362534,40.82280065597681 L -73.93412126165025,40.82264725324431 L -73.93411752612663,40.822524332688474 L -73.9341023336635,40.82220121691678 L -73.9340998673827,40.82213991234114 L -73.93409843799962,40.82210422734385 L -73.93409112517372,40.82199603799016 L -73.93407944723481,40.821805575796276 L -73.93407434354855,40.821717099110295 L -73.93407734095156,40.82169456177006 L -73.93407005522698,40.82155932093422 L -73.93404447476468,40.821176703574416 L -73.93404599779034,40.821133877022824 L -73.93403560443178,40.8209525472825 L -73.93402662334587,40.82081680975289 L -73.93400389615694,40.82039784018415 L -73.93400069207455,40.8203381971747 L -73.93398295705482,40.81999992020175 L -73.93398664640615,40.81996803472517 L -73.93397241531086,40.81972957476565 L -73.93383009163675,40.81971974342966 L -73.9338307684021,40.81959665797986 L -73.93383000695961,40.81949109508514 L -73.933827774217,40.81941549491884 L -73.9338261413771,40.81935642975038 L -73.93380019473047,40.81834975887401 L -73.93379334625779,40.81777660857975 L -73.93378997399208,40.81715137370167 L -73.9338058988187,40.81651249324713 L -73.93382900884609,40.815585360187505 L -73.93394608825346,40.815587624739194 L -73.93394609933723,40.815576457564696 L -73.93394170146186,40.815565298920845 L -73.93394905857524,40.81555636955854 L -73.9339505415139,40.81554298000996 L -73.93394173470386,40.81553180895636 L -73.93394175021166,40.81551618546597 L -73.93395205657947,40.815497218219264 L -73.93395353730935,40.81548605238903 L -73.93393445709582,40.81547153450896 L -73.93394623227609,40.81544251797634 L -73.93393892276255,40.81541572428055 L -73.93394921255539,40.81540122322669 L -73.93394628434706,40.81539005487058 L -73.93395659090902,40.81537220417381 L -73.93394853112693,40.81534820201142 L -73.9339485543914,40.81532476149807 L -73.93394858430486,40.815294621684764 L -73.93395302092101,40.81526672687833 L -73.93395452158192,40.8152354720267 L -73.93394426378258,40.815205325816905 L -73.93394870283142,40.81517519791037 L -73.93394725313911,40.815155097995735 L -73.93396344530987,40.815129443023544 L -73.93396788302526,40.815100422954494 L -73.9339635051224,40.815069164064965 L -73.93396941358051,40.8150390271146 L -73.93398565957851,40.81494751042229 L -73.93398936930932,40.814912357030956 L -73.9339820368583,40.81489561278118 L -73.93398352753839,40.81487439749642 L -73.93397473519484,40.81484872821332 L -73.93398210661397,40.814825293078414 L -73.9339733264724,40.8147873318603 L -73.9339909751146,40.8147750681166 L -73.93397776416134,40.81475831111917 L -73.93398954202262,40.81473822765618 L -73.93399543936422,40.814719257878934 L -73.93398075656604,40.81470474252188 L -73.93398224834006,40.81468242057033 L -73.9339852396395,40.81462995914097 L -73.93397645065996,40.814600930825314 L -73.93396620950341,40.81456521125146 L -73.93399121978345,40.81452838643413 L -73.93401476726979,40.81448375262482 L -73.93385652638817,40.81448147441923 L -73.933862309728,40.81424929632053 L -73.93386391449283,40.81419273728349 L -73.93386510261902,40.81415315795565 L -73.93386927846697,40.81410117481657 L -73.93387232548962,40.81406326426073 L -73.93392984600194,40.813347690633805 L -73.93398178986824,40.812814635545266 L -73.93400770204939,40.812608498697294 L -73.93403843917879,40.812340880071 L -73.93409306691922,40.811968402530795 L -73.93413711416069,40.811712370924525 L -73.93419558749171,40.81139317769292 L -73.93428227801395,40.810823050508674 L -73.93430417398038,40.81048166611519 L -73.93431440507302,40.810322264911285 L -73.93434080971474,40.809927582749594 L -73.93433864584739,40.80956221383138 L -73.9342139101698,40.80905917379271 L -73.93419639195773,40.80903185158246 L -73.93413532624055,40.80873639051423 L -73.93412073484298,40.808656451977434 L -73.93356119311481,40.8076006773867 L -73.93332852361837,40.807318946463006 L -73.9332590953999,40.8072372452067 L -73.93318395639815,40.807156197797084 L -73.93317413539492,40.80714539094994 L -73.93308471749714,40.80702691470209 L -73.93293288329292,40.80687102213386 L -73.93263088267577,40.80655293390686 L -73.93239017119151,40.80629914096857 L -73.93154417434341,40.805397783326676 L -73.93149604258623,40.80535115370666 L -73.93147549592427,40.805328092938126 L -73.931467071884,40.80530596930305 L -73.93144891427833,40.80529764576169 L -73.9314319858802,40.80528195789057 L -73.93140904210999,40.80524691381147 L -73.93139090102109,40.80523306966014 L -73.93130511520239,40.80513160645992 L -73.93126947240583,40.805090553712475 L -73.93115949987327,40.804966940262474 L -73.93112688759328,40.80492267799733 L -73.93111408924702,40.8049043505129 L -73.93109790844383,40.80488117752953 L -73.93107375389322,40.80484705102833 L -73.93103390093928,40.80479448221437 L -73.93102787741594,40.80478249455927 L -73.93097654532366,40.80471563251204 L -73.93097535296523,40.804705499397805 L -73.93095843210783,40.80468704529111 L -73.93093429158856,40.804652918767935 L -73.9309093651686,40.80461939351748 L -73.93082801324279,40.804509966805824 L -73.93080628114511,40.80447400780626 L -73.93071630316507,40.80435549733259 L -73.93071028702624,40.80434074466805 L -73.93069577525876,40.80432598806869 L -73.93068733276408,40.804310312725434 L -73.93063902817006,40.80424575296044 L -73.93063179560949,40.804230079513566 L -73.93061004100669,40.80420701568154 L -73.93057261208959,40.80415260421611 L -73.93057263757188,40.804143391876295 L -73.93054243306774,40.80410741834047 L -73.93044280213003,40.803974150099364 L -73.93040536964523,40.80392066565746 L -73.93035345052832,40.80384780474332 L -73.93033292065563,40.8038192136144 L -73.93030876458775,40.80378601536812 L -73.93027860567483,40.803734379225695 L -73.93026171394962,40.80370579413693 L -73.93019175460354,40.80358316519042 L -73.9301832945256,40.803573947208385 L -73.93006020693849,40.80336164816054 L -73.93001261302967,40.80328749842878 L -73.92997373618591,40.80319646797412 L -73.92997862176946,40.80319024538496 L -73.93004460904999,40.80310611177073 L -73.93000931090445,40.80304013515726 L -73.9299828842777,40.802984752494254 L -73.92991008609842,40.80286455125002 L -73.92988948082969,40.80283035745909 L -73.92978668000154,40.80266074871753 L -73.92969251214595,40.80244028594797 L -73.92957693839507,40.80218002521569 L -73.9295204392848,40.80205347961556 L -73.929453663335,40.80190736883602 L -73.9294365411877,40.801861711857434 L -73.92935435998567,40.80167125043791 L -73.9293312697181,40.801598853990896 L -73.92930220396839,40.80149580134899 L -73.92927487688036,40.80137319023274 L -73.92920817595964,40.80114752061129 L -73.92911838814229,40.80111300322634 L -73.9290349024031,40.8010809038519 L -73.92902671406671,40.80096986031432 L -73.92902123584643,40.8008955725617 L -73.92901644642042,40.800830715542126 L -73.92900788120605,40.80077234912538 L -73.92899994866335,40.80071009769273 L -73.92898618762995,40.8006021231194 L -73.9289534865756,40.80030936848472 L -73.92893763668594,40.800170843777686 L -73.92890152344171,40.79985521466273 L -73.92891942515779,40.799458186491535 L -73.92894396946961,40.798911588935496 L -73.92897121002292,40.79825886108233 L -73.92903640179625,40.796762594101295 L -73.92905461028747,40.7966944338674 L -73.92927936741171,40.79585313952064 L -73.92930773275805,40.79581025795562 L -73.92953058056908,40.795507798349284 L -73.92968294251133,40.79529623376313 L -73.92974594691621,40.795208748234096 L -73.92987485778212,40.795035156728346 L -73.92984244753451,40.79501503785595 L -73.92985144395325,40.795001400428596 L -73.92980955349988,40.794983166296745 L -73.92983254042525,40.79494906114083 L -73.92988740651919,40.794967292603964 L -73.92990139788401,40.794946824362505 L -73.929916361206,40.79494911213707 L -73.92993735334552,40.794918786284455 L -73.929920395011,40.794909672330114 L -73.93006881035538,40.794700828605485 L -73.93010771028146,40.79471299106374 L -73.93019664392897,40.794593224352276 L -73.9304198047997,40.79447087234861 L -73.93111408045336,40.794096501343866 L -73.93142758557963,40.793927988382855 L -73.93165821105745,40.7938017404392 L -73.93179292520304,40.793727961791056 L -73.93187500171743,40.793681921843714 L -73.93201001457187,40.793605486169895 L -73.9320788602176,40.79356650883387 L -73.93235128869082,40.79341384515128 L -73.93250920949684,40.79333190154458 L -73.93253852654895,40.79331668213542 L -73.93267239130897,40.793248232772896 L -73.93287712655092,40.793130251367884 L -73.93310683207807,40.79299532820954 L -73.93324587394645,40.79291429602916 L -73.93327132021129,40.792899463351674 L -73.93348489644649,40.792774171332546 L -73.93372790503588,40.792601478371104 L -73.93388785265701,40.79248947701711 L -73.9340699772657,40.79235829377295 L -73.93427221714605,40.792217315797885 L -73.93434032786627,40.79216796805462 L -73.93451042548634,40.792051294646434 L -73.93473881584458,40.7919007687052 L -73.93505406057963,40.791686231358476 L -73.93510764491633,40.791648888699754 L -73.93517182451616,40.79160473956751 L -73.93526809778403,40.79152802580043 L -73.93526500788937,40.791525763481225 L -73.93519039296174,40.7914711601291 L -73.93546762088405,40.791263652057545 L -73.9355389669594,40.7913186936598 L -73.93583106788908,40.79109470487025 L -73.93602391823781,40.790829128125964 L -73.93632010870607,40.7904259576486 L -73.93669302210031,40.789913049159104 L -73.93706168747065,40.78941359021351 L -73.93705304578882,40.78940641675743 L -73.93708104382303,40.78936639571 L -73.93707246262181,40.78934584238876 L -73.93701479686742,40.7893212811849 L -73.93614073314123,40.78894907341052 L -73.93612836235297,40.78893853005966 L -73.93612689279686,40.78892686798543 L -73.93621859869906,40.788800498076874 L -73.93622751295345,40.788795612949855 L -73.93624303325052,40.78879577415208 L -73.93714965461105,40.789168449059495 L -73.93722890167295,40.78899630803715 L -73.9373978860931,40.78862171984347 L -73.93741675677441,40.788579761516324 L -73.93754989162579,40.78828374452885 L -73.93763482912287,40.7880942448148 L -73.93768669385376,40.78797356057904 L -73.9376956302226,40.78795729352051 L -73.93774122176191,40.7878539043509 L -73.93777363255116,40.78778335806262 L -73.93781722692913,40.787688468680884 L -73.9379476897699,40.78747729942926 L -73.93794590851273,40.78746915875533 L -73.9379593077519,40.78745627993001 L -73.93797181801395,40.78743187338251 L -73.93811570089727,40.78718476275642 L -73.9381335619299,40.787165790398475 L -73.9381942962532,40.78709733029977 L -73.9382451995141,40.787041068108124 L -73.93853937331656,40.78671077700013 L -73.93926642644514,40.78588875306714 L -73.9398261969646,40.785256552415504 L -73.93983453997923,40.78525397235913 L -73.93984282390909,40.78525141036402 L -73.93985267603381,40.78524393165019 L -73.93988045560658,40.78523237551015 L -73.93988852061746,40.78522352734706 L -73.9399100328247,40.785211966758006 L -73.93992974399461,40.78520176553133 L -73.93995483679336,40.7851895227945 L -73.93998978018995,40.78517047779277 L -73.94001308386727,40.78515687380641 L -73.94002473252537,40.78515347642579 L -73.94004982707584,40.78513851423145 L -73.94006415729082,40.785131029620075 L -73.94011434323869,40.78510382464469 L -73.94014947276264,40.785087255379494 L -73.94018512931055,40.7850662020607 L -73.94020230181297,40.78505918714035 L -73.94022475284152,40.78504515129101 L -73.94023795768312,40.78503713468407 L -73.94026700995516,40.785022101453464 L -73.94036209351331,40.78497198408231 L -73.94045320748488,40.784922873083495 L -73.94053377198219,40.78487877160592 L -73.94055093807765,40.78486674159362 L -73.94058130200904,40.78485370870926 L -73.94059054968372,40.78484668914214 L -73.9406235705766,40.7848296504117 L -73.9406737440216,40.78480359792666 L -73.94071732676319,40.784780541067086 L -73.94072128361506,40.784780543102436 L -73.94074901720526,40.78476751820217 L -73.94076750825941,40.784757495121326 L -73.940788680061,40.78474744878865 L -73.94083088142585,40.78472742455639 L -73.94102499731886,40.78463522248638 L -73.94108573710648,40.78460916651673 L -73.94111082838862,40.78459714868051 L -73.94113723613098,40.784583114004285 L -73.94117288854783,40.784566076962534 L -73.94144612018938,40.78443147385163 L -73.94152576810184,40.7843909009699 L -73.94167454195745,40.784313830631945 L -73.94185448592205,40.78422074667745 L -73.94201431753095,40.784137584897444 L -73.94217918595561,40.78405136339486 L -73.94231388874321,40.78398116576646 L -73.94239128520968,40.78394072618267 L -73.94243451137065,40.7839178303224 L -73.94246970444772,40.783896460947055 L -73.94257225524878,40.7838247241554 L -73.94260442723565,40.78380183093078 L -73.94267379818284,40.78375374314718 L -73.94278137533362,40.783678190096545 L -73.9428678379267,40.78361865580257 L -73.94293520531137,40.78357210608965 L -73.94301663136936,40.78351486545852 L -73.94311516211302,40.78344617062966 L -73.94316141910497,40.783411830494785 L -73.9432056553694,40.7833698429877 L -73.94323985739751,40.78332785169439 L -73.94327003035673,40.78328815467677 L -73.94331027382033,40.78323318094644 L -73.94334749366392,40.78318203299854 L -73.94339679077287,40.783109502846436 L -73.94344105526419,40.78304918212814 L -73.94355143839468,40.782903508488346 L -73.9435442071252,40.78288052382267 L -73.94364823539011,40.7826561613333 L -73.94388068102455,40.78153204336437 L -73.94387075988708,40.78127302657161 L -73.94371468850565,40.78062981552889 L -73.94360047475412,40.780159099466196 L -73.94343876735986,40.77976324196589 L -73.94246425347032,40.780032500044214 L -73.94245164079229,40.780034301684175 L -73.94243881234526,40.78003457368859 L -73.94242608715956,40.780033309292946 L -73.94241378169747,40.78003053994149 L -73.94240220198307,40.78002633450512 L -73.94239163599177,40.780020797568746 L -73.94238234648849,40.780014066830155 L -73.94237456449305,40.78000630967582 L -73.94236848353493,40.77999771901796 L -73.94236425484041,40.77998850849714 L -73.9421202220567,40.77947255637246 L -73.94211585211751,40.77946438174746 L -73.94211320944687,40.77945578967974 L -73.94211235847256,40.77944698964432 L -73.94211331994062,40.77943819618633 L -73.94211607040975,40.7794296236904 L -73.94212054282282,40.77942148115413 L -73.94212662814175,40.77941396709257 L -73.942134178006,40.779407264698506 L -73.94214300834957,40.77940153737618 L -73.9427297339572,40.779257247655536 L -73.94271884616596,40.77920845248188 L -73.94271719257608,40.779158976341286 L -73.94272480674314,40.77910982384548 L -73.94274153404183,40.77906199303241 L -73.94276703480712,40.77901645510126 L -73.94280079138252,40.77897413442275 L -73.94284211823455,40.77893589059328 L -73.94289017621892,40.77890250014493 L -73.94294398952175,40.778874641061954 L -73.94300246547327,40.778852879014885 L -73.9426553074297,40.778124965574186 L -73.94245741056957,40.777407473347985 L -73.94229506198639,40.77733196248317 L -73.9422805004479,40.77734743822865 L -73.94231968904005,40.777452519267094 L -73.94236333715754,40.77744701092419 L -73.94245545698132,40.777747864333634 L -73.94242853953916,40.7777528275672 L -73.9424249119559,40.77774232006609 L -73.94238999173223,40.77774727878929 L -73.94235943486034,40.77775389919171 L -73.94236233471005,40.77776495916486 L -73.94233541821181,40.77776881637413 L -73.94224111393387,40.77747017411569 L -73.94228549380644,40.777460242826805 L -73.94224050534213,40.77733414682105 L -73.94225579604492,40.77731646027736 L -73.94211982454031,40.777255566411746 L -73.94218537013923,40.77716380876228 L -73.94230970713218,40.77721971988074 L -73.94229368333204,40.77724293624784 L -73.94243403895558,40.77730046148625 L -73.94242964535687,40.77728894895166 L -73.9423378939154,40.77724890117767 L -73.94238467141948,40.77717109710202 L -73.94232882921817,40.777155216220585 L -73.9422762272684,40.77713387941079 L -73.94222778317057,40.777107458878284 L -73.94218434199162,40.77707641551011 L -73.9421466615231,40.77704129083463 L -73.94211539906212,40.77700269757474 L -73.94209109994581,40.77696130895888 L -73.94207418803877,40.77691784697711 L -73.94200266722274,40.776185317382755 L -73.94208160457377,40.775957016317086 L -73.9424010094905,40.77572692752618 L -73.9425876964068,40.77521895652809 L -73.94293043781397,40.774676268035854 L -73.9433389475049,40.77421119259066 L -73.94366431814802,40.77384076417684 L -73.94396084370877,40.773530420091944 L -73.94436393440742,40.77310853879239 L -73.94487889596707,40.772569562007305 L -73.94561514012511,40.7719430265877 L -73.94640418919069,40.77126904561928 L -73.94690764133767,40.77073391172358 L -73.9474897545637,40.77011515401907 L -73.94808633406548,40.76947479321886 L -73.94866416477923,40.7688576238969 L -73.94908536768654,40.76827827079571 L -73.94937332131504,40.76788219105439 L -73.949579120714,40.76762893017959 L -73.950069793031,40.76702508788076 L -73.9506634515425,40.76638071134941 L -73.95122497666563,40.765771198973475 L -73.95176480900405,40.76516371184319 L -73.95230963181133,40.76455428860603 L -73.95336559963583,40.763368170911725 L -73.95441826078606,40.76218410495108 L -73.95573621640321,40.76102439284762 L -73.95587222339073,40.76090471211562 L -73.9563091763419,40.760508367554266 L -73.9563331896777,40.7604865855639 L -73.9569784172763,40.75989675444599 L -73.9573173758794,40.75959221225659 L -73.9575986944528,40.75934231825782 L -73.95763772742102,40.759306739898335 L -73.95800496616825,40.75897199962933 L -73.95825660841922,40.75874926119305 L -73.9583612533256,40.75866024195487 L -73.95838528673994,40.758639797400576 L -73.95842620189605,40.75860387300689 L -73.95845501743894,40.75858090219754 L -73.9584911954165,40.75854590383049 L -73.95854329679058,40.75849562293584 L -73.95877790822699,40.758270920848766 L -73.95907003031206,40.757939098020316 L -73.95917264248838,40.75786478039404 L -73.95918103219992,40.75785611105225 L -73.95965770876657,40.75726014512327 L -73.95966400300107,40.757211412186905 L -73.96003900990617,40.756725350238874 L -73.96036455140823,40.75626941113343 L -73.96065638180474,40.75592314955021 L -73.9607970991498,40.75580477274067 L -73.96079722985934,40.75580465585202 L -73.96102790867165,40.75561058457909 L -73.96162927534917,40.75515238425916 L -73.96213559058086,40.7545732314733 L -73.96219381838414,40.75450431515328 L -73.96223125165591,40.754522130421876 L -73.96268703046536,40.754004373286655 L -73.96289729202545,40.75376551709434 L -73.96286896769232,40.75374250915693 L -73.96316074049744,40.75341220732817 L -73.96373572283169,40.75278377577703 L -73.96470952841109,40.75171941509579 L -73.96494444755467,40.751462643216996 L -73.96532405586477,40.75104771827205 L -73.96791272994395,40.747970935642165 L -73.96811893399276,40.747725829749896 L -73.96817376101073,40.747666753741775 L -73.96823574753464,40.74759121839253 L -73.96836519324148,40.74743349462014 L -73.96823171715788,40.74736847648924 L -73.96829622113238,40.7472956513671 L -73.96829811451529,40.74728339500285 L -73.96830191005901,40.74727329924462 L -73.9683161371577,40.747274024359314 L -73.96832610433424,40.747252034096256 L -73.96834696591318,40.74724121831006 L -73.96836118844783,40.74721814498378 L -73.96840008314163,40.74716695396426 L -73.96843139158786,40.74712945662027 L -73.96846363690706,40.74709412848566 L -73.96847691942939,40.74707250080571 L -73.96850064035854,40.74704438450723 L -73.9685148595502,40.74703284399809 L -73.96853479000781,40.74700039777956 L -73.968544278662,40.746988142312745 L -73.9685888522455,40.74694344358079 L -73.96859169569566,40.7469333470503 L -73.96860023472267,40.74692109131982 L -73.96860971997528,40.7469146031031 L -73.96861730876945,40.74689945527529 L -73.9686391246467,40.74687927414411 L -73.96866379796644,40.746846819812376 L -73.96867043421345,40.74683600997998 L -73.9686922519053,40.746808607957675 L -73.96870458089755,40.74680068279622 L -73.96871076544427,40.74678826391715 L -73.96875271240373,40.746742715216726 L -73.96894301109302,40.74651833569653 L -73.96896670537514,40.746530500296856 L -73.96897366849493,40.74652900683391 L -73.968988992317,40.746505791494776 L -73.9689998159544,40.746501935274985 L -73.96900302810094,40.74649080837931 L -73.96901641754052,40.74648115208629 L -73.96901961115921,40.74647243890262 L -73.96907193333249,40.746412983006365 L -73.96913096118847,40.7463407153067 L -73.96921135921276,40.74624451530387 L -73.96923432172326,40.74622228401146 L -73.9692470758419,40.74620778199366 L -73.96925028881702,40.746196171442705 L -73.96932591437388,40.74610408771044 L -73.96933228026558,40.74610167233751 L -73.9693392445918,40.74609265608839 L -73.96938290644789,40.746035949025 L -73.96940022327871,40.74602084326551 L -73.96940086652106,40.74601402713 L -73.96941753399555,40.74599696633201 L -73.96943292389886,40.745976988728735 L -73.96946210038307,40.74594457763364 L -73.96952046125196,40.74586904111652 L -73.96955059658644,40.74583882769362 L -73.9695974026117,40.745782784111825 L -73.96962370583407,40.74574671679446 L -73.96963204180261,40.745743305646016 L -73.9696948777757,40.74566679689096 L -73.96969678845922,40.745657000292965 L -73.9698756140306,40.74544478913764 L -73.96990575265258,40.74545820514518 L -73.9699122797576,40.74545175943625 L -73.96993139614953,40.74546300191991 L -73.96992704959052,40.74546779203503 L -73.96997377026275,40.745495747430645 L -73.97004758904896,40.74540286129935 L -73.97009123175708,40.74535112915098 L -73.97012962576954,40.74530536659435 L -73.97021602288636,40.74520057903285 L -73.97033931161249,40.7450496320225 L -73.97032571321422,40.74503694946444 L -73.97032571931103,40.74502326140019 L -73.97037811940515,40.74495230558328 L -73.9704425548898,40.74487037651216 L -73.97046063703624,40.74486474339075 L -73.97047240576438,40.74486624174767 L -73.97050560032659,40.7448237642593 L -73.9705687722909,40.74473186530611 L -73.97062381510653,40.744656426210064 L -73.9707883477664,40.744406217690354 L -73.97085704434353,40.7444326373972 L -73.97087688233857,40.744445573430994 L -73.97088963376717,40.74444772970192 L -73.97089742067709,40.74445473677975 L -73.9709094613216,40.744456352094154 L -73.97091724845437,40.74446336034337 L -73.97092858032359,40.74446336320422 L -73.97094062960419,40.74447144402543 L -73.97098222712366,40.74440763471994 L -73.97101392396074,40.74435861480514 L -73.97111438123977,40.74420436093248 L -73.97078276128684,40.74404724688688 L -73.97077757716114,40.74404662471935 L -73.97075833953681,40.74403919038233 L -73.97075084955141,40.74402980466479 L -73.97071823494039,40.744016927848186 L -73.97070578720823,40.74400256198679 L -73.97070317531687,40.74399049490878 L -73.97072277474861,40.74396951572126 L -73.97074257272034,40.74394832466006 L -73.97075061382013,40.74394863361055 L -73.97076123524714,40.74394210764168 L -73.97079209694716,40.743956009932546 L -73.97079892989305,40.743952797003814 L -73.9708358740414,40.74396967223812 L -73.97083595486517,40.743969703585975 L -73.97087357851338,40.743987674769436 L -73.97095964992808,40.744025696987116 L -73.97096300193468,40.744023672774865 L -73.97117346753164,40.744107535008254 L -73.97118193576082,40.744103232707886 L -73.97120616502984,40.74406602984664 L -73.97127362462311,40.74396474842362 L -73.97135752941868,40.74383845535949 L -73.9712342398151,40.74378464619026 L -73.97120546301967,40.74377151030134 L -73.97128101831679,40.74365194205136 L -73.97135563409175,40.74353964934947 L -73.97149421270419,40.743334674465125 L -73.97163772240417,40.74311720098468 L -73.97167921200818,40.74305446405978 L -73.97188888913065,40.74272481985296 L -73.97176261327057,40.74267267153469 L -73.97174059715825,40.74266358001152 L -73.9717750124804,40.7426159121446 L -73.97195955856255,40.7423379215437 L -73.97204926316714,40.74188775377625 L -73.97206949682797,40.741788905934804 L -73.97210163980682,40.741623202060964 L -73.97215263572176,40.74138858760122 L -73.97219804813784,40.741144668691796 L -73.97228618248496,40.74073827357638 L -73.97228992099217,40.74072103903181 L -73.97221282599375,40.740711663608295 L -73.97219567275302,40.74070957946141 L -73.972182685701,40.740706279909645 L -73.97216848387873,40.74069312030052 L -73.97216477368657,40.74067572212917 L -73.97216549760822,40.740672165049936 L -73.97221525425901,40.74042656351943 L -73.97222515614335,40.7404166969312 L -73.97223504317165,40.74041340340201 L -73.97223566211005,40.74040541522522 L -73.97219641647789,40.74040257925288 L -73.97221685422328,40.74030762506157 L -73.97226753642127,40.74031374327716 L -73.97227001334156,40.740308574345725 L -73.9722533231916,40.740300105554816 L -73.97224837803643,40.74029117185872 L -73.97229979590863,40.740034962743 L -73.97231030439093,40.74001851267485 L -73.97233141721729,40.74001090819973 L -73.97243888981417,40.74002174997328 L -73.97265743803038,40.739222754276994 L -73.9726552896889,40.73917826848006 L -73.97265060379681,40.739058265715556 L -73.97264431062416,40.739017462335354 L -73.97264512721948,40.73895866831102 L -73.97264674830737,40.73884587151239 L -73.97263256455166,40.73878946955016 L -73.97263100998644,40.73874026500814 L -73.97262787457534,40.73870906146964 L -73.97262630543385,40.73866586408448 L -73.97262792189811,40.73859386916859 L -73.97262084766358,40.73852066549357 L -73.97261929656231,40.73846306804597 L -73.97262753952515,40.738400385987426 L -73.9726388480015,40.73839530977722 L -73.9726383333126,40.738379685976525 L -73.97262807328735,40.73836796724543 L -73.97262452608501,40.73824336345701 L -73.97263274644142,40.738232424262186 L -73.97263327107365,40.73822383329848 L -73.9726225471807,40.738217068211796 L -73.9726194686601,40.73804427824497 L -73.97261474017301,40.73802986934808 L -73.97260609997485,40.73793867228876 L -73.97261872947438,40.737914676800685 L -73.97261242656461,40.73789787257168 L -73.97260457307685,40.73782227307568 L -73.97261404225637,40.73779827633331 L -73.97260621196624,40.7376662775704 L -73.97259038224679,40.73676965484227 L -73.97258292456105,40.73674468459351 L -73.97257979798512,40.736690689076724 L -73.97257525871026,40.736646508931535 L -73.97255622610959,40.736461485527514 L -73.97256333684314,40.736445881632086 L -73.97248994174741,40.73580328010764 L -73.97251016786021,40.73578712985965 L -73.97286939178467,40.735770861285594 L -73.97441385816532,40.73641439385898 L -73.97445975070463,40.73629401971835 L -73.97441677354789,40.736277726106785 L -73.97441154346602,40.736285279046825 L -73.97439952343315,40.73628408358713 L -73.97402692104305,40.73612576724554 L -73.97404679254475,40.73609992943208 L -73.97442932366876,40.73626063349148 L -73.97442775474427,40.7362661990414 L -73.97446647047286,40.736278456829936 L -73.97450376013228,40.736064588444066 L -73.97447471755301,40.736062380712994 L -73.97444082924062,40.73605047915443 L -73.97443372879957,40.73605371636698 L -73.97414062018392,40.735955656664764 L -73.97415127634781,40.73593379266809 L -73.97444722336765,40.73603347295404 L -73.97444828612832,40.73603779235656 L -73.97447828183081,40.73604418545109 L -73.97450488285943,40.7360422810393 L -73.97451459772599,40.735894598411264 L -73.97450793938161,40.73579694577239 L -73.97448854079063,40.73587568024641 L -73.97445077717819,40.73586912996672 L -73.97446233335455,40.73583114456824 L -73.97424982468374,40.735797182020015 L -73.97424630658303,40.73578011045588 L -73.97425866775502,40.73576626816387 L -73.9744704050787,40.735797872255155 L -73.97446962023734,40.73578786807187 L -73.97447775431193,40.73578786166607 L -73.9744715494167,40.73572722375796 L -73.97446537767371,40.73566688606373 L -73.97439223918198,40.73566753456827 L -73.974391854932,40.73567194813465 L -73.97426375884302,40.73567147429325 L -73.97426474799444,40.73567587660683 L -73.97419233708438,40.73568012679813 L -73.9741895600019,40.73565991276934 L -73.97415747430529,40.735657841982764 L -73.97414616523469,40.73567162151037 L -73.97409287937954,40.735640725028844 L -73.97409007994668,40.73564465423451 L -73.97341869582557,40.735367737300166 L -73.97343881801847,40.73534121781407 L -73.9732803029099,40.73527336542804 L -73.97305698712047,40.735177453415574 L -73.97280661710461,40.735523918521174 L -73.97293673973685,40.73559924929967 L -73.97293031926458,40.73560761439671 L -73.97276308380353,40.73550508747358 L -73.97299695202484,40.73518650689113 L -73.97296395268094,40.73516906617736 L -73.9729318560978,40.735205312369004 L -73.97288512856933,40.73518020390188 L -73.97286403116163,40.73521226701525 L -73.97283745943461,40.73519971670443 L -73.97294520758682,40.735065170071145 L -73.97296719785798,40.73507843076684 L -73.97294519031814,40.73510770051313 L -73.97299560236587,40.73512793798314 L -73.97297083635605,40.73515721697131 L -73.97300291199267,40.73517256003529 L -73.97303684713711,40.735127947647555 L -73.9732989504614,40.735242355077126 L -73.97332187458159,40.735201918664835 L -73.97331638345146,40.73519634278206 L -73.97329897672444,40.73517681588366 L -73.97327881634085,40.73514752741432 L -73.97327241144065,40.735118933851496 L -73.97327700851476,40.73507919579836 L -73.97329627362966,40.735040856642556 L -73.97332929043579,40.73501087789432 L -73.97336870942675,40.73498927476271 L -73.97341821248351,40.73497115816113 L -73.97345945915032,40.73496837685123 L -73.973522708343,40.73497536084697 L -73.97354472883961,40.7349443261015 L -73.97444065082591,40.73531677190058 L -73.97442616184162,40.73523421918358 L -73.97441126714118,40.73517824595451 L -73.97439063081423,40.735092132933126 L -73.97437417946838,40.73503063633947 L -73.97435054998022,40.73494231263386 L -73.97431559737869,40.73480367719346 L -73.97427147926832,40.73463060898142 L -73.97425543467872,40.734566885863295 L -73.9742119222655,40.734405868942915 L -73.97418317281985,40.734300956916535 L -73.97416917978899,40.734239712295114 L -73.97415110840346,40.734163966166115 L -73.97410591714225,40.73399354354755 L -73.97406016216327,40.73381107244234 L -73.97402174588258,40.73366389393443 L -73.97399237089736,40.733554574756276 L -73.97395905029711,40.73342116553847 L -73.97394321924938,40.73340308886326 L -73.97393531356985,40.733366076784 L -73.97390702695188,40.73334971660826 L -73.9739013771137,40.73332733730501 L -73.97389120382256,40.73330926190453 L -73.97386631865598,40.733310976086806 L -73.97386292958613,40.7332911823961 L -73.97385275193642,40.73328257140106 L -73.97384483854886,40.73326536111377 L -73.97386520802412,40.73324642803965 L -73.97385730036494,40.73321630363857 L -73.97384145962661,40.73321974036566 L -73.97384937381277,40.73323265510631 L -73.97383126846691,40.73324556510915 L -73.97380976846561,40.73324899937297 L -73.9737837578338,40.73322748120809 L -73.97380298847435,40.73321198753983 L -73.97378376867172,40.7331999343244 L -73.9737645264947,40.73321284338788 L -73.97374076899372,40.7332093889371 L -73.97372718707769,40.73321971435091 L -73.9737079516958,40.73321368520494 L -73.97368984982607,40.73321885060349 L -73.9736762757606,40.73320593388807 L -73.97369438098609,40.73319560901103 L -73.97369212859806,40.73317409625008 L -73.97371588914251,40.73316979674718 L -73.97372607356357,40.733159470559514 L -73.97373739762322,40.7331431193724 L -73.97375776032726,40.73313968486286 L -73.97377813922655,40.733124191460256 L -73.97380529755272,40.73312075798695 L -73.97381887171846,40.73309924765461 L -73.97384036797052,40.733103556295944 L -73.97387206174017,40.73309495480665 L -73.97386810776207,40.73306568719564 L -73.97377030826173,40.73268844617685 L -73.97367702799252,40.73231023074881 L -73.97364735766624,40.73217549326395 L -73.9736273640125,40.73210744560785 L -73.97360833346643,40.73204268972968 L -73.97353969289706,40.73176433282347 L -73.97352137914282,40.73169016478129 L -73.97341321730858,40.731282416428684 L -73.97338181410147,40.731236023919415 L -73.97336591000702,40.731220019948374 L -73.97334064688684,40.73118304166199 L -73.97331715426381,40.73115792717312 L -73.9732832111114,40.73111267590857 L -73.97323625417937,40.731056926741026 L -73.97320012915412,40.73101663239009 L -73.97314592791604,40.73096088099614 L -73.97309858148473,40.730913679890705 L -73.97305304853825,40.730867303253035 L -73.9730060597536,40.73082313241309 L -73.97291929100193,40.73075024150268 L -73.97283215562857,40.730681480807114 L -73.97274611643171,40.73060583194694 L -73.97264270492411,40.73052353780736 L -73.97255990007292,40.73045809361815 L -73.97247970053022,40.730400807362884 L -73.97245936471903,40.7303863293777 L -73.97233277439516,40.73029657246816 L -73.97224018578775,40.73023049763855 L -73.97223370120912,40.73022567784322 L -73.97208918590233,40.73011835704167 L -73.97205385214976,40.73008665043252 L -73.97201026033457,40.73004517148764 L -73.97196340301248,40.73000037721751 L -73.97190238512808,40.72993070864445 L -73.97185608949049,40.729875550267266 L -73.97182992841674,40.72984569197283 L -73.97174822357015,40.729742014544605 L -73.97174494790077,40.72973454858853 L -73.9717002903813,40.72966570245397 L -73.97162729998558,40.72955788414602 L -73.97157719441826,40.72946913613528 L -73.97151882628016,40.72935136174017 L -73.97150816031574,40.72932396649242 L -73.97147994907228,40.72924957719585 L -73.97145716122309,40.729169407558004 L -73.97143981566717,40.729095849864486 L -73.97143221814216,40.72906361904422 L -73.97142139208238,40.72899584397225 L -73.97141235109775,40.72887985602166 L -73.9714065967207,40.728794471305754 L -73.97140617908519,40.72871876425107 L -73.97141946379276,40.728568827544045 L -73.9714271844355,40.72848582588498 L -73.97145269559661,40.728341433313155 L -73.9714566218295,40.72831923801433 L -73.97147343819987,40.72820925592806 L -73.9715104844795,40.728002763404064 L -73.97155553514953,40.72770310859814 L -73.97156931647098,40.72769376719845 L -73.97157278760145,40.72764591976771 L -73.97158965149985,40.72764003369329 L -73.97161872706997,40.727650558185836 L -73.97163586152148,40.727647974121346 L -73.97165160075588,40.72764321253465 L -73.97168514866583,40.727405886636554 L -73.97158604106329,40.72739693305272 L -73.97156114365914,40.72739468824765 L -73.97153686592743,40.72739296510082 L -73.97152076789627,40.727386165737144 L -73.97151282181258,40.72737430807855 L -73.97149260058237,40.72737312335138 L -73.97149039092855,40.72735009760736 L -73.97162697271727,40.72662845299688 L -73.9716697270118,40.726392327154386 L -73.97169587451597,40.72624182980494 L -73.97171894361507,40.72612199325954 L -73.97173843379365,40.725999667555534 L -73.97176755410239,40.725833302952054 L -73.97177410965313,40.72582128133709 L -73.9717914296149,40.7258142211491 L -73.97181650587754,40.72581496624993 L -73.97185935830902,40.72558296953287 L -73.97187437695217,40.725503116079835 L -73.97188490951483,40.725424405065795 L -73.9719112073207,40.72529037069994 L -73.97193374501076,40.72517629035124 L -73.97193975456322,40.72515803861003 L -73.97196154778587,40.725039978810834 L -73.97200511841187,40.72484149021083 L -73.97203666966882,40.724684070020096 L -73.97206595867414,40.72455915832869 L -73.97207196960349,40.72453635085813 L -73.97208098151926,40.724497567930385 L -73.97208400057288,40.72446790554572 L -73.97209751290906,40.72442341523471 L -73.97215609001728,40.72417017827813 L -73.97216585996622,40.72413196377576 L -73.972216923762,40.723930054646765 L -73.97223344676965,40.72384677992634 L -73.97226499868242,40.72371445733364 L -73.97232507731586,40.723463499327345 L -73.97236115744649,40.72331206047648 L -73.97239945748277,40.723148816366624 L -73.97251011180381,40.72269688600675 L -73.97288971396699,40.72108829721934 L -73.97299637617098,40.7206228901928 L -73.97311210769035,40.720158739274474 L -73.97323688282675,40.71969594677116 L -73.97337067389017,40.71923461468812 L -73.97351345120518,40.71877484470662 L -73.97368877537423,40.71824988277229 L -73.97387175279486,40.71772643524906 L -73.97406236070515,40.71720456673772 L -73.97426057540318,40.71668434164266 L -73.97446637224988,40.716165824163994 L -73.97467972567237,40.71564907828959 L -73.97490060916697,40.715134167787234 L -73.97512899530274,40.71462115619672 L -73.97514977937124,40.714579423863505 L -73.97516360806188,40.7145519056912 L -73.97518850986306,40.714503160723936 L -73.97521387023663,40.714448498798475 L -73.97522549627958,40.71442343994197 L -73.97524666388625,40.71437780630549 L -73.97524670420732,40.71437772456102 L -73.9758031128397,40.71317812458921 L -73.97579532792433,40.71317002319164 L -73.97596844519694,40.71278957339087 L -73.97604981455508,40.71260419377792 L -73.9761236883879,40.712460325398354 L -73.9761653123832,40.71242019791084 L -73.97631127867197,40.712118647310184 L -73.97642872514528,40.711909032503705 L -73.97650540115391,40.711798789452516 L -73.9765500881422,40.71173453872832 L -73.97671221539667,40.71153576517841 L -73.97681883540048,40.71141956752378 L -73.97699076574627,40.71125666023057 L -73.97705659401753,40.71119762646683 L -73.9772221356257,40.71106873122834 L -73.97752668432639,40.71084307273319 L -73.97772119493068,40.71071007466073 L -73.97782091638246,40.71064544490701 L -73.97789949619445,40.7105998662024 L -73.97799674790384,40.71056101739166 L -73.97807974906621,40.710532250577266 L -73.97818190694284,40.71050686551766 L -73.97825557749212,40.710497909055306 L -73.97837148165257,40.71048970749158 L -73.97861560123998,40.7104737819109 L -73.97877613342084,40.71046331504727 L -73.97918894377005,40.7104349233883 L -73.9792072643461,40.710433666393136 L -73.9792901523712,40.710428144566976 L -73.98003642292834,40.71037840126669 L -73.98028344332177,40.71036181561106 L -73.98033652490473,40.71035920071473 L -73.98033090124429,40.71028693831357 L -73.98051046026364,40.7102747519457 L -73.98128647552558,40.71021834788167 L -73.98124579569945,40.709826214601264 L -73.98306019477401,40.709647911748135 L -73.98364234472633,40.70959187924476 L -73.98449647076764,40.70950966393945 L -73.98655035339982,40.709311944139465 L -73.98816491726686,40.70915678150649 L -73.98817340967875,40.70914751830128 L -73.98839064023267,40.70912694916267 L -73.98844653437385,40.70913382054701 L -73.98847967268775,40.70915584680593 L -73.9884972717388,40.7091763052932 L -73.9886365807185,40.70991206151631 L -73.98864533493685,40.70991693389857 L -73.98866750580943,40.70992003483075 L -73.98869610271332,40.70992844984457 L -73.98871771111247,40.709947090016286 L -73.98873681707525,40.70997074184512 L -73.98879717785803,40.70996660747224 L -73.98889845980884,40.70995473576504 L -73.98935765696677,40.709900986707886 L -73.98946067019428,40.709889287051304 L -73.98957449608717,40.70987408160655 L -73.98974515155741,40.709848761655664 L -73.99015825373382,40.70979037266377 L -73.99051420376698,40.70973388411882 L -73.9907891301856,40.709689506588695 L -73.99106783463007,40.709657229842634 L -73.9913510923706,40.709620332703366 L -73.99170260292523,40.70956526245348 L -73.99176779580132,40.70955505552374 L -73.9919054436645,40.70952539658227 L -73.99203926968346,40.709516919665326 L -73.99209131635969,40.70950822290381 L -73.9921486897015,40.70949860910412 L -73.9923611613991,40.70946436881145 L -73.99284846748647,40.70938187763877 L -73.99374012862228,40.70924612043537 L -73.99400820164045,40.70923747991905 L -73.99414063200345,40.709233267399966 L -73.99437823543936,40.70919263919895 L -73.99457899963724,40.709130972910074 L -73.99517577369836,40.709034293307745 L -73.99580385653569,40.708946013907514 L -73.99601898395763,40.70891622384748 L -73.9966640099659,40.70882690451773 L -73.99728287195578,40.70873161984294 L -73.99808351186999,40.70850961536717 L -73.99828602320592,40.70842993146762 L -73.99852758585311,40.70833152790831 L -73.99856114620616,40.70831528323358 L -73.99872197955064,40.7082374528962 L -73.99875396570859,40.70822365102721 L -73.99880846276643,40.70820013499269 L -73.99882158420984,40.70817548167751 L -73.9988813086388,40.70813663391982 L -73.99898340963244,40.70809265331617 L -73.9990527673855,40.70803254586638 L -73.99913434918952,40.70798239694596 L -73.99919451108852,40.707947376351505 L -73.99925945470771,40.707914021310444 L -73.99932632675426,40.70787967649395 L -73.9993822517736,40.70784154932155 L -73.99942129138608,40.70781893705534 L -73.99946033075192,40.7077963264511 L -73.99952324941067,40.707762628658166 L -73.99951211364754,40.70774870660914 L -73.99949062474623,40.70772184522503 L -73.9995383965945,40.70769347002568 L -73.99955121325496,40.70769435277653 L -73.9995714951379,40.70771719868849 L -73.99960948039251,40.707759973176316 L -73.9998829708522,40.70762408603533 L -73.9999485594979,40.70759149637101 L -73.99994505655111,40.70758262698335 L -73.9999485595232,40.707558691553785 L -73.99995671262306,40.7075311988559 L -73.99997222648798,40.707506398822055 L -73.99999645016025,40.70749164789853 L -74.00013868859142,40.70740505440754 L -74.00023380525761,40.707347142486874 L -74.0004002783203,40.70726027957073 L -74.00055247932056,40.707184275923 L -74.00077175219104,40.70708014820079 L -74.00084973367689,40.70704311863656 L -74.00088259097625,40.70702525380312 L -74.0011868526283,40.706859825771794 L -74.00113130577202,40.70679905068455 L -74.00122367538822,40.70674526164776 L -74.00123213691967,40.70674033642843 L -74.00122701299958,40.706734869906505 L -74.00116039022576,40.70666372083434 L -74.00117521610984,40.70664874526918 L -74.00116913341543,40.70663949766778 L -74.00117643567687,40.706635058292825 L -74.0011760207968,40.70662757435902 L -74.00098276691733,40.70641671299296 L -74.00140533024056,40.7061801352079 L -74.00140666691954,40.706179388020665 L -74.00140581495842,40.70617861288316 L -74.0005924020935,40.70541007891096 L -74.00084523503796,40.705254518846246 L -74.00145437418847,40.70487330343209 L -74.00205517727977,40.70541134936668 L -74.00206142563808,40.705417005138216 L -74.00206282084558,40.70541607734798 L -74.00212278686422,40.705379002672515 L -74.0021581834855,40.70535711911857 L -74.00256965059467,40.705523579523536 L -74.00268512768794,40.70544924811869 L -74.00236285311746,40.70515896669264 L -74.0024157347692,40.70512931178512 L -74.00238385458344,40.70510127025082 L -74.00197070397947,40.70473786798465 L -74.00197014837805,40.70473115920235 L -74.00203201379027,40.704692953730124 L -74.002171849419,40.70460659646371 L -74.00218562331565,40.704607018873965 L -74.00233344621164,40.704748135307035 L -74.00233393075764,40.70474260690162 L -74.00242059318668,40.70468033460379 L -74.00243071075865,40.70467785800437 L -74.00248839829258,40.70472677235126 L -74.00248790148638,40.70473376058908 L -74.00239832748953,40.70479492514089 L -74.00238670740679,40.704795663674524 L -74.00332307270787,40.70562859522009 L -74.00358262337757,40.705461128831175 L -74.00363187169326,40.70542980675178 L -74.00364446183865,40.705421684136276 L -74.00383327532258,40.70530324302642 L -74.00366217837694,40.70514975973919 L -74.00358390952114,40.70519264914801 L -74.00355259950756,40.70516644083421 L -74.00363086901315,40.7051235514465 L -74.00262896407828,40.704222952781464 L -74.002866897815,40.7040752255116 L -74.00405666439265,40.70514736343896 L -74.00434050782803,40.704962729306565 L -74.00458622952465,40.70479945067932 L -74.00484062824783,40.70463977952652 L -74.00492037826479,40.70459100497335 L -74.00518805067325,40.704420535690616 L -74.00521160900404,40.70440553223536 L -74.00526035829184,40.70437448841015 L -74.00535027224755,40.704310079961566 L -74.00566330640657,40.704104244478245 L -74.0058912988893,40.703959853442 L -74.00602048621096,40.703874900101894 L -74.00614106753552,40.70398097343546 L -74.00634215560278,40.70384982260745 L -74.00643259271952,40.70379118995166 L -74.0065959191387,40.703685901949285 L -74.006320807539,40.70346676102891 L -74.00631484519424,40.70346132459701 L -74.00630030777441,40.703448234988315 L -74.0059114573594,40.70309811143046 L -74.00589941745793,40.70308727019197 L -74.00588747266437,40.70307651522384 L -74.00555843304463,40.7027812568899 L -74.0054838408244,40.70271432213407 L -74.00552682615239,40.70268528761715 L -74.00550531272071,40.702666846585586 L -74.00547130861277,40.702689829083525 L -74.00543599763355,40.70265955541138 L -74.00542728826248,40.70266543619408 L -74.00530412596079,40.70255986563308 L -74.00549427805099,40.70243138145301 L -74.00550166067457,40.70243086779707 L -74.00561361797627,40.70253024203236 L -74.00560163196413,40.702538059769935 L -74.00560905264517,40.702552818553734 L -74.00559479485835,40.70256802032952 L -74.00559935100478,40.702580167839315 L -74.00559022977765,40.702585814283914 L -74.00559194611431,40.70259883592118 L -74.00558509547804,40.70260405020241 L -74.00558909594902,40.702612730596876 L -74.00553546138177,40.702645521106874 L -74.00555771998816,40.702664394652075 L -74.00567522249854,40.702584072197595 L -74.00598430339498,40.702860018543724 L -74.00608976093835,40.7029511204912 L -74.00623870508532,40.7030797893016 L -74.00636372730409,40.70318779225255 L -74.00646028831753,40.703271208034096 L -74.00649425191108,40.70330054817181 L -74.00654880812654,40.7033676150859 L -74.00655720878507,40.70336314833331 L -74.00675541584032,40.70354148947685 L -74.00678502191047,40.70356812740272 L -74.00699466002457,40.703441188566636 L -74.00722046663678,40.703301977805864 L -74.00751905283795,40.70312181973458 L -74.00752714979264,40.70311498091358 L -74.00760498179518,40.70299314115586 L -74.00764555161301,40.70292817427637 L -74.00769798694176,40.70284927854683 L -74.00795594887994,40.70269252994458 L -74.00836148391231,40.702444539016405 L -74.00911037361746,40.701983870511064 L -74.00914202195378,40.701972849402715 L -74.00929072600606,40.70193007131942 L -74.00869964313567,40.70113986754225 L -74.00775549150644,40.701548002174405 L -74.0075913620422,40.701328081048146 L -74.00853611510774,40.70091969574508 L -74.008349275591,40.70066934838825 L -74.00862036163869,40.700552163713304 L -74.00958483017605,40.701837385563266 L -74.01105603841502,40.70145418141212 L -74.01118088303541,40.70145139225372 L -74.01110775373041,40.70127576447368 L -74.01128983905525,40.7012499822443 L -74.0112097577877,40.70104458327378 L -74.01112868539609,40.70106489745048 L -74.01107837974551,40.70095712031513 L -74.01106708568963,40.700914940894876 L -74.01110886351545,40.700901420103754 L -74.01109386310776,40.700866410371056 L -74.01109337389371,40.7008512565756 L -74.01107872437127,40.70085194903641 L -74.01105584312833,40.70081153127285 L -74.01105943295772,40.70080262149505 L -74.01103748928746,40.70075713124815 L -74.01101538388575,40.70074112429652 L -74.01102945843246,40.70073117099375 L -74.01101999687313,40.70071239494578 L -74.01100668082337,40.70071138770604 L -74.01099272755786,40.700690593047085 L -74.0110085466105,40.700683557234385 L -74.01100361903022,40.70066806679781 L -74.01099134410617,40.70067335228204 L -74.01096997178928,40.700645536089624 L -74.01098841773411,40.70063424450257 L -74.01095827294415,40.700574591600066 L -74.01093617683645,40.70057584194706 L -74.01092482717033,40.70056679303637 L -74.01092557334937,40.70055583199389 L -74.01094712848688,40.70053774303579 L -74.01091918086524,40.70048646309193 L -74.01090496934044,40.70049178376395 L -74.01088462665342,40.70046142740958 L -74.0109036642329,40.70045138151239 L -74.01078537980491,40.700232514470784 L -74.01079959311006,40.700207213007005 L -74.01081530667369,40.7002004441012 L -74.01085157384671,40.70023851108495 L -74.01093093205078,40.700415152334415 L -74.01100364429975,40.700581109944125 L -74.01104377249544,40.70068284521966 L -74.01107427475966,40.70074833739358 L -74.01110436404355,40.70081064942939 L -74.01113362222922,40.70086787440553 L -74.01115033556839,40.70089840010096 L -74.01135836291354,40.70085195863636 L -74.0113031892116,40.700647844036354 L -74.01129816432253,40.70059888452935 L -74.01130986410949,40.70057980119109 L -74.0113340941042,40.70056835368231 L -74.01136082267432,40.70056581099928 L -74.0113817187564,40.70057025711787 L -74.01139508123386,40.70059060767379 L -74.01143269912247,40.70067454111631 L -74.01146947437395,40.700748928258065 L -74.01150291143712,40.700815058974236 L -74.01172926817476,40.70077011805971 L -74.01170009248338,40.70072153863592 L -74.01168275397707,40.700693345062085 L -74.01166539833068,40.70063756059029 L -74.01163149614044,40.70055539174736 L -74.01161019835878,40.70049300642149 L -74.01161413587113,40.70047261846259 L -74.01163147918649,40.700458218248144 L -74.01167798034295,40.700461815207476 L -74.01170321011992,40.70048100238683 L -74.0117260583568,40.7004786044219 L -74.01175129264934,40.7005307875863 L -74.01177730827737,40.70057097437495 L -74.0118261923343,40.70066634278205 L -74.01183407601519,40.700686134476165 L -74.01184827026117,40.70072992580596 L -74.01185378549589,40.70073892145019 L -74.01199159781125,40.70070483096386 L -74.01208668214693,40.700681308739206 L -74.01208509377953,40.700664514803904 L -74.01206932171665,40.7005997333441 L -74.01203856797012,40.70052895681232 L -74.01197670642495,40.70037842429924 L -74.01190488098494,40.70022693000201 L -74.01185672556994,40.70010710340842 L -74.01193096316577,40.700051210156914 L -74.01196196116918,40.70003754559548 L -74.01204027930206,40.70004809164557 L -74.01208842091692,40.70008658419207 L -74.0121275950614,40.70014308650676 L -74.01215779158518,40.70021137864816 L -74.01217247960996,40.700233115597705 L -74.01223694549938,40.7003212778443 L -74.012254902849,40.70036473434151 L -74.0123185597424,40.700488287090096 L -74.01236222440261,40.70057582996205 L -74.01239160032284,40.70062052809404 L -74.01259392327508,40.70057083347246 L -74.01259064684221,40.700511850508114 L -74.01255471870938,40.70035973065781 L -74.01252899955233,40.700252320356995 L -74.01251593564191,40.700184648480175 L -74.01251511280124,40.700150492110836 L -74.01254202780166,40.70013497414833 L -74.01261382087365,40.70010826581112 L -74.0126480885809,40.70011508828301 L -74.01268072728449,40.700146755381475 L -74.01273499158562,40.700218772700964 L -74.01279619139252,40.70030009988464 L -74.01283454933409,40.7003528747345 L -74.01286637756563,40.70040751337174 L -74.01288188403385,40.70044165988615 L -74.01290474249372,40.700496912162826 L -74.01290881793956,40.700523611693534 L -74.0130020533556,40.70051602846548 L -74.01310747847371,40.70050745218067 L -74.01311155389506,40.70047205304465 L -74.01311153191459,40.700360290603165 L -74.01309395831629,40.70022369323991 L -74.01307843485952,40.70010324258428 L -74.0130249570557,40.699882830206086 L -74.0130118926586,40.69981825663127 L -74.0130208570277,40.69979341936798 L -74.01304370092437,40.699774784735915 L -74.01311303826304,40.6997741653827 L -74.01314078965092,40.699803337925516 L -74.01315384897731,40.69984494048542 L -74.01316691626805,40.69993124433761 L -74.01317753563335,40.70001754796508 L -74.01318571684631,40.70010323034391 L -74.01320084197317,40.70023982797613 L -74.01320736787197,40.70027521651887 L -74.013222880169,40.700333586085456 L -74.01327349483086,40.7004968702278 L -74.01348560832739,40.70047822290844 L -74.01348068493701,40.70035777106845 L -74.01348311536113,40.70026338811632 L -74.01350349660866,40.700176459528315 L -74.01353285018102,40.70010816142328 L -74.01358669315097,40.700079590847636 L -74.01361029830721,40.700084298087155 L -74.01367479314794,40.700125821450854 L -74.01366274969902,40.70013665653273 L -74.01364265186702,40.700161782809424 L -74.01361182269146,40.700245174148016 L -74.01357049009941,40.700232202871405 L -74.01356130931909,40.700295122158266 L -74.01353310205637,40.700297124245765 L -74.01353047796475,40.700311100346504 L -74.01356131236537,40.70031009758515 L -74.01356034144283,40.70036653343729 L -74.01352950889165,40.700373524124124 L -74.0135314747603,40.700382016183646 L -74.01356297111606,40.700380013206455 L -74.01355970548933,40.70043893442745 L -74.01352361756736,40.70044193757834 L -74.013522959189,40.70046041540703 L -74.01358070018833,40.70045691449297 L -74.01358541798506,40.700501912756266 L -74.01355283229515,40.700503357667095 L -74.01357712822566,40.70064368147607 L -74.01351039592653,40.7006503711521 L -74.01355826959487,40.70093987083056 L -74.01395152756511,40.70099098246 L -74.01409198385475,40.700551617824594 L -74.01410490300086,40.70051082838688 L -74.01409144949477,40.70050833622437 L -74.01412821190823,40.70039328205463 L -74.01413726388596,40.700394955210335 L -74.01414860637789,40.70032057172374 L -74.01417467279454,40.700260891293865 L -74.01422063195494,40.70011149136574 L -74.01430981311296,40.700121296068744 L -74.01430981586157,40.70013410151565 L -74.0141778793178,40.70054147355372 L -74.01416495763293,40.70053905203082 L -74.0141523878731,40.70057786628615 L -74.01428920741134,40.700644144765064 L -74.01430157023242,40.700632211772735 L -74.0142965168929,40.700629186523706 L -74.01431530264759,40.70061103797423 L -74.01431796468086,40.70061249730786 L -74.01436783583223,40.700546122667575 L -74.01444813150721,40.700447372399964 L -74.01455999973693,40.70030978677966 L -74.01457513332033,40.700316916331225 L -74.01458425440427,40.70030846895512 L -74.01458234409444,40.70028387552858 L -74.01463294333459,40.700197429909835 L -74.01467119992007,40.700210401197126 L -74.01466717213697,40.70023938040477 L -74.01465386124694,40.70024264117515 L -74.01460863003749,40.700309708748435 L -74.01460825448508,40.70032365711386 L -74.01455219325999,40.700382980751606 L -74.01449342549972,40.700445169250614 L -74.01449246893424,40.70045466900289 L -74.01448492126376,40.70046115359201 L -74.01447857931358,40.70046208215579 L -74.01440947394667,40.70055133141234 L -74.01439689988942,40.70056348139058 L -74.01439480693739,40.700570479097316 L -74.01432384363027,40.70066130462972 L -74.01464323234912,40.70081730432514 L -74.01472424834412,40.70071429389432 L -74.0147714243914,40.70066365190688 L -74.01481236514054,40.70061084993616 L -74.01485926659412,40.70055544414301 L -74.0149303261123,40.700479269863486 L -74.01499883053579,40.70040612057654 L -74.01506818269304,40.70031825755497 L -74.01509832270126,40.70033426552346 L -74.01503579735079,40.700420831010625 L -74.01502271060053,40.70041953605866 L -74.01500850517257,40.700437709926106 L -74.0149931457591,40.70043684731985 L -74.01496757071698,40.70046541487961 L -74.0149749555559,40.700470177723474 L -74.01494881182721,40.70049441360126 L -74.01494255505817,40.70050610329135 L -74.01492322289359,40.70051519147148 L -74.0149175465081,40.70052557571274 L -74.01492379463954,40.700530338707146 L -74.01493687947062,40.700522979381276 L -74.0149419915596,40.70052384332578 L -74.01488598965476,40.700580114435695 L -74.0148200428468,40.70066061978024 L -74.01472681782197,40.700774015849674 L -74.01470265033885,40.700799116025706 L -74.01467365628488,40.700834609028426 L -74.01481072560142,40.70090383147957 L -74.01482834225281,40.700894742869735 L -74.0150211366168,40.70099250401341 L -74.01514231812101,40.700842892354295 L -74.01567778184742,40.70125602102747 L -74.01579351711152,40.70134690580752 L -74.01591034233417,40.70146094844386 L -74.01611609060481,40.70163080162535 L -74.01613890636003,40.70164601710274 L -74.01624449060664,40.70175272143683 L -74.01639205370195,40.70189770100822 L -74.01651515260784,40.70201729867144 L -74.01653258703746,40.70203653968308 L -74.01681859599923,40.70233857508047 L -74.0168965704124,40.70242187945698 L -74.01700396789508,40.70255453562757 L -74.01713705889378,40.70271134026771 L -74.01714508062659,40.70270534997619 L -74.01725182133951,40.70283555726378 L -74.01724571591129,40.702838457739226 L -74.01725328400002,40.702846222160126 L -74.01729346221046,40.70288743920947 L -74.01731837763408,40.70291887177159 L -74.01739839332281,40.70301914080493 L -74.01744003546041,40.70307751454189 L -74.01749381162757,40.70315484295754 L -74.01754038297949,40.703236160429874 L -74.01757548561503,40.70330750305605 L -74.01759647967049,40.703361386806506 L -74.01761681217123,40.70342324846541 L -74.01762601904936,40.70342276072453 L -74.01764797506856,40.70349459987955 L -74.0176604507462,40.703549979097595 L -74.01766881307273,40.70359131346766 L -74.01777128020329,40.703583815929676 L -74.01776730114295,40.7035451812609 L -74.01787839340639,40.703538508037234 L -74.0178846288097,40.703581783189236 L -74.01789088495364,40.70362520777168 L -74.01777639388398,40.70363255834204 L -74.01777128399804,40.70359805088005 L -74.01767132020267,40.70360642738381 L -74.01768310568113,40.70371113122532 L -74.01767264581432,40.70371179104601 L -74.0176768962942,40.70377050363859 L -74.0176742874819,40.70383436757155 L -74.01766578442248,40.70389923371859 L -74.01765792483431,40.70393266178643 L -74.0176430653269,40.703988972958825 L -74.01765378898196,40.703998380812536 L -74.01765461989739,40.70400968256981 L -74.01764390293602,40.70402224590198 L -74.01763399890552,40.70402475178318 L -74.01762657963042,40.70402350132419 L -74.01757035640019,40.704183880986605 L -74.01779454520292,40.70423489759882 L -74.01785585682929,40.70407884711309 L -74.01775054986868,40.70405488289352 L -74.01779139303439,40.70395091258362 L -74.01781758697946,40.70393792249659 L -74.01783782825967,40.703962666138544 L -74.01780821746956,40.70403196447965 L -74.01791229326221,40.70405449715102 L -74.0179426936393,40.70397317657627 L -74.01795473982637,40.70397578611121 L -74.01784441106724,40.70424203993794 L -74.01844742686767,40.70416230497788 L -74.01866784676697,40.7044352780547 L -74.01865560578017,40.70444100176157 L -74.01751646371467,40.704580624149905 L -74.01748090483301,40.70466726085787 L -74.01753170409474,40.704670872388256 L -74.01754796252615,40.70466365937498 L -74.01755812673757,40.704665721424355 L -74.0175703146188,40.704662623998004 L -74.01757369902538,40.70466778365242 L -74.01756693013898,40.70467138584916 L -74.01759808539691,40.70468427213635 L -74.01763433061089,40.70467870787109 L -74.01767570940247,40.70468067934982 L -74.01768670225856,40.70467379112289 L -74.017718379389,40.70467969845156 L -74.01773325394228,40.70467133287087 L -74.017749416039,40.70467526793777 L -74.0177655688175,40.704672315460385 L -74.01776687049336,40.704664930160384 L -74.01778367349166,40.704670837588154 L -74.01779789585463,40.70466690218765 L -74.01780630901126,40.704661985472534 L -74.01782893315087,40.7046649299456 L -74.0178399261186,40.704660995542646 L -74.01790198846368,40.70465164811151 L -74.01791039104725,40.704659033076176 L -74.01794142815905,40.70465558354945 L -74.01794401937286,40.70464820843312 L -74.01796922420502,40.7046472181013 L -74.01797892738368,40.704640824587905 L -74.01798926941159,40.704646731822 L -74.01799832152902,40.70464968541822 L -74.01800802337449,40.704638365599365 L -74.01802418707244,40.70464574984385 L -74.0180429299157,40.70462803711034 L -74.01805392410763,40.70462950493458 L -74.01806509374255,40.704635825991616 L -74.01811302905885,40.70455360233377 L -74.01886289045426,40.70471960717076 L -74.01888747947997,40.70472914280427 L -74.01892572382414,40.704773762570305 L -74.01934155704555,40.70607053870663 L -74.01934254624474,40.70609367252712 L -74.0192224228399,40.706573088726095 L -74.01912275963412,40.70697581433746 L -74.01910255488421,40.707000437641526 L -74.01909155084711,40.7070044731845 L -74.01906617140145,40.70701377062149 L -74.01903338019704,40.70701319087604 L -74.01895359463371,40.706996769465526 L -74.01894579167337,40.70701777094136 L -74.01893740557156,40.70703420689672 L -74.01892660443805,40.70704425778583 L -74.01890921570671,40.70706434245129 L -74.01888462028894,40.7070858055368 L -74.01885943006918,40.70710041568372 L -74.01882943775034,40.707115486640106 L -74.0187964493679,40.707127819847614 L -74.0187610576787,40.70713786652504 L -74.01872626987432,40.707143355686384 L -74.01868966870477,40.707142443754 L -74.01865548075625,40.70714153912512 L -74.01863058372714,40.70713971577189 L -74.01858078403724,40.70712374810279 L -74.01854718475342,40.707107770264244 L -74.01857117399437,40.707079922388665 L -74.01860717601127,40.707095440975195 L -74.018634170231,40.707103198808746 L -74.01864437101173,40.70710547586047 L -74.01864796262211,40.707081738030006 L -74.01868695379925,40.70708400923758 L -74.01872115249107,40.707081726149845 L -74.0187505462297,40.70707989330993 L -74.01876194037419,40.70707578536432 L -74.01874993323992,40.70704976248953 L -74.01877393087639,40.707044282787564 L -74.01879432757889,40.70703241116978 L -74.01882011914353,40.707015972883006 L -74.0188387043294,40.70699496965158 L -74.01884829724433,40.70698309041025 L -74.01884889814508,40.70697031235026 L -74.01881110035019,40.70696621177415 L -74.0187985148563,40.70698218837625 L -74.0187757159848,40.70699725864649 L -74.01874212416375,40.707007763378826 L -74.01872292981705,40.70700685750044 L -74.01869473190766,40.707010967669945 L -74.01867853372204,40.70701873300244 L -74.01864794474125,40.70701781957845 L -74.01862814488062,40.70701097846497 L -74.01861254498972,40.70699728514594 L -74.01860474411275,40.70698906417727 L -74.01860294181317,40.706974917978144 L -74.01859153053346,40.706959394918414 L -74.01857952850986,40.70694981480901 L -74.01857172609171,40.70693839792391 L -74.01856933191749,40.70692059520575 L -74.01856452356978,40.70690644010927 L -74.01854892759579,40.70690827067917 L -74.0185351326967,40.70691832201411 L -74.01853033752082,40.70695073241042 L -74.01840649088626,40.7072578721585 L -74.01821726389754,40.70774220596913 L -74.01821699384479,40.70775130976832 L -74.01819029259647,40.707821626109954 L -74.01865557049648,40.70792394888329 L -74.01864689079085,40.70794681354698 L -74.01880063068425,40.70798062163744 L -74.0188319588391,40.70799916678918 L -74.01883395951488,40.70800221914015 L -74.01885347760376,40.708022012284054 L -74.01885500911968,40.70804753444744 L -74.01874689830457,40.70848058025366 L -74.01863142468964,40.70894110005419 L -74.01846882134527,40.70958957100875 L -74.01834136609787,40.71010647644105 L -74.01826409180683,40.710408996626825 L -74.01814480361773,40.71088865018899 L -74.01811057789178,40.71102962821445 L -74.01804609687574,40.7113445014871 L -74.01797853231493,40.711756319208106 L -74.01792224257028,40.712039242700754 L -74.01787333422641,40.71231514395386 L -74.01777014254505,40.712834574789156 L -74.01775292705901,40.71284832755599 L -74.01773183836701,40.712849312346684 L -74.01772021563546,40.712844730933654 L -74.01772148946115,40.712784144610495 L -74.01780037888393,40.712345124158574 L -74.01662424425291,40.71215731899534 L -74.01654463812528,40.712456037930984 L -74.01659227582778,40.712548171076854 L -74.0166181765532,40.71264976356912 L -74.01661840078305,40.71275615002969 L -74.01659149520499,40.71286156321729 L -74.01655548893456,40.7129290955044 L -74.01654112171731,40.71295556481939 L -74.01647724204145,40.713029493073975 L -74.01639169485816,40.71309999795075 L -74.01632006627581,40.71340798247829 L -74.0165411468663,40.7134410527424 L -74.01691068695467,40.713496328010294 L -74.01754443334657,40.71361122266427 L -74.0175681104147,40.713523702975436 L -74.01757889322138,40.71344274342799 L -74.01764810719088,40.71320618595169 L -74.01765509447189,40.713161062667055 L -74.01767041664053,40.71306920796512 L -74.01767270844078,40.71306599620262 L -74.01767565425034,40.71306310966761 L -74.01767917611988,40.71306062474076 L -74.0176831808571,40.71305860717582 L -74.01768756249247,40.71305711035963 L -74.01769220508339,40.71305617389949 L -74.01769698578217,40.71305582257508 L -74.01770177808656,40.71305606568283 L -74.01770610827474,40.713056813739826 L -74.01771024206708,40.71305804745631 L -74.0177140859701,40.7130597389294 L -74.0177175530466,40.713061849903255 L -74.01772056488205,40.71306433263423 L -74.01772305335807,40.71306713097061 L -74.01772496219296,40.71307018162276 L -74.01770687258336,40.71316928246608 L -74.01761833310015,40.713654323432976 L -74.01753721790733,40.714097542247806 L -74.01740871360487,40.71480679990542 L -74.01738281387838,40.71494143431507 L -74.01738223187856,40.71494446127931 L -74.01732570958444,40.715254913254896 L -74.01726421509521,40.715592682369966 L -74.01712122293621,40.716371793077215 L -74.01698274294627,40.71713064366819 L -74.01686297377272,40.7177869542878 L -74.01671018605823,40.71862417605803 L -74.01669419095941,40.71864884335444 L -74.01665946969614,40.718666021224685 L -74.01662996338192,40.71866536845026 L -74.01594695204274,40.718575548906294 L -74.0159438298421,40.718589255044236 L -74.01566883666857,40.71855448876316 L -74.01567062060747,40.71853774823364 L -74.01555087754507,40.718521933183816 L -74.01500060682412,40.71844923605503 L -74.01499619731617,40.71847300131669 L -74.01498981339564,40.718507347327694 L -74.01498333230722,40.71852379143301 L -74.01497036257996,40.718535850864306 L -74.0149451554934,40.71854353507718 L -74.01470270021812,40.71851615488421 L -74.01321322719193,40.71831571989579 L -74.01306805492318,40.71892219382552 L -74.01307237769215,40.7189386191727 L -74.01303068126435,40.71913145581914 L -74.01301172799539,40.71921896911627 L -74.01295524308756,40.7194894533972 L -74.01295749567798,40.71950016380308 L -74.01290892764018,40.71973485170647 L -74.01345505633182,40.71980170742623 L -74.01341376512872,40.72001948201422 L -74.01399452219557,40.72008564946658 L -74.01399999964441,40.72006718366149 L -74.0142646199906,40.72009514658361 L -74.01426696671713,40.72008680714371 L -74.01557364096601,40.72024329446483 L -74.01557364347123,40.720254015509504 L -74.01571378469997,40.72027067526823 L -74.0157130096578,40.72030343574192 L -74.01637848291482,40.72037660883089 L -74.01630573342837,40.720727020038126 L -74.01449720312957,40.720513721263174 L -74.01351919132372,40.72039518655818 L -74.01299980679079,40.72033309075008 L -74.0128973027087,40.72086804597583 L -74.01569471973286,40.721206424875305 L -74.01562245781948,40.72154345367376 L -74.01316066673286,40.72125396319462 L -74.01311663311996,40.72147373453078 L -74.01325380075872,40.72148992000123 L -74.01326193939082,40.7214718119331 L -74.01363523640495,40.721516561134415 L -74.01361558335005,40.72158618255945 L -74.0135612803112,40.7215806138451 L -74.01356109093356,40.721571893764064 L -74.01325565118515,40.72154385653931 L -74.01325799654838,40.721527773029344 L -74.0131123731524,40.721509920295695 L -74.0131037691494,40.72155459547121 L -74.01253875807262,40.72150317657639 L -74.01249171031532,40.72177975782747 L -74.01237071715393,40.72238758057897 L -74.01223080840147,40.72305625707269 L -74.01209463829593,40.72370705248115 L -74.01196432049122,40.72432986423978 L -74.0118133958526,40.72507800630588 L -74.01165415104032,40.72586737407078 L -74.01165326569942,40.72587176185139 L -74.01195833074836,40.72597759921835 L -74.01231588417473,40.726033843285364 L -74.01411595444266,40.726215863302954 L -74.01477821548464,40.726281706473365 L -74.01516324118423,40.72631971193683 L -74.01520426531143,40.72636194937961 L -74.01518864981996,40.72645118300764 L -74.01517084019788,40.72657939015512 L -74.01514325523314,40.72671052678197 L -74.01512356549473,40.72679394306716 L -74.01430671596631,40.72670812119673 L -74.01341677520723,40.72662103121344 L -74.01234454766033,40.72651943048249 L -74.01154201897596,40.72644734642453 L -74.01138323604756,40.728229272367194 L -74.01439069932388,40.72846304752015 L -74.01434461474166,40.728622183781496 L -74.0142192854302,40.72952342775554 L -74.0140774139114,40.73064040918793 L -74.01408693559918,40.73066317304031 L -74.01403796924798,40.73069421884391 L -74.01401552295431,40.730682839656104 L -74.01116195696476,40.73045067634906 L -74.01108971391913,40.73125256845347 L -74.01107170223513,40.73145249217627 L -74.01099350879153,40.73232041794061 L -74.01094118226749,40.733007763269356 L -74.01146083559178,40.73302841363839 L -74.01400220214607,40.73306800179547 L -74.01399957240966,40.73333227751776 L -74.01090389883285,40.73329761713959 L -74.0108984071244,40.733351207376025 L -74.01087119577758,40.73335261102625 L -74.01084459823936,40.73335720253501 L -74.01081925594468,40.73336487117195 L -74.01079578005711,40.73337543199776 L -74.01077473673004,40.73338863032397 L -74.0107566334533,40.73340414785514 L -74.01074330013905,40.73342264686793 L -74.01073424442943,40.73344258755495 L -74.01072972404017,40.733463402434246 L -74.01072986761922,40.733484499145135 L -74.01073467108485,40.733505277305866 L -74.01074399774157,40.73352514559959 L -74.01075758216963,40.73354353860252 L -74.01077503777829,40.73355993287511 L -74.01080216592655,40.73357812048087 L -74.01083296877994,40.73359252910977 L -74.01086654686934,40.73360273801687 L -74.01083284563212,40.73400709401102 L -74.01201792010474,40.73406374445635 L -74.01200124222393,40.734338401166205 L -74.01081359479109,40.73428344364761 L -74.01078798331723,40.73454829384438 L -74.0107092291038,40.735362872140186 L -74.0106429201788,40.7360486977049 L -74.01067724659342,40.736056279956834 L -74.0106698675122,40.73610193192916 L -74.01068752603769,40.736113867722786 L -74.01070404345349,40.7361291844309 L -74.01071702975841,40.73614635650884 L -74.0107261323198,40.73616491766635 L -74.01073110396335,40.73618436389375 L -74.01073180968531,40.73620416714772 L -74.01072823031869,40.73622378968978 L -74.01072046305416,40.736242698687995 L -74.0107087188013,40.73626038068571 L -74.01069377899165,40.736275949166284 L -74.01067576028156,40.73628950144696 L -74.0106551258418,40.73630068916526 L -74.01065421033887,40.73634774474332 L -74.01061910077432,40.736345390721816 L -74.01056810573441,40.73697222014252 L -74.01051581576759,40.737596064953635 L -74.0104765981442,40.738063940595076 L -74.0110870663595,40.7380927500813 L -74.01106791934328,40.738304096174076 L -74.01108874587187,40.738317524691105 L -74.01110665714643,40.73833319829898 L -74.01112123961931,40.7383507551168 L -74.01113215659934,40.73836978978269 L -74.01113915602562,40.73838986281309 L -74.01111553678528,40.73839208561695 L -74.01109173778062,40.73839218148859 L -74.01106808891201,40.73839014909904 L -74.01105426715455,40.73838794795727 L -74.01105126196637,40.73839642575064 L -74.01045432864602,40.73836450572561 L -74.01042867884634,40.73870336465879 L -74.01039303134563,40.73917429656179 L -74.01049858988299,40.73917343277044 L -74.01055473996811,40.73918623904904 L -74.01074676135302,40.739175936679636 L -74.01138798406559,40.73921605608866 L -74.0114845673462,40.739260462091536 L -74.01158045502316,40.73926453611203 L -74.01158818724909,40.73927159539765 L -74.01158715816625,40.73947886983224 L -74.01163351895192,40.73950648606615 L -74.01162792311769,40.73956247360362 L -74.01155518156285,40.739556726227335 L -74.01152745020407,40.73987377094734 L -74.01151491736535,40.73997286369882 L -74.0114607395534,40.740584214752545 L -74.01215741913089,40.740605998131294 L -74.01215372624051,40.74067425662073 L -74.01265742489994,40.74069665223181 L -74.0126592820849,40.740747638497446 L -74.01257372996915,40.74074173184491 L -74.01257372874734,40.74073525762267 L -74.01147486918863,40.74068706027105 L -74.01137438820489,40.74072394764133 L -74.01071840609633,40.740685593925555 L -74.00963145571754,40.74064536737426 L -74.00949685520361,40.7407270117855 L -74.00949154621281,40.74074270943981 L -74.00951627358202,40.74077358367353 L -74.00951844195933,40.74080572291694 L -74.00950137905859,40.74082922374579 L -74.00946293860208,40.74090233724034 L -74.00941140266131,40.74115409331289 L -74.0095813182218,40.74117496028482 L -74.00957692791619,40.74121065665442 L -74.01216232909218,40.741491889682656 L -74.01211745872139,40.74175851621162 L -74.00951947145002,40.74149030169604 L -74.00944784072519,40.741891591220195 L -74.00927792756075,40.74187861085616 L -74.0091660821697,40.74241659146345 L -74.00909156846193,40.74288614907239 L -74.00924013575025,40.742899518409956 L -74.00924074160112,40.74291316086342 L -74.00962015348912,40.74295124838978 L -74.00956843411765,40.74325778472641 L -74.00958464345703,40.74326352048308 L -74.0121194002866,40.74351661218258 L -74.01213726936176,40.74353192705925 L -74.01214813183593,40.74355930154756 L -74.0120900828903,40.743897637648885 L -74.01206903486668,40.74392249354837 L -74.01202085006399,40.743939770208854 L -74.01197763342873,40.743935560420994 L -74.00951201767367,40.7436760937603 L -74.00948868364232,40.74369568168213 L -74.00943800870864,40.743971255473085 L -74.0093942693211,40.743968716838204 L -74.0090420750423,40.74393387125508 L -74.00890032962842,40.74391792709604 L -74.00880283523887,40.74443934762422 L -74.00872780058874,40.74485823291004 L -74.00872986359421,40.74488153782969 L -74.00893975844275,40.744909217332456 L -74.00957440612908,40.744992908662816 L -74.00961227924414,40.744997903150555 L -74.00955832929749,40.74528882529872 L -74.00991660813456,40.74532725500708 L -74.00993436677696,40.745317078101856 L -74.00993796184932,40.74529670141045 L -74.00994341816717,40.74526576973638 L -74.00995048769146,40.745225690320936 L -74.00995852601345,40.74518011964662 L -74.00996759959419,40.745128681108454 L -74.0099735068339,40.74509519411574 L -74.00998135739343,40.745050682388495 L -74.00998917273142,40.74500638425944 L -74.00999822601715,40.744955059302136 L -74.00998685784818,40.74494416421523 L -74.00986948474728,40.74493391770718 L -74.0098721108548,40.744916502125776 L -74.01016790535392,40.744942329709616 L -74.0101646519737,40.74496392462979 L -74.01005375656217,40.74495423492993 L -74.01003848384612,40.74496345807818 L -74.0100236125255,40.74504634531803 L -74.01001404323709,40.74509967661556 L -74.01000814033458,40.74513257676564 L -74.00999930170606,40.745181839791066 L -74.0099925052406,40.74521971906426 L -74.00998320132659,40.74527157308871 L -74.00997743638767,40.745303703608975 L -74.0099739502192,40.74532313510927 L -74.00999095379996,40.74533668617138 L -74.01046920011868,40.74538676602899 L -74.01048835594965,40.74537571509469 L -74.01049187417472,40.74535516701381 L -74.01049693441198,40.74532561543083 L -74.01050332781192,40.745288270908866 L -74.01051171655331,40.745239275258356 L -74.01052083436335,40.74518602135884 L -74.01052681665284,40.74515108070613 L -74.01052968455846,40.745134332512635 L -74.0105504475589,40.745013057207466 L -74.01053188168761,40.74500298237182 L -74.01041700660257,40.74499358270339 L -74.01041937209388,40.744976824171076 L -74.01076419780692,40.74500503202081 L -74.01076156046138,40.74502372618354 L -74.0106062154019,40.74501101647431 L -74.01058579200931,40.745020446561604 L -74.01056801091906,40.745137932826424 L -74.01056370849734,40.74516636225321 L -74.01055056928827,40.74525318207785 L -74.01053978205329,40.74532445541941 L -74.01053373534738,40.74536440745701 L -74.01053106537704,40.74538205038949 L -74.01054520392155,40.745392135011635 L -74.01110359804885,40.74544767024397 L -74.01111624163289,40.745436124625456 L -74.0111246622997,40.745377762202466 L -74.01113010029034,40.74534322832556 L -74.01113887006922,40.74528754863188 L -74.01114545795528,40.74524572071857 L -74.01115627315944,40.74517704715616 L -74.01116113418436,40.74514617646103 L -74.01117183119825,40.74507825828337 L -74.01115328709841,40.74506864307028 L -74.01104281748226,40.74506096342361 L -74.01104459150831,40.74504621240204 L -74.01138769974182,40.74507311268263 L -74.01138567845325,40.74508800814149 L -74.0112303805723,40.745075830662714 L -74.01121085294055,40.74517080418519 L -74.0112059244744,40.74519477063079 L -74.01118816871943,40.745281126091704 L -74.01118102964986,40.745315849441425 L -74.01116675082788,40.7453852979819 L -74.0111541917691,40.74544637808396 L -74.01116709976122,40.745460352540015 L -74.01173958552815,40.74551991819022 L -74.01179527645735,40.745154666985016 L -74.01178273500794,40.7451349561284 L -74.01166900853472,40.74512733119142 L -74.01167067583798,40.74511397733984 L -74.01183642872417,40.745125963678774 L -74.01177458786391,40.74552484642139 L -74.01177025765053,40.74555278403761 L -74.01176635449525,40.74557798004351 L -74.0117827582809,40.74560157225544 L -74.01171897530912,40.7459398449978 L -74.01171123496545,40.74596125915174 L -74.01167885505596,40.74597946181598 L -74.01163451251732,40.745978394806144 L -74.01055524902243,40.74587110442292 L -74.01055133475727,40.745902883999705 L -74.01012821388646,40.74585723892902 L -74.01012821162075,40.745842335463074 L -74.00994668462282,40.74581951444565 L -74.0099480791384,40.74580017091197 L -74.00946389855972,40.74575014365948 L -74.00945236676583,40.74581747338835 L -74.00944165126164,40.745880035252775 L -74.00943562211822,40.74591524271852 L -74.00942443646915,40.74598054836308 L -74.00941900727406,40.74601224727717 L -74.00940745668301,40.7460796956091 L -74.009401558017,40.74611413662908 L -74.00939067734767,40.746177655911794 L -74.00938523645611,40.746209426860624 L -74.0093804226021,40.74623753680803 L -74.00937637598555,40.746261163859266 L -74.0093636273423,40.74633560197725 L -74.01153382764763,40.746567754712316 L -74.011567829226,40.74657945216895 L -74.01159123434022,40.74660150547598 L -74.01158846879171,40.746628074402196 L -74.01153307246702,40.74696682694801 L -74.01151183018257,40.74698460360049 L -74.01148373087554,40.74699058876531 L -74.01144491250467,40.746986285028484 L -74.00924314658675,40.74676279075375 L -74.00913736259926,40.74735976280303 L -74.00956047962374,40.74740279960456 L -74.00956103476231,40.74738773359525 L -74.00956765300357,40.747387877453235 L -74.00956826626557,40.7473710834066 L -74.00955039867242,40.74737070611285 L -74.00955155415365,40.74733934176792 L -74.00996384996873,40.747377803012554 L -74.00995838445456,40.74741167208287 L -74.00990669970037,40.74740684960845 L -74.00990158912964,40.74743848434895 L -74.01135675337726,40.747592418346834 L -74.01139477623487,40.74761090210869 L -74.0114067393552,40.747630550068074 L -74.01134693158474,40.7479762059952 L -74.01133174441692,40.748000575342004 L -74.0113035299375,40.74801457190892 L -74.01126611253964,40.748013719181195 L -74.00905847901343,40.74778564533286 L -74.00894606502322,40.748411893168736 L -74.00897918405973,40.74841270962696 L -74.00897918237624,40.74840021938048 L -74.00907100927556,40.748409767206425 L -74.00907390770351,40.748395061700855 L -74.00941511636567,40.74842958691728 L -74.00941607672534,40.74843693503796 L -74.00952336741516,40.74844795680827 L -74.0095188236012,40.74847354043597 L -74.01116687561544,40.748645046766185 L -74.01119472751151,40.748656814113914 L -74.01121561813416,40.748677992243586 L -74.01121562130412,40.748696821175834 L -74.01114914281891,40.7490257472649 L -74.01113289942985,40.74904163383103 L -74.01110891182985,40.74904987591962 L -74.01107797059215,40.74905164311728 L -74.0099481793803,40.74893198800572 L -74.00956004978671,40.749935041288985 L -74.00954248045576,40.750000949023374 L -74.00951808686516,40.75010700478144 L -74.0094700192251,40.75008116415657 L -74.00947559600833,40.75007515771964 L -74.00925340917918,40.749985205721956 L -74.00910453215725,40.750371069730356 L -74.01067737532614,40.75102267447692 L -74.01056463476439,40.75132146210132 L -74.00900098259454,40.750648183782616 L -74.00870618650585,40.75142680500335 L -74.00873137829981,40.75146589496976 L -74.0086672907182,40.75162819722078 L -74.00862089839437,40.75165257792249 L -74.00853256925024,40.75188360930435 L -74.00876004993508,40.75194801420713 L -74.00914082120002,40.75209759409906 L -74.00912661123245,40.75211689573494 L -74.00874567715042,40.75196439532705 L -74.0086511593681,40.75193951261566 L -74.0086431823763,40.75195650203196 L -74.00896912527918,40.75207679147877 L -74.00895742294804,40.752090225130985 L -74.0090389596997,40.752125155649914 L -74.00904909796247,40.75211834944303 L -74.00910757975159,40.75213971211186 L -74.00910596820009,40.752142124949486 L -74.00905774009662,40.752214351243204 L -74.00899734911651,40.75218910594716 L -74.0090076280833,40.75217684223682 L -74.00892887650475,40.7521440018702 L -74.00891472422606,40.75216362847585 L -74.00867223768388,40.75206225000077 L -74.00859053101699,40.75202810543441 L -74.00858095760466,40.752043882411634 L -74.00866456561995,40.752072867876855 L -74.0093408924528,40.752355609545575 L -74.00932795206229,40.752373503046165 L -74.008478955728,40.75201857191992 L -74.00842636447226,40.752157850239286 L -74.00881779819426,40.75232434585423 L -74.00880273703076,40.752344854037226 L -74.0088394166214,40.75235881653471 L -74.00885173565307,40.75234228177298 L -74.00986566961524,40.75276341313929 L -74.00984627922618,40.75278544195944 L -74.00988922619958,40.752803681028176 L -74.00990631519599,40.75278041119839 L -74.0099905581975,40.752816187149115 L -74.00992010631792,40.75291212551443 L -74.00997058797022,40.75293356415319 L -74.00991916275493,40.75300359145925 L -74.00978913116427,40.75294837008773 L -74.00988774868318,40.75281407765334 L -74.00983854674402,40.75279496798311 L -74.00983056913984,40.75280346424459 L -74.00882994505393,40.75238001600717 L -74.00883632714998,40.75237152110955 L -74.00879210090847,40.75235213837954 L -74.00868792219572,40.75249399862842 L -74.00835352838843,40.75235073934234 L -74.00801152240531,40.753256452109525 L -74.00790245613032,40.7535426115119 L -74.00773872468986,40.7539721578186 L -74.00761949611852,40.75428184177414 L -74.00774404830214,40.75433680193175 L -74.00759618989146,40.75453055073418 L -74.00747157990921,40.754477019921296 L -74.00729394650313,40.754723184450896 L -74.00728499944323,40.75473556820317 L -74.00741362036906,40.75478930266945 L -74.00727181174769,40.75498559453525 L -74.00714468360972,40.754932481173455 L -74.00695917416678,40.75518079484942 L -74.00680635763683,40.75539177564033 L -74.00670291840636,40.75553236749098 L -74.00657767658517,40.75570687143398 L -74.00620548925967,40.75622084346845 L -74.00610422181595,40.75636051962065 L -74.00596691029224,40.756558142432894 L -74.00592383847429,40.75662023563424 L -74.00580938168251,40.75678934198097 L -74.00541885841005,40.75732314034921 L -74.00521187705773,40.757231998539936 L -74.00480392560185,40.757809843164736 L -74.00496777078658,40.757884164447994 L -74.00527894797891,40.75802855492829 L -74.0050310513664,40.758357016473155 L -74.0069642874931,40.759160057561644 L -74.00699375268466,40.75917614764265 L -74.00701038304962,40.75920372038669 L -74.00700358904015,40.75923187034111 L -74.00652959987842,40.759874751241234 L -74.00650687640183,40.75989203231721 L -74.00647588371956,40.759893601268054 L -74.0064435290131,40.759890460464604 L -74.00631515935251,40.759842822044654 L -74.00450483093914,40.75908499655273 L -74.00420629125391,40.759501707688415 L -74.00390742032769,40.759375692183525 L -74.00380657835007,40.75951073146602 L -74.0040798895684,40.75962604474275 L -74.00424697128062,40.75969921417143 L -74.0042024743225,40.7597610718818 L -74.00414863814689,40.75983591417081 L -74.00424487588262,40.7598865731666 L -74.00425967856717,40.759875307678556 L -74.00431889425076,40.75991068576346 L -74.00426869650673,40.75995927951594 L -74.00421059345653,40.75992456661004 L -74.00422266067,40.75991310304368 L -74.00413171622799,40.75986164239605 L -74.00411162007795,40.75989300730724 L -74.00366891453541,40.75970596957659 L -74.00357251040076,40.759846558973166 L -74.00392854933564,40.76000301972046 L -74.003825595952,40.76013313666688 L -74.003588009112,40.7604517069513 L -74.0033848822989,40.76072887070636 L -74.00313338991401,40.761078345096344 L -74.00278691552613,40.76092896970336 L -74.00233528130057,40.76154372700165 L -74.00454520983433,40.762492801944866 L -74.00455814361389,40.762507876075354 L -74.00455641560922,40.76252426502509 L -74.00444951527277,40.76266456720002 L -74.00442709659245,40.76267570735638 L -74.00439976203518,40.76267135909885 L -74.0022008207327,40.761728432226505 L -74.00178824022314,40.76229452014167 L -74.00153309066981,40.76264459812762 L -74.00375735037694,40.763582241640584 L -74.00361214794175,40.763777043909755 L -74.001386036986,40.76285009500193 L -74.00097308022016,40.76342027172569 L -74.00314976988994,40.764332888687235 L -74.00294809515722,40.764616835931356 L -74.00306161234066,40.764665782653445 L -74.00313458336224,40.76464959820674 L -74.00316194577044,40.76461261045464 L -74.00322275585363,40.764638037670245 L -74.00315587058185,40.76473050987998 L -74.00314652966799,40.76473628138371 L -74.00313606019273,40.7647407964326 L -74.00312475154531,40.76474393022502 L -74.00311291631085,40.76474559613903 L -74.00310088163013,40.76474574812667 L -74.0030889801569,40.76474438198678 L -74.00106364220511,40.763888208262884 L -74.00073105253733,40.76375528636144 L -73.99992712367728,40.76340652847936 L -73.99963853555371,40.76356907099081 L -73.99962263458187,40.76355908121049 L -73.99951767096823,40.763706279180305 L -73.99944642217315,40.7638061945785 L -73.99943330724619,40.76382391019701 L -73.99915098087908,40.76420525958273 L -74.00227436642373,40.765525181099584 L -74.00228802371481,40.76556154379525 L -74.00205713831564,40.765877390418645 L -74.00202454330335,40.765893266570416 L -73.99919997246741,40.76470191498254 L -73.99910832564545,40.76466249985754 L -73.99888473174988,40.764569377048524 L -73.99857638530538,40.764998607270805 L -73.99859978707626,40.765073340285966 L -73.99863487876344,40.76508579473778 L -73.9986653047344,40.765104480747205 L -73.99868637477219,40.76513739426778 L -73.998695730373,40.7651747656796 L -73.99868870694561,40.765208570449886 L -73.99866764711378,40.76523703534294 L -73.99863371556073,40.76526016874126 L -73.99858924105146,40.76527617880684 L -73.99848276468684,40.76529753698442 L -73.99843830371466,40.765316213833906 L -73.99840202518251,40.765350909087566 L -73.99835829733873,40.76541804876377 L -73.99829119846429,40.76552107275878 L -73.9982709030835,40.76555223341328 L -73.9982816070953,40.765567774934766 L -74.00154217871203,40.76694470253271 L -74.00157335385268,40.76697719221074 L -74.0015618057548,40.76699649936832 L -74.00139437159497,40.76723004773306 L -74.00136434612979,40.76724936397112 L -74.00131469636004,40.76725112004997 L -74.00129391014994,40.76724145824162 L -73.9981567843898,40.76589403537411 L -73.99814818647367,40.76590560707499 L -73.99806675905354,40.76587188113573 L -73.99772134825697,40.7663491205558 L -73.99737808447966,40.766823385877 L -74.00062837395305,40.76820311105873 L -74.000650167862,40.76822037378668 L -74.00064950530418,40.7682452361056 L -74.00045489336716,40.76850419568005 L -74.00041765393195,40.76851247996445 L -74.00038586489076,40.7685041959319 L -73.99715588949212,40.76712869617282 L -73.99681598463503,40.76760062185918 L -73.9964571540504,40.76809881579565 L -73.999728191901,40.76947350663373 L -73.99973590247853,40.76950617733156 L -73.99955518930786,40.76975080774008 L -73.99951552161613,40.76976756583784 L -73.99947253734024,40.76976421547175 L -73.99707176039311,40.768732643576875 L -73.99702628821073,40.768795515623886 L -73.99715035477146,40.76884738771343 L -73.99701071413826,40.76902879065368 L -73.99689311312369,40.76897962932204 L -73.99657126439577,40.76942456827386 L -73.99902682832902,40.77046327298209 L -73.99876206914315,40.770825056709235 L -73.99631327022085,40.76979883633644 L -73.99588004351685,40.770400579514856 L -73.99601693196199,40.77045484888622 L -73.99590077425034,40.77061312350098 L -73.99576733283618,40.770554595953904 L -73.99542474436302,40.771031615168 L -73.99575648212901,40.77116066846582 L -73.9957085906995,40.771225812532954 L -73.99579774020454,40.7712825627641 L -73.99581687579044,40.771256516415576 L -73.99591283603844,40.77129785562379 L -73.99592803670673,40.771275102837656 L -73.99600175749052,40.77130746533057 L -73.99589990100937,40.771450298582124 L -73.99589260894886,40.77144708702465 L -73.99585437252811,40.771499180748485 L -73.99579117748779,40.77147551882043 L -73.99582805886243,40.77142166722244 L -73.99572993314408,40.77137881879375 L -73.99575123412828,40.771354282277244 L -73.99562982240307,40.77132529262809 L -73.99562306904366,40.771336957512894 L -73.99530566365357,40.771196004909555 L -73.99512395556886,40.77145073826713 L -73.99499014482076,40.77144070980652 L -73.99495733353699,40.77144919069772 L -73.99493501659009,40.77146814607544 L -73.99492385794417,40.7714856059375 L -73.99492582120637,40.77151604240552 L -73.99500915438725,40.77160733994417 L -73.99497830771196,40.771645249473316 L -73.9949768849473,40.77165877492336 L -73.99707328169315,40.77254286890196 L -73.9968729144914,40.772817481228614 L -73.99477407930823,40.77192954753023 L -73.99444501293384,40.77237712658833 L -73.9954551499559,40.77280267502913 L -73.99622972001936,40.773128975045346 L -73.99612087994667,40.77327539109304 L -73.99434191991621,40.77252478194346 L -73.99424979228651,40.77252648513813 L -73.99416328456306,40.77248719102132 L -73.99383108203092,40.772931787850695 L -73.9938875450246,40.77295574416391 L -73.99389125243704,40.772955194876744 L -73.99396258551457,40.772944653908965 L -73.99401262480514,40.77288284612936 L -73.99412205808243,40.772924058523486 L -73.99413665258861,40.77290187017428 L -73.99430134239114,40.77297002866396 L -73.99428153513446,40.772993801566784 L -73.99437655275096,40.7730395511014 L -73.99431863468713,40.773121440270245 L -73.99429402982382,40.773156243991835 L -73.99502327586075,40.77348119657622 L -73.99507108796963,40.773414138665856 L -73.99508939189286,40.77338847503918 L -73.99501396371679,40.77335803492439 L -73.99505028469918,40.773297153189894 L -73.9962406518988,40.77378979139771 L -73.99619583747098,40.7738523561841 L -73.99610846880843,40.77381631601511 L -73.99610778142996,40.7738173776011 L -73.99606316808179,40.7738868866101 L -73.99612697773726,40.77391335462087 L -73.99612850482784,40.773913984903174 L -73.99612636140223,40.77391671365422 L -73.99609880736975,40.77395180529914 L -73.99611835102779,40.773960323961404 L -73.99617945997379,40.77398695435155 L -73.99609524522621,40.77408618643766 L -73.99605125275335,40.77406889580324 L -73.99557226516114,40.77387073139432 L -73.9939369418221,40.77317951096691 L -73.9938629532914,40.77326952907231 L -73.99382334505351,40.7733817668827 L -73.99376791399207,40.77348399450781 L -73.99369930927804,40.773562152155534 L -73.99362279521324,40.77363229021241 L -73.99352782764133,40.7737144464686 L -73.99344341917197,40.77377054967834 L -73.99341175671518,40.77380261242394 L -73.99335894150748,40.77392688015467 L -73.99262266386542,40.77497405603696 L -73.9925778427661,40.77495601635944 L -73.99252774395154,40.77500211043988 L -73.99246974581534,40.77502415955181 L -73.99240383719187,40.7750181403907 L -73.99226708903541,40.77511603385859 L -73.9920590849371,40.775497598694876 L -73.99212537239492,40.77550907505339 L -73.99222686779699,40.77548221102617 L -73.9923293466088,40.77546890095856 L -73.99236175680113,40.77550189976668 L -73.99238604296033,40.77555717992209 L -73.99208768471269,40.7759839708214 L -73.99201877991071,40.77607334073544 L -73.99142953190217,40.776879560545325 L -73.99092717414969,40.777566878763004 L -73.99073041339479,40.7775605502426 L -73.99039616003651,40.777585065679084 L -73.99010126597662,40.77799645751665 L -73.9896488729282,40.77862756000902 L -73.9892009588643,40.7792523986516 L -73.98920068089922,40.77925278678187 L -73.98917577843804,40.779287524015814 L -73.9890851947859,40.77940759766206 L -73.98886861740003,40.77969292291146 L -73.98887187449976,40.77971373825306 L -73.98921902288048,40.779697895712 L -73.98927785904425,40.77972343927107 L -73.98940905418013,40.779737706471984 L -73.98949861492703,40.779725044389785 L -73.98959649338822,40.77969814668342 L -73.9896798129025,40.779677568658066 L -73.98975270293786,40.779671244714166 L -73.9898422478065,40.77968075267071 L -73.98994430227148,40.779696592768644 L -73.99004010212055,40.77970767719569 L -73.99013797752482,40.77969976970482 L -73.9902233684564,40.77968236171382 L -73.99033584033221,40.779661794395025 L -73.99043059869709,40.779664972552965 L -73.99050764615505,40.77966813912389 L -73.99062219939678,40.77967606441175 L -73.9907450695054,40.77967132868666 L -73.99087211428218,40.77964600764393 L -73.99096167222429,40.77963968425436 L -73.99105747282952,40.77965235262579 L -73.99115742949704,40.77966977560649 L -73.99124281740437,40.77967136758713 L -73.99125531828965,40.7796507830191 L -73.99129488712012,40.77963020920891 L -73.99132196764988,40.77963179604142 L -73.99135945556947,40.77958588283484 L -73.99155105922745,40.77957482093481 L -73.99141982585964,40.779755280287084 L -73.98888614411696,40.77987889853276 L -73.98893965670626,40.77995617844044 L -73.98892610353074,40.78005929251624 L -73.98891168026461,40.78009603764924 L -73.98891166067366,40.780122366267655 L -73.98891926146842,40.780226094343696 L -73.98838105020263,40.78098107404584 L -73.98823241384697,40.781233144215605 L -73.98821042083165,40.781225482542105 L -73.98814418135409,40.78136567132724 L -73.98813788174478,40.78137928127405 L -73.98812746168686,40.78140179694493 L -73.98804128806725,40.781585960851245 L -73.98810029382462,40.781602878305314 L -73.98807644914505,40.781650935001664 L -73.98801805997222,40.78163418881048 L -73.98796079284213,40.78177098703157 L -73.98791968459238,40.78183347821583 L -73.9878772872501,40.78189205133479 L -73.98647480368594,40.783916573718756 L -73.98625187003545,40.78423876424547 L -73.98611372725296,40.7844389118774 L -73.98561580396368,40.785141862595076 L -73.98546581197026,40.78536070057549 L -73.98617270496545,40.78606845225872 L -73.98645586240198,40.78591921908145 L -73.98707234561559,40.78518963882015 L -73.98711901394266,40.785210318501555 L -73.98649778102359,40.78595120288729 L -73.98616462880626,40.78612188244835 L -73.98612842248589,40.78623900133117 L -73.98607113521973,40.78624070602663 L -73.98602727478912,40.78622896423677 L -73.98609763784941,40.78605822569798 L -73.98542932126942,40.78541394218466 L -73.98508113773205,40.785921935110494 L -73.98519883325449,40.7859665521978 L -73.98517050238989,40.7860133341582 L -73.98521621867364,40.786030501816455 L -73.98525509797992,40.78597620551162 L -73.98524273937656,40.785972572150776 L -73.98524962933016,40.78596313985589 L -73.98528177918674,40.7859786209501 L -73.98524003288452,40.78603585813683 L -73.98568388524217,40.78622212391972 L -73.98571752900456,40.78617599466884 L -73.98576566029752,40.78619627485866 L -73.98568287192252,40.786309786213174 L -73.98563627093054,40.78629015014674 L -73.98567072256466,40.786242911993845 L -73.98561523764435,40.78621964571532 L -73.98520511880037,40.78604766921283 L -73.98521103560748,40.786039554883715 L -73.98516263994709,40.786020999267215 L -73.98513163631205,40.78606029702001 L -73.98501696406484,40.786014237698254 L -73.98493597820354,40.78613072065104 L -73.98465507883023,40.786534741808 L -73.98574378790103,40.786570082854766 L -73.98589227228327,40.786426529019614 L -73.98594285499497,40.786452847880376 L -73.98594956155668,40.786487113463956 L -73.98581237352651,40.78661686535713 L -73.98513520970326,40.78658761839296 L -73.9846194285841,40.78658601634987 L -73.98369521623664,40.787915281312756 L -73.98234664147552,40.78985478127527 L -73.98188645946547,40.790516580432566 L -73.98139174468552,40.79122824600518 L -73.98128937370952,40.791375509433074 L -73.98094708354064,40.791867893782545 L -73.980537679464,40.792456812625026 L -73.98043434256005,40.79259428309679 L -73.98013222578648,40.79299376588578 L -73.98004684397988,40.793113525666534 L -73.9792882208298,40.794177632163354 L -73.97828949152756,40.795586760460935 L -73.97779475503206,40.796284629771954 L -73.97685207845194,40.79763134839322 L -73.97639951930557,40.79827321069256 L -73.97628527884254,40.798435235410096 L -73.97583055785236,40.79909228091328 L -73.97578169321191,40.799156256780336 L -73.97579140130196,40.799209627886256 L -73.97576219486481,40.79926017354933 L -73.97554385822,40.79952825113995 L -73.97526783234454,40.799932849531764 L -73.97508668067891,40.80018953363303 L -73.97496436808184,40.80036963419393 L -73.97483924436003,40.80055824326271 L -73.97466556722725,40.8008135147342 L -73.97448722520987,40.80105742889686 L -73.97414361823468,40.80151689534119 L -73.9739409836669,40.80180902586403 L -73.97389989052462,40.80188986353124 L -73.9737747724601,40.8020458459486 L -73.97372060455763,40.80216781528028 L -73.97361322463902,40.8022968598872 L -73.9735422772157,40.80235641125034 L -73.97336671067802,40.80263011334651 L -73.97320518045738,40.80283005827633 L -73.97312859120993,40.80297471550868 L -73.97307070537943,40.803055548447446 L -73.97303522902074,40.80307397374195 L -73.97292317001968,40.80324982284388 L -73.97286807262154,40.803320734176076 L -73.9728717908152,40.80335618764534 L -73.97255429829629,40.80379863465017 L -73.97217237241797,40.804319076959075 L -73.97205095521868,40.80453037601008 L -73.97195292438504,40.80461970955419 L -73.97181849483565,40.80471754270196 L -73.97179980150743,40.80478561548604 L -73.97171200727094,40.80493169127657 L -73.97162049569336,40.8050422943994 L -73.9716111339144,40.80509618747438 L -73.97144210961521,40.80533442683983 L -73.9712908330033,40.80552870753326 L -73.97110765852304,40.80579013967674 L -73.97046512144398,40.80662431761244 L -73.97021400799224,40.80693570615338 L -73.96988290614696,40.8073647884813 L -73.96977288943359,40.807525282141206 L -73.96955934797353,40.807795500999006 L -73.9691117356584,40.808406370069 L -73.96909103244393,40.80843016457585 L -73.96891678484035,40.80863078055982 L -73.96885218645325,40.80875198611458 L -73.96866264764937,40.80896329267821 L -73.96855747771224,40.80907289382104 L -73.96854420633784,40.8091451098902 L -73.96846348611663,40.80931871401998 L -73.96842473507036,40.80939406033304 L -73.9682395273212,40.80966268439701 L -73.9681533751206,40.809765881408744 L -73.96811675018665,40.80980683624053 L -73.9681318659272,40.80984448922503 L -73.96796065311774,40.81010000956674 L -73.96788312497561,40.81020156467964 L -73.96788099174022,40.81024414732453 L -73.96779484834467,40.81036699687148 L -73.96772160095225,40.81043416111092 L -73.96770439052301,40.81048819988442 L -73.96766778940896,40.81055044594291 L -73.96762038824613,40.81058485039438 L -73.9676204142262,40.81063070103736 L -73.96754397270513,40.810773199724146 L -73.96740185312369,40.81102215539714 L -73.96713048758595,40.81138742007394 L -73.9670411118029,40.81152009962687 L -73.96700232144049,40.81154794802971 L -73.96692265508437,40.81169044653369 L -73.96688175014945,40.81177397642825 L -73.96674930787978,40.811981985011855 L -73.9666330076011,40.81215397028547 L -73.96652962321875,40.81228501552484 L -73.96639177720881,40.81247337316193 L -73.96627762716805,40.81263881200029 L -73.96615809223947,40.812815702791305 L -73.96610639539487,40.812863206936306 L -73.9658824094512,40.8132006263486 L -73.96579194974646,40.81332838170006 L -73.9656584016126,40.81349873149245 L -73.96548975012963,40.813747072367896 L -73.96548932424875,40.813747694258815 L -73.96534706551702,40.813939651896746 L -73.96510784267457,40.814275476029756 L -73.96509511906348,40.81431957215656 L -73.9643248339137,40.815512737010685 L -73.96414082888299,40.81577165745394 L -73.96340395102307,40.81668419743772 L -73.9631270240379,40.81695509533644 L -73.96308529694105,40.817006113433166 L -73.9627191339208,40.817368490757346 L -73.9620310579599,40.818086330979206 L -73.96187917035327,40.81825856409007 L -73.96131833180573,40.818894523557404 L -73.96094889843974,40.81931128887274 L -73.96044728492032,40.81987715679102 L -73.95999892229345,40.820382944802326 L -73.95981462674555,40.82029787470141 L -73.95939068797934,40.82085517835587 L -73.95932566265209,40.82094627625345 L -73.95928300647289,40.82099497441371 L -73.95913061580629,40.821168953774794 L -73.95920767709246,40.82120790934952 L -73.95926255403742,40.82123565535863 L -73.95930263598677,40.82118989752308 L -73.95942624349648,40.821252381738 L -73.95914685715192,40.821571328550995 L -73.95903294155774,40.821513746228526 L -73.95923467193995,40.821277825270464 L -73.95917712794261,40.821249429985144 L -73.9590896024009,40.821206247055954 L -73.95881892233997,40.821518524846795 L -73.9589417294171,40.8215693640096 L -73.95885403985397,40.821674750247254 L -73.958745236605,40.82180551197366 L -73.95896360094639,40.82237379414216 L -73.95900018289892,40.82240972837438 L -73.95911304024106,40.82245496464561 L -73.95922976213465,40.82228691013236 L -73.95990999444398,40.822571119822015 L -73.9596033246028,40.82299468678335 L -73.95892614718302,40.822711755441375 L -73.95904953331708,40.822541335368264 L -73.9589172176045,40.82248605137148 L -73.95886745433307,40.82245023922807 L -73.95883849863237,40.82240504207787 L -73.95865126011921,40.82191843657337 L -73.95864585147658,40.821904369631795 L -73.95852731524258,40.82184375665217 L -73.95820019354012,40.82228313691813 L -73.95816805363593,40.82245810099123 L -73.95813063305563,40.8225310909584 L -73.9580746794387,40.822611358464904 L -73.95793904909121,40.822774353547324 L -73.95822838183035,40.8228878671009 L -73.95820639539103,40.822922131912286 L -73.95814312769203,40.82302072227147 L -73.9591645863233,40.82345179548341 L -73.95918196037644,40.82345912294563 L -73.95943846744422,40.82356239229297 L -73.95946454189175,40.823571135671756 L -73.95948269766957,40.82357865266565 L -73.95949747410954,40.82358681628592 L -73.95950361164489,40.823591185797795 L -73.95950897939188,40.823595788902814 L -73.95953101411841,40.823619182180636 L -73.95953800225297,40.82362933408737 L -73.95954284439085,40.82363916845249 L -73.9595447255249,40.823644941829315 L -73.95954522180324,40.82364733759966 L -73.95953351105084,40.82368501839727 L -73.95955575493863,40.82369379776882 L -73.95914038269946,40.824317590205204 L -73.95901612941898,40.82450418849931 L -73.95899582803376,40.82449642742512 L -73.95743708511746,40.82684854794973 L -73.95725896977147,40.827117309873124 L -73.95694866420469,40.82700055393502 L -73.9563178451031,40.827944215388584 L -73.95620054528383,40.82790122659753 L -73.95620373779566,40.82789698609989 L -73.9562239436024,40.827870087391425 L -73.95503912978396,40.827413431911886 L -73.954697366195,40.827918385514245 L -73.95454188062128,40.827861476365534 L -73.95446469977234,40.82797416969881 L -73.95446458034701,40.82797433215005 L -73.95444120044071,40.828006635298706 L -73.95436068010206,40.828117883015196 L -73.95427220906049,40.82823654314249 L -73.95421653625765,40.82830747085551 L -73.95416950644204,40.82836086924022 L -73.95413649135831,40.82839340956271 L -73.95406111804249,40.82846213245153 L -73.95403271717639,40.82849042349068 L -73.9540210667868,40.828502980304535 L -73.95398614911781,40.82854351625169 L -73.95395406407458,40.82858535816412 L -73.95359128626792,40.829097720648775 L -73.95297619362618,40.83009020327106 L -73.95218597296554,40.83127711791915 L -73.95191404057142,40.83161971741834 L -73.95180892345962,40.83182432051804 L -73.95165656369011,40.831976994571534 L -73.95155293475376,40.83213419998709 L -73.95131742037594,40.832479572947946 L -73.95119183012206,40.83263915127988 L -73.951147921668,40.832783592961576 L -73.95105224571276,40.83292243813643 L -73.95104109555929,40.8330224885963 L -73.95100838567062,40.833140649958075 L -73.95095307083005,40.83328357982981 L -73.950865127052,40.833434120627636 L -73.95080734993236,40.83351414932589 L -73.9507269874008,40.83359226359995 L -73.95068177244163,40.83365133130826 L -73.95056874248017,40.833788518529545 L -73.95051346128379,40.83388570376938 L -73.9504833022592,40.83394477902903 L -73.95044809740803,40.834041971680335 L -73.9504179493977,40.834085798395556 L -73.95034009355558,40.83416772531002 L -73.95028481740769,40.83425728558506 L -73.95021218560015,40.83430311995836 L -73.94988915620415,40.835284721261594 L -73.94979826505224,40.83548984121036 L -73.94978471338267,40.83552043388435 L -73.94974257886045,40.835628087824915 L -73.9497389152804,40.835705654477806 L -73.94971243579302,40.83577499028431 L -73.94969313831767,40.83586258094351 L -73.94968349007466,40.83592188337071 L -73.94968950571446,40.83604113937385 L -73.9496911764021,40.836074277497524 L -73.94968634744758,40.83610986332498 L -73.94965628913987,40.83619093997082 L -73.94964541816819,40.83622025475024 L -73.94962137643168,40.836232103601034 L -73.94960149708491,40.83630509880222 L -73.94958334065862,40.83648393783686 L -73.94954600729373,40.83660437150185 L -73.94950991762181,40.83666548968748 L -73.94945701919954,40.83670561947376 L -73.9493885290614,40.83671562143802 L -73.94932846081286,40.836719250936525 L -73.94929034657062,40.836729292485 L -73.94928698611031,40.83673277579081 L -73.94928446259098,40.83673664542322 L -73.94928285089011,40.8367407865633 L -73.94928219882998,40.83674507633596 L -73.94928252575853,40.836749387455896 L -73.9492838219754,40.836753592004364 L -73.94928604901966,40.836757565224815 L -73.94928914081102,40.83676118922454 L -73.9492930056105,40.83676435647282 L -73.94929752874252,40.83676697299167 L -73.94930257599755,40.83676896114412 L -73.94937713355948,40.83678033441996 L -73.94943994696526,40.83679169931692 L -73.94944230013118,40.83679215701848 L -73.94949739936226,40.83681498148952 L -73.94954210504484,40.83687963192569 L -73.94918058897862,40.83786401012167 L -73.9491523412929,40.83793355255772 L -73.94900459767892,40.838425588533575 L -73.94892891168685,40.838643426286104 L -73.94883961981105,40.83887563584406 L -73.94875763667535,40.83902023748256 L -73.94865775026861,40.83930134521822 L -73.94856054520527,40.839564885161735 L -73.94849640289061,40.83966759317255 L -73.94842860791549,40.83986085415067 L -73.94833417923782,40.83999733538348 L -73.9482744989375,40.84006354066216 L -73.94823352622095,40.840117596270005 L -73.94807484255504,40.84046625897537 L -73.94796701014053,40.840654108198756 L -73.9478600345227,40.8408960125876 L -73.94776196087732,40.84112575633131 L -73.94770934809964,40.84126360686618 L -73.94760600401791,40.841409547682346 L -73.9475560981857,40.84152866737066 L -73.9474889692931,40.841697463881715 L -73.94738322154262,40.84194082580191 L -73.94727430439127,40.84205178297006 L -73.94721047555683,40.84210112669682 L -73.9471678822236,40.84215909904338 L -73.94713367972261,40.842258624112795 L -73.9471205331108,40.84228559694069 L -73.94710715174415,40.84230678757892 L -73.94696012382846,40.8425395701268 L -73.94693502862808,40.84261919800679 L -73.94686918645297,40.84270482289426 L -73.94678768212597,40.8428151274789 L -73.94675510074804,40.84288846151563 L -73.94670984756601,40.842944124651574 L -73.94661642596199,40.84302009833804 L -73.94654808278284,40.84311998115942 L -73.94645858066613,40.84325438376344 L -73.94636919991535,40.843454779954776 L -73.94631349566352,40.84355977043896 L -73.94624891918195,40.843671204578584 L -73.94619788899398,40.84375409896804 L -73.94612625578607,40.84388856876932 L -73.94612416421772,40.84389249655717 L -73.94611933577555,40.844004737494075 L -73.94609745833887,40.84405505204732 L -73.94609415172175,40.84409735524901 L -73.94611365510728,40.84419627752617 L -73.94611699818833,40.844224965669234 L -73.94609316413103,40.8442911486529 L -73.94610537772513,40.844349722635414 L -73.94608425805833,40.844468181965155 L -73.94609124077476,40.844498801346006 L -73.94607880557088,40.844597670328355 L -73.94610929980439,40.84485857499078 L -73.94612272152783,40.844879554715874 L -73.94612836835319,40.8449118071587 L -73.9461469239887,40.84493975742343 L -73.94616018722814,40.845029844919466 L -73.94616086907159,40.84512582705786 L -73.94619138728335,40.84519797277934 L -73.9462057455364,40.84523179311288 L -73.94622271166769,40.845259166341314 L -73.9462106518648,40.84533362513187 L -73.94617704845383,40.84536591521324 L -73.94617174983877,40.845392891580666 L -73.9462068240667,40.84546174573897 L -73.94623062385419,40.84557698074463 L -73.94627664957972,40.84569065991843 L -73.94630774814603,40.84574093432607 L -73.94643878255482,40.84588592292343 L -73.94646620992474,40.845881260909515 L -73.94647950512866,40.84591977807311 L -73.9464454448152,40.84592148809304 L -73.94648387687248,40.84596468731363 L -73.94651730200577,40.84599518440377 L -73.9465038958519,40.84602819976765 L -73.94645597912816,40.84605816509617 L -73.94642581953661,40.84606333862834 L -73.94634839459356,40.84615644860685 L -73.94635078049936,40.846240331289295 L -73.94640288265276,40.84636129162239 L -73.94643643817493,40.84643991999423 L -73.94647353057917,40.84652861816349 L -73.94651683205119,40.846593139850704 L -73.94664058210431,40.84668489453908 L -73.94671767879136,40.84682475874978 L -73.94678956849322,40.846996749345365 L -73.94682445342644,40.84713426206983 L -73.9468093526662,40.84728844663749 L -73.94678220543959,40.847353389196755 L -73.9467493384277,40.84740595933719 L -73.94669858704917,40.84749739387241 L -73.9466857685379,40.84772839504429 L -73.94665606434616,40.84788332048358 L -73.9466405820579,40.84793929215051 L -73.94662285734353,40.84814551949151 L -73.94662027748593,40.84821401783119 L -73.94661949998888,40.84827842591199 L -73.94664422572278,40.84839933388537 L -73.94665040763176,40.84866760421681 L -73.94667853765395,40.848837459093026 L -73.94663550012669,40.84891242505973 L -73.94665064310519,40.84900501041172 L -73.9466649962484,40.84904569410094 L -73.94670601763004,40.849094377297085 L -73.94672051176053,40.84923178341685 L -73.94673313406388,40.84926749721453 L -73.94675656427766,40.84930266769509 L -73.94681164673335,40.84935193429136 L -73.94683872036461,40.84938282135103 L -73.94685525004355,40.849427680199675 L -73.9468547984757,40.84953947126501 L -73.94688244417458,40.849592841569205 L -73.94689505793295,40.84963945308077 L -73.94690063210692,40.849674148755454 L -73.94696652237154,40.849815174535266 L -73.94695922943819,40.849848958490526 L -73.94695108849982,40.849859164465606 L -73.94695222118318,40.849890097861916 L -73.94699578658114,40.849955924292246 L -73.94695814474186,40.84998525944924 L -73.94696706524549,40.84999566592073 L -73.9469851657691,40.84999453307057 L -73.94702782494721,40.85004183181247 L -73.94702536171071,40.85006211459112 L -73.94700527357742,40.85008186727119 L -73.9469744714631,40.850089895081325 L -73.94695342915082,40.85009773522211 L -73.94696404495707,40.850111655775464 L -73.94698645041228,40.8501188303829 L -73.94701781699507,40.850126995982734 L -73.94702897203594,40.850144759933634 L -73.94701921000414,40.85019509273564 L -73.94704980259193,40.85022334922841 L -73.9470439927835,40.85025474598785 L -73.94700406576868,40.85032932870025 L -73.94700459608353,40.85034406799346 L -73.9470111027367,40.850356292656805 L -73.94700167436996,40.85038652011268 L -73.94699808302224,40.850398030842705 L -73.94696441759594,40.85046552581822 L -73.94692626404864,40.85052805566839 L -73.94686899614925,40.85058959685875 L -73.94681367391628,40.85064903917812 L -73.9468021962802,40.85066137198845 L -73.9465159021613,40.85096833908053 L -73.9465022945865,40.850975665608765 L -73.94648743449166,40.85098142053968 L -73.94647163441957,40.85098548283344 L -73.946456883783,40.85098762091191 L -73.94644189202961,40.85098828158552 L -73.946426914691,40.85098745359325 L -73.94641216086171,40.850985140782825 L -73.94639793164113,40.85098138367282 L -73.94638447111373,40.85097624671185 L -73.94637201017785,40.85096981801799 L -73.94633875378985,40.85094782632473 L -73.94632077412027,40.85092325667696 L -73.94632888036679,40.85090437687031 L -73.94635174194327,40.850893073305485 L -73.94635218637764,40.85086996465729 L -73.94633796356045,40.85085289594619 L -73.94632729794796,40.85084603307687 L -73.94631589827777,40.850838696108646 L -73.94629717304834,40.85083313533094 L -73.94627501496706,40.85084097717303 L -73.9462437464238,40.850884542994926 L -73.94619776917537,40.85090566620355 L -73.94617304480155,40.8509579544857 L -73.94619597814525,40.85097417207252 L -73.94620078322082,40.85103148810541 L -73.94618601249205,40.85103146965694 L -73.94617210619417,40.85105211981512 L -73.94615819227633,40.851047286468976 L -73.94614699837965,40.85103129062844 L -73.94614542501228,40.85100746588199 L -73.94613392284641,40.85098393184359 L -73.94611976648,40.85096875414162 L -73.94609670195229,40.85096634124815 L -73.94608190501069,40.850980714881075 L -73.94608745879516,40.85100806299917 L -73.94609742395545,40.85103260246979 L -73.94609813224021,40.851033575609385 L -73.94614159383494,40.85109369946765 L -73.9461365365532,40.85115472606461 L -73.94611744105192,40.85117258251716 L -73.94604780286082,40.85118855097143 L -73.94596473439123,40.85117187483648 L -73.94593025783085,40.85118972170721 L -73.94589577454174,40.85118733910365 L -73.94584092799157,40.85116947664422 L -73.9457672616562,40.851169465657186 L -73.94572493994535,40.85119683231841 L -73.9457280636197,40.85122777318988 L -73.94568261912607,40.85122657662459 L -73.94565283626454,40.85121109783866 L -73.94561208079904,40.85123965310488 L -73.94555563975034,40.85132056777701 L -73.9455274302487,40.85132056333898 L -73.94551957908563,40.85136221265918 L -73.94548126448136,40.85137185814796 L -73.94544903734403,40.851427659209556 L -73.94542239540552,40.85142646640574 L -73.94539575400479,40.85141575106135 L -73.94537850253991,40.85142645819599 L -73.9453894688811,40.851452636411764 L -73.9453220733816,40.851469288984646 L -73.9453126619556,40.85148476301881 L -73.94527975259126,40.851494277486566 L -73.94525311095308,40.85149188685129 L -73.94524369522841,40.85151925922962 L -73.94527268032803,40.85154604373082 L -73.9452664099904,40.85157102905377 L -73.94519586853583,40.8515924459341 L -73.94515355659357,40.85158648460707 L -73.94506578300147,40.85163883110603 L -73.9450438270494,40.85167095784095 L -73.9450062023457,40.851701901256284 L -73.94497798395632,40.85173164800295 L -73.94493252678446,40.851730442257654 L -73.94487731272544,40.85175382276423 L -73.94477702280386,40.851796289732775 L -73.94476577414821,40.85180105290192 L -73.94471445485968,40.85181539412329 L -73.94469380703813,40.85182409376923 L -73.94468765455619,40.85183573436761 L -73.94469269934115,40.85186250585687 L -73.94468978310026,40.85187715404709 L -73.94468324055724,40.85191000995948 L -73.94466721178145,40.8519212260068 L -73.94463234124329,40.8519094970436 L -73.94458845635086,40.85192734234598 L -73.94457747870628,40.851942815566744 L -73.94450381945983,40.851957079452646 L -73.94448658151262,40.85192375812127 L -73.94450316357793,40.85189939814242 L -73.94450515512598,40.85188989851208 L -73.94448761915838,40.85188879832497 L -73.94446197854774,40.85189939088671 L -73.94445368133265,40.8518975677551 L -73.94442232659368,40.851904704731275 L -73.94439725279882,40.85189280267391 L -73.94440667125734,40.85185472059506 L -73.94436749784857,40.85182496177965 L -73.94432518482476,40.851822576438636 L -73.94431733342697,40.851855893393555 L -73.94429068208862,40.85188207432167 L -73.94424522499301,40.85192014936552 L -73.9442107380319,40.851929655729336 L -73.94422169651071,40.8519760733924 L -73.94419660781348,40.85201534181587 L -73.94413391031536,40.852027229589474 L -73.94407123081963,40.852015319630745 L -73.94401323950726,40.851999843664416 L -73.94399128130902,40.85204149055216 L -73.9439599164944,40.852118841320504 L -73.94388153574913,40.852172377710055 L -73.94379610595543,40.85219795296422 L -73.94360072985177,40.85223102071619 L -73.94347978545667,40.852281882444565 L -73.94305902944298,40.85260143014698 L -73.9430264437118,40.852626177871 L -73.94279838505354,40.85285123388989 L -73.9426099668357,40.8530679147468 L -73.94247365925777,40.85317127780925 L -73.94205514258485,40.85365410745571 L -73.94186996426673,40.85386773944284 L -73.94182774425047,40.85398996013006 L -73.94173105661486,40.854108388549356 L -73.94158158800445,40.854347143808475 L -73.94153736742429,40.85443564359613 L -73.94150213189893,40.85450012674862 L -73.94149762132159,40.85450838436773 L -73.94140980642398,40.85468463048617 L -73.94131311131319,40.854795539755216 L -73.94126592051116,40.85494407878849 L -73.94123366359767,40.85500988797688 L -73.94103277003123,40.85530503864256 L -73.94099928999186,40.85535861893864 L -73.94100914313304,40.855415039634806 L -73.94095704472414,40.85552033439454 L -73.94085539855494,40.85562183077847 L -73.94076854842892,40.85580797146757 L -73.9407462171037,40.85584744692041 L -73.94069419380095,40.85585306606021 L -73.94061975134615,40.85601100074251 L -73.9404883126927,40.85620462882272 L -73.94040517776624,40.85637290578203 L -73.94035056461375,40.8565158035758 L -73.9402934749712,40.85664177065764 L -73.94014717618712,40.856833517057154 L -73.94008523452419,40.85685605129765 L -73.94001827015911,40.85695004564521 L -73.9399488067714,40.85706661425613 L -73.93978146211117,40.85723483699597 L -73.93968482410261,40.85728932103603 L -73.93961041073227,40.85739647639681 L -73.93940211514393,40.857665297972225 L -73.93936488888224,40.857740505738384 L -73.93928303850643,40.857860822791345 L -73.93922231976174,40.857893694231095 L -73.93911094164396,40.85804091122576 L -73.93904122641774,40.858202016363876 L -73.93891471443509,40.85840693742325 L -73.93865680565516,40.858734030419264 L -73.938653061647,40.858768813621985 L -73.93850174725029,40.8590113350078 L -73.93843728791872,40.85907336212118 L -73.93841643396281,40.85916624596714 L -73.93830957434292,40.85938052360813 L -73.9378533658648,40.85983027123297 L -73.93773556377961,40.859933512239365 L -73.93755734318508,40.86008135632528 L -73.9375294417256,40.860096641282055 L -73.93753066305457,40.86011187884762 L -73.93755218656987,40.86012367458298 L -73.93758716318418,40.86014954032663 L -73.93758054206499,40.860203206651235 L -73.93735436134426,40.86051512129019 L -73.93713577511467,40.86078363720222 L -73.93709390407562,40.860925242991286 L -73.93704223142183,40.86105753297895 L -73.93696851748108,40.86114321902514 L -73.93681096972902,40.86125802374987 L -73.93680279963675,40.861279081626606 L -73.93681851547507,40.8613158186805 L -73.93681045449254,40.86136346605997 L -73.93647561664848,40.86192659167333 L -73.93596813006847,40.86254409239618 L -73.93559460797825,40.8629650518521 L -73.93485089173119,40.86396557693492 L -73.93475540717613,40.86409633924065 L -73.93461870076239,40.86426987104496 L -73.93443446851109,40.86450373173382 L -73.93435568513524,40.86473290706843 L -73.93423164079232,40.86481389782273 L -73.93419230301875,40.86487910753106 L -73.93408173881343,40.86497781014824 L -73.93401664426698,40.86503554829163 L -73.93401648524471,40.865195817666724 L -73.93395001711579,40.86534674620988 L -73.93386283123479,40.86541004611187 L -73.93378916436356,40.865428634268554 L -73.93363055568612,40.86570901942335 L -73.93357158007582,40.86576675094428 L -73.93357396122035,40.86584129553874 L -73.93349285424166,40.865945614824895 L -73.933436350697,40.865986581995365 L -73.9334362891443,40.86604807580755 L -73.93340182700804,40.866135646839936 L -73.93332317557568,40.8662380950142 L -73.93325688879918,40.86624178458103 L -73.93313150185674,40.86642621378959 L -73.93307500307857,40.8665574187251 L -73.93283349428317,40.86698204820548 L -73.93266332721463,40.86723706643701 L -73.93275648627251,40.86726436016796 L -73.93276260783125,40.86725229755718 L -73.93290171891769,40.86729304389973 L -73.93283958205063,40.86741527691144 L -73.93264569574568,40.867358477642384 L -73.93266035056371,40.8673296613538 L -73.93259794852806,40.86731134967043 L -73.93254830386952,40.867413833501544 L -73.9325188840444,40.867410503365875 L -73.93242538215391,40.86756824792113 L -73.9323866223573,40.867693893244756 L -73.93236431431176,40.86786330100787 L -73.93235078136821,40.867979120295395 L -73.93235431562974,40.86800719569787 L -73.93236746809548,40.86803721447599 L -73.93237341288571,40.86806348857584 L -73.9322739712806,40.8684771519779 L -73.93228124006656,40.8685325381576 L -73.93226769826255,40.868562318972415 L -73.93232284384425,40.86857811188705 L -73.93231591011325,40.86860414289609 L -73.93244643748244,40.868659765468905 L -73.93249214298633,40.86867751915971 L -73.93249377280182,40.86867480942448 L -73.9325307779682,40.86861327191393 L -73.93253690662301,40.86860307837558 L -73.93256891816314,40.8685498472381 L -73.93257970501186,40.86853190982327 L -73.9326143189161,40.868474347379504 L -73.93262211514617,40.86846138498576 L -73.9326252507503,40.86845616797421 L -73.93262844350275,40.868457274317144 L -73.93265083512807,40.86846503348192 L -73.9325454652185,40.868640259232954 L -73.93255050661644,40.86864200559116 L -73.93256804264085,40.868648083856066 L -73.93252354560038,40.868722078358964 L -73.93250125163004,40.86871435273158 L -73.93250619965718,40.868706125391256 L -73.93249532884053,40.86870195039146 L -73.9323522987469,40.868647028162414 L -73.93230597278905,40.86862923903981 L -73.93229831818654,40.86864737091793 L -73.93225031755,40.86863950887011 L -73.93225427749157,40.86868339885554 L -73.93227751053283,40.86871115697259 L -73.9322873204428,40.868875142390415 L -73.9323138544823,40.868923720343744 L -73.93236035093774,40.86894960979849 L -73.9324567080095,40.86896227317818 L -73.93253729354952,40.86896800236232 L -73.9325689548279,40.868979403213956 L -73.93256795169879,40.86904439147386 L -73.93250469803147,40.86912955866523 L -73.93239016804618,40.86918730311006 L -73.93229327689868,40.869199501942276 L -73.93218903826079,40.86936697638911 L -73.93246883069908,40.869476099387015 L -73.93235370807277,40.86975525529664 L -73.93226581636975,40.86973477164006 L -73.93235934466003,40.869507363219405 L -73.9321333660305,40.86941597544101 L -73.93210997106704,40.8694772491017 L -73.93207712619434,40.869542684159995 L -73.93205908286346,40.869582816886734 L -73.9320534384771,40.869600750744404 L -73.93205002169746,40.869641746782754 L -73.93206712211834,40.8696994277864 L -73.93209566102911,40.86975965114527 L -73.93217976024559,40.86982236640032 L -73.93219855115137,40.86984487074348 L -73.93220600531866,40.870096445104465 L -73.93212328527157,40.87037894310521 L -73.93204740481396,40.87058290396667 L -73.93203156926681,40.87075720253476 L -73.9319137713681,40.87112949372277 L -73.93178440124825,40.87133442292381 L -73.93160149587317,40.87158387547004 L -73.93146821139365,40.87179771620657 L -73.93137655898947,40.872108627360646 L -73.93122107559081,40.87233532285596 L -73.931062541996,40.87266680652874 L -73.93084511434458,40.872887170307855 L -73.93068381818169,40.873156876900495 L -73.92997686743148,40.87433896233042 L -73.92986215062565,40.87441844152517 L -73.929319188194,40.875294438560964 L -73.92917968255969,40.875555548966396 L -73.9290134580979,40.87573866009015 L -73.92859002632838,40.87609601029499 L -73.9283297696849,40.87635346908476 L -73.9281462360357,40.87652252894399 L -73.92803638576736,40.876582442505935 L -73.9279659464347,40.87661768537655 L -73.92753082127489,40.87671053481303 L -73.9268994050239,40.87721663443465 L -73.92660824434294,40.87750763121183 L -73.92653096278426,40.87758369127995 L -73.92648185718438,40.87761820301793 L -73.92641591454775,40.87761004770082 L -73.92640556921116,40.87762147653737 z\" /><path fill-rule=\"evenodd\" fill=\"#66cc99\" stroke=\"#555555\" stroke-width=\"0.0042362157893659005\" opacity=\"0.6\" d=\"M -73.92359742020388,40.87889871299269 L -73.92361719191422,40.878852758536006 L -73.92362423150803,40.8788549012864 L -73.92363695289222,40.87881535593213 L -73.92367919311681,40.878826074498654 L -73.92366647926988,40.878863496512935 L -73.92367773890663,40.878865626136516 L -73.92366219321842,40.87891158339884 L -73.92365233486954,40.87891157687763 L -73.92362973950414,40.8789639432433 L -73.92359172553134,40.87895215933272 L -73.92361150251905,40.87890086040598 L -73.92359742020388,40.87889871299269 z\" /><path fill-rule=\"evenodd\" fill=\"#66cc99\" stroke=\"#555555\" stroke-width=\"0.0042362157893659005\" opacity=\"0.6\" d=\"M -73.90665099539478,40.87575250419265 L -73.90691694520311,40.87505586276138 L -73.90708792618746,40.87432598340567 L -73.90746489728103,40.8735473542359 L -73.90774270784561,40.872845952111604 L -73.9084636791247,40.87262079220717 L -73.9087204639138,40.87222866558935 L -73.90893235241587,40.872157347970656 L -73.90897851320419,40.8722243538373 L -73.90901544810349,40.87228958705488 L -73.90905980328358,40.87234132878987 L -73.90908937851019,40.87237507561955 L -73.90909972110751,40.872394191760584 L -73.90909969344666,40.872414425653545 L -73.9091396159417,40.87246279497998 L -73.90917513257422,40.87248081439229 L -73.9091913763908,40.872513425953066 L -73.9092105586831,40.872565146643595 L -73.90924604689847,40.872604525846555 L -73.90926526038342,40.87263376146552 L -73.90927114033464,40.87266299598013 L -73.90935540961115,40.87277097707914 L -73.90943966198336,40.87288233452417 L -73.90951136328019,40.872977383598474 L -73.90954388337907,40.87301787624886 L -73.90957936374171,40.87306286601484 L -73.90958973103706,40.87306400005863 L -73.90960006621941,40.87308761849051 L -73.90963706332191,40.87310788137881 L -73.90965332846542,40.87312475143547 L -73.90967403471006,40.87314725272853 L -73.90970952896157,40.87318212994764 L -73.90971690006448,40.8732046114171 L -73.90974797439691,40.87321812483077 L -73.90978644203236,40.87324738479734 L -73.90984559557306,40.87331376152683 L -73.90990769889419,40.87338349885836 L -73.90996168309127,40.87343132068191 L -73.91001640952275,40.873481944207825 L -73.9100755691892,40.8735359559607 L -73.91009482086632,40.87353708750039 L -73.91010961440479,40.87355396572604 L -73.91010367455512,40.873560705903394 L -73.91016876229082,40.87361696401592 L -73.91017913402386,40.87361472091729 L -73.9101835541743,40.87362708871514 L -73.91018946365077,40.873642834094525 L -73.91027378161117,40.87370809437581 L -73.910355139436,40.873777855308695 L -73.91044539453686,40.87383862811764 L -73.91050606585377,40.87388026825335 L -73.9105889776575,40.87393374868108 L -73.91065439315838,40.87397594306108 L -73.91070983743502,40.87401502699886 L -73.91080913136378,40.874085022111096 L -73.91085171080147,40.87410973748825 L -73.91092118009641,40.87414639604013 L -73.91098953841451,40.87417964041572 L -73.91106909659263,40.87422141225186 L -73.91111279462217,40.87424272500053 L -73.91115761993467,40.87426573979454 L -73.91119459843178,40.87428194107604 L -73.91125288040121,40.87431007177996 L -73.91126294698118,40.87432370415091 L -73.91127192458137,40.87431604789048 L -73.91127864335748,40.87433136949882 L -73.91131058949588,40.87434481564688 L -73.91148428295614,40.87441792110018 L -73.91151006622763,40.874423045963496 L -73.91155043033561,40.87442818317 L -73.9115717321716,40.87443161277185 L -73.91159751272933,40.87443928580286 L -73.91159974687176,40.87444524898074 L -73.91162329171338,40.87444781520349 L -73.91162776541066,40.874456337666494 L -73.91163897507178,40.87445719207267 L -73.91165017606372,40.87447337413741 L -73.91166810900087,40.87447594476564 L -73.9116714625678,40.874487861554165 L -73.91168826950901,40.87449043131743 L -73.91169275434322,40.87448957954545 L -73.91170284156901,40.874496395223 L -73.91173423701478,40.87450152483254 L -73.91173983024689,40.87450578837762 L -73.91177009204112,40.87451602287027 L -73.91179139167221,40.87452114424256 L -73.91180933990437,40.87452201433658 L -73.91183904212818,40.874532671043525 L -73.91185921058016,40.8745412059888 L -73.91188274644513,40.87455057893805 L -73.91189619458626,40.87455399377162 L -73.91191525688392,40.87455571940099 L -73.91192086203293,40.874560828768935 L -73.91192983348806,40.87455827871542 L -73.9119331812602,40.87456594443317 L -73.91194440354018,40.87456595299663 L -73.9119466300746,40.874577021251596 L -73.91195447077254,40.87457872893043 L -73.91195784426576,40.874574472907135 L -73.91196570028399,40.87457277720374 L -73.91196907150517,40.87456256842321 L -73.91203072122748,40.874583038138496 L -73.912084528002,40.87459584739445 L -73.91215290826104,40.874613775154906 L -73.91217644642768,40.8746214562331 L -73.91221454459921,40.8746350999654 L -73.91221566293838,40.87464190877501 L -73.91222814393909,40.87465056294717 L -73.91222813340737,40.87465854121232 L -73.9122379131872,40.874654558927205 L -73.91225294376665,40.87465513859409 L -73.91227699124249,40.874654021574216 L -73.91227397256806,40.874667706562 L -73.91228449360716,40.87466829150784 L -73.91229500761803,40.87467571070731 L -73.91230627843481,40.874674574756725 L -73.91231155217281,40.87466944670329 L -73.91232355804874,40.87467858632015 L -73.9123333348206,40.87467688333985 L -73.91234234309917,40.87468373315383 L -73.91233707729461,40.874691716808236 L -73.91234308831564,40.874694008227856 L -73.91234910109729,40.87468659337784 L -73.91235586543871,40.874694017932335 L -73.91234984181537,40.87470028172536 L -73.91235885477997,40.874702575424145 L -73.91236487474816,40.87469858206431 L -73.91236862611514,40.87470600432999 L -73.91237764736394,40.87470201274589 L -73.91238741532885,40.87470716260923 L -73.9123949248199,40.874707168310124 L -73.91240469487185,40.87471174072251 L -73.91242271759742,40.87471859854478 L -73.91243099101995,40.87471518333752 L -73.91244000183312,40.874718611660214 L -73.91245203265564,40.87471804383926 L -73.91245729299457,40.874723757341634 L -73.91247757228169,40.874728338892126 L -73.91248809241822,40.87473062434258 L -73.9124903381533,40.87473690262201 L -73.9125023632748,40.874740333895595 L -73.91250687842256,40.8747340607424 L -73.91251965493188,40.87473521377132 L -73.91252565837873,40.8747437735435 L -73.91252941069209,40.87474948539689 L -73.91255120015312,40.8747517800528 L -73.91255570248812,40.87475692473891 L -73.91259176816811,40.874764363269634 L -73.9126188080217,40.87477979081805 L -73.91264284946526,40.8747837987421 L -73.91267517047426,40.87478895576705 L -73.91269621512184,40.87478954813541 L -73.91270634480851,40.8748001090639 L -73.91272287878792,40.87480240021443 L -73.91272859643514,40.87480240453843 L -73.91274316057834,40.874802415551365 L -73.91275366372638,40.87481497279209 L -73.9127686945859,40.87481099610713 L -73.9127874725648,40.874816709424884 L -73.91280023429059,40.874825280320636 L -73.91280624015818,40.87482983997073 L -73.91282126865815,40.87482985132466 L -73.91284830680806,40.87483956763084 L -73.91285656218487,40.874847558671156 L -73.91286933456314,40.87484700125052 L -73.91287909709672,40.87485499409722 L -73.91288436302008,40.874845869253186 L -73.91289487806715,40.87484987445157 L -73.9129046399428,40.874857866793015 L -73.91292117141009,40.87485787926823 L -73.91293620060983,40.874856181205196 L -73.9129437171019,40.87484933552865 L -73.91350042749859,40.87501785019739 L -73.91348928985875,40.875036016562845 L -73.91349955140406,40.8750340717768 L -73.91350895501581,40.875034727640625 L -73.91350877702227,40.87504431299324 L -73.9135341536284,40.87504713332536 L -73.91354797404338,40.87505310296736 L -73.91356872869382,40.87505206563272 L -73.91358209908856,40.87505872764027 L -73.91358762888862,40.875065735740954 L -73.91360146901815,40.87506469272017 L -73.91362222381788,40.87506541134981 L -73.91363145406044,40.87506191602688 L -73.91364482858324,40.87506472617895 L -73.91365267670018,40.875058079554215 L -73.91377065496987,40.8750960324391 L -73.91386358754939,40.87512400979551 L -73.91387368038183,40.87512401682572 L -73.91388231834311,40.87512948853505 L -73.91407467259233,40.87518270162335 L -73.91406842003408,40.875208235814895 L -73.91535105994514,40.87559452934739 L -73.91538267940174,40.87559300395548 L -73.91540205177742,40.87559920360106 L -73.91542548761971,40.87560773646297 L -73.91545504953451,40.87562092005196 L -73.91546855860082,40.8756319311675 L -73.91548683432488,40.87563657052614 L -73.91550989874584,40.87564319601973 L -73.91552904896449,40.87564552386279 L -73.91555167298115,40.87565380080005 L -73.91557560969596,40.87565811376456 L -73.91558474485004,40.87566274575041 L -73.91561693873001,40.87567763894991 L -73.91567177548482,40.875685279708236 L -73.91570789673304,40.87569290559941 L -73.91572006383268,40.875709435915034 L -73.91574225919547,40.875713086025804 L -73.91578515571896,40.87571694506437 L -73.9157431467468,40.8757608959931 L -73.91571027699659,40.87579545505268 L -73.91484624156381,40.87666671027652 L -73.91250172915477,40.877901244354135 L -73.9120583003024,40.878119320048675 L -73.91148913190445,40.87901885880956 L -73.91033193566491,40.879038046804695 L -73.90949832117538,40.878776731679174 L -73.9090623603834,40.878486782812104 L -73.90835569683979,40.87791831418671 L -73.90765281705261,40.87742802285943 L -73.90703748936642,40.87689516121069 L -73.90692586434854,40.87675454730292 L -73.90685372865197,40.87666367552696 L -73.90682822856839,40.876631551888806 L -73.90682004046072,40.876585525606814 L -73.90665099539478,40.87575250419265 z\" /></g></g></svg>"
          },
          "metadata": {},
          "execution_count": 7
        }
      ],
      "source": [
        "selection = boroughs['boro_name'] == \"Manhattan\"\n",
        "boundary = boroughs.loc[selection]\n",
        "boundary = boundary.geometry.squeeze()\n",
        "boundary"
      ],
      "id": "f9520d46-3441-4546-86a3-09c00746ac6d"
    },
    {
      "cell_type": "markdown",
      "source": [
        "Now let us create our street network"
      ],
      "metadata": {
        "id": "LLJZS9WhBgWj"
      },
      "id": "LLJZS9WhBgWj"
    },
    {
      "cell_type": "code",
      "execution_count": 8,
      "metadata": {
        "id": "5a495dc7-1c10-4ed5-b090-cb3a4eedb7d1"
      },
      "outputs": [],
      "source": [
        "network_graph = ox.graph_from_polygon(polygon = boundary, network_type='drive')"
      ],
      "id": "5a495dc7-1c10-4ed5-b090-cb3a4eedb7d1"
    },
    {
      "cell_type": "markdown",
      "source": [
        "From the network let us extract all the edges and their characteristics"
      ],
      "metadata": {
        "id": "raLVPMebBlHM"
      },
      "id": "raLVPMebBlHM"
    },
    {
      "cell_type": "code",
      "execution_count": 9,
      "metadata": {
        "colab": {
          "base_uri": "https://localhost:8080/",
          "height": 0
        },
        "id": "13d01465-cf31-421e-a3fd-a1b48fa9d250",
        "outputId": "1c40ce4f-a61b-4eeb-ec69-8ce4cfdbe7cc"
      },
      "outputs": [
        {
          "output_type": "execute_result",
          "data": {
            "text/plain": [
              "                                                 osmid               name  \\\n",
              "u        v        key                                                       \n",
              "42421728 42432736 0                          195743153  Central Park West   \n",
              "         42435337 0                          195743153  Central Park West   \n",
              "         42421731 0    [420625565, 420625573, 5668966]  West 106th Street   \n",
              "\n",
              "                         highway maxspeed  oneway   length  \\\n",
              "u        v        key                                        \n",
              "42421728 42432736 0    secondary   25 mph   False   86.258   \n",
              "         42435337 0    secondary   25 mph   False   85.345   \n",
              "         42421731 0    secondary      NaN   False  138.033   \n",
              "\n",
              "                                                                geometry  \\\n",
              "u        v        key                                                      \n",
              "42421728 42432736 0    LINESTRING (-73.96004 40.79805, -73.95996 40.7...   \n",
              "         42435337 0    LINESTRING (-73.96004 40.79805, -73.96011 40.7...   \n",
              "         42421731 0    LINESTRING (-73.96004 40.79805, -73.96017 40.7...   \n",
              "\n",
              "                      lanes  ref access bridge tunnel width junction  \n",
              "u        v        key                                                 \n",
              "42421728 42432736 0     NaN  NaN    NaN    NaN    NaN   NaN      NaN  \n",
              "         42435337 0     NaN  NaN    NaN    NaN    NaN   NaN      NaN  \n",
              "         42421731 0     NaN  NaN    NaN    NaN    NaN   NaN      NaN  "
            ],
            "text/html": [
              "\n",
              "  <div id=\"df-ea696e47-82ec-4eac-ad0d-eb534c5f193e\">\n",
              "    <div class=\"colab-df-container\">\n",
              "      <div>\n",
              "<style scoped>\n",
              "    .dataframe tbody tr th:only-of-type {\n",
              "        vertical-align: middle;\n",
              "    }\n",
              "\n",
              "    .dataframe tbody tr th {\n",
              "        vertical-align: top;\n",
              "    }\n",
              "\n",
              "    .dataframe thead th {\n",
              "        text-align: right;\n",
              "    }\n",
              "</style>\n",
              "<table border=\"1\" class=\"dataframe\">\n",
              "  <thead>\n",
              "    <tr style=\"text-align: right;\">\n",
              "      <th></th>\n",
              "      <th></th>\n",
              "      <th></th>\n",
              "      <th>osmid</th>\n",
              "      <th>name</th>\n",
              "      <th>highway</th>\n",
              "      <th>maxspeed</th>\n",
              "      <th>oneway</th>\n",
              "      <th>length</th>\n",
              "      <th>geometry</th>\n",
              "      <th>lanes</th>\n",
              "      <th>ref</th>\n",
              "      <th>access</th>\n",
              "      <th>bridge</th>\n",
              "      <th>tunnel</th>\n",
              "      <th>width</th>\n",
              "      <th>junction</th>\n",
              "    </tr>\n",
              "    <tr>\n",
              "      <th>u</th>\n",
              "      <th>v</th>\n",
              "      <th>key</th>\n",
              "      <th></th>\n",
              "      <th></th>\n",
              "      <th></th>\n",
              "      <th></th>\n",
              "      <th></th>\n",
              "      <th></th>\n",
              "      <th></th>\n",
              "      <th></th>\n",
              "      <th></th>\n",
              "      <th></th>\n",
              "      <th></th>\n",
              "      <th></th>\n",
              "      <th></th>\n",
              "      <th></th>\n",
              "    </tr>\n",
              "  </thead>\n",
              "  <tbody>\n",
              "    <tr>\n",
              "      <th rowspan=\"3\" valign=\"top\">42421728</th>\n",
              "      <th>42432736</th>\n",
              "      <th>0</th>\n",
              "      <td>195743153</td>\n",
              "      <td>Central Park West</td>\n",
              "      <td>secondary</td>\n",
              "      <td>25 mph</td>\n",
              "      <td>False</td>\n",
              "      <td>86.258</td>\n",
              "      <td>LINESTRING (-73.96004 40.79805, -73.95996 40.7...</td>\n",
              "      <td>NaN</td>\n",
              "      <td>NaN</td>\n",
              "      <td>NaN</td>\n",
              "      <td>NaN</td>\n",
              "      <td>NaN</td>\n",
              "      <td>NaN</td>\n",
              "      <td>NaN</td>\n",
              "    </tr>\n",
              "    <tr>\n",
              "      <th>42435337</th>\n",
              "      <th>0</th>\n",
              "      <td>195743153</td>\n",
              "      <td>Central Park West</td>\n",
              "      <td>secondary</td>\n",
              "      <td>25 mph</td>\n",
              "      <td>False</td>\n",
              "      <td>85.345</td>\n",
              "      <td>LINESTRING (-73.96004 40.79805, -73.96011 40.7...</td>\n",
              "      <td>NaN</td>\n",
              "      <td>NaN</td>\n",
              "      <td>NaN</td>\n",
              "      <td>NaN</td>\n",
              "      <td>NaN</td>\n",
              "      <td>NaN</td>\n",
              "      <td>NaN</td>\n",
              "    </tr>\n",
              "    <tr>\n",
              "      <th>42421731</th>\n",
              "      <th>0</th>\n",
              "      <td>[420625565, 420625573, 5668966]</td>\n",
              "      <td>West 106th Street</td>\n",
              "      <td>secondary</td>\n",
              "      <td>NaN</td>\n",
              "      <td>False</td>\n",
              "      <td>138.033</td>\n",
              "      <td>LINESTRING (-73.96004 40.79805, -73.96017 40.7...</td>\n",
              "      <td>NaN</td>\n",
              "      <td>NaN</td>\n",
              "      <td>NaN</td>\n",
              "      <td>NaN</td>\n",
              "      <td>NaN</td>\n",
              "      <td>NaN</td>\n",
              "      <td>NaN</td>\n",
              "    </tr>\n",
              "  </tbody>\n",
              "</table>\n",
              "</div>\n",
              "      <button class=\"colab-df-convert\" onclick=\"convertToInteractive('df-ea696e47-82ec-4eac-ad0d-eb534c5f193e')\"\n",
              "              title=\"Convert this dataframe to an interactive table.\"\n",
              "              style=\"display:none;\">\n",
              "        \n",
              "  <svg xmlns=\"http://www.w3.org/2000/svg\" height=\"24px\"viewBox=\"0 0 24 24\"\n",
              "       width=\"24px\">\n",
              "    <path d=\"M0 0h24v24H0V0z\" fill=\"none\"/>\n",
              "    <path d=\"M18.56 5.44l.94 2.06.94-2.06 2.06-.94-2.06-.94-.94-2.06-.94 2.06-2.06.94zm-11 1L8.5 8.5l.94-2.06 2.06-.94-2.06-.94L8.5 2.5l-.94 2.06-2.06.94zm10 10l.94 2.06.94-2.06 2.06-.94-2.06-.94-.94-2.06-.94 2.06-2.06.94z\"/><path d=\"M17.41 7.96l-1.37-1.37c-.4-.4-.92-.59-1.43-.59-.52 0-1.04.2-1.43.59L10.3 9.45l-7.72 7.72c-.78.78-.78 2.05 0 2.83L4 21.41c.39.39.9.59 1.41.59.51 0 1.02-.2 1.41-.59l7.78-7.78 2.81-2.81c.8-.78.8-2.07 0-2.86zM5.41 20L4 18.59l7.72-7.72 1.47 1.35L5.41 20z\"/>\n",
              "  </svg>\n",
              "      </button>\n",
              "      \n",
              "  <style>\n",
              "    .colab-df-container {\n",
              "      display:flex;\n",
              "      flex-wrap:wrap;\n",
              "      gap: 12px;\n",
              "    }\n",
              "\n",
              "    .colab-df-convert {\n",
              "      background-color: #E8F0FE;\n",
              "      border: none;\n",
              "      border-radius: 50%;\n",
              "      cursor: pointer;\n",
              "      display: none;\n",
              "      fill: #1967D2;\n",
              "      height: 32px;\n",
              "      padding: 0 0 0 0;\n",
              "      width: 32px;\n",
              "    }\n",
              "\n",
              "    .colab-df-convert:hover {\n",
              "      background-color: #E2EBFA;\n",
              "      box-shadow: 0px 1px 2px rgba(60, 64, 67, 0.3), 0px 1px 3px 1px rgba(60, 64, 67, 0.15);\n",
              "      fill: #174EA6;\n",
              "    }\n",
              "\n",
              "    [theme=dark] .colab-df-convert {\n",
              "      background-color: #3B4455;\n",
              "      fill: #D2E3FC;\n",
              "    }\n",
              "\n",
              "    [theme=dark] .colab-df-convert:hover {\n",
              "      background-color: #434B5C;\n",
              "      box-shadow: 0px 1px 3px 1px rgba(0, 0, 0, 0.15);\n",
              "      filter: drop-shadow(0px 1px 2px rgba(0, 0, 0, 0.3));\n",
              "      fill: #FFFFFF;\n",
              "    }\n",
              "  </style>\n",
              "\n",
              "      <script>\n",
              "        const buttonEl =\n",
              "          document.querySelector('#df-ea696e47-82ec-4eac-ad0d-eb534c5f193e button.colab-df-convert');\n",
              "        buttonEl.style.display =\n",
              "          google.colab.kernel.accessAllowed ? 'block' : 'none';\n",
              "\n",
              "        async function convertToInteractive(key) {\n",
              "          const element = document.querySelector('#df-ea696e47-82ec-4eac-ad0d-eb534c5f193e');\n",
              "          const dataTable =\n",
              "            await google.colab.kernel.invokeFunction('convertToInteractive',\n",
              "                                                     [key], {});\n",
              "          if (!dataTable) return;\n",
              "\n",
              "          const docLinkHtml = 'Like what you see? Visit the ' +\n",
              "            '<a target=\"_blank\" href=https://colab.research.google.com/notebooks/data_table.ipynb>data table notebook</a>'\n",
              "            + ' to learn more about interactive tables.';\n",
              "          element.innerHTML = '';\n",
              "          dataTable['output_type'] = 'display_data';\n",
              "          await google.colab.output.renderOutput(dataTable, element);\n",
              "          const docLink = document.createElement('div');\n",
              "          docLink.innerHTML = docLinkHtml;\n",
              "          element.appendChild(docLink);\n",
              "        }\n",
              "      </script>\n",
              "    </div>\n",
              "  </div>\n",
              "  "
            ]
          },
          "metadata": {},
          "execution_count": 9
        }
      ],
      "source": [
        "edges = ox.graph_to_gdfs(network_graph, edges=True, nodes=False)\n",
        "edges.head(3)"
      ],
      "id": "13d01465-cf31-421e-a3fd-a1b48fa9d250"
    },
    {
      "cell_type": "markdown",
      "source": [
        "Let us now isolate all the crashes in manhattan and create Month, Hour and Weekday columns because these 3 features are cyclic and potentially have a pattern."
      ],
      "metadata": {
        "id": "n63itsyDByD4"
      },
      "id": "n63itsyDByD4"
    },
    {
      "cell_type": "markdown",
      "source": [
        "#### Filtering Raw data with boundary variables\n",
        "\n"
      ],
      "metadata": {
        "id": "GQecwPbnVy12"
      },
      "id": "GQecwPbnVy12"
    },
    {
      "cell_type": "code",
      "execution_count": 10,
      "metadata": {
        "id": "29478807-e811-48af-9a49-4ab10237e95d",
        "colab": {
          "base_uri": "https://localhost:8080/",
          "height": 0
        },
        "outputId": "68bea422-7c3c-41dc-f65c-baf6d1145d58"
      },
      "outputs": [
        {
          "output_type": "execute_result",
          "data": {
            "text/plain": [
              "            crash_date crash_time    borough  zip_code   latitude  longitude  \\\n",
              "0  2022-07-30 02:20:00       2:20  MANHATTAN   10002.0  40.723648  -73.99103   \n",
              "1  2022-07-30 05:50:00       5:50  MANHATTAN   10024.0  40.782020  -73.97173   \n",
              "2  2022-07-30 18:55:00      18:55  MANHATTAN   10037.0  40.808220  -73.93673   \n",
              "\n",
              "                        location              on_street_name  \\\n",
              "0  \\n,  \\n(40.723648, -73.99103)             CHRYSTIE STREET   \n",
              "1   \\n,  \\n(40.78202, -73.97173)  TRANSVERSE ROAD NUMBER TWO   \n",
              "2   \\n,  \\n(40.80822, -73.93673)                 PARK AVENUE   \n",
              "\n",
              "       off_street_name cross_street_name  ...  collision_id  \\\n",
              "0  EAST HOUSTON STREET               NaN  ...       4551304   \n",
              "1    CENTRAL PARK WEST               NaN  ...       4550881   \n",
              "2      EAST 130 STREET               NaN  ...       4551401   \n",
              "\n",
              "   vehicle_type_code1                   vehicle_type_code2  \\\n",
              "0               Sedan                        Pick-up Truck   \n",
              "1               Sedan                                  NaN   \n",
              "2               Sedan  Station Wagon/Sport Utility Vehicle   \n",
              "\n",
              "                   vehicle_type_code_3  vehicle_type_code_4  \\\n",
              "0                                  NaN                  NaN   \n",
              "1                                  NaN                  NaN   \n",
              "2  Station Wagon/Sport Utility Vehicle                  NaN   \n",
              "\n",
              "   vehicle_type_code_5                    geometry  Months Hours Weekday  \n",
              "0                  NaN  POINT (-73.99103 40.72365)     7.0   2.0     5.0  \n",
              "1                  NaN  POINT (-73.97173 40.78202)     7.0   5.0     5.0  \n",
              "2                  NaN  POINT (-73.93673 40.80822)     7.0  18.0     5.0  \n",
              "\n",
              "[3 rows x 33 columns]"
            ],
            "text/html": [
              "\n",
              "  <div id=\"df-77a02575-38a6-480d-9576-f904f0a0e8ae\">\n",
              "    <div class=\"colab-df-container\">\n",
              "      <div>\n",
              "<style scoped>\n",
              "    .dataframe tbody tr th:only-of-type {\n",
              "        vertical-align: middle;\n",
              "    }\n",
              "\n",
              "    .dataframe tbody tr th {\n",
              "        vertical-align: top;\n",
              "    }\n",
              "\n",
              "    .dataframe thead th {\n",
              "        text-align: right;\n",
              "    }\n",
              "</style>\n",
              "<table border=\"1\" class=\"dataframe\">\n",
              "  <thead>\n",
              "    <tr style=\"text-align: right;\">\n",
              "      <th></th>\n",
              "      <th>crash_date</th>\n",
              "      <th>crash_time</th>\n",
              "      <th>borough</th>\n",
              "      <th>zip_code</th>\n",
              "      <th>latitude</th>\n",
              "      <th>longitude</th>\n",
              "      <th>location</th>\n",
              "      <th>on_street_name</th>\n",
              "      <th>off_street_name</th>\n",
              "      <th>cross_street_name</th>\n",
              "      <th>...</th>\n",
              "      <th>collision_id</th>\n",
              "      <th>vehicle_type_code1</th>\n",
              "      <th>vehicle_type_code2</th>\n",
              "      <th>vehicle_type_code_3</th>\n",
              "      <th>vehicle_type_code_4</th>\n",
              "      <th>vehicle_type_code_5</th>\n",
              "      <th>geometry</th>\n",
              "      <th>Months</th>\n",
              "      <th>Hours</th>\n",
              "      <th>Weekday</th>\n",
              "    </tr>\n",
              "  </thead>\n",
              "  <tbody>\n",
              "    <tr>\n",
              "      <th>0</th>\n",
              "      <td>2022-07-30 02:20:00</td>\n",
              "      <td>2:20</td>\n",
              "      <td>MANHATTAN</td>\n",
              "      <td>10002.0</td>\n",
              "      <td>40.723648</td>\n",
              "      <td>-73.99103</td>\n",
              "      <td>\\n,  \\n(40.723648, -73.99103)</td>\n",
              "      <td>CHRYSTIE STREET</td>\n",
              "      <td>EAST HOUSTON STREET</td>\n",
              "      <td>NaN</td>\n",
              "      <td>...</td>\n",
              "      <td>4551304</td>\n",
              "      <td>Sedan</td>\n",
              "      <td>Pick-up Truck</td>\n",
              "      <td>NaN</td>\n",
              "      <td>NaN</td>\n",
              "      <td>NaN</td>\n",
              "      <td>POINT (-73.99103 40.72365)</td>\n",
              "      <td>7.0</td>\n",
              "      <td>2.0</td>\n",
              "      <td>5.0</td>\n",
              "    </tr>\n",
              "    <tr>\n",
              "      <th>1</th>\n",
              "      <td>2022-07-30 05:50:00</td>\n",
              "      <td>5:50</td>\n",
              "      <td>MANHATTAN</td>\n",
              "      <td>10024.0</td>\n",
              "      <td>40.782020</td>\n",
              "      <td>-73.97173</td>\n",
              "      <td>\\n,  \\n(40.78202, -73.97173)</td>\n",
              "      <td>TRANSVERSE ROAD NUMBER TWO</td>\n",
              "      <td>CENTRAL PARK WEST</td>\n",
              "      <td>NaN</td>\n",
              "      <td>...</td>\n",
              "      <td>4550881</td>\n",
              "      <td>Sedan</td>\n",
              "      <td>NaN</td>\n",
              "      <td>NaN</td>\n",
              "      <td>NaN</td>\n",
              "      <td>NaN</td>\n",
              "      <td>POINT (-73.97173 40.78202)</td>\n",
              "      <td>7.0</td>\n",
              "      <td>5.0</td>\n",
              "      <td>5.0</td>\n",
              "    </tr>\n",
              "    <tr>\n",
              "      <th>2</th>\n",
              "      <td>2022-07-30 18:55:00</td>\n",
              "      <td>18:55</td>\n",
              "      <td>MANHATTAN</td>\n",
              "      <td>10037.0</td>\n",
              "      <td>40.808220</td>\n",
              "      <td>-73.93673</td>\n",
              "      <td>\\n,  \\n(40.80822, -73.93673)</td>\n",
              "      <td>PARK AVENUE</td>\n",
              "      <td>EAST 130 STREET</td>\n",
              "      <td>NaN</td>\n",
              "      <td>...</td>\n",
              "      <td>4551401</td>\n",
              "      <td>Sedan</td>\n",
              "      <td>Station Wagon/Sport Utility Vehicle</td>\n",
              "      <td>Station Wagon/Sport Utility Vehicle</td>\n",
              "      <td>NaN</td>\n",
              "      <td>NaN</td>\n",
              "      <td>POINT (-73.93673 40.80822)</td>\n",
              "      <td>7.0</td>\n",
              "      <td>18.0</td>\n",
              "      <td>5.0</td>\n",
              "    </tr>\n",
              "  </tbody>\n",
              "</table>\n",
              "<p>3 rows × 33 columns</p>\n",
              "</div>\n",
              "      <button class=\"colab-df-convert\" onclick=\"convertToInteractive('df-77a02575-38a6-480d-9576-f904f0a0e8ae')\"\n",
              "              title=\"Convert this dataframe to an interactive table.\"\n",
              "              style=\"display:none;\">\n",
              "        \n",
              "  <svg xmlns=\"http://www.w3.org/2000/svg\" height=\"24px\"viewBox=\"0 0 24 24\"\n",
              "       width=\"24px\">\n",
              "    <path d=\"M0 0h24v24H0V0z\" fill=\"none\"/>\n",
              "    <path d=\"M18.56 5.44l.94 2.06.94-2.06 2.06-.94-2.06-.94-.94-2.06-.94 2.06-2.06.94zm-11 1L8.5 8.5l.94-2.06 2.06-.94-2.06-.94L8.5 2.5l-.94 2.06-2.06.94zm10 10l.94 2.06.94-2.06 2.06-.94-2.06-.94-.94-2.06-.94 2.06-2.06.94z\"/><path d=\"M17.41 7.96l-1.37-1.37c-.4-.4-.92-.59-1.43-.59-.52 0-1.04.2-1.43.59L10.3 9.45l-7.72 7.72c-.78.78-.78 2.05 0 2.83L4 21.41c.39.39.9.59 1.41.59.51 0 1.02-.2 1.41-.59l7.78-7.78 2.81-2.81c.8-.78.8-2.07 0-2.86zM5.41 20L4 18.59l7.72-7.72 1.47 1.35L5.41 20z\"/>\n",
              "  </svg>\n",
              "      </button>\n",
              "      \n",
              "  <style>\n",
              "    .colab-df-container {\n",
              "      display:flex;\n",
              "      flex-wrap:wrap;\n",
              "      gap: 12px;\n",
              "    }\n",
              "\n",
              "    .colab-df-convert {\n",
              "      background-color: #E8F0FE;\n",
              "      border: none;\n",
              "      border-radius: 50%;\n",
              "      cursor: pointer;\n",
              "      display: none;\n",
              "      fill: #1967D2;\n",
              "      height: 32px;\n",
              "      padding: 0 0 0 0;\n",
              "      width: 32px;\n",
              "    }\n",
              "\n",
              "    .colab-df-convert:hover {\n",
              "      background-color: #E2EBFA;\n",
              "      box-shadow: 0px 1px 2px rgba(60, 64, 67, 0.3), 0px 1px 3px 1px rgba(60, 64, 67, 0.15);\n",
              "      fill: #174EA6;\n",
              "    }\n",
              "\n",
              "    [theme=dark] .colab-df-convert {\n",
              "      background-color: #3B4455;\n",
              "      fill: #D2E3FC;\n",
              "    }\n",
              "\n",
              "    [theme=dark] .colab-df-convert:hover {\n",
              "      background-color: #434B5C;\n",
              "      box-shadow: 0px 1px 3px 1px rgba(0, 0, 0, 0.15);\n",
              "      filter: drop-shadow(0px 1px 2px rgba(0, 0, 0, 0.3));\n",
              "      fill: #FFFFFF;\n",
              "    }\n",
              "  </style>\n",
              "\n",
              "      <script>\n",
              "        const buttonEl =\n",
              "          document.querySelector('#df-77a02575-38a6-480d-9576-f904f0a0e8ae button.colab-df-convert');\n",
              "        buttonEl.style.display =\n",
              "          google.colab.kernel.accessAllowed ? 'block' : 'none';\n",
              "\n",
              "        async function convertToInteractive(key) {\n",
              "          const element = document.querySelector('#df-77a02575-38a6-480d-9576-f904f0a0e8ae');\n",
              "          const dataTable =\n",
              "            await google.colab.kernel.invokeFunction('convertToInteractive',\n",
              "                                                     [key], {});\n",
              "          if (!dataTable) return;\n",
              "\n",
              "          const docLinkHtml = 'Like what you see? Visit the ' +\n",
              "            '<a target=\"_blank\" href=https://colab.research.google.com/notebooks/data_table.ipynb>data table notebook</a>'\n",
              "            + ' to learn more about interactive tables.';\n",
              "          element.innerHTML = '';\n",
              "          dataTable['output_type'] = 'display_data';\n",
              "          await google.colab.output.renderOutput(dataTable, element);\n",
              "          const docLink = document.createElement('div');\n",
              "          docLink.innerHTML = docLinkHtml;\n",
              "          element.appendChild(docLink);\n",
              "        }\n",
              "      </script>\n",
              "    </div>\n",
              "  </div>\n",
              "  "
            ]
          },
          "metadata": {},
          "execution_count": 10
        }
      ],
      "source": [
        "crashes = gpd.GeoDataFrame(\n",
        "    raw_data,\n",
        "    geometry=gpd.points_from_xy(raw_data.longitude,raw_data.latitude ),\n",
        "    crs=\"epsg:4326\",\n",
        ")\n",
        "edges_boundary = edges.unary_union.convex_hull\n",
        "edges_boundary\n",
        "\n",
        "selection = crashes.within(edges_boundary)\n",
        "crashes_manhattan = crashes.loc[selection].reset_index(drop=True)\n",
        "crashes_manhattan['Months'] = np.linspace(0,0,len(crashes_manhattan))\n",
        "crashes_manhattan['Hours']= np.linspace(0,0,len(crashes_manhattan))\n",
        "crashes_manhattan['Weekday'] = np.linspace(0,0,len(crashes_manhattan))\n",
        "for i in range(len(crashes_manhattan)):\n",
        "  crashes_manhattan['crash_date'][i] = (dt.strptime((crashes_manhattan['crash_date'][i][0:10] + crashes_manhattan['crash_time'][i]), '%Y-%m-%d%H:%M'))\n",
        "  crashes_manhattan['Months'][i] = crashes_manhattan['crash_date'][i].month\n",
        "  crashes_manhattan['Hours'][i] = crashes_manhattan['crash_date'][i].hour\n",
        "  crashes_manhattan['Weekday'][i] = crashes_manhattan['crash_date'][i].weekday()\n",
        "crashes_manhattan.head(3)"
      ],
      "id": "29478807-e811-48af-9a49-4ab10237e95d"
    },
    {
      "cell_type": "code",
      "execution_count": 11,
      "metadata": {
        "colab": {
          "base_uri": "https://localhost:8080/"
        },
        "id": "ab46562e-0f56-48e4-abc1-7231bc40ec39",
        "outputId": "23a415e9-d46f-4267-9fb9-1db17e383234"
      },
      "outputs": [
        {
          "output_type": "stream",
          "name": "stdout",
          "text": [
            "Crashes in Manhattan:  5399\n"
          ]
        }
      ],
      "source": [
        "num_crashes = len(crashes_manhattan)\n",
        "print(\"Crashes in Manhattan: \",num_crashes)"
      ],
      "id": "ab46562e-0f56-48e4-abc1-7231bc40ec39"
    },
    {
      "cell_type": "markdown",
      "source": [
        "Now since we have the latitude and longitude of each and every crash, let us convert it to Open Street Map edges"
      ],
      "metadata": {
        "id": "iqrgD8WiCTco"
      },
      "id": "iqrgD8WiCTco"
    },
    {
      "cell_type": "code",
      "execution_count": 12,
      "metadata": {
        "colab": {
          "base_uri": "https://localhost:8080/"
        },
        "id": "6bab27d3-5c94-472b-86fc-8565b2fc5935",
        "outputId": "3a51d571-a8fa-44d6-ef75-ffbd15a69006"
      },
      "outputs": [
        {
          "output_type": "stream",
          "name": "stdout",
          "text": [
            "CPU times: user 1min 59s, sys: 2.08 s, total: 2min 1s\n",
            "Wall time: 2min 3s\n"
          ]
        }
      ],
      "source": [
        "%%time \n",
        "crash_edges = ox.distance.nearest_edges(network_graph, crashes_manhattan.geometry.x, crashes_manhattan.geometry.y);"
      ],
      "id": "6bab27d3-5c94-472b-86fc-8565b2fc5935"
    },
    {
      "cell_type": "markdown",
      "source": [
        "Now in order to facilitate combining the data, let us create a unique key representing each edge. This unique key will be a combination of u,v and key which are used to identify each open streetmap edge."
      ],
      "metadata": {
        "id": "fW3XtLOdDXqT"
      },
      "id": "fW3XtLOdDXqT"
    },
    {
      "cell_type": "code",
      "execution_count": 13,
      "metadata": {
        "colab": {
          "base_uri": "https://localhost:8080/",
          "height": 0
        },
        "id": "8ad69fdf-f449-403a-a0c5-fdcd4c2170a7",
        "outputId": "c5d6ee88-b2c4-4da7-fa68-60b32bc45f85"
      },
      "outputs": [
        {
          "output_type": "execute_result",
          "data": {
            "text/plain": [
              "            crash_date crash_time    borough  zip_code   latitude  longitude  \\\n",
              "0  2022-07-30 02:20:00       2:20  MANHATTAN   10002.0  40.723648  -73.99103   \n",
              "1  2022-07-30 05:50:00       5:50  MANHATTAN   10024.0  40.782020  -73.97173   \n",
              "2  2022-07-30 18:55:00      18:55  MANHATTAN   10037.0  40.808220  -73.93673   \n",
              "\n",
              "                        location              on_street_name  \\\n",
              "0  \\n,  \\n(40.723648, -73.99103)             CHRYSTIE STREET   \n",
              "1   \\n,  \\n(40.78202, -73.97173)  TRANSVERSE ROAD NUMBER TWO   \n",
              "2   \\n,  \\n(40.80822, -73.93673)                 PARK AVENUE   \n",
              "\n",
              "       off_street_name cross_street_name  ...  vehicle_type_code_4  \\\n",
              "0  EAST HOUSTON STREET               NaN  ...                  NaN   \n",
              "1    CENTRAL PARK WEST               NaN  ...                  NaN   \n",
              "2      EAST 130 STREET               NaN  ...                  NaN   \n",
              "\n",
              "   vehicle_type_code_5                    geometry  Months  Hours  Weekday  \\\n",
              "0                  NaN  POINT (-73.99103 40.72365)     7.0    2.0      5.0   \n",
              "1                  NaN  POINT (-73.97173 40.78202)     7.0    5.0      5.0   \n",
              "2                  NaN  POINT (-73.93673 40.80822)     7.0   18.0      5.0   \n",
              "\n",
              "           u           v key uvkey  \n",
              "0   42443127  1918039877   0     0  \n",
              "1   42427915    42424225   0     0  \n",
              "2  589928038   589928034   0     0  \n",
              "\n",
              "[3 rows x 37 columns]"
            ],
            "text/html": [
              "\n",
              "  <div id=\"df-d7dbb6e2-642a-4cf3-8097-ec2f2d780c0d\">\n",
              "    <div class=\"colab-df-container\">\n",
              "      <div>\n",
              "<style scoped>\n",
              "    .dataframe tbody tr th:only-of-type {\n",
              "        vertical-align: middle;\n",
              "    }\n",
              "\n",
              "    .dataframe tbody tr th {\n",
              "        vertical-align: top;\n",
              "    }\n",
              "\n",
              "    .dataframe thead th {\n",
              "        text-align: right;\n",
              "    }\n",
              "</style>\n",
              "<table border=\"1\" class=\"dataframe\">\n",
              "  <thead>\n",
              "    <tr style=\"text-align: right;\">\n",
              "      <th></th>\n",
              "      <th>crash_date</th>\n",
              "      <th>crash_time</th>\n",
              "      <th>borough</th>\n",
              "      <th>zip_code</th>\n",
              "      <th>latitude</th>\n",
              "      <th>longitude</th>\n",
              "      <th>location</th>\n",
              "      <th>on_street_name</th>\n",
              "      <th>off_street_name</th>\n",
              "      <th>cross_street_name</th>\n",
              "      <th>...</th>\n",
              "      <th>vehicle_type_code_4</th>\n",
              "      <th>vehicle_type_code_5</th>\n",
              "      <th>geometry</th>\n",
              "      <th>Months</th>\n",
              "      <th>Hours</th>\n",
              "      <th>Weekday</th>\n",
              "      <th>u</th>\n",
              "      <th>v</th>\n",
              "      <th>key</th>\n",
              "      <th>uvkey</th>\n",
              "    </tr>\n",
              "  </thead>\n",
              "  <tbody>\n",
              "    <tr>\n",
              "      <th>0</th>\n",
              "      <td>2022-07-30 02:20:00</td>\n",
              "      <td>2:20</td>\n",
              "      <td>MANHATTAN</td>\n",
              "      <td>10002.0</td>\n",
              "      <td>40.723648</td>\n",
              "      <td>-73.99103</td>\n",
              "      <td>\\n,  \\n(40.723648, -73.99103)</td>\n",
              "      <td>CHRYSTIE STREET</td>\n",
              "      <td>EAST HOUSTON STREET</td>\n",
              "      <td>NaN</td>\n",
              "      <td>...</td>\n",
              "      <td>NaN</td>\n",
              "      <td>NaN</td>\n",
              "      <td>POINT (-73.99103 40.72365)</td>\n",
              "      <td>7.0</td>\n",
              "      <td>2.0</td>\n",
              "      <td>5.0</td>\n",
              "      <td>42443127</td>\n",
              "      <td>1918039877</td>\n",
              "      <td>0</td>\n",
              "      <td>0</td>\n",
              "    </tr>\n",
              "    <tr>\n",
              "      <th>1</th>\n",
              "      <td>2022-07-30 05:50:00</td>\n",
              "      <td>5:50</td>\n",
              "      <td>MANHATTAN</td>\n",
              "      <td>10024.0</td>\n",
              "      <td>40.782020</td>\n",
              "      <td>-73.97173</td>\n",
              "      <td>\\n,  \\n(40.78202, -73.97173)</td>\n",
              "      <td>TRANSVERSE ROAD NUMBER TWO</td>\n",
              "      <td>CENTRAL PARK WEST</td>\n",
              "      <td>NaN</td>\n",
              "      <td>...</td>\n",
              "      <td>NaN</td>\n",
              "      <td>NaN</td>\n",
              "      <td>POINT (-73.97173 40.78202)</td>\n",
              "      <td>7.0</td>\n",
              "      <td>5.0</td>\n",
              "      <td>5.0</td>\n",
              "      <td>42427915</td>\n",
              "      <td>42424225</td>\n",
              "      <td>0</td>\n",
              "      <td>0</td>\n",
              "    </tr>\n",
              "    <tr>\n",
              "      <th>2</th>\n",
              "      <td>2022-07-30 18:55:00</td>\n",
              "      <td>18:55</td>\n",
              "      <td>MANHATTAN</td>\n",
              "      <td>10037.0</td>\n",
              "      <td>40.808220</td>\n",
              "      <td>-73.93673</td>\n",
              "      <td>\\n,  \\n(40.80822, -73.93673)</td>\n",
              "      <td>PARK AVENUE</td>\n",
              "      <td>EAST 130 STREET</td>\n",
              "      <td>NaN</td>\n",
              "      <td>...</td>\n",
              "      <td>NaN</td>\n",
              "      <td>NaN</td>\n",
              "      <td>POINT (-73.93673 40.80822)</td>\n",
              "      <td>7.0</td>\n",
              "      <td>18.0</td>\n",
              "      <td>5.0</td>\n",
              "      <td>589928038</td>\n",
              "      <td>589928034</td>\n",
              "      <td>0</td>\n",
              "      <td>0</td>\n",
              "    </tr>\n",
              "  </tbody>\n",
              "</table>\n",
              "<p>3 rows × 37 columns</p>\n",
              "</div>\n",
              "      <button class=\"colab-df-convert\" onclick=\"convertToInteractive('df-d7dbb6e2-642a-4cf3-8097-ec2f2d780c0d')\"\n",
              "              title=\"Convert this dataframe to an interactive table.\"\n",
              "              style=\"display:none;\">\n",
              "        \n",
              "  <svg xmlns=\"http://www.w3.org/2000/svg\" height=\"24px\"viewBox=\"0 0 24 24\"\n",
              "       width=\"24px\">\n",
              "    <path d=\"M0 0h24v24H0V0z\" fill=\"none\"/>\n",
              "    <path d=\"M18.56 5.44l.94 2.06.94-2.06 2.06-.94-2.06-.94-.94-2.06-.94 2.06-2.06.94zm-11 1L8.5 8.5l.94-2.06 2.06-.94-2.06-.94L8.5 2.5l-.94 2.06-2.06.94zm10 10l.94 2.06.94-2.06 2.06-.94-2.06-.94-.94-2.06-.94 2.06-2.06.94z\"/><path d=\"M17.41 7.96l-1.37-1.37c-.4-.4-.92-.59-1.43-.59-.52 0-1.04.2-1.43.59L10.3 9.45l-7.72 7.72c-.78.78-.78 2.05 0 2.83L4 21.41c.39.39.9.59 1.41.59.51 0 1.02-.2 1.41-.59l7.78-7.78 2.81-2.81c.8-.78.8-2.07 0-2.86zM5.41 20L4 18.59l7.72-7.72 1.47 1.35L5.41 20z\"/>\n",
              "  </svg>\n",
              "      </button>\n",
              "      \n",
              "  <style>\n",
              "    .colab-df-container {\n",
              "      display:flex;\n",
              "      flex-wrap:wrap;\n",
              "      gap: 12px;\n",
              "    }\n",
              "\n",
              "    .colab-df-convert {\n",
              "      background-color: #E8F0FE;\n",
              "      border: none;\n",
              "      border-radius: 50%;\n",
              "      cursor: pointer;\n",
              "      display: none;\n",
              "      fill: #1967D2;\n",
              "      height: 32px;\n",
              "      padding: 0 0 0 0;\n",
              "      width: 32px;\n",
              "    }\n",
              "\n",
              "    .colab-df-convert:hover {\n",
              "      background-color: #E2EBFA;\n",
              "      box-shadow: 0px 1px 2px rgba(60, 64, 67, 0.3), 0px 1px 3px 1px rgba(60, 64, 67, 0.15);\n",
              "      fill: #174EA6;\n",
              "    }\n",
              "\n",
              "    [theme=dark] .colab-df-convert {\n",
              "      background-color: #3B4455;\n",
              "      fill: #D2E3FC;\n",
              "    }\n",
              "\n",
              "    [theme=dark] .colab-df-convert:hover {\n",
              "      background-color: #434B5C;\n",
              "      box-shadow: 0px 1px 3px 1px rgba(0, 0, 0, 0.15);\n",
              "      filter: drop-shadow(0px 1px 2px rgba(0, 0, 0, 0.3));\n",
              "      fill: #FFFFFF;\n",
              "    }\n",
              "  </style>\n",
              "\n",
              "      <script>\n",
              "        const buttonEl =\n",
              "          document.querySelector('#df-d7dbb6e2-642a-4cf3-8097-ec2f2d780c0d button.colab-df-convert');\n",
              "        buttonEl.style.display =\n",
              "          google.colab.kernel.accessAllowed ? 'block' : 'none';\n",
              "\n",
              "        async function convertToInteractive(key) {\n",
              "          const element = document.querySelector('#df-d7dbb6e2-642a-4cf3-8097-ec2f2d780c0d');\n",
              "          const dataTable =\n",
              "            await google.colab.kernel.invokeFunction('convertToInteractive',\n",
              "                                                     [key], {});\n",
              "          if (!dataTable) return;\n",
              "\n",
              "          const docLinkHtml = 'Like what you see? Visit the ' +\n",
              "            '<a target=\"_blank\" href=https://colab.research.google.com/notebooks/data_table.ipynb>data table notebook</a>'\n",
              "            + ' to learn more about interactive tables.';\n",
              "          element.innerHTML = '';\n",
              "          dataTable['output_type'] = 'display_data';\n",
              "          await google.colab.output.renderOutput(dataTable, element);\n",
              "          const docLink = document.createElement('div');\n",
              "          docLink.innerHTML = docLinkHtml;\n",
              "          element.appendChild(docLink);\n",
              "        }\n",
              "      </script>\n",
              "    </div>\n",
              "  </div>\n",
              "  "
            ]
          },
          "metadata": {},
          "execution_count": 13
        }
      ],
      "source": [
        "u=[]\n",
        "v=[]\n",
        "key=[]\n",
        "uvkey = []\n",
        "for i in range(len(crashes_manhattan)):\n",
        "  u.append(crash_edges[i][0])\n",
        "  v.append(crash_edges[i][1])\n",
        "  key.append(crash_edges[i][2])\n",
        "  uvkey.append( str(crash_edges[i][0]) + \" \" + str(crash_edges[i][1]) + \" \" + str(crash_edges[i][2]))\n",
        "crashes_manhattan['u'] = u\n",
        "crashes_manhattan['v'] = v\n",
        "crashes_manhattan['key'] = key\n",
        "crashes_manhattan['uvkey'] = key\n",
        "\n",
        "crashes_manhattan.head(3)\n"
      ],
      "id": "8ad69fdf-f449-403a-a0c5-fdcd4c2170a7"
    },
    {
      "cell_type": "code",
      "execution_count": 14,
      "metadata": {
        "colab": {
          "base_uri": "https://localhost:8080/"
        },
        "id": "aa4be835-155c-4bc3-a456-3b78e76776ea",
        "outputId": "4b9fe17b-072b-4297-dbb6-74bc771d6faa"
      },
      "outputs": [
        {
          "output_type": "stream",
          "name": "stdout",
          "text": [
            "<class 'geopandas.geodataframe.GeoDataFrame'>\n",
            "RangeIndex: 5399 entries, 0 to 5398\n",
            "Data columns (total 37 columns):\n",
            " #   Column                         Non-Null Count  Dtype   \n",
            "---  ------                         --------------  -----   \n",
            " 0   crash_date                     5399 non-null   object  \n",
            " 1   crash_time                     5399 non-null   object  \n",
            " 2   borough                        3757 non-null   object  \n",
            " 3   zip_code                       3757 non-null   float64 \n",
            " 4   latitude                       5399 non-null   float64 \n",
            " 5   longitude                      5399 non-null   float64 \n",
            " 6   location                       5399 non-null   object  \n",
            " 7   on_street_name                 3882 non-null   object  \n",
            " 8   off_street_name                2381 non-null   object  \n",
            " 9   cross_street_name              1517 non-null   object  \n",
            " 10  number_of_persons_injured      5399 non-null   int64   \n",
            " 11  number_of_persons_killed       5399 non-null   int64   \n",
            " 12  number_of_pedestrians_injured  5399 non-null   int64   \n",
            " 13  number_of_pedestrians_killed   5399 non-null   int64   \n",
            " 14  number_of_cyclist_injured      5399 non-null   int64   \n",
            " 15  number_of_cyclist_killed       5399 non-null   int64   \n",
            " 16  number_of_motorist_injured     5399 non-null   int64   \n",
            " 17  number_of_motorist_killed      5399 non-null   int64   \n",
            " 18  contributing_factor_vehicle_1  5372 non-null   object  \n",
            " 19  contributing_factor_vehicle_2  4173 non-null   object  \n",
            " 20  contributing_factor_vehicle_3  349 non-null    object  \n",
            " 21  contributing_factor_vehicle_4  92 non-null     object  \n",
            " 22  contributing_factor_vehicle_5  22 non-null     object  \n",
            " 23  collision_id                   5399 non-null   int64   \n",
            " 24  vehicle_type_code1             5334 non-null   object  \n",
            " 25  vehicle_type_code2             3712 non-null   object  \n",
            " 26  vehicle_type_code_3            325 non-null    object  \n",
            " 27  vehicle_type_code_4            85 non-null     object  \n",
            " 28  vehicle_type_code_5            21 non-null     object  \n",
            " 29  geometry                       5399 non-null   geometry\n",
            " 30  Months                         5399 non-null   float64 \n",
            " 31  Hours                          5399 non-null   float64 \n",
            " 32  Weekday                        5399 non-null   float64 \n",
            " 33  u                              5399 non-null   int64   \n",
            " 34  v                              5399 non-null   int64   \n",
            " 35  key                            5399 non-null   int64   \n",
            " 36  uvkey                          5399 non-null   int64   \n",
            "dtypes: float64(6), geometry(1), int64(13), object(17)\n",
            "memory usage: 1.5+ MB\n"
          ]
        }
      ],
      "source": [
        "crashes_manhattan.info()"
      ],
      "id": "aa4be835-155c-4bc3-a456-3b78e76776ea"
    },
    {
      "cell_type": "markdown",
      "source": [
        "The data has many Null values, which will have to be handled"
      ],
      "metadata": {
        "id": "cj68mMRlTK6e"
      },
      "id": "cj68mMRlTK6e"
    },
    {
      "cell_type": "markdown",
      "source": [
        "#### Combining our crash data with our street network data"
      ],
      "metadata": {
        "id": "YNH5g9CSCuvf"
      },
      "id": "YNH5g9CSCuvf"
    },
    {
      "cell_type": "markdown",
      "source": [
        "Selecting only the required columns"
      ],
      "metadata": {
        "id": "k41cdS7NTX9T"
      },
      "id": "k41cdS7NTX9T"
    },
    {
      "cell_type": "code",
      "execution_count": 15,
      "metadata": {
        "colab": {
          "base_uri": "https://localhost:8080/",
          "height": 0
        },
        "id": "cade030b-c67e-4ab7-b5d7-d7a838556a24",
        "outputId": "90243e27-cb4c-46c9-9483-9f09f5c656b4"
      },
      "outputs": [
        {
          "output_type": "execute_result",
          "data": {
            "text/plain": [
              "           u           v  key  collision_id  Months  Hours  Weekday\n",
              "0   42443127  1918039877    0       4551304     7.0    2.0      5.0\n",
              "1   42427915    42424225    0       4550881     7.0    5.0      5.0\n",
              "2  589928038   589928034    0       4551401     7.0   18.0      5.0\n",
              "3   42434122    42446177    0       4551398     7.0   10.0      5.0\n",
              "4   42453604  9166033062    0       4550812     7.0    0.0      5.0"
            ],
            "text/html": [
              "\n",
              "  <div id=\"df-9afc666a-9fc7-4a84-ad47-29729b35148e\">\n",
              "    <div class=\"colab-df-container\">\n",
              "      <div>\n",
              "<style scoped>\n",
              "    .dataframe tbody tr th:only-of-type {\n",
              "        vertical-align: middle;\n",
              "    }\n",
              "\n",
              "    .dataframe tbody tr th {\n",
              "        vertical-align: top;\n",
              "    }\n",
              "\n",
              "    .dataframe thead th {\n",
              "        text-align: right;\n",
              "    }\n",
              "</style>\n",
              "<table border=\"1\" class=\"dataframe\">\n",
              "  <thead>\n",
              "    <tr style=\"text-align: right;\">\n",
              "      <th></th>\n",
              "      <th>u</th>\n",
              "      <th>v</th>\n",
              "      <th>key</th>\n",
              "      <th>collision_id</th>\n",
              "      <th>Months</th>\n",
              "      <th>Hours</th>\n",
              "      <th>Weekday</th>\n",
              "    </tr>\n",
              "  </thead>\n",
              "  <tbody>\n",
              "    <tr>\n",
              "      <th>0</th>\n",
              "      <td>42443127</td>\n",
              "      <td>1918039877</td>\n",
              "      <td>0</td>\n",
              "      <td>4551304</td>\n",
              "      <td>7.0</td>\n",
              "      <td>2.0</td>\n",
              "      <td>5.0</td>\n",
              "    </tr>\n",
              "    <tr>\n",
              "      <th>1</th>\n",
              "      <td>42427915</td>\n",
              "      <td>42424225</td>\n",
              "      <td>0</td>\n",
              "      <td>4550881</td>\n",
              "      <td>7.0</td>\n",
              "      <td>5.0</td>\n",
              "      <td>5.0</td>\n",
              "    </tr>\n",
              "    <tr>\n",
              "      <th>2</th>\n",
              "      <td>589928038</td>\n",
              "      <td>589928034</td>\n",
              "      <td>0</td>\n",
              "      <td>4551401</td>\n",
              "      <td>7.0</td>\n",
              "      <td>18.0</td>\n",
              "      <td>5.0</td>\n",
              "    </tr>\n",
              "    <tr>\n",
              "      <th>3</th>\n",
              "      <td>42434122</td>\n",
              "      <td>42446177</td>\n",
              "      <td>0</td>\n",
              "      <td>4551398</td>\n",
              "      <td>7.0</td>\n",
              "      <td>10.0</td>\n",
              "      <td>5.0</td>\n",
              "    </tr>\n",
              "    <tr>\n",
              "      <th>4</th>\n",
              "      <td>42453604</td>\n",
              "      <td>9166033062</td>\n",
              "      <td>0</td>\n",
              "      <td>4550812</td>\n",
              "      <td>7.0</td>\n",
              "      <td>0.0</td>\n",
              "      <td>5.0</td>\n",
              "    </tr>\n",
              "  </tbody>\n",
              "</table>\n",
              "</div>\n",
              "      <button class=\"colab-df-convert\" onclick=\"convertToInteractive('df-9afc666a-9fc7-4a84-ad47-29729b35148e')\"\n",
              "              title=\"Convert this dataframe to an interactive table.\"\n",
              "              style=\"display:none;\">\n",
              "        \n",
              "  <svg xmlns=\"http://www.w3.org/2000/svg\" height=\"24px\"viewBox=\"0 0 24 24\"\n",
              "       width=\"24px\">\n",
              "    <path d=\"M0 0h24v24H0V0z\" fill=\"none\"/>\n",
              "    <path d=\"M18.56 5.44l.94 2.06.94-2.06 2.06-.94-2.06-.94-.94-2.06-.94 2.06-2.06.94zm-11 1L8.5 8.5l.94-2.06 2.06-.94-2.06-.94L8.5 2.5l-.94 2.06-2.06.94zm10 10l.94 2.06.94-2.06 2.06-.94-2.06-.94-.94-2.06-.94 2.06-2.06.94z\"/><path d=\"M17.41 7.96l-1.37-1.37c-.4-.4-.92-.59-1.43-.59-.52 0-1.04.2-1.43.59L10.3 9.45l-7.72 7.72c-.78.78-.78 2.05 0 2.83L4 21.41c.39.39.9.59 1.41.59.51 0 1.02-.2 1.41-.59l7.78-7.78 2.81-2.81c.8-.78.8-2.07 0-2.86zM5.41 20L4 18.59l7.72-7.72 1.47 1.35L5.41 20z\"/>\n",
              "  </svg>\n",
              "      </button>\n",
              "      \n",
              "  <style>\n",
              "    .colab-df-container {\n",
              "      display:flex;\n",
              "      flex-wrap:wrap;\n",
              "      gap: 12px;\n",
              "    }\n",
              "\n",
              "    .colab-df-convert {\n",
              "      background-color: #E8F0FE;\n",
              "      border: none;\n",
              "      border-radius: 50%;\n",
              "      cursor: pointer;\n",
              "      display: none;\n",
              "      fill: #1967D2;\n",
              "      height: 32px;\n",
              "      padding: 0 0 0 0;\n",
              "      width: 32px;\n",
              "    }\n",
              "\n",
              "    .colab-df-convert:hover {\n",
              "      background-color: #E2EBFA;\n",
              "      box-shadow: 0px 1px 2px rgba(60, 64, 67, 0.3), 0px 1px 3px 1px rgba(60, 64, 67, 0.15);\n",
              "      fill: #174EA6;\n",
              "    }\n",
              "\n",
              "    [theme=dark] .colab-df-convert {\n",
              "      background-color: #3B4455;\n",
              "      fill: #D2E3FC;\n",
              "    }\n",
              "\n",
              "    [theme=dark] .colab-df-convert:hover {\n",
              "      background-color: #434B5C;\n",
              "      box-shadow: 0px 1px 3px 1px rgba(0, 0, 0, 0.15);\n",
              "      filter: drop-shadow(0px 1px 2px rgba(0, 0, 0, 0.3));\n",
              "      fill: #FFFFFF;\n",
              "    }\n",
              "  </style>\n",
              "\n",
              "      <script>\n",
              "        const buttonEl =\n",
              "          document.querySelector('#df-9afc666a-9fc7-4a84-ad47-29729b35148e button.colab-df-convert');\n",
              "        buttonEl.style.display =\n",
              "          google.colab.kernel.accessAllowed ? 'block' : 'none';\n",
              "\n",
              "        async function convertToInteractive(key) {\n",
              "          const element = document.querySelector('#df-9afc666a-9fc7-4a84-ad47-29729b35148e');\n",
              "          const dataTable =\n",
              "            await google.colab.kernel.invokeFunction('convertToInteractive',\n",
              "                                                     [key], {});\n",
              "          if (!dataTable) return;\n",
              "\n",
              "          const docLinkHtml = 'Like what you see? Visit the ' +\n",
              "            '<a target=\"_blank\" href=https://colab.research.google.com/notebooks/data_table.ipynb>data table notebook</a>'\n",
              "            + ' to learn more about interactive tables.';\n",
              "          element.innerHTML = '';\n",
              "          dataTable['output_type'] = 'display_data';\n",
              "          await google.colab.output.renderOutput(dataTable, element);\n",
              "          const docLink = document.createElement('div');\n",
              "          docLink.innerHTML = docLinkHtml;\n",
              "          element.appendChild(docLink);\n",
              "        }\n",
              "      </script>\n",
              "    </div>\n",
              "  </div>\n",
              "  "
            ]
          },
          "metadata": {},
          "execution_count": 15
        }
      ],
      "source": [
        "df1 = crashes_manhattan[['u','v','key','collision_id','Months','Hours','Weekday']]\n",
        "df1.head()"
      ],
      "id": "cade030b-c67e-4ab7-b5d7-d7a838556a24"
    },
    {
      "cell_type": "markdown",
      "source": [
        "Now lets prepare a table combining the unique key in edges and time data"
      ],
      "metadata": {
        "id": "TVtK8Al8Tel2"
      },
      "id": "TVtK8Al8Tel2"
    },
    {
      "cell_type": "code",
      "execution_count": 16,
      "metadata": {
        "colab": {
          "base_uri": "https://localhost:8080/",
          "height": 0
        },
        "id": "0efbe9b2-b6e1-4ca8-9774-c4ccdaf28fad",
        "outputId": "6f404748-3ad8-4110-b41e-325c82066b4f"
      },
      "outputs": [
        {
          "output_type": "execute_result",
          "data": {
            "text/plain": [
              "                 uvkey  Months  Hours  Weekday\n",
              "0  42421728 42432736 0     1.0    0.0      0.0\n",
              "1  42421728 42432736 0     1.0    0.0      1.0\n",
              "2  42421728 42432736 0     1.0    0.0      2.0"
            ],
            "text/html": [
              "\n",
              "  <div id=\"df-17aedd49-8df8-428d-8749-9dc22bf9e826\">\n",
              "    <div class=\"colab-df-container\">\n",
              "      <div>\n",
              "<style scoped>\n",
              "    .dataframe tbody tr th:only-of-type {\n",
              "        vertical-align: middle;\n",
              "    }\n",
              "\n",
              "    .dataframe tbody tr th {\n",
              "        vertical-align: top;\n",
              "    }\n",
              "\n",
              "    .dataframe thead th {\n",
              "        text-align: right;\n",
              "    }\n",
              "</style>\n",
              "<table border=\"1\" class=\"dataframe\">\n",
              "  <thead>\n",
              "    <tr style=\"text-align: right;\">\n",
              "      <th></th>\n",
              "      <th>uvkey</th>\n",
              "      <th>Months</th>\n",
              "      <th>Hours</th>\n",
              "      <th>Weekday</th>\n",
              "    </tr>\n",
              "  </thead>\n",
              "  <tbody>\n",
              "    <tr>\n",
              "      <th>0</th>\n",
              "      <td>42421728 42432736 0</td>\n",
              "      <td>1.0</td>\n",
              "      <td>0.0</td>\n",
              "      <td>0.0</td>\n",
              "    </tr>\n",
              "    <tr>\n",
              "      <th>1</th>\n",
              "      <td>42421728 42432736 0</td>\n",
              "      <td>1.0</td>\n",
              "      <td>0.0</td>\n",
              "      <td>1.0</td>\n",
              "    </tr>\n",
              "    <tr>\n",
              "      <th>2</th>\n",
              "      <td>42421728 42432736 0</td>\n",
              "      <td>1.0</td>\n",
              "      <td>0.0</td>\n",
              "      <td>2.0</td>\n",
              "    </tr>\n",
              "  </tbody>\n",
              "</table>\n",
              "</div>\n",
              "      <button class=\"colab-df-convert\" onclick=\"convertToInteractive('df-17aedd49-8df8-428d-8749-9dc22bf9e826')\"\n",
              "              title=\"Convert this dataframe to an interactive table.\"\n",
              "              style=\"display:none;\">\n",
              "        \n",
              "  <svg xmlns=\"http://www.w3.org/2000/svg\" height=\"24px\"viewBox=\"0 0 24 24\"\n",
              "       width=\"24px\">\n",
              "    <path d=\"M0 0h24v24H0V0z\" fill=\"none\"/>\n",
              "    <path d=\"M18.56 5.44l.94 2.06.94-2.06 2.06-.94-2.06-.94-.94-2.06-.94 2.06-2.06.94zm-11 1L8.5 8.5l.94-2.06 2.06-.94-2.06-.94L8.5 2.5l-.94 2.06-2.06.94zm10 10l.94 2.06.94-2.06 2.06-.94-2.06-.94-.94-2.06-.94 2.06-2.06.94z\"/><path d=\"M17.41 7.96l-1.37-1.37c-.4-.4-.92-.59-1.43-.59-.52 0-1.04.2-1.43.59L10.3 9.45l-7.72 7.72c-.78.78-.78 2.05 0 2.83L4 21.41c.39.39.9.59 1.41.59.51 0 1.02-.2 1.41-.59l7.78-7.78 2.81-2.81c.8-.78.8-2.07 0-2.86zM5.41 20L4 18.59l7.72-7.72 1.47 1.35L5.41 20z\"/>\n",
              "  </svg>\n",
              "      </button>\n",
              "      \n",
              "  <style>\n",
              "    .colab-df-container {\n",
              "      display:flex;\n",
              "      flex-wrap:wrap;\n",
              "      gap: 12px;\n",
              "    }\n",
              "\n",
              "    .colab-df-convert {\n",
              "      background-color: #E8F0FE;\n",
              "      border: none;\n",
              "      border-radius: 50%;\n",
              "      cursor: pointer;\n",
              "      display: none;\n",
              "      fill: #1967D2;\n",
              "      height: 32px;\n",
              "      padding: 0 0 0 0;\n",
              "      width: 32px;\n",
              "    }\n",
              "\n",
              "    .colab-df-convert:hover {\n",
              "      background-color: #E2EBFA;\n",
              "      box-shadow: 0px 1px 2px rgba(60, 64, 67, 0.3), 0px 1px 3px 1px rgba(60, 64, 67, 0.15);\n",
              "      fill: #174EA6;\n",
              "    }\n",
              "\n",
              "    [theme=dark] .colab-df-convert {\n",
              "      background-color: #3B4455;\n",
              "      fill: #D2E3FC;\n",
              "    }\n",
              "\n",
              "    [theme=dark] .colab-df-convert:hover {\n",
              "      background-color: #434B5C;\n",
              "      box-shadow: 0px 1px 3px 1px rgba(0, 0, 0, 0.15);\n",
              "      filter: drop-shadow(0px 1px 2px rgba(0, 0, 0, 0.3));\n",
              "      fill: #FFFFFF;\n",
              "    }\n",
              "  </style>\n",
              "\n",
              "      <script>\n",
              "        const buttonEl =\n",
              "          document.querySelector('#df-17aedd49-8df8-428d-8749-9dc22bf9e826 button.colab-df-convert');\n",
              "        buttonEl.style.display =\n",
              "          google.colab.kernel.accessAllowed ? 'block' : 'none';\n",
              "\n",
              "        async function convertToInteractive(key) {\n",
              "          const element = document.querySelector('#df-17aedd49-8df8-428d-8749-9dc22bf9e826');\n",
              "          const dataTable =\n",
              "            await google.colab.kernel.invokeFunction('convertToInteractive',\n",
              "                                                     [key], {});\n",
              "          if (!dataTable) return;\n",
              "\n",
              "          const docLinkHtml = 'Like what you see? Visit the ' +\n",
              "            '<a target=\"_blank\" href=https://colab.research.google.com/notebooks/data_table.ipynb>data table notebook</a>'\n",
              "            + ' to learn more about interactive tables.';\n",
              "          element.innerHTML = '';\n",
              "          dataTable['output_type'] = 'display_data';\n",
              "          await google.colab.output.renderOutput(dataTable, element);\n",
              "          const docLink = document.createElement('div');\n",
              "          docLink.innerHTML = docLinkHtml;\n",
              "          element.appendChild(docLink);\n",
              "        }\n",
              "      </script>\n",
              "    </div>\n",
              "  </div>\n",
              "  "
            ]
          },
          "metadata": {},
          "execution_count": 16
        }
      ],
      "source": [
        "edges = edges.reset_index(drop = False)\n",
        "Months = np.linspace(1,12,12)\n",
        "Hours = np.linspace(0,23,24)\n",
        "Weekday = np.linspace(0,6,7)\n",
        "uvkey = []\n",
        "for i in range(len(edges)):\n",
        "    uvkey.append(str(edges['u'][i]) + \" \" +str(edges['v'][i]) + \" \" + str(edges['key'][i]))\n",
        "edges['uvkey'] = uvkey    \n",
        "df_cal = list(product(edges['uvkey'],Months, Hours, Weekday))\n",
        "df_cal = pd.DataFrame(df_cal,columns = ['uvkey','Months', 'Hours', 'Weekday'])\n",
        "df_cal.head(3)\n"
      ],
      "id": "0efbe9b2-b6e1-4ca8-9774-c4ccdaf28fad"
    },
    {
      "cell_type": "markdown",
      "source": [
        "This dataset has 19 million rows which makes the data processing very hard. Additionally there are only about 5000 accidents apporximately. By having 19 million rows, we will intoduce a big bias in the ML model. Hence we will sample a random 10000 rows for our model. \n",
        "Using the unique key uvkey, we will merge the edges and calendar data "
      ],
      "metadata": {
        "id": "TQ5FkxSwTlT-"
      },
      "id": "TQ5FkxSwTlT-"
    },
    {
      "cell_type": "code",
      "execution_count": 17,
      "metadata": {
        "id": "j-uBCyhC2-Y4",
        "colab": {
          "base_uri": "https://localhost:8080/",
          "height": 0
        },
        "outputId": "163d1f74-1a37-4474-d72d-8d23007d7580"
      },
      "outputs": [
        {
          "output_type": "execute_result",
          "data": {
            "text/plain": [
              "                 uvkey  Months  Hours  Weekday      highway maxspeed  oneway  \\\n",
              "0  42421728 42432736 0     NaN    NaN      NaN    secondary   25 mph   False   \n",
              "1  42421728 42435337 0     NaN    NaN      NaN    secondary   25 mph   False   \n",
              "2  42421728 42421731 0     9.0    3.0      5.0    secondary      NaN   False   \n",
              "3  42421731 42437916 0     4.0    5.0      6.0  residential      NaN   False   \n",
              "4  42421731 42432737 0    10.0   14.0      4.0  residential      NaN   False   \n",
              "\n",
              "    length         u         v  key  \n",
              "0   86.258  42421728  42432736    0  \n",
              "1   85.345  42421728  42435337    0  \n",
              "2  138.033  42421728  42421731    0  \n",
              "3   86.149  42421731  42437916    0  \n",
              "4   85.611  42421731  42432737    0  "
            ],
            "text/html": [
              "\n",
              "  <div id=\"df-f32f86f5-31c3-469d-96a6-0702f7f66ec0\">\n",
              "    <div class=\"colab-df-container\">\n",
              "      <div>\n",
              "<style scoped>\n",
              "    .dataframe tbody tr th:only-of-type {\n",
              "        vertical-align: middle;\n",
              "    }\n",
              "\n",
              "    .dataframe tbody tr th {\n",
              "        vertical-align: top;\n",
              "    }\n",
              "\n",
              "    .dataframe thead th {\n",
              "        text-align: right;\n",
              "    }\n",
              "</style>\n",
              "<table border=\"1\" class=\"dataframe\">\n",
              "  <thead>\n",
              "    <tr style=\"text-align: right;\">\n",
              "      <th></th>\n",
              "      <th>uvkey</th>\n",
              "      <th>Months</th>\n",
              "      <th>Hours</th>\n",
              "      <th>Weekday</th>\n",
              "      <th>highway</th>\n",
              "      <th>maxspeed</th>\n",
              "      <th>oneway</th>\n",
              "      <th>length</th>\n",
              "      <th>u</th>\n",
              "      <th>v</th>\n",
              "      <th>key</th>\n",
              "    </tr>\n",
              "  </thead>\n",
              "  <tbody>\n",
              "    <tr>\n",
              "      <th>0</th>\n",
              "      <td>42421728 42432736 0</td>\n",
              "      <td>NaN</td>\n",
              "      <td>NaN</td>\n",
              "      <td>NaN</td>\n",
              "      <td>secondary</td>\n",
              "      <td>25 mph</td>\n",
              "      <td>False</td>\n",
              "      <td>86.258</td>\n",
              "      <td>42421728</td>\n",
              "      <td>42432736</td>\n",
              "      <td>0</td>\n",
              "    </tr>\n",
              "    <tr>\n",
              "      <th>1</th>\n",
              "      <td>42421728 42435337 0</td>\n",
              "      <td>NaN</td>\n",
              "      <td>NaN</td>\n",
              "      <td>NaN</td>\n",
              "      <td>secondary</td>\n",
              "      <td>25 mph</td>\n",
              "      <td>False</td>\n",
              "      <td>85.345</td>\n",
              "      <td>42421728</td>\n",
              "      <td>42435337</td>\n",
              "      <td>0</td>\n",
              "    </tr>\n",
              "    <tr>\n",
              "      <th>2</th>\n",
              "      <td>42421728 42421731 0</td>\n",
              "      <td>9.0</td>\n",
              "      <td>3.0</td>\n",
              "      <td>5.0</td>\n",
              "      <td>secondary</td>\n",
              "      <td>NaN</td>\n",
              "      <td>False</td>\n",
              "      <td>138.033</td>\n",
              "      <td>42421728</td>\n",
              "      <td>42421731</td>\n",
              "      <td>0</td>\n",
              "    </tr>\n",
              "    <tr>\n",
              "      <th>3</th>\n",
              "      <td>42421731 42437916 0</td>\n",
              "      <td>4.0</td>\n",
              "      <td>5.0</td>\n",
              "      <td>6.0</td>\n",
              "      <td>residential</td>\n",
              "      <td>NaN</td>\n",
              "      <td>False</td>\n",
              "      <td>86.149</td>\n",
              "      <td>42421731</td>\n",
              "      <td>42437916</td>\n",
              "      <td>0</td>\n",
              "    </tr>\n",
              "    <tr>\n",
              "      <th>4</th>\n",
              "      <td>42421731 42432737 0</td>\n",
              "      <td>10.0</td>\n",
              "      <td>14.0</td>\n",
              "      <td>4.0</td>\n",
              "      <td>residential</td>\n",
              "      <td>NaN</td>\n",
              "      <td>False</td>\n",
              "      <td>85.611</td>\n",
              "      <td>42421731</td>\n",
              "      <td>42432737</td>\n",
              "      <td>0</td>\n",
              "    </tr>\n",
              "  </tbody>\n",
              "</table>\n",
              "</div>\n",
              "      <button class=\"colab-df-convert\" onclick=\"convertToInteractive('df-f32f86f5-31c3-469d-96a6-0702f7f66ec0')\"\n",
              "              title=\"Convert this dataframe to an interactive table.\"\n",
              "              style=\"display:none;\">\n",
              "        \n",
              "  <svg xmlns=\"http://www.w3.org/2000/svg\" height=\"24px\"viewBox=\"0 0 24 24\"\n",
              "       width=\"24px\">\n",
              "    <path d=\"M0 0h24v24H0V0z\" fill=\"none\"/>\n",
              "    <path d=\"M18.56 5.44l.94 2.06.94-2.06 2.06-.94-2.06-.94-.94-2.06-.94 2.06-2.06.94zm-11 1L8.5 8.5l.94-2.06 2.06-.94-2.06-.94L8.5 2.5l-.94 2.06-2.06.94zm10 10l.94 2.06.94-2.06 2.06-.94-2.06-.94-.94-2.06-.94 2.06-2.06.94z\"/><path d=\"M17.41 7.96l-1.37-1.37c-.4-.4-.92-.59-1.43-.59-.52 0-1.04.2-1.43.59L10.3 9.45l-7.72 7.72c-.78.78-.78 2.05 0 2.83L4 21.41c.39.39.9.59 1.41.59.51 0 1.02-.2 1.41-.59l7.78-7.78 2.81-2.81c.8-.78.8-2.07 0-2.86zM5.41 20L4 18.59l7.72-7.72 1.47 1.35L5.41 20z\"/>\n",
              "  </svg>\n",
              "      </button>\n",
              "      \n",
              "  <style>\n",
              "    .colab-df-container {\n",
              "      display:flex;\n",
              "      flex-wrap:wrap;\n",
              "      gap: 12px;\n",
              "    }\n",
              "\n",
              "    .colab-df-convert {\n",
              "      background-color: #E8F0FE;\n",
              "      border: none;\n",
              "      border-radius: 50%;\n",
              "      cursor: pointer;\n",
              "      display: none;\n",
              "      fill: #1967D2;\n",
              "      height: 32px;\n",
              "      padding: 0 0 0 0;\n",
              "      width: 32px;\n",
              "    }\n",
              "\n",
              "    .colab-df-convert:hover {\n",
              "      background-color: #E2EBFA;\n",
              "      box-shadow: 0px 1px 2px rgba(60, 64, 67, 0.3), 0px 1px 3px 1px rgba(60, 64, 67, 0.15);\n",
              "      fill: #174EA6;\n",
              "    }\n",
              "\n",
              "    [theme=dark] .colab-df-convert {\n",
              "      background-color: #3B4455;\n",
              "      fill: #D2E3FC;\n",
              "    }\n",
              "\n",
              "    [theme=dark] .colab-df-convert:hover {\n",
              "      background-color: #434B5C;\n",
              "      box-shadow: 0px 1px 3px 1px rgba(0, 0, 0, 0.15);\n",
              "      filter: drop-shadow(0px 1px 2px rgba(0, 0, 0, 0.3));\n",
              "      fill: #FFFFFF;\n",
              "    }\n",
              "  </style>\n",
              "\n",
              "      <script>\n",
              "        const buttonEl =\n",
              "          document.querySelector('#df-f32f86f5-31c3-469d-96a6-0702f7f66ec0 button.colab-df-convert');\n",
              "        buttonEl.style.display =\n",
              "          google.colab.kernel.accessAllowed ? 'block' : 'none';\n",
              "\n",
              "        async function convertToInteractive(key) {\n",
              "          const element = document.querySelector('#df-f32f86f5-31c3-469d-96a6-0702f7f66ec0');\n",
              "          const dataTable =\n",
              "            await google.colab.kernel.invokeFunction('convertToInteractive',\n",
              "                                                     [key], {});\n",
              "          if (!dataTable) return;\n",
              "\n",
              "          const docLinkHtml = 'Like what you see? Visit the ' +\n",
              "            '<a target=\"_blank\" href=https://colab.research.google.com/notebooks/data_table.ipynb>data table notebook</a>'\n",
              "            + ' to learn more about interactive tables.';\n",
              "          element.innerHTML = '';\n",
              "          dataTable['output_type'] = 'display_data';\n",
              "          await google.colab.output.renderOutput(dataTable, element);\n",
              "          const docLink = document.createElement('div');\n",
              "          docLink.innerHTML = docLinkHtml;\n",
              "          element.appendChild(docLink);\n",
              "        }\n",
              "      </script>\n",
              "    </div>\n",
              "  </div>\n",
              "  "
            ]
          },
          "metadata": {},
          "execution_count": 17
        }
      ],
      "source": [
        "df_cal2 = df_cal.sample(10000).reset_index(drop = False)\n",
        "\n",
        "df_cal2 = edges.merge(df_cal2, on=['uvkey'], how='outer')\n",
        "u=[]\n",
        "v=[]\n",
        "k=[]\n",
        "df2 = df_cal2[['uvkey','Months', 'Hours', 'Weekday','highway','maxspeed','oneway','length']]\n",
        "for i in range(len(df2)):\n",
        "  u.append(int(df2['uvkey'][i].split(\" \")[0]))\n",
        "  v.append(int(df2['uvkey'][i].split(\" \")[1]))\n",
        "  k.append(int(df2['uvkey'][i].split(\" \")[2]))\n",
        "df2['u'] = u\n",
        "df2['v'] = v\n",
        "df2['key'] = k\n",
        "df2.head()"
      ],
      "id": "j-uBCyhC2-Y4"
    },
    {
      "cell_type": "code",
      "source": [
        "len(df1),len(df2)"
      ],
      "metadata": {
        "colab": {
          "base_uri": "https://localhost:8080/"
        },
        "id": "CBOqut_DmL0s",
        "outputId": "2d04ae41-46c4-491d-c960-59fd5f32acb4"
      },
      "id": "CBOqut_DmL0s",
      "execution_count": 18,
      "outputs": [
        {
          "output_type": "execute_result",
          "data": {
            "text/plain": [
              "(5399, 13608)"
            ]
          },
          "metadata": {},
          "execution_count": 18
        }
      ]
    },
    {
      "cell_type": "markdown",
      "source": [
        "#### Merging the datasets"
      ],
      "metadata": {
        "id": "Rrlo-hKZkhuC"
      },
      "id": "Rrlo-hKZkhuC"
    },
    {
      "cell_type": "code",
      "execution_count": 19,
      "metadata": {
        "id": "34b715b8-2d84-4d96-be50-141c97e7ea6d"
      },
      "outputs": [],
      "source": [
        "edges_with_crashes = df2.merge(df1, on=['u','v','Months','Hours','Weekday','key'], how='outer').reset_index(drop=True)\n"
      ],
      "id": "34b715b8-2d84-4d96-be50-141c97e7ea6d"
    },
    {
      "cell_type": "markdown",
      "source": [
        "Now that the datasets are merged, let us create the target column"
      ],
      "metadata": {
        "id": "oy2Dc8SNUm6-"
      },
      "id": "oy2Dc8SNUm6-"
    },
    {
      "cell_type": "code",
      "source": [
        "edges_with_crashes['collision_id'] = edges_with_crashes['collision_id'].fillna(0)\n",
        "edges_with_crashes.loc[edges_with_crashes[\"collision_id\"] != 0, \"collision_id\"] = 1\n",
        "edges_with_crashes.rename(columns = {'collision_id':'target'},inplace=True)\n",
        "edges_with_crashes.head(3)"
      ],
      "metadata": {
        "colab": {
          "base_uri": "https://localhost:8080/",
          "height": 0
        },
        "id": "Us-FWjJgmZeZ",
        "outputId": "837260c1-58b4-4fc1-fabc-5b9b3bd0fff8"
      },
      "id": "Us-FWjJgmZeZ",
      "execution_count": 20,
      "outputs": [
        {
          "output_type": "execute_result",
          "data": {
            "text/plain": [
              "                 uvkey  Months  Hours  Weekday    highway maxspeed oneway  \\\n",
              "0  42421728 42432736 0     NaN    NaN      NaN  secondary   25 mph  False   \n",
              "1  42421728 42435337 0     NaN    NaN      NaN  secondary   25 mph  False   \n",
              "2  42421728 42421731 0     9.0    3.0      5.0  secondary      NaN  False   \n",
              "\n",
              "    length         u         v  key  target  \n",
              "0   86.258  42421728  42432736    0     0.0  \n",
              "1   85.345  42421728  42435337    0     0.0  \n",
              "2  138.033  42421728  42421731    0     0.0  "
            ],
            "text/html": [
              "\n",
              "  <div id=\"df-77f55c12-2d32-415d-8a5c-31e66b888850\">\n",
              "    <div class=\"colab-df-container\">\n",
              "      <div>\n",
              "<style scoped>\n",
              "    .dataframe tbody tr th:only-of-type {\n",
              "        vertical-align: middle;\n",
              "    }\n",
              "\n",
              "    .dataframe tbody tr th {\n",
              "        vertical-align: top;\n",
              "    }\n",
              "\n",
              "    .dataframe thead th {\n",
              "        text-align: right;\n",
              "    }\n",
              "</style>\n",
              "<table border=\"1\" class=\"dataframe\">\n",
              "  <thead>\n",
              "    <tr style=\"text-align: right;\">\n",
              "      <th></th>\n",
              "      <th>uvkey</th>\n",
              "      <th>Months</th>\n",
              "      <th>Hours</th>\n",
              "      <th>Weekday</th>\n",
              "      <th>highway</th>\n",
              "      <th>maxspeed</th>\n",
              "      <th>oneway</th>\n",
              "      <th>length</th>\n",
              "      <th>u</th>\n",
              "      <th>v</th>\n",
              "      <th>key</th>\n",
              "      <th>target</th>\n",
              "    </tr>\n",
              "  </thead>\n",
              "  <tbody>\n",
              "    <tr>\n",
              "      <th>0</th>\n",
              "      <td>42421728 42432736 0</td>\n",
              "      <td>NaN</td>\n",
              "      <td>NaN</td>\n",
              "      <td>NaN</td>\n",
              "      <td>secondary</td>\n",
              "      <td>25 mph</td>\n",
              "      <td>False</td>\n",
              "      <td>86.258</td>\n",
              "      <td>42421728</td>\n",
              "      <td>42432736</td>\n",
              "      <td>0</td>\n",
              "      <td>0.0</td>\n",
              "    </tr>\n",
              "    <tr>\n",
              "      <th>1</th>\n",
              "      <td>42421728 42435337 0</td>\n",
              "      <td>NaN</td>\n",
              "      <td>NaN</td>\n",
              "      <td>NaN</td>\n",
              "      <td>secondary</td>\n",
              "      <td>25 mph</td>\n",
              "      <td>False</td>\n",
              "      <td>85.345</td>\n",
              "      <td>42421728</td>\n",
              "      <td>42435337</td>\n",
              "      <td>0</td>\n",
              "      <td>0.0</td>\n",
              "    </tr>\n",
              "    <tr>\n",
              "      <th>2</th>\n",
              "      <td>42421728 42421731 0</td>\n",
              "      <td>9.0</td>\n",
              "      <td>3.0</td>\n",
              "      <td>5.0</td>\n",
              "      <td>secondary</td>\n",
              "      <td>NaN</td>\n",
              "      <td>False</td>\n",
              "      <td>138.033</td>\n",
              "      <td>42421728</td>\n",
              "      <td>42421731</td>\n",
              "      <td>0</td>\n",
              "      <td>0.0</td>\n",
              "    </tr>\n",
              "  </tbody>\n",
              "</table>\n",
              "</div>\n",
              "      <button class=\"colab-df-convert\" onclick=\"convertToInteractive('df-77f55c12-2d32-415d-8a5c-31e66b888850')\"\n",
              "              title=\"Convert this dataframe to an interactive table.\"\n",
              "              style=\"display:none;\">\n",
              "        \n",
              "  <svg xmlns=\"http://www.w3.org/2000/svg\" height=\"24px\"viewBox=\"0 0 24 24\"\n",
              "       width=\"24px\">\n",
              "    <path d=\"M0 0h24v24H0V0z\" fill=\"none\"/>\n",
              "    <path d=\"M18.56 5.44l.94 2.06.94-2.06 2.06-.94-2.06-.94-.94-2.06-.94 2.06-2.06.94zm-11 1L8.5 8.5l.94-2.06 2.06-.94-2.06-.94L8.5 2.5l-.94 2.06-2.06.94zm10 10l.94 2.06.94-2.06 2.06-.94-2.06-.94-.94-2.06-.94 2.06-2.06.94z\"/><path d=\"M17.41 7.96l-1.37-1.37c-.4-.4-.92-.59-1.43-.59-.52 0-1.04.2-1.43.59L10.3 9.45l-7.72 7.72c-.78.78-.78 2.05 0 2.83L4 21.41c.39.39.9.59 1.41.59.51 0 1.02-.2 1.41-.59l7.78-7.78 2.81-2.81c.8-.78.8-2.07 0-2.86zM5.41 20L4 18.59l7.72-7.72 1.47 1.35L5.41 20z\"/>\n",
              "  </svg>\n",
              "      </button>\n",
              "      \n",
              "  <style>\n",
              "    .colab-df-container {\n",
              "      display:flex;\n",
              "      flex-wrap:wrap;\n",
              "      gap: 12px;\n",
              "    }\n",
              "\n",
              "    .colab-df-convert {\n",
              "      background-color: #E8F0FE;\n",
              "      border: none;\n",
              "      border-radius: 50%;\n",
              "      cursor: pointer;\n",
              "      display: none;\n",
              "      fill: #1967D2;\n",
              "      height: 32px;\n",
              "      padding: 0 0 0 0;\n",
              "      width: 32px;\n",
              "    }\n",
              "\n",
              "    .colab-df-convert:hover {\n",
              "      background-color: #E2EBFA;\n",
              "      box-shadow: 0px 1px 2px rgba(60, 64, 67, 0.3), 0px 1px 3px 1px rgba(60, 64, 67, 0.15);\n",
              "      fill: #174EA6;\n",
              "    }\n",
              "\n",
              "    [theme=dark] .colab-df-convert {\n",
              "      background-color: #3B4455;\n",
              "      fill: #D2E3FC;\n",
              "    }\n",
              "\n",
              "    [theme=dark] .colab-df-convert:hover {\n",
              "      background-color: #434B5C;\n",
              "      box-shadow: 0px 1px 3px 1px rgba(0, 0, 0, 0.15);\n",
              "      filter: drop-shadow(0px 1px 2px rgba(0, 0, 0, 0.3));\n",
              "      fill: #FFFFFF;\n",
              "    }\n",
              "  </style>\n",
              "\n",
              "      <script>\n",
              "        const buttonEl =\n",
              "          document.querySelector('#df-77f55c12-2d32-415d-8a5c-31e66b888850 button.colab-df-convert');\n",
              "        buttonEl.style.display =\n",
              "          google.colab.kernel.accessAllowed ? 'block' : 'none';\n",
              "\n",
              "        async function convertToInteractive(key) {\n",
              "          const element = document.querySelector('#df-77f55c12-2d32-415d-8a5c-31e66b888850');\n",
              "          const dataTable =\n",
              "            await google.colab.kernel.invokeFunction('convertToInteractive',\n",
              "                                                     [key], {});\n",
              "          if (!dataTable) return;\n",
              "\n",
              "          const docLinkHtml = 'Like what you see? Visit the ' +\n",
              "            '<a target=\"_blank\" href=https://colab.research.google.com/notebooks/data_table.ipynb>data table notebook</a>'\n",
              "            + ' to learn more about interactive tables.';\n",
              "          element.innerHTML = '';\n",
              "          dataTable['output_type'] = 'display_data';\n",
              "          await google.colab.output.renderOutput(dataTable, element);\n",
              "          const docLink = document.createElement('div');\n",
              "          docLink.innerHTML = docLinkHtml;\n",
              "          element.appendChild(docLink);\n",
              "        }\n",
              "      </script>\n",
              "    </div>\n",
              "  </div>\n",
              "  "
            ]
          },
          "metadata": {},
          "execution_count": 20
        }
      ]
    },
    {
      "cell_type": "markdown",
      "source": [
        "#### Feature engineering"
      ],
      "metadata": {
        "id": "slP5QQhtmhbj"
      },
      "id": "slP5QQhtmhbj"
    },
    {
      "cell_type": "code",
      "execution_count": 21,
      "metadata": {
        "id": "5413bbae-c79f-4b0d-aca1-ea489a8ba1f8",
        "colab": {
          "base_uri": "https://localhost:8080/"
        },
        "outputId": "a4868bdb-fcd7-4b94-e1c2-b6055c835982"
      },
      "outputs": [
        {
          "output_type": "stream",
          "name": "stdout",
          "text": [
            "<class 'pandas.core.frame.DataFrame'>\n",
            "RangeIndex: 19003 entries, 0 to 19002\n",
            "Data columns (total 12 columns):\n",
            " #   Column    Non-Null Count  Dtype  \n",
            "---  ------    --------------  -----  \n",
            " 0   uvkey     13608 non-null  object \n",
            " 1   Months    15395 non-null  float64\n",
            " 2   Hours     15395 non-null  float64\n",
            " 3   Weekday   15395 non-null  float64\n",
            " 4   highway   13608 non-null  object \n",
            " 5   maxspeed  7464 non-null   object \n",
            " 6   oneway    13608 non-null  object \n",
            " 7   length    13608 non-null  float64\n",
            " 8   u         19003 non-null  int64  \n",
            " 9   v         19003 non-null  int64  \n",
            " 10  key       19003 non-null  int64  \n",
            " 11  target    19003 non-null  float64\n",
            "dtypes: float64(5), int64(3), object(4)\n",
            "memory usage: 1.7+ MB\n"
          ]
        }
      ],
      "source": [
        "edges_with_crashes.info()"
      ],
      "id": "5413bbae-c79f-4b0d-aca1-ea489a8ba1f8"
    },
    {
      "cell_type": "markdown",
      "source": [
        "Let us explore our data and find how we further cleanse it and prepare it for modelling"
      ],
      "metadata": {
        "id": "Ufzk7rv5U2aO"
      },
      "id": "Ufzk7rv5U2aO"
    },
    {
      "cell_type": "markdown",
      "source": [
        "Lets start with maxspeed data"
      ],
      "metadata": {
        "id": "7ShrQrHNfwo8"
      },
      "id": "7ShrQrHNfwo8"
    },
    {
      "cell_type": "code",
      "source": [
        "def maxspeed(edges_with_crashes):\n",
        "  edges_with_crashes['maxspeed'] = edges_with_crashes['maxspeed'].fillna('25 mph')\n",
        "  for i in range(len(edges_with_crashes)):\n",
        "    edges_with_crashes['maxspeed'][i] = str(edges_with_crashes['maxspeed'][i]).replace(' mph','').replace('\\'','').replace('[','').replace(']','').replace(',','').split()\n",
        "    for j in range(len(edges_with_crashes['maxspeed'][i])):\n",
        "      edges_with_crashes['maxspeed'][i][j] = int(edges_with_crashes['maxspeed'][i][j])\n",
        "    edges_with_crashes['maxspeed'][i] = np.mean(edges_with_crashes['maxspeed'][i])\n",
        "  return edges_with_crashes\n",
        "edges_with_crashes = maxspeed(edges_with_crashes)\n",
        "edges_with_crashes['maxspeed'].value_counts()"
      ],
      "metadata": {
        "colab": {
          "base_uri": "https://localhost:8080/"
        },
        "id": "ODr4rTUkYdjR",
        "outputId": "f3d2852f-797c-4a20-89b5-4cd8bd719b66"
      },
      "id": "ODr4rTUkYdjR",
      "execution_count": 22,
      "outputs": [
        {
          "output_type": "execute_result",
          "data": {
            "text/plain": [
              "25.0    18074\n",
              "20.0      563\n",
              "30.0      178\n",
              "40.0       94\n",
              "50.0       28\n",
              "35.0       24\n",
              "45.0       20\n",
              "5.0        12\n",
              "32.5        5\n",
              "14.5        2\n",
              "15.0        1\n",
              "27.5        1\n",
              "22.5        1\n",
              "Name: maxspeed, dtype: int64"
            ]
          },
          "metadata": {},
          "execution_count": 22
        }
      ]
    },
    {
      "cell_type": "markdown",
      "source": [
        "Now let us clean other columns"
      ],
      "metadata": {
        "id": "z-OnbIbef32g"
      },
      "id": "z-OnbIbef32g"
    },
    {
      "cell_type": "code",
      "source": [
        "edges_with_crashes = edges_with_crashes[edges_with_crashes['Months'].notna()]\n",
        "edges_with_crashes = edges_with_crashes.drop(['uvkey','highway','oneway','length'],axis=1).reset_index()\n",
        "uvkey=[]\n",
        "for i in range(len(edges_with_crashes)):\n",
        "    uvkey.append(str(edges_with_crashes['u'][i]) + \" \" +str(edges_with_crashes['v'][i]) + \" \" + str(edges_with_crashes['key'][i]))\n",
        "edges_with_crashes['uvkey']  = uvkey\n",
        "edges_with_crashes = edges_with_crashes.merge(edges[['u','v','key','highway','oneway','length']],how='inner',on = ['u','v','key'])\n",
        "edges_with_crashes.head(3)"
      ],
      "metadata": {
        "colab": {
          "base_uri": "https://localhost:8080/",
          "height": 143
        },
        "id": "YUQe1srMTJId",
        "outputId": "8d80bfb8-92c3-4547-b489-8b9149195149"
      },
      "id": "YUQe1srMTJId",
      "execution_count": 23,
      "outputs": [
        {
          "output_type": "execute_result",
          "data": {
            "text/plain": [
              "   index  Months  Hours  Weekday maxspeed         u         v  key  target  \\\n",
              "0      2     9.0    3.0      5.0     25.0  42421728  42421731    0     0.0   \n",
              "1      3     4.0    5.0      6.0     25.0  42421731  42437916    0     0.0   \n",
              "2      4    10.0   14.0      4.0     25.0  42421731  42432737    0     0.0   \n",
              "\n",
              "                 uvkey      highway  oneway   length  \n",
              "0  42421728 42421731 0    secondary   False  138.033  \n",
              "1  42421731 42437916 0  residential   False   86.149  \n",
              "2  42421731 42432737 0  residential   False   85.611  "
            ],
            "text/html": [
              "\n",
              "  <div id=\"df-2a96a0b6-7db5-4284-9a98-22e6b21ac721\">\n",
              "    <div class=\"colab-df-container\">\n",
              "      <div>\n",
              "<style scoped>\n",
              "    .dataframe tbody tr th:only-of-type {\n",
              "        vertical-align: middle;\n",
              "    }\n",
              "\n",
              "    .dataframe tbody tr th {\n",
              "        vertical-align: top;\n",
              "    }\n",
              "\n",
              "    .dataframe thead th {\n",
              "        text-align: right;\n",
              "    }\n",
              "</style>\n",
              "<table border=\"1\" class=\"dataframe\">\n",
              "  <thead>\n",
              "    <tr style=\"text-align: right;\">\n",
              "      <th></th>\n",
              "      <th>index</th>\n",
              "      <th>Months</th>\n",
              "      <th>Hours</th>\n",
              "      <th>Weekday</th>\n",
              "      <th>maxspeed</th>\n",
              "      <th>u</th>\n",
              "      <th>v</th>\n",
              "      <th>key</th>\n",
              "      <th>target</th>\n",
              "      <th>uvkey</th>\n",
              "      <th>highway</th>\n",
              "      <th>oneway</th>\n",
              "      <th>length</th>\n",
              "    </tr>\n",
              "  </thead>\n",
              "  <tbody>\n",
              "    <tr>\n",
              "      <th>0</th>\n",
              "      <td>2</td>\n",
              "      <td>9.0</td>\n",
              "      <td>3.0</td>\n",
              "      <td>5.0</td>\n",
              "      <td>25.0</td>\n",
              "      <td>42421728</td>\n",
              "      <td>42421731</td>\n",
              "      <td>0</td>\n",
              "      <td>0.0</td>\n",
              "      <td>42421728 42421731 0</td>\n",
              "      <td>secondary</td>\n",
              "      <td>False</td>\n",
              "      <td>138.033</td>\n",
              "    </tr>\n",
              "    <tr>\n",
              "      <th>1</th>\n",
              "      <td>3</td>\n",
              "      <td>4.0</td>\n",
              "      <td>5.0</td>\n",
              "      <td>6.0</td>\n",
              "      <td>25.0</td>\n",
              "      <td>42421731</td>\n",
              "      <td>42437916</td>\n",
              "      <td>0</td>\n",
              "      <td>0.0</td>\n",
              "      <td>42421731 42437916 0</td>\n",
              "      <td>residential</td>\n",
              "      <td>False</td>\n",
              "      <td>86.149</td>\n",
              "    </tr>\n",
              "    <tr>\n",
              "      <th>2</th>\n",
              "      <td>4</td>\n",
              "      <td>10.0</td>\n",
              "      <td>14.0</td>\n",
              "      <td>4.0</td>\n",
              "      <td>25.0</td>\n",
              "      <td>42421731</td>\n",
              "      <td>42432737</td>\n",
              "      <td>0</td>\n",
              "      <td>0.0</td>\n",
              "      <td>42421731 42432737 0</td>\n",
              "      <td>residential</td>\n",
              "      <td>False</td>\n",
              "      <td>85.611</td>\n",
              "    </tr>\n",
              "  </tbody>\n",
              "</table>\n",
              "</div>\n",
              "      <button class=\"colab-df-convert\" onclick=\"convertToInteractive('df-2a96a0b6-7db5-4284-9a98-22e6b21ac721')\"\n",
              "              title=\"Convert this dataframe to an interactive table.\"\n",
              "              style=\"display:none;\">\n",
              "        \n",
              "  <svg xmlns=\"http://www.w3.org/2000/svg\" height=\"24px\"viewBox=\"0 0 24 24\"\n",
              "       width=\"24px\">\n",
              "    <path d=\"M0 0h24v24H0V0z\" fill=\"none\"/>\n",
              "    <path d=\"M18.56 5.44l.94 2.06.94-2.06 2.06-.94-2.06-.94-.94-2.06-.94 2.06-2.06.94zm-11 1L8.5 8.5l.94-2.06 2.06-.94-2.06-.94L8.5 2.5l-.94 2.06-2.06.94zm10 10l.94 2.06.94-2.06 2.06-.94-2.06-.94-.94-2.06-.94 2.06-2.06.94z\"/><path d=\"M17.41 7.96l-1.37-1.37c-.4-.4-.92-.59-1.43-.59-.52 0-1.04.2-1.43.59L10.3 9.45l-7.72 7.72c-.78.78-.78 2.05 0 2.83L4 21.41c.39.39.9.59 1.41.59.51 0 1.02-.2 1.41-.59l7.78-7.78 2.81-2.81c.8-.78.8-2.07 0-2.86zM5.41 20L4 18.59l7.72-7.72 1.47 1.35L5.41 20z\"/>\n",
              "  </svg>\n",
              "      </button>\n",
              "      \n",
              "  <style>\n",
              "    .colab-df-container {\n",
              "      display:flex;\n",
              "      flex-wrap:wrap;\n",
              "      gap: 12px;\n",
              "    }\n",
              "\n",
              "    .colab-df-convert {\n",
              "      background-color: #E8F0FE;\n",
              "      border: none;\n",
              "      border-radius: 50%;\n",
              "      cursor: pointer;\n",
              "      display: none;\n",
              "      fill: #1967D2;\n",
              "      height: 32px;\n",
              "      padding: 0 0 0 0;\n",
              "      width: 32px;\n",
              "    }\n",
              "\n",
              "    .colab-df-convert:hover {\n",
              "      background-color: #E2EBFA;\n",
              "      box-shadow: 0px 1px 2px rgba(60, 64, 67, 0.3), 0px 1px 3px 1px rgba(60, 64, 67, 0.15);\n",
              "      fill: #174EA6;\n",
              "    }\n",
              "\n",
              "    [theme=dark] .colab-df-convert {\n",
              "      background-color: #3B4455;\n",
              "      fill: #D2E3FC;\n",
              "    }\n",
              "\n",
              "    [theme=dark] .colab-df-convert:hover {\n",
              "      background-color: #434B5C;\n",
              "      box-shadow: 0px 1px 3px 1px rgba(0, 0, 0, 0.15);\n",
              "      filter: drop-shadow(0px 1px 2px rgba(0, 0, 0, 0.3));\n",
              "      fill: #FFFFFF;\n",
              "    }\n",
              "  </style>\n",
              "\n",
              "      <script>\n",
              "        const buttonEl =\n",
              "          document.querySelector('#df-2a96a0b6-7db5-4284-9a98-22e6b21ac721 button.colab-df-convert');\n",
              "        buttonEl.style.display =\n",
              "          google.colab.kernel.accessAllowed ? 'block' : 'none';\n",
              "\n",
              "        async function convertToInteractive(key) {\n",
              "          const element = document.querySelector('#df-2a96a0b6-7db5-4284-9a98-22e6b21ac721');\n",
              "          const dataTable =\n",
              "            await google.colab.kernel.invokeFunction('convertToInteractive',\n",
              "                                                     [key], {});\n",
              "          if (!dataTable) return;\n",
              "\n",
              "          const docLinkHtml = 'Like what you see? Visit the ' +\n",
              "            '<a target=\"_blank\" href=https://colab.research.google.com/notebooks/data_table.ipynb>data table notebook</a>'\n",
              "            + ' to learn more about interactive tables.';\n",
              "          element.innerHTML = '';\n",
              "          dataTable['output_type'] = 'display_data';\n",
              "          await google.colab.output.renderOutput(dataTable, element);\n",
              "          const docLink = document.createElement('div');\n",
              "          docLink.innerHTML = docLinkHtml;\n",
              "          element.appendChild(docLink);\n",
              "        }\n",
              "      </script>\n",
              "    </div>\n",
              "  </div>\n",
              "  "
            ]
          },
          "metadata": {},
          "execution_count": 23
        }
      ]
    },
    {
      "cell_type": "code",
      "source": [
        "edges_with_crashes.info()"
      ],
      "metadata": {
        "colab": {
          "base_uri": "https://localhost:8080/"
        },
        "id": "zs7gxkobtH-T",
        "outputId": "a93b2f2f-9cdb-42eb-f51d-1b0f9b36230c"
      },
      "id": "zs7gxkobtH-T",
      "execution_count": 24,
      "outputs": [
        {
          "output_type": "stream",
          "name": "stdout",
          "text": [
            "<class 'pandas.core.frame.DataFrame'>\n",
            "Int64Index: 15395 entries, 0 to 15394\n",
            "Data columns (total 13 columns):\n",
            " #   Column    Non-Null Count  Dtype  \n",
            "---  ------    --------------  -----  \n",
            " 0   index     15395 non-null  int64  \n",
            " 1   Months    15395 non-null  float64\n",
            " 2   Hours     15395 non-null  float64\n",
            " 3   Weekday   15395 non-null  float64\n",
            " 4   maxspeed  15395 non-null  object \n",
            " 5   u         15395 non-null  int64  \n",
            " 6   v         15395 non-null  int64  \n",
            " 7   key       15395 non-null  int64  \n",
            " 8   target    15395 non-null  float64\n",
            " 9   uvkey     15395 non-null  object \n",
            " 10  highway   15395 non-null  object \n",
            " 11  oneway    15395 non-null  bool   \n",
            " 12  length    15395 non-null  float64\n",
            "dtypes: bool(1), float64(5), int64(4), object(3)\n",
            "memory usage: 1.5+ MB\n"
          ]
        }
      ]
    },
    {
      "cell_type": "markdown",
      "source": [
        "Now let us creaate a function to encode the data for the purpose of creating a model"
      ],
      "metadata": {
        "id": "1hynv7_tgR-7"
      },
      "id": "1hynv7_tgR-7"
    },
    {
      "cell_type": "code",
      "execution_count": 25,
      "metadata": {
        "id": "86c1c3f9-6c1d-476f-a412-fcb98eb7d3fc"
      },
      "outputs": [],
      "source": [
        "Data_PrePro = edges_with_crashes.drop(['u','v','key','index'],axis=1).reset_index(drop = True)"
      ],
      "id": "86c1c3f9-6c1d-476f-a412-fcb98eb7d3fc"
    },
    {
      "cell_type": "code",
      "source": [
        "def dataencoding(Data_PrePro):\n",
        "  one_hot_encoded_data = pd.get_dummies(Data_PrePro, columns = ['Months','Hours','Weekday','oneway'])\n",
        "\n",
        "  for i in range(len(one_hot_encoded_data['highway'])):\n",
        "    if type(one_hot_encoded_data['highway'][i]) != list:\n",
        "      one_hot_encoded_data['highway'][i] = one_hot_encoded_data['highway'][i].split()\n",
        "    else:\n",
        "      continue\n",
        "  \n",
        "  from sklearn.preprocessing import MultiLabelBinarizer\n",
        "  mlb = MultiLabelBinarizer()\n",
        "  res = pd.DataFrame(mlb.fit_transform(one_hot_encoded_data['highway']),columns=mlb.classes_,index=one_hot_encoded_data['highway'].index)\n",
        "  encoded_data = pd.concat([one_hot_encoded_data, res], axis=1).drop(['highway'],axis=1).set_index('uvkey',drop = True)\n",
        "  \n",
        "  return encoded_data\n",
        "\n"
      ],
      "metadata": {
        "id": "BB3QqxTeVaH5"
      },
      "id": "BB3QqxTeVaH5",
      "execution_count": 26,
      "outputs": []
    },
    {
      "cell_type": "code",
      "source": [
        "encoded_data = dataencoding(Data_PrePro)"
      ],
      "metadata": {
        "id": "Tjtw1lnmOLnG"
      },
      "id": "Tjtw1lnmOLnG",
      "execution_count": 27,
      "outputs": []
    },
    {
      "cell_type": "markdown",
      "source": [
        "Let us split the instances and the targets, scale the instances and split the training and test sets"
      ],
      "metadata": {
        "id": "nQ9A2_xliw1Q"
      },
      "id": "nQ9A2_xliw1Q"
    },
    {
      "cell_type": "code",
      "source": [
        "encoded_instance = encoded_data.drop('target',axis=1)\n",
        "encoded_target = encoded_data['target']"
      ],
      "metadata": {
        "id": "ORZcqnpauPM2"
      },
      "id": "ORZcqnpauPM2",
      "execution_count": 28,
      "outputs": []
    },
    {
      "cell_type": "code",
      "source": [
        "from sklearn.preprocessing import StandardScaler\n",
        "encoded_instance = StandardScaler().fit(encoded_instance).transform(encoded_instance)"
      ],
      "metadata": {
        "id": "EMWUApb1O2V_"
      },
      "id": "EMWUApb1O2V_",
      "execution_count": 29,
      "outputs": []
    },
    {
      "cell_type": "code",
      "source": [
        "encoded_target.sum()"
      ],
      "metadata": {
        "colab": {
          "base_uri": "https://localhost:8080/"
        },
        "id": "w85akCJfupEq",
        "outputId": "75f2260e-36a2-4dfa-8f42-8f71efc66db0"
      },
      "id": "w85akCJfupEq",
      "execution_count": 30,
      "outputs": [
        {
          "output_type": "execute_result",
          "data": {
            "text/plain": [
              "5399.0"
            ]
          },
          "metadata": {},
          "execution_count": 30
        }
      ]
    },
    {
      "cell_type": "code",
      "source": [
        "from sklearn.model_selection import train_test_split\n",
        "X_train, X_test, y_train, y_test = train_test_split(encoded_instance, encoded_target, test_size=0.15, random_state=23)"
      ],
      "metadata": {
        "id": "sB5ASrEcu_KF"
      },
      "id": "sB5ASrEcu_KF",
      "execution_count": 31,
      "outputs": []
    },
    {
      "cell_type": "markdown",
      "source": [
        "#### Model Creation"
      ],
      "metadata": {
        "id": "ufJECYUotr4g"
      },
      "id": "ufJECYUotr4g"
    },
    {
      "cell_type": "markdown",
      "source": [
        "We will create two models, one to classify the results into 1 and 0 using SVM and another to give a continuous output using Linear Regression"
      ],
      "metadata": {
        "id": "h5VoDHD1ja5h"
      },
      "id": "h5VoDHD1ja5h"
    },
    {
      "cell_type": "code",
      "source": [
        "\n",
        "from sklearn import svm\n",
        "clf = svm.SVC(C=1.5,\n",
        "              kernel='rbf',\n",
        "#             degree=6,\n",
        "              gamma='scale',\n",
        "#             coef0=0.0,\n",
        "              shrinking=True,\n",
        "              probability=False,\n",
        "              tol=0.001,\n",
        "              cache_size=200,\n",
        "              class_weight=None,\n",
        "              verbose=False,\n",
        "              max_iter=- 1,\n",
        "              decision_function_shape='ovr',\n",
        "              break_ties=False,\n",
        "              random_state=None)\n",
        "clf.fit(X_train, y_train)\n",
        "'''\n",
        "\n",
        "from sklearn.linear_model import LinearRegression\n",
        "clf = LinearRegression().fit(X_train,y_train)\n",
        "'''"
      ],
      "metadata": {
        "id": "pW4YgozBtuvp",
        "colab": {
          "base_uri": "https://localhost:8080/",
          "height": 0
        },
        "outputId": "8bbb3287-3ac8-4680-8d70-767e1d706953"
      },
      "id": "pW4YgozBtuvp",
      "execution_count": 32,
      "outputs": [
        {
          "output_type": "execute_result",
          "data": {
            "text/plain": [
              "'\\n\\nfrom sklearn.linear_model import LinearRegression\\nclf = LinearRegression().fit(X_train,y_train)\\n'"
            ],
            "application/vnd.google.colaboratory.intrinsic+json": {
              "type": "string"
            }
          },
          "metadata": {},
          "execution_count": 32
        }
      ]
    },
    {
      "cell_type": "markdown",
      "source": [
        "## Testing the result "
      ],
      "metadata": {
        "id": "sJKj1y3hxege"
      },
      "id": "sJKj1y3hxege"
    },
    {
      "cell_type": "code",
      "source": [
        "from sklearn.metrics import accuracy_score\n",
        "from sklearn.metrics import r2_score\n",
        "'''\n",
        "LR_output = LR.predict(X_test)\n",
        "r2_score = r2_score(y_test,LR_output)\n",
        "print('Accuracy with Linear Regression is: ',r2_score*100,'%')\n",
        "'''\n",
        "\n",
        "output = clf.predict(X_test)\n",
        "acc = accuracy_score(y_test,output)\n",
        "print(\"Accuracy with Support vector machine is: \", acc)\n"
      ],
      "metadata": {
        "colab": {
          "base_uri": "https://localhost:8080/"
        },
        "id": "biAYHRDovEIR",
        "outputId": "374e0517-2ba9-488e-b220-f1ccee5d1873"
      },
      "id": "biAYHRDovEIR",
      "execution_count": 33,
      "outputs": [
        {
          "output_type": "stream",
          "name": "stdout",
          "text": [
            "Accuracy with Support vector machine is:  0.8151515151515152\n"
          ]
        }
      ]
    },
    {
      "cell_type": "code",
      "source": [
        "from sklearn.metrics import confusion_matrix, ConfusionMatrixDisplay,classification_report"
      ],
      "metadata": {
        "id": "qT21wIeXwdCr"
      },
      "id": "qT21wIeXwdCr",
      "execution_count": 34,
      "outputs": []
    },
    {
      "cell_type": "code",
      "source": [
        "cm = confusion_matrix(y_test, output)\n",
        "disp = ConfusionMatrixDisplay(confusion_matrix=cm, display_labels=clf.classes_)\n",
        "disp.plot()"
      ],
      "metadata": {
        "colab": {
          "base_uri": "https://localhost:8080/",
          "height": 0
        },
        "id": "LRj_1OM4wro_",
        "outputId": "2de35408-7fed-4214-f356-940347d89652"
      },
      "id": "LRj_1OM4wro_",
      "execution_count": 35,
      "outputs": [
        {
          "output_type": "execute_result",
          "data": {
            "text/plain": [
              "<sklearn.metrics._plot.confusion_matrix.ConfusionMatrixDisplay at 0x7f8ff2574b50>"
            ]
          },
          "metadata": {},
          "execution_count": 35
        },
        {
          "output_type": "display_data",
          "data": {
            "text/plain": [
              "<Figure size 432x288 with 2 Axes>"
            ],
            "image/png": "[encoded data removed]"
          },
          "metadata": {
            "needs_background": "light"
          }
        }
      ]
    },
    {
      "cell_type": "code",
      "source": [
        "cr = classification_report(y_test, output)\n",
        "print(classification_report(y_test, output))"
      ],
      "metadata": {
        "colab": {
          "base_uri": "https://localhost:8080/"
        },
        "id": "wmNmV08Pw1j8",
        "outputId": "07c00599-521b-4071-bd40-25c8acb3e3b8"
      },
      "id": "wmNmV08Pw1j8",
      "execution_count": 36,
      "outputs": [
        {
          "output_type": "stream",
          "name": "stdout",
          "text": [
            "              precision    recall  f1-score   support\n",
            "\n",
            "         0.0       0.91      0.79      0.85      1523\n",
            "         1.0       0.68      0.86      0.76       787\n",
            "\n",
            "    accuracy                           0.82      2310\n",
            "   macro avg       0.80      0.83      0.80      2310\n",
            "weighted avg       0.84      0.82      0.82      2310\n",
            "\n"
          ]
        }
      ]
    },
    {
      "cell_type": "markdown",
      "source": [
        "## Pass all edges data through model"
      ],
      "metadata": {
        "id": "BCp4sQBKMKNc"
      },
      "id": "BCp4sQBKMKNc"
    },
    {
      "cell_type": "markdown",
      "source": [
        "Data will be displayed for today + 1"
      ],
      "metadata": {
        "id": "-uvbMi7AS40-"
      },
      "id": "-uvbMi7AS40-"
    },
    {
      "cell_type": "code",
      "source": [
        "import datetime\n",
        "month = []\n",
        "weekday=[]\n",
        "today = datetime.date.today()\n",
        "tomorrow = today + datetime.timedelta(days=1)\n",
        "month = [float(tomorrow.month)]\n",
        "weekday = [float(tomorrow.weekday())]\n",
        "hours = np.linspace(0,23,24)\n",
        "month,weekday,hours"
      ],
      "metadata": {
        "colab": {
          "base_uri": "https://localhost:8080/"
        },
        "id": "ypChkRkaMvWS",
        "outputId": "ba0b1e28-dd08-4295-f674-344c515c83f0"
      },
      "id": "ypChkRkaMvWS",
      "execution_count": 37,
      "outputs": [
        {
          "output_type": "execute_result",
          "data": {
            "text/plain": [
              "([8.0],\n",
              " [3.0],\n",
              " array([ 0.,  1.,  2.,  3.,  4.,  5.,  6.,  7.,  8.,  9., 10., 11., 12.,\n",
              "        13., 14., 15., 16., 17., 18., 19., 20., 21., 22., 23.]))"
            ]
          },
          "metadata": {},
          "execution_count": 37
        }
      ]
    },
    {
      "cell_type": "markdown",
      "source": [
        "Now let us create a dataset with all combinations of edges along with each hour of tomorrow"
      ],
      "metadata": {
        "id": "U0OakCyFV0Zj"
      },
      "id": "U0OakCyFV0Zj"
    },
    {
      "cell_type": "code",
      "source": [
        "edges_feat = edges[['uvkey','highway','oneway','length','maxspeed']]\n",
        "edges_tom = list(product(edges['uvkey'],month, hours, weekday))\n",
        "edges_tom = pd.DataFrame(edges_tom,columns=['uvkey','Months','Hours','Weekday'])\n",
        "len(edges_tom)"
      ],
      "metadata": {
        "colab": {
          "base_uri": "https://localhost:8080/"
        },
        "id": "gv5o3lxEUnQE",
        "outputId": "efca9000-8a30-4dc7-f9e2-bee2322fecd9"
      },
      "id": "gv5o3lxEUnQE",
      "execution_count": 38,
      "outputs": [
        {
          "output_type": "execute_result",
          "data": {
            "text/plain": [
              "237240"
            ]
          },
          "metadata": {},
          "execution_count": 38
        }
      ]
    },
    {
      "cell_type": "markdown",
      "source": [
        "Now let us extract all the features of the edges"
      ],
      "metadata": {
        "id": "A0MC08K8V7-Y"
      },
      "id": "A0MC08K8V7-Y"
    },
    {
      "cell_type": "code",
      "source": [
        "edges_tom_feat = edges_tom.merge(edges_feat,on=['uvkey'],how='inner')\n",
        "edges_tom_feat['target'] = np.linspace(0,0,len(edges_tom_feat))\n",
        "edges_tom_feat = maxspeed(edges_tom_feat)\n",
        "edges_tom_feat.info()"
      ],
      "metadata": {
        "colab": {
          "base_uri": "https://localhost:8080/"
        },
        "id": "sJZhATg_urKE",
        "outputId": "d007127c-885e-4ce7-9433-f441f6db77ee"
      },
      "id": "sJZhATg_urKE",
      "execution_count": 39,
      "outputs": [
        {
          "output_type": "stream",
          "name": "stdout",
          "text": [
            "<class 'pandas.core.frame.DataFrame'>\n",
            "Int64Index: 237240 entries, 0 to 237239\n",
            "Data columns (total 9 columns):\n",
            " #   Column    Non-Null Count   Dtype  \n",
            "---  ------    --------------   -----  \n",
            " 0   uvkey     237240 non-null  object \n",
            " 1   Months    237240 non-null  float64\n",
            " 2   Hours     237240 non-null  float64\n",
            " 3   Weekday   237240 non-null  float64\n",
            " 4   highway   237240 non-null  object \n",
            " 5   oneway    237240 non-null  bool   \n",
            " 6   length    237240 non-null  float64\n",
            " 7   maxspeed  237240 non-null  object \n",
            " 8   target    237240 non-null  float64\n",
            "dtypes: bool(1), float64(5), object(3)\n",
            "memory usage: 24.6+ MB\n"
          ]
        }
      ]
    },
    {
      "cell_type": "markdown",
      "source": [
        "Let us process the data to be of the same format as the input to the data model."
      ],
      "metadata": {
        "id": "-wUcwh11WB9v"
      },
      "id": "-wUcwh11WB9v"
    },
    {
      "cell_type": "code",
      "source": [
        "edges_encoded = dataencoding(edges_tom_feat)\n",
        "edges_encoded_x = edges_encoded.drop(['target'],axis=1)\n",
        "edges_columns = pd.DataFrame(columns = encoded_data.columns).drop(['target'],axis=1)\n",
        "edges_encoded_x_col = pd.concat([edges_columns,edges_encoded_x]).fillna(0)\n",
        "edges_input = StandardScaler().fit(edges_encoded_x_col).transform(edges_encoded_x_col)\n",
        "\n",
        "edges_output = clf.predict(edges_input)\n",
        "\n",
        "edges_tom_feat['Accident'] = edges_output\n",
        "edges_tom_feat.head()"
      ],
      "metadata": {
        "id": "sREiA1ZXv0bD",
        "colab": {
          "base_uri": "https://localhost:8080/",
          "height": 0
        },
        "outputId": "021bbb4d-2571-4bd2-80c8-14b8f219fdc3"
      },
      "id": "sREiA1ZXv0bD",
      "execution_count": 40,
      "outputs": [
        {
          "output_type": "execute_result",
          "data": {
            "text/plain": [
              "                 uvkey  Months  Hours  Weekday    highway  oneway  length  \\\n",
              "0  42421728 42432736 0     8.0    0.0      3.0  secondary   False  86.258   \n",
              "1  42421728 42432736 0     8.0    1.0      3.0  secondary   False  86.258   \n",
              "2  42421728 42432736 0     8.0    2.0      3.0  secondary   False  86.258   \n",
              "3  42421728 42432736 0     8.0    3.0      3.0  secondary   False  86.258   \n",
              "4  42421728 42432736 0     8.0    4.0      3.0  secondary   False  86.258   \n",
              "\n",
              "  maxspeed  target  Accident  \n",
              "0     25.0     0.0       1.0  \n",
              "1     25.0     0.0       0.0  \n",
              "2     25.0     0.0       0.0  \n",
              "3     25.0     0.0       0.0  \n",
              "4     25.0     0.0       0.0  "
            ],
            "text/html": [
              "\n",
              "  <div id=\"df-e916aafa-fb60-4d59-98b8-4b6ea9bb0d77\">\n",
              "    <div class=\"colab-df-container\">\n",
              "      <div>\n",
              "<style scoped>\n",
              "    .dataframe tbody tr th:only-of-type {\n",
              "        vertical-align: middle;\n",
              "    }\n",
              "\n",
              "    .dataframe tbody tr th {\n",
              "        vertical-align: top;\n",
              "    }\n",
              "\n",
              "    .dataframe thead th {\n",
              "        text-align: right;\n",
              "    }\n",
              "</style>\n",
              "<table border=\"1\" class=\"dataframe\">\n",
              "  <thead>\n",
              "    <tr style=\"text-align: right;\">\n",
              "      <th></th>\n",
              "      <th>uvkey</th>\n",
              "      <th>Months</th>\n",
              "      <th>Hours</th>\n",
              "      <th>Weekday</th>\n",
              "      <th>highway</th>\n",
              "      <th>oneway</th>\n",
              "      <th>length</th>\n",
              "      <th>maxspeed</th>\n",
              "      <th>target</th>\n",
              "      <th>Accident</th>\n",
              "    </tr>\n",
              "  </thead>\n",
              "  <tbody>\n",
              "    <tr>\n",
              "      <th>0</th>\n",
              "      <td>42421728 42432736 0</td>\n",
              "      <td>8.0</td>\n",
              "      <td>0.0</td>\n",
              "      <td>3.0</td>\n",
              "      <td>secondary</td>\n",
              "      <td>False</td>\n",
              "      <td>86.258</td>\n",
              "      <td>25.0</td>\n",
              "      <td>0.0</td>\n",
              "      <td>1.0</td>\n",
              "    </tr>\n",
              "    <tr>\n",
              "      <th>1</th>\n",
              "      <td>42421728 42432736 0</td>\n",
              "      <td>8.0</td>\n",
              "      <td>1.0</td>\n",
              "      <td>3.0</td>\n",
              "      <td>secondary</td>\n",
              "      <td>False</td>\n",
              "      <td>86.258</td>\n",
              "      <td>25.0</td>\n",
              "      <td>0.0</td>\n",
              "      <td>0.0</td>\n",
              "    </tr>\n",
              "    <tr>\n",
              "      <th>2</th>\n",
              "      <td>42421728 42432736 0</td>\n",
              "      <td>8.0</td>\n",
              "      <td>2.0</td>\n",
              "      <td>3.0</td>\n",
              "      <td>secondary</td>\n",
              "      <td>False</td>\n",
              "      <td>86.258</td>\n",
              "      <td>25.0</td>\n",
              "      <td>0.0</td>\n",
              "      <td>0.0</td>\n",
              "    </tr>\n",
              "    <tr>\n",
              "      <th>3</th>\n",
              "      <td>42421728 42432736 0</td>\n",
              "      <td>8.0</td>\n",
              "      <td>3.0</td>\n",
              "      <td>3.0</td>\n",
              "      <td>secondary</td>\n",
              "      <td>False</td>\n",
              "      <td>86.258</td>\n",
              "      <td>25.0</td>\n",
              "      <td>0.0</td>\n",
              "      <td>0.0</td>\n",
              "    </tr>\n",
              "    <tr>\n",
              "      <th>4</th>\n",
              "      <td>42421728 42432736 0</td>\n",
              "      <td>8.0</td>\n",
              "      <td>4.0</td>\n",
              "      <td>3.0</td>\n",
              "      <td>secondary</td>\n",
              "      <td>False</td>\n",
              "      <td>86.258</td>\n",
              "      <td>25.0</td>\n",
              "      <td>0.0</td>\n",
              "      <td>0.0</td>\n",
              "    </tr>\n",
              "  </tbody>\n",
              "</table>\n",
              "</div>\n",
              "      <button class=\"colab-df-convert\" onclick=\"convertToInteractive('df-e916aafa-fb60-4d59-98b8-4b6ea9bb0d77')\"\n",
              "              title=\"Convert this dataframe to an interactive table.\"\n",
              "              style=\"display:none;\">\n",
              "        \n",
              "  <svg xmlns=\"http://www.w3.org/2000/svg\" height=\"24px\"viewBox=\"0 0 24 24\"\n",
              "       width=\"24px\">\n",
              "    <path d=\"M0 0h24v24H0V0z\" fill=\"none\"/>\n",
              "    <path d=\"M18.56 5.44l.94 2.06.94-2.06 2.06-.94-2.06-.94-.94-2.06-.94 2.06-2.06.94zm-11 1L8.5 8.5l.94-2.06 2.06-.94-2.06-.94L8.5 2.5l-.94 2.06-2.06.94zm10 10l.94 2.06.94-2.06 2.06-.94-2.06-.94-.94-2.06-.94 2.06-2.06.94z\"/><path d=\"M17.41 7.96l-1.37-1.37c-.4-.4-.92-.59-1.43-.59-.52 0-1.04.2-1.43.59L10.3 9.45l-7.72 7.72c-.78.78-.78 2.05 0 2.83L4 21.41c.39.39.9.59 1.41.59.51 0 1.02-.2 1.41-.59l7.78-7.78 2.81-2.81c.8-.78.8-2.07 0-2.86zM5.41 20L4 18.59l7.72-7.72 1.47 1.35L5.41 20z\"/>\n",
              "  </svg>\n",
              "      </button>\n",
              "      \n",
              "  <style>\n",
              "    .colab-df-container {\n",
              "      display:flex;\n",
              "      flex-wrap:wrap;\n",
              "      gap: 12px;\n",
              "    }\n",
              "\n",
              "    .colab-df-convert {\n",
              "      background-color: #E8F0FE;\n",
              "      border: none;\n",
              "      border-radius: 50%;\n",
              "      cursor: pointer;\n",
              "      display: none;\n",
              "      fill: #1967D2;\n",
              "      height: 32px;\n",
              "      padding: 0 0 0 0;\n",
              "      width: 32px;\n",
              "    }\n",
              "\n",
              "    .colab-df-convert:hover {\n",
              "      background-color: #E2EBFA;\n",
              "      box-shadow: 0px 1px 2px rgba(60, 64, 67, 0.3), 0px 1px 3px 1px rgba(60, 64, 67, 0.15);\n",
              "      fill: #174EA6;\n",
              "    }\n",
              "\n",
              "    [theme=dark] .colab-df-convert {\n",
              "      background-color: #3B4455;\n",
              "      fill: #D2E3FC;\n",
              "    }\n",
              "\n",
              "    [theme=dark] .colab-df-convert:hover {\n",
              "      background-color: #434B5C;\n",
              "      box-shadow: 0px 1px 3px 1px rgba(0, 0, 0, 0.15);\n",
              "      filter: drop-shadow(0px 1px 2px rgba(0, 0, 0, 0.3));\n",
              "      fill: #FFFFFF;\n",
              "    }\n",
              "  </style>\n",
              "\n",
              "      <script>\n",
              "        const buttonEl =\n",
              "          document.querySelector('#df-e916aafa-fb60-4d59-98b8-4b6ea9bb0d77 button.colab-df-convert');\n",
              "        buttonEl.style.display =\n",
              "          google.colab.kernel.accessAllowed ? 'block' : 'none';\n",
              "\n",
              "        async function convertToInteractive(key) {\n",
              "          const element = document.querySelector('#df-e916aafa-fb60-4d59-98b8-4b6ea9bb0d77');\n",
              "          const dataTable =\n",
              "            await google.colab.kernel.invokeFunction('convertToInteractive',\n",
              "                                                     [key], {});\n",
              "          if (!dataTable) return;\n",
              "\n",
              "          const docLinkHtml = 'Like what you see? Visit the ' +\n",
              "            '<a target=\"_blank\" href=https://colab.research.google.com/notebooks/data_table.ipynb>data table notebook</a>'\n",
              "            + ' to learn more about interactive tables.';\n",
              "          element.innerHTML = '';\n",
              "          dataTable['output_type'] = 'display_data';\n",
              "          await google.colab.output.renderOutput(dataTable, element);\n",
              "          const docLink = document.createElement('div');\n",
              "          docLink.innerHTML = docLinkHtml;\n",
              "          element.appendChild(docLink);\n",
              "        }\n",
              "      </script>\n",
              "    </div>\n",
              "  </div>\n",
              "  "
            ]
          },
          "metadata": {},
          "execution_count": 40
        }
      ]
    },
    {
      "cell_type": "markdown",
      "source": [
        "Let us get the parameters u v and key for converging with the edges GeoPandas Dataset"
      ],
      "metadata": {
        "id": "QUutBhv_WYP7"
      },
      "id": "QUutBhv_WYP7"
    },
    {
      "cell_type": "code",
      "source": [
        "plotdata = edges_tom_feat[['uvkey','Hours','Accident']]\n",
        "plotdata['u'] = [int(plotdata['uvkey'][i].split()[0]) for i in range(len(plotdata))]\n",
        "plotdata['v'] = [int(plotdata['uvkey'][i].split()[1]) for i in range(len(plotdata))]\n",
        "plotdata['key'] = [int(plotdata['uvkey'][i].split()[2]) for i in range(len(plotdata))]\n",
        "plotdata = plotdata.drop(['uvkey'],axis=1)\n",
        "plotdata.head()"
      ],
      "metadata": {
        "colab": {
          "base_uri": "https://localhost:8080/",
          "height": 0
        },
        "id": "8ezsrBzO-3KC",
        "outputId": "9b9f8e19-59c3-4af1-8a4e-bb3324fbd014"
      },
      "id": "8ezsrBzO-3KC",
      "execution_count": 41,
      "outputs": [
        {
          "output_type": "execute_result",
          "data": {
            "text/plain": [
              "   Hours  Accident         u         v  key\n",
              "0    0.0       1.0  42421728  42432736    0\n",
              "1    1.0       0.0  42421728  42432736    0\n",
              "2    2.0       0.0  42421728  42432736    0\n",
              "3    3.0       0.0  42421728  42432736    0\n",
              "4    4.0       0.0  42421728  42432736    0"
            ],
            "text/html": [
              "\n",
              "  <div id=\"df-12d0d298-cbe8-40f4-be69-c19af335188a\">\n",
              "    <div class=\"colab-df-container\">\n",
              "      <div>\n",
              "<style scoped>\n",
              "    .dataframe tbody tr th:only-of-type {\n",
              "        vertical-align: middle;\n",
              "    }\n",
              "\n",
              "    .dataframe tbody tr th {\n",
              "        vertical-align: top;\n",
              "    }\n",
              "\n",
              "    .dataframe thead th {\n",
              "        text-align: right;\n",
              "    }\n",
              "</style>\n",
              "<table border=\"1\" class=\"dataframe\">\n",
              "  <thead>\n",
              "    <tr style=\"text-align: right;\">\n",
              "      <th></th>\n",
              "      <th>Hours</th>\n",
              "      <th>Accident</th>\n",
              "      <th>u</th>\n",
              "      <th>v</th>\n",
              "      <th>key</th>\n",
              "    </tr>\n",
              "  </thead>\n",
              "  <tbody>\n",
              "    <tr>\n",
              "      <th>0</th>\n",
              "      <td>0.0</td>\n",
              "      <td>1.0</td>\n",
              "      <td>42421728</td>\n",
              "      <td>42432736</td>\n",
              "      <td>0</td>\n",
              "    </tr>\n",
              "    <tr>\n",
              "      <th>1</th>\n",
              "      <td>1.0</td>\n",
              "      <td>0.0</td>\n",
              "      <td>42421728</td>\n",
              "      <td>42432736</td>\n",
              "      <td>0</td>\n",
              "    </tr>\n",
              "    <tr>\n",
              "      <th>2</th>\n",
              "      <td>2.0</td>\n",
              "      <td>0.0</td>\n",
              "      <td>42421728</td>\n",
              "      <td>42432736</td>\n",
              "      <td>0</td>\n",
              "    </tr>\n",
              "    <tr>\n",
              "      <th>3</th>\n",
              "      <td>3.0</td>\n",
              "      <td>0.0</td>\n",
              "      <td>42421728</td>\n",
              "      <td>42432736</td>\n",
              "      <td>0</td>\n",
              "    </tr>\n",
              "    <tr>\n",
              "      <th>4</th>\n",
              "      <td>4.0</td>\n",
              "      <td>0.0</td>\n",
              "      <td>42421728</td>\n",
              "      <td>42432736</td>\n",
              "      <td>0</td>\n",
              "    </tr>\n",
              "  </tbody>\n",
              "</table>\n",
              "</div>\n",
              "      <button class=\"colab-df-convert\" onclick=\"convertToInteractive('df-12d0d298-cbe8-40f4-be69-c19af335188a')\"\n",
              "              title=\"Convert this dataframe to an interactive table.\"\n",
              "              style=\"display:none;\">\n",
              "        \n",
              "  <svg xmlns=\"http://www.w3.org/2000/svg\" height=\"24px\"viewBox=\"0 0 24 24\"\n",
              "       width=\"24px\">\n",
              "    <path d=\"M0 0h24v24H0V0z\" fill=\"none\"/>\n",
              "    <path d=\"M18.56 5.44l.94 2.06.94-2.06 2.06-.94-2.06-.94-.94-2.06-.94 2.06-2.06.94zm-11 1L8.5 8.5l.94-2.06 2.06-.94-2.06-.94L8.5 2.5l-.94 2.06-2.06.94zm10 10l.94 2.06.94-2.06 2.06-.94-2.06-.94-.94-2.06-.94 2.06-2.06.94z\"/><path d=\"M17.41 7.96l-1.37-1.37c-.4-.4-.92-.59-1.43-.59-.52 0-1.04.2-1.43.59L10.3 9.45l-7.72 7.72c-.78.78-.78 2.05 0 2.83L4 21.41c.39.39.9.59 1.41.59.51 0 1.02-.2 1.41-.59l7.78-7.78 2.81-2.81c.8-.78.8-2.07 0-2.86zM5.41 20L4 18.59l7.72-7.72 1.47 1.35L5.41 20z\"/>\n",
              "  </svg>\n",
              "      </button>\n",
              "      \n",
              "  <style>\n",
              "    .colab-df-container {\n",
              "      display:flex;\n",
              "      flex-wrap:wrap;\n",
              "      gap: 12px;\n",
              "    }\n",
              "\n",
              "    .colab-df-convert {\n",
              "      background-color: #E8F0FE;\n",
              "      border: none;\n",
              "      border-radius: 50%;\n",
              "      cursor: pointer;\n",
              "      display: none;\n",
              "      fill: #1967D2;\n",
              "      height: 32px;\n",
              "      padding: 0 0 0 0;\n",
              "      width: 32px;\n",
              "    }\n",
              "\n",
              "    .colab-df-convert:hover {\n",
              "      background-color: #E2EBFA;\n",
              "      box-shadow: 0px 1px 2px rgba(60, 64, 67, 0.3), 0px 1px 3px 1px rgba(60, 64, 67, 0.15);\n",
              "      fill: #174EA6;\n",
              "    }\n",
              "\n",
              "    [theme=dark] .colab-df-convert {\n",
              "      background-color: #3B4455;\n",
              "      fill: #D2E3FC;\n",
              "    }\n",
              "\n",
              "    [theme=dark] .colab-df-convert:hover {\n",
              "      background-color: #434B5C;\n",
              "      box-shadow: 0px 1px 3px 1px rgba(0, 0, 0, 0.15);\n",
              "      filter: drop-shadow(0px 1px 2px rgba(0, 0, 0, 0.3));\n",
              "      fill: #FFFFFF;\n",
              "    }\n",
              "  </style>\n",
              "\n",
              "      <script>\n",
              "        const buttonEl =\n",
              "          document.querySelector('#df-12d0d298-cbe8-40f4-be69-c19af335188a button.colab-df-convert');\n",
              "        buttonEl.style.display =\n",
              "          google.colab.kernel.accessAllowed ? 'block' : 'none';\n",
              "\n",
              "        async function convertToInteractive(key) {\n",
              "          const element = document.querySelector('#df-12d0d298-cbe8-40f4-be69-c19af335188a');\n",
              "          const dataTable =\n",
              "            await google.colab.kernel.invokeFunction('convertToInteractive',\n",
              "                                                     [key], {});\n",
              "          if (!dataTable) return;\n",
              "\n",
              "          const docLinkHtml = 'Like what you see? Visit the ' +\n",
              "            '<a target=\"_blank\" href=https://colab.research.google.com/notebooks/data_table.ipynb>data table notebook</a>'\n",
              "            + ' to learn more about interactive tables.';\n",
              "          element.innerHTML = '';\n",
              "          dataTable['output_type'] = 'display_data';\n",
              "          await google.colab.output.renderOutput(dataTable, element);\n",
              "          const docLink = document.createElement('div');\n",
              "          docLink.innerHTML = docLinkHtml;\n",
              "          element.appendChild(docLink);\n",
              "        }\n",
              "      </script>\n",
              "    </div>\n",
              "  </div>\n",
              "  "
            ]
          },
          "metadata": {},
          "execution_count": 41
        }
      ]
    },
    {
      "cell_type": "code",
      "source": [
        "Geo_PlotData= edges.merge(plotdata,on = ['u','v','key'], how = 'left')"
      ],
      "metadata": {
        "id": "uFuvJSp2Hjpz"
      },
      "id": "uFuvJSp2Hjpz",
      "execution_count": 42,
      "outputs": []
    },
    {
      "cell_type": "code",
      "source": [
        "type(Geo_PlotData)"
      ],
      "metadata": {
        "colab": {
          "base_uri": "https://localhost:8080/"
        },
        "id": "qsGeaeKuH_DF",
        "outputId": "47a53198-dca2-44b8-a6d4-1c31318c1713"
      },
      "id": "qsGeaeKuH_DF",
      "execution_count": 43,
      "outputs": [
        {
          "output_type": "execute_result",
          "data": {
            "text/plain": [
              "geopandas.geodataframe.GeoDataFrame"
            ]
          },
          "metadata": {},
          "execution_count": 43
        }
      ]
    },
    {
      "cell_type": "markdown",
      "source": [
        "Lets create an Accident Scoring to Quantize the safety level of the streets in the borough at different times."
      ],
      "metadata": {
        "id": "Sd3X-UYhsGFX"
      },
      "id": "Sd3X-UYhsGFX"
    },
    {
      "cell_type": "code",
      "source": [
        "Accident_Score = Geo_PlotData[['Hours','Accident']].groupby(by=[\"Hours\"], dropna=False).mean().reset_index(drop=False)\n",
        "Accident_Score['Safety Score'] = ((np.reciprocal(Accident_Score['Accident']) - np.mean(np.reciprocal(Accident_Score['Accident'])))/(np.std(np.reciprocal(Accident_Score['Accident']))))\n",
        "Accident_Score['Safety Score'] += abs(min(Accident_Score['Safety Score']))+1\n",
        "Accident_Score['Safety Score'] = np.log(Accident_Score['Safety Score'])\n",
        "Accident_Score['Safety Score'] = 1000 * ((Accident_Score['Safety Score'] - min(Accident_Score['Safety Score']))/(max(Accident_Score['Safety Score'])-min(Accident_Score['Safety Score'])))\n",
        "Accident_Score['Star Rating'] = pd.cut(Accident_Score['Safety Score'], [-1, 1, 50, 100, 500, 1001],labels = ['1 Star','2 Star','3 Star','4 Star','5 Star'])\n",
        "Accident_Score.head()"
      ],
      "metadata": {
        "colab": {
          "base_uri": "https://localhost:8080/",
          "height": 0
        },
        "id": "unOHg_1_ePed",
        "outputId": "f797133f-54a8-453f-9c37-c5d31c11dda6"
      },
      "id": "unOHg_1_ePed",
      "execution_count": 44,
      "outputs": [
        {
          "output_type": "execute_result",
          "data": {
            "text/plain": [
              "   Hours  Accident  Safety Score Star Rating\n",
              "0    0.0  0.899444      0.410835      1 Star\n",
              "1    1.0  0.119272    279.005804      4 Star\n",
              "2    2.0  0.418108     60.361166      3 Star\n",
              "3    3.0  0.049368    558.006299      5 Star\n",
              "4    4.0  0.072939    421.157234      4 Star"
            ],
            "text/html": [
              "\n",
              "  <div id=\"df-f6bc6764-13f9-4b86-9f15-7cf7a57354df\">\n",
              "    <div class=\"colab-df-container\">\n",
              "      <div>\n",
              "<style scoped>\n",
              "    .dataframe tbody tr th:only-of-type {\n",
              "        vertical-align: middle;\n",
              "    }\n",
              "\n",
              "    .dataframe tbody tr th {\n",
              "        vertical-align: top;\n",
              "    }\n",
              "\n",
              "    .dataframe thead th {\n",
              "        text-align: right;\n",
              "    }\n",
              "</style>\n",
              "<table border=\"1\" class=\"dataframe\">\n",
              "  <thead>\n",
              "    <tr style=\"text-align: right;\">\n",
              "      <th></th>\n",
              "      <th>Hours</th>\n",
              "      <th>Accident</th>\n",
              "      <th>Safety Score</th>\n",
              "      <th>Star Rating</th>\n",
              "    </tr>\n",
              "  </thead>\n",
              "  <tbody>\n",
              "    <tr>\n",
              "      <th>0</th>\n",
              "      <td>0.0</td>\n",
              "      <td>0.899444</td>\n",
              "      <td>0.410835</td>\n",
              "      <td>1 Star</td>\n",
              "    </tr>\n",
              "    <tr>\n",
              "      <th>1</th>\n",
              "      <td>1.0</td>\n",
              "      <td>0.119272</td>\n",
              "      <td>279.005804</td>\n",
              "      <td>4 Star</td>\n",
              "    </tr>\n",
              "    <tr>\n",
              "      <th>2</th>\n",
              "      <td>2.0</td>\n",
              "      <td>0.418108</td>\n",
              "      <td>60.361166</td>\n",
              "      <td>3 Star</td>\n",
              "    </tr>\n",
              "    <tr>\n",
              "      <th>3</th>\n",
              "      <td>3.0</td>\n",
              "      <td>0.049368</td>\n",
              "      <td>558.006299</td>\n",
              "      <td>5 Star</td>\n",
              "    </tr>\n",
              "    <tr>\n",
              "      <th>4</th>\n",
              "      <td>4.0</td>\n",
              "      <td>0.072939</td>\n",
              "      <td>421.157234</td>\n",
              "      <td>4 Star</td>\n",
              "    </tr>\n",
              "  </tbody>\n",
              "</table>\n",
              "</div>\n",
              "      <button class=\"colab-df-convert\" onclick=\"convertToInteractive('df-f6bc6764-13f9-4b86-9f15-7cf7a57354df')\"\n",
              "              title=\"Convert this dataframe to an interactive table.\"\n",
              "              style=\"display:none;\">\n",
              "        \n",
              "  <svg xmlns=\"http://www.w3.org/2000/svg\" height=\"24px\"viewBox=\"0 0 24 24\"\n",
              "       width=\"24px\">\n",
              "    <path d=\"M0 0h24v24H0V0z\" fill=\"none\"/>\n",
              "    <path d=\"M18.56 5.44l.94 2.06.94-2.06 2.06-.94-2.06-.94-.94-2.06-.94 2.06-2.06.94zm-11 1L8.5 8.5l.94-2.06 2.06-.94-2.06-.94L8.5 2.5l-.94 2.06-2.06.94zm10 10l.94 2.06.94-2.06 2.06-.94-2.06-.94-.94-2.06-.94 2.06-2.06.94z\"/><path d=\"M17.41 7.96l-1.37-1.37c-.4-.4-.92-.59-1.43-.59-.52 0-1.04.2-1.43.59L10.3 9.45l-7.72 7.72c-.78.78-.78 2.05 0 2.83L4 21.41c.39.39.9.59 1.41.59.51 0 1.02-.2 1.41-.59l7.78-7.78 2.81-2.81c.8-.78.8-2.07 0-2.86zM5.41 20L4 18.59l7.72-7.72 1.47 1.35L5.41 20z\"/>\n",
              "  </svg>\n",
              "      </button>\n",
              "      \n",
              "  <style>\n",
              "    .colab-df-container {\n",
              "      display:flex;\n",
              "      flex-wrap:wrap;\n",
              "      gap: 12px;\n",
              "    }\n",
              "\n",
              "    .colab-df-convert {\n",
              "      background-color: #E8F0FE;\n",
              "      border: none;\n",
              "      border-radius: 50%;\n",
              "      cursor: pointer;\n",
              "      display: none;\n",
              "      fill: #1967D2;\n",
              "      height: 32px;\n",
              "      padding: 0 0 0 0;\n",
              "      width: 32px;\n",
              "    }\n",
              "\n",
              "    .colab-df-convert:hover {\n",
              "      background-color: #E2EBFA;\n",
              "      box-shadow: 0px 1px 2px rgba(60, 64, 67, 0.3), 0px 1px 3px 1px rgba(60, 64, 67, 0.15);\n",
              "      fill: #174EA6;\n",
              "    }\n",
              "\n",
              "    [theme=dark] .colab-df-convert {\n",
              "      background-color: #3B4455;\n",
              "      fill: #D2E3FC;\n",
              "    }\n",
              "\n",
              "    [theme=dark] .colab-df-convert:hover {\n",
              "      background-color: #434B5C;\n",
              "      box-shadow: 0px 1px 3px 1px rgba(0, 0, 0, 0.15);\n",
              "      filter: drop-shadow(0px 1px 2px rgba(0, 0, 0, 0.3));\n",
              "      fill: #FFFFFF;\n",
              "    }\n",
              "  </style>\n",
              "\n",
              "      <script>\n",
              "        const buttonEl =\n",
              "          document.querySelector('#df-f6bc6764-13f9-4b86-9f15-7cf7a57354df button.colab-df-convert');\n",
              "        buttonEl.style.display =\n",
              "          google.colab.kernel.accessAllowed ? 'block' : 'none';\n",
              "\n",
              "        async function convertToInteractive(key) {\n",
              "          const element = document.querySelector('#df-f6bc6764-13f9-4b86-9f15-7cf7a57354df');\n",
              "          const dataTable =\n",
              "            await google.colab.kernel.invokeFunction('convertToInteractive',\n",
              "                                                     [key], {});\n",
              "          if (!dataTable) return;\n",
              "\n",
              "          const docLinkHtml = 'Like what you see? Visit the ' +\n",
              "            '<a target=\"_blank\" href=https://colab.research.google.com/notebooks/data_table.ipynb>data table notebook</a>'\n",
              "            + ' to learn more about interactive tables.';\n",
              "          element.innerHTML = '';\n",
              "          dataTable['output_type'] = 'display_data';\n",
              "          await google.colab.output.renderOutput(dataTable, element);\n",
              "          const docLink = document.createElement('div');\n",
              "          docLink.innerHTML = docLinkHtml;\n",
              "          element.appendChild(docLink);\n",
              "        }\n",
              "      </script>\n",
              "    </div>\n",
              "  </div>\n",
              "  "
            ]
          },
          "metadata": {},
          "execution_count": 44
        }
      ]
    },
    {
      "cell_type": "markdown",
      "source": [
        ""
      ],
      "metadata": {
        "id": "8ZtzUbx5iAbR"
      },
      "id": "8ZtzUbx5iAbR"
    },
    {
      "cell_type": "markdown",
      "source": [
        "## Visualising on a map"
      ],
      "metadata": {
        "id": "gZNfPhfW9Q50"
      },
      "id": "gZNfPhfW9Q50"
    },
    {
      "cell_type": "markdown",
      "source": [
        ""
      ],
      "metadata": {
        "id": "1ALyD1rLjvEC"
      },
      "id": "1ALyD1rLjvEC"
    },
    {
      "cell_type": "code",
      "source": [
        "from mpl_toolkits.axes_grid1 import make_axes_locatable"
      ],
      "metadata": {
        "id": "rxGz5ogCDgMx"
      },
      "id": "rxGz5ogCDgMx",
      "execution_count": 45,
      "outputs": []
    },
    {
      "cell_type": "code",
      "source": [
        "def createmap(mydata,title,x,y):\n",
        "  ax = axs[x,y]\n",
        "\n",
        "  divider = make_axes_locatable(ax)\n",
        "  cax = divider.append_axes(\"right\", size=\"5%\", pad=0.3)\n",
        "\n",
        "  df = mydata.to_crs(epsg=3857)\n",
        "  ax = df.plot(ax=ax, cax=cax, column='Accident', cmap='RdYlGn_r', legend=True)\n",
        "  ax.set_facecolor('black')\n",
        "  ax.set_xticks([])\n",
        "  ax.set_yticks([])\n",
        "  ax.set_title(title)\n",
        "  ax.set_aspect(\"equal\")\n"
      ],
      "metadata": {
        "id": "zZak-KOiHCXQ"
      },
      "id": "zZak-KOiHCXQ",
      "execution_count": 46,
      "outputs": []
    },
    {
      "cell_type": "code",
      "source": [
        "fig, axs = plt.subplots(8,3,figsize = (12,32))\n",
        "fig.suptitle('{}-{}-{}'.format(tomorrow.month,tomorrow.day,tomorrow.year)) \n",
        "for i in range(0,24):\n",
        "  createmap(Geo_PlotData[Geo_PlotData['Hours'] == i],(str(i)+':00   Rating:' + Accident_Score[Accident_Score['Hours'] == i].reset_index()['Star Rating'][0]),i//3,i%3)"
      ],
      "metadata": {
        "id": "bNixh9iHHLX0",
        "colab": {
          "base_uri": "https://localhost:8080/",
          "height": 1000
        },
        "outputId": "ef33b0ae-d559-441b-e973-06b982c21d0b"
      },
      "id": "bNixh9iHHLX0",
      "execution_count": 47,
      "outputs": [
        {
          "output_type": "display_data",
          "data": {
            "text/plain": [
              "<Figure size 864x2304 with 48 Axes>"
            ],
            "image/png": "[encoded data removed]"
          },
          "metadata": {
            "needs_background": "light"
          }
        }
      ]
    },
    {
      "cell_type": "markdown",
      "source": [
        "As we can see the Accident probabilities are higher during the day in most streets and lesser in the night naturally as a fact of lesser traffic. We can see some areas of the borough have safer streets throughout the day. "
      ],
      "metadata": {
        "id": "Lt7dmBBWWpdV"
      },
      "id": "Lt7dmBBWWpdV"
    },
    {
      "cell_type": "markdown",
      "source": [
        "This code can be similarly used to get the traffic safety rating at any time of any day in the near future."
      ],
      "metadata": {
        "id": "sxHRS6-71nbd"
      },
      "id": "sxHRS6-71nbd"
    }
  ],
  "metadata": {
    "colab": {
      "collapsed_sections": [
        "bZIAN4l8-p8Z",
        "4bu7JZ9s-PKc",
        "IfiOAs4L_CI9",
        "TjEUUSrMVQ9u",
        "GQecwPbnVy12",
        "YNH5g9CSCuvf",
        "Rrlo-hKZkhuC",
        "slP5QQhtmhbj",
        "ufJECYUotr4g",
        "sJKj1y3hxege",
        "BCp4sQBKMKNc",
        "gZNfPhfW9Q50"
      ],
      "name": "Motor Vehicle Safety in Manhattan Project.ipynb",
      "provenance": [],
      "include_colab_link": true
    },
    "kernelspec": {
      "display_name": "Python 3 (ipykernel)",
      "language": "python",
      "name": "python3"
    },
    "language_info": {
      "codemirror_mode": {
        "name": "ipython",
        "version": 3
      },
      "file_extension": ".py",
      "mimetype": "text/x-python",
      "name": "python",
      "nbconvert_exporter": "python",
      "pygments_lexer": "ipython3",
      "version": "3.8.10"
    }
  },
  "nbformat": 4,
  "nbformat_minor": 5
}